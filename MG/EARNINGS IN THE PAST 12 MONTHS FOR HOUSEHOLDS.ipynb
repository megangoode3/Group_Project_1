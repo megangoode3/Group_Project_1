{
 "cells": [
  {
   "cell_type": "code",
   "execution_count": 25,
   "metadata": {},
   "outputs": [],
   "source": [
    "# Dependencies\n",
    "import requests\n",
    "import numpy as np\n",
    "import pandas as pd\n",
    "import scipy.stats as st\n",
    "import json\n",
    "import matplotlib.pyplot as plt\n",
    "from census import Census\n",
    "import plotly.express as px"
   ]
  },
  {
   "cell_type": "code",
   "execution_count": 2,
   "metadata": {},
   "outputs": [],
   "source": [
    "# Import U.S. Census API Key\n",
    "from census_api import census_api_key\n",
    "\n",
    "url = \"https://api.census.gov/data\""
   ]
  },
  {
   "cell_type": "code",
   "execution_count": 3,
   "metadata": {},
   "outputs": [
    {
     "data": {
      "text/html": [
       "<div>\n",
       "<style scoped>\n",
       "    .dataframe tbody tr th:only-of-type {\n",
       "        vertical-align: middle;\n",
       "    }\n",
       "\n",
       "    .dataframe tbody tr th {\n",
       "        vertical-align: top;\n",
       "    }\n",
       "\n",
       "    .dataframe thead th {\n",
       "        text-align: right;\n",
       "    }\n",
       "</style>\n",
       "<table border=\"1\" class=\"dataframe\">\n",
       "  <thead>\n",
       "    <tr style=\"text-align: right;\">\n",
       "      <th></th>\n",
       "      <th>NAME</th>\n",
       "      <th>B19051_001E</th>\n",
       "      <th>state</th>\n",
       "    </tr>\n",
       "  </thead>\n",
       "  <tbody>\n",
       "    <tr>\n",
       "      <th>0</th>\n",
       "      <td>Alabama</td>\n",
       "      <td>1867893</td>\n",
       "      <td>01</td>\n",
       "    </tr>\n",
       "    <tr>\n",
       "      <th>1</th>\n",
       "      <td>Alaska</td>\n",
       "      <td>253346</td>\n",
       "      <td>02</td>\n",
       "    </tr>\n",
       "    <tr>\n",
       "      <th>2</th>\n",
       "      <td>Arizona</td>\n",
       "      <td>2571268</td>\n",
       "      <td>04</td>\n",
       "    </tr>\n",
       "    <tr>\n",
       "      <th>3</th>\n",
       "      <td>Arkansas</td>\n",
       "      <td>1158071</td>\n",
       "      <td>05</td>\n",
       "    </tr>\n",
       "    <tr>\n",
       "      <th>4</th>\n",
       "      <td>California</td>\n",
       "      <td>13044266</td>\n",
       "      <td>06</td>\n",
       "    </tr>\n",
       "  </tbody>\n",
       "</table>\n",
       "</div>"
      ],
      "text/plain": [
       "         NAME B19051_001E state\n",
       "0     Alabama     1867893    01\n",
       "1      Alaska      253346    02\n",
       "2     Arizona     2571268    04\n",
       "3    Arkansas     1158071    05\n",
       "4  California    13044266    06"
      ]
     },
     "execution_count": 3,
     "metadata": {},
     "output_type": "execute_result"
    }
   ],
   "source": [
    "#EARNINGS IN THE PAST 12 MONTHS FOR HOUSEHOLDS 2019\n",
    "earnings = \"B19051_001E\"\n",
    "year_19 = \"2019\"\n",
    "\n",
    "earnings_url = \"http://api.census.gov/data/{0}/acs/acs5?get=NAME,{1}&for=state:*&key={2}\".format(year_19, earnings, census_api_key)\n",
    "\n",
    "earnings_2019 = requests.request(\"GET\", earnings_url)\n",
    "\n",
    "earnings_2019_df = pd.DataFrame(earnings_2019.json()[1:], columns=earnings_2019.json()[0])\n",
    "\n",
    "earnings_2019_df.head()\n"
   ]
  },
  {
   "cell_type": "code",
   "execution_count": 4,
   "metadata": {},
   "outputs": [
    {
     "data": {
      "text/html": [
       "<div>\n",
       "<style scoped>\n",
       "    .dataframe tbody tr th:only-of-type {\n",
       "        vertical-align: middle;\n",
       "    }\n",
       "\n",
       "    .dataframe tbody tr th {\n",
       "        vertical-align: top;\n",
       "    }\n",
       "\n",
       "    .dataframe thead th {\n",
       "        text-align: right;\n",
       "    }\n",
       "</style>\n",
       "<table border=\"1\" class=\"dataframe\">\n",
       "  <thead>\n",
       "    <tr style=\"text-align: right;\">\n",
       "      <th></th>\n",
       "      <th>State</th>\n",
       "      <th>EARNINGS IN THE PAST 12 MONTHS FOR HOUSEHOLDS</th>\n",
       "    </tr>\n",
       "  </thead>\n",
       "  <tbody>\n",
       "    <tr>\n",
       "      <th>0</th>\n",
       "      <td>Alabama</td>\n",
       "      <td>1867893</td>\n",
       "    </tr>\n",
       "    <tr>\n",
       "      <th>1</th>\n",
       "      <td>Alaska</td>\n",
       "      <td>253346</td>\n",
       "    </tr>\n",
       "    <tr>\n",
       "      <th>2</th>\n",
       "      <td>Arizona</td>\n",
       "      <td>2571268</td>\n",
       "    </tr>\n",
       "    <tr>\n",
       "      <th>3</th>\n",
       "      <td>Arkansas</td>\n",
       "      <td>1158071</td>\n",
       "    </tr>\n",
       "    <tr>\n",
       "      <th>4</th>\n",
       "      <td>California</td>\n",
       "      <td>13044266</td>\n",
       "    </tr>\n",
       "    <tr>\n",
       "      <th>5</th>\n",
       "      <td>Colorado</td>\n",
       "      <td>2148994</td>\n",
       "    </tr>\n",
       "    <tr>\n",
       "      <th>6</th>\n",
       "      <td>Delaware</td>\n",
       "      <td>363322</td>\n",
       "    </tr>\n",
       "    <tr>\n",
       "      <th>7</th>\n",
       "      <td>District of Columbia</td>\n",
       "      <td>284386</td>\n",
       "    </tr>\n",
       "    <tr>\n",
       "      <th>8</th>\n",
       "      <td>Connecticut</td>\n",
       "      <td>1370746</td>\n",
       "    </tr>\n",
       "    <tr>\n",
       "      <th>9</th>\n",
       "      <td>Florida</td>\n",
       "      <td>7736311</td>\n",
       "    </tr>\n",
       "  </tbody>\n",
       "</table>\n",
       "</div>"
      ],
      "text/plain": [
       "                  State EARNINGS IN THE PAST 12 MONTHS FOR HOUSEHOLDS\n",
       "0               Alabama                                       1867893\n",
       "1                Alaska                                        253346\n",
       "2               Arizona                                       2571268\n",
       "3              Arkansas                                       1158071\n",
       "4            California                                      13044266\n",
       "5              Colorado                                       2148994\n",
       "6              Delaware                                        363322\n",
       "7  District of Columbia                                        284386\n",
       "8           Connecticut                                       1370746\n",
       "9               Florida                                       7736311"
      ]
     },
     "execution_count": 4,
     "metadata": {},
     "output_type": "execute_result"
    }
   ],
   "source": [
    "earnings_2019_df\n",
    "earnings_2019= earnings_2019_df.rename(columns={\"B19051_001E\": \"EARNINGS IN THE PAST 12 MONTHS FOR HOUSEHOLDS\",\"NAME\": \"State\"})\n",
    "earnings_2019.drop(columns=[\"state\"], inplace=True)\n",
    "earnings_2019_2 = earnings_2019.astype({\"EARNINGS IN THE PAST 12 MONTHS FOR HOUSEHOLDS\":int})\n",
    "earnings_2019.head(10)"
   ]
  },
  {
   "cell_type": "code",
   "execution_count": 5,
   "metadata": {},
   "outputs": [
    {
     "data": {
      "text/html": [
       "<div>\n",
       "<style scoped>\n",
       "    .dataframe tbody tr th:only-of-type {\n",
       "        vertical-align: middle;\n",
       "    }\n",
       "\n",
       "    .dataframe tbody tr th {\n",
       "        vertical-align: top;\n",
       "    }\n",
       "\n",
       "    .dataframe thead th {\n",
       "        text-align: right;\n",
       "    }\n",
       "</style>\n",
       "<table border=\"1\" class=\"dataframe\">\n",
       "  <thead>\n",
       "    <tr style=\"text-align: right;\">\n",
       "      <th></th>\n",
       "      <th>State</th>\n",
       "      <th>EARNINGS IN THE PAST 12 MONTHS FOR HOUSEHOLDS</th>\n",
       "    </tr>\n",
       "  </thead>\n",
       "  <tbody>\n",
       "    <tr>\n",
       "      <th>45</th>\n",
       "      <td>Utah</td>\n",
       "      <td>977313</td>\n",
       "    </tr>\n",
       "    <tr>\n",
       "      <th>43</th>\n",
       "      <td>Texas</td>\n",
       "      <td>9691647</td>\n",
       "    </tr>\n",
       "    <tr>\n",
       "      <th>31</th>\n",
       "      <td>New Mexico</td>\n",
       "      <td>780249</td>\n",
       "    </tr>\n",
       "    <tr>\n",
       "      <th>9</th>\n",
       "      <td>Florida</td>\n",
       "      <td>7736311</td>\n",
       "    </tr>\n",
       "    <tr>\n",
       "      <th>27</th>\n",
       "      <td>Nebraska</td>\n",
       "      <td>759176</td>\n",
       "    </tr>\n",
       "  </tbody>\n",
       "</table>\n",
       "</div>"
      ],
      "text/plain": [
       "         State EARNINGS IN THE PAST 12 MONTHS FOR HOUSEHOLDS\n",
       "45        Utah                                        977313\n",
       "43       Texas                                       9691647\n",
       "31  New Mexico                                        780249\n",
       "9      Florida                                       7736311\n",
       "27    Nebraska                                        759176"
      ]
     },
     "execution_count": 5,
     "metadata": {},
     "output_type": "execute_result"
    }
   ],
   "source": [
    "sorted_earnings_2019 = earnings_2019.sort_values(by=[\"EARNINGS IN THE PAST 12 MONTHS FOR HOUSEHOLDS\"], ascending=False)\n",
    "sorted_earnings_2019.head()"
   ]
  },
  {
   "cell_type": "code",
   "execution_count": 6,
   "metadata": {},
   "outputs": [
    {
     "data": {
      "text/html": [
       "<div>\n",
       "<style scoped>\n",
       "    .dataframe tbody tr th:only-of-type {\n",
       "        vertical-align: middle;\n",
       "    }\n",
       "\n",
       "    .dataframe tbody tr th {\n",
       "        vertical-align: top;\n",
       "    }\n",
       "\n",
       "    .dataframe thead th {\n",
       "        text-align: right;\n",
       "    }\n",
       "</style>\n",
       "<table border=\"1\" class=\"dataframe\">\n",
       "  <thead>\n",
       "    <tr style=\"text-align: right;\">\n",
       "      <th></th>\n",
       "      <th>NAME</th>\n",
       "      <th>B19051_001E</th>\n",
       "      <th>state</th>\n",
       "    </tr>\n",
       "  </thead>\n",
       "  <tbody>\n",
       "    <tr>\n",
       "      <th>0</th>\n",
       "      <td>Pennsylvania</td>\n",
       "      <td>5106601</td>\n",
       "      <td>42</td>\n",
       "    </tr>\n",
       "    <tr>\n",
       "      <th>1</th>\n",
       "      <td>California</td>\n",
       "      <td>13103114</td>\n",
       "      <td>06</td>\n",
       "    </tr>\n",
       "    <tr>\n",
       "      <th>2</th>\n",
       "      <td>West Virginia</td>\n",
       "      <td>734235</td>\n",
       "      <td>54</td>\n",
       "    </tr>\n",
       "    <tr>\n",
       "      <th>3</th>\n",
       "      <td>Utah</td>\n",
       "      <td>1003345</td>\n",
       "      <td>49</td>\n",
       "    </tr>\n",
       "    <tr>\n",
       "      <th>4</th>\n",
       "      <td>New York</td>\n",
       "      <td>7417224</td>\n",
       "      <td>36</td>\n",
       "    </tr>\n",
       "  </tbody>\n",
       "</table>\n",
       "</div>"
      ],
      "text/plain": [
       "            NAME B19051_001E state\n",
       "0   Pennsylvania     5106601    42\n",
       "1     California    13103114    06\n",
       "2  West Virginia      734235    54\n",
       "3           Utah     1003345    49\n",
       "4       New York     7417224    36"
      ]
     },
     "execution_count": 6,
     "metadata": {},
     "output_type": "execute_result"
    }
   ],
   "source": [
    "#EARNINGS IN THE PAST 12 MONTHS FOR HOUSEHOLDS 2020\n",
    "earnings = \"B19051_001E\"\n",
    "year_20 = \"2020\"\n",
    "\n",
    "earnings_url_20 = \"http://api.census.gov/data/{0}/acs/acs5?get=NAME,{1}&for=state:*&key={2}\".format(year_20, earnings, census_api_key)\n",
    "\n",
    "earnings_2020 = requests.request(\"GET\", earnings_url_20)\n",
    "\n",
    "earnings_2020_df = pd.DataFrame(earnings_2020.json()[1:], columns=earnings_2020.json()[0])\n",
    "\n",
    "earnings_2020_df.head()"
   ]
  },
  {
   "cell_type": "code",
   "execution_count": 7,
   "metadata": {},
   "outputs": [
    {
     "data": {
      "text/html": [
       "<div>\n",
       "<style scoped>\n",
       "    .dataframe tbody tr th:only-of-type {\n",
       "        vertical-align: middle;\n",
       "    }\n",
       "\n",
       "    .dataframe tbody tr th {\n",
       "        vertical-align: top;\n",
       "    }\n",
       "\n",
       "    .dataframe thead th {\n",
       "        text-align: right;\n",
       "    }\n",
       "</style>\n",
       "<table border=\"1\" class=\"dataframe\">\n",
       "  <thead>\n",
       "    <tr style=\"text-align: right;\">\n",
       "      <th></th>\n",
       "      <th>State</th>\n",
       "      <th>EARNINGS IN THE PAST 12 MONTHS FOR HOUSEHOLDS</th>\n",
       "    </tr>\n",
       "  </thead>\n",
       "  <tbody>\n",
       "    <tr>\n",
       "      <th>0</th>\n",
       "      <td>Pennsylvania</td>\n",
       "      <td>5106601</td>\n",
       "    </tr>\n",
       "    <tr>\n",
       "      <th>1</th>\n",
       "      <td>California</td>\n",
       "      <td>13103114</td>\n",
       "    </tr>\n",
       "    <tr>\n",
       "      <th>2</th>\n",
       "      <td>West Virginia</td>\n",
       "      <td>734235</td>\n",
       "    </tr>\n",
       "    <tr>\n",
       "      <th>3</th>\n",
       "      <td>Utah</td>\n",
       "      <td>1003345</td>\n",
       "    </tr>\n",
       "    <tr>\n",
       "      <th>4</th>\n",
       "      <td>New York</td>\n",
       "      <td>7417224</td>\n",
       "    </tr>\n",
       "    <tr>\n",
       "      <th>5</th>\n",
       "      <td>District of Columbia</td>\n",
       "      <td>288307</td>\n",
       "    </tr>\n",
       "    <tr>\n",
       "      <th>6</th>\n",
       "      <td>Alaska</td>\n",
       "      <td>255173</td>\n",
       "    </tr>\n",
       "    <tr>\n",
       "      <th>7</th>\n",
       "      <td>Florida</td>\n",
       "      <td>7931313</td>\n",
       "    </tr>\n",
       "    <tr>\n",
       "      <th>8</th>\n",
       "      <td>South Carolina</td>\n",
       "      <td>1961481</td>\n",
       "    </tr>\n",
       "    <tr>\n",
       "      <th>9</th>\n",
       "      <td>North Dakota</td>\n",
       "      <td>320873</td>\n",
       "    </tr>\n",
       "  </tbody>\n",
       "</table>\n",
       "</div>"
      ],
      "text/plain": [
       "                  State EARNINGS IN THE PAST 12 MONTHS FOR HOUSEHOLDS\n",
       "0          Pennsylvania                                       5106601\n",
       "1            California                                      13103114\n",
       "2         West Virginia                                        734235\n",
       "3                  Utah                                       1003345\n",
       "4              New York                                       7417224\n",
       "5  District of Columbia                                        288307\n",
       "6                Alaska                                        255173\n",
       "7               Florida                                       7931313\n",
       "8        South Carolina                                       1961481\n",
       "9          North Dakota                                        320873"
      ]
     },
     "execution_count": 7,
     "metadata": {},
     "output_type": "execute_result"
    }
   ],
   "source": [
    "earnings_2020_df\n",
    "earnings_2020= earnings_2020_df.rename(columns={\"B19051_001E\": \"EARNINGS IN THE PAST 12 MONTHS FOR HOUSEHOLDS\",\"NAME\": \"State\"})\n",
    "earnings_2020.drop(columns=[\"state\"], inplace=True)\n",
    "earnings_2020_2 = earnings_2020.astype({\"EARNINGS IN THE PAST 12 MONTHS FOR HOUSEHOLDS\":int})\n",
    "earnings_2020.head(10)"
   ]
  },
  {
   "cell_type": "code",
   "execution_count": 8,
   "metadata": {},
   "outputs": [
    {
     "data": {
      "text/html": [
       "<div>\n",
       "<style scoped>\n",
       "    .dataframe tbody tr th:only-of-type {\n",
       "        vertical-align: middle;\n",
       "    }\n",
       "\n",
       "    .dataframe tbody tr th {\n",
       "        vertical-align: top;\n",
       "    }\n",
       "\n",
       "    .dataframe thead th {\n",
       "        text-align: right;\n",
       "    }\n",
       "</style>\n",
       "<table border=\"1\" class=\"dataframe\">\n",
       "  <thead>\n",
       "    <tr style=\"text-align: right;\">\n",
       "      <th></th>\n",
       "      <th>NAME</th>\n",
       "      <th>B19051_001E</th>\n",
       "      <th>state</th>\n",
       "    </tr>\n",
       "  </thead>\n",
       "  <tbody>\n",
       "    <tr>\n",
       "      <th>0</th>\n",
       "      <td>Alabama</td>\n",
       "      <td>1902983</td>\n",
       "      <td>01</td>\n",
       "    </tr>\n",
       "    <tr>\n",
       "      <th>1</th>\n",
       "      <td>Alaska</td>\n",
       "      <td>260561</td>\n",
       "      <td>02</td>\n",
       "    </tr>\n",
       "    <tr>\n",
       "      <th>2</th>\n",
       "      <td>Arizona</td>\n",
       "      <td>2683557</td>\n",
       "      <td>04</td>\n",
       "    </tr>\n",
       "    <tr>\n",
       "      <th>3</th>\n",
       "      <td>Arkansas</td>\n",
       "      <td>1158460</td>\n",
       "      <td>05</td>\n",
       "    </tr>\n",
       "    <tr>\n",
       "      <th>4</th>\n",
       "      <td>California</td>\n",
       "      <td>13217586</td>\n",
       "      <td>06</td>\n",
       "    </tr>\n",
       "  </tbody>\n",
       "</table>\n",
       "</div>"
      ],
      "text/plain": [
       "         NAME B19051_001E state\n",
       "0     Alabama     1902983    01\n",
       "1      Alaska      260561    02\n",
       "2     Arizona     2683557    04\n",
       "3    Arkansas     1158460    05\n",
       "4  California    13217586    06"
      ]
     },
     "execution_count": 8,
     "metadata": {},
     "output_type": "execute_result"
    }
   ],
   "source": [
    "#EARNINGS IN THE PAST 12 MONTHS FOR HOUSEHOLDS 2021\n",
    "earnings = \"B19051_001E\"\n",
    "year_21 = \"2021\"\n",
    "\n",
    "earnings_url_21 = \"http://api.census.gov/data/{0}/acs/acs5?get=NAME,{1}&for=state:*&key={2}\".format(year_21, earnings, census_api_key)\n",
    "\n",
    "earnings_2021 = requests.request(\"GET\", earnings_url_21)\n",
    "\n",
    "earnings_2021_df = pd.DataFrame(earnings_2021.json()[1:], columns=earnings_2021.json()[0])\n",
    "\n",
    "earnings_2021_df.head()"
   ]
  },
  {
   "cell_type": "code",
   "execution_count": 9,
   "metadata": {},
   "outputs": [
    {
     "data": {
      "text/html": [
       "<div>\n",
       "<style scoped>\n",
       "    .dataframe tbody tr th:only-of-type {\n",
       "        vertical-align: middle;\n",
       "    }\n",
       "\n",
       "    .dataframe tbody tr th {\n",
       "        vertical-align: top;\n",
       "    }\n",
       "\n",
       "    .dataframe thead th {\n",
       "        text-align: right;\n",
       "    }\n",
       "</style>\n",
       "<table border=\"1\" class=\"dataframe\">\n",
       "  <thead>\n",
       "    <tr style=\"text-align: right;\">\n",
       "      <th></th>\n",
       "      <th>State</th>\n",
       "      <th>EARNINGS IN THE PAST 12 MONTHS FOR HOUSEHOLDS</th>\n",
       "    </tr>\n",
       "  </thead>\n",
       "  <tbody>\n",
       "    <tr>\n",
       "      <th>0</th>\n",
       "      <td>Alabama</td>\n",
       "      <td>1902983</td>\n",
       "    </tr>\n",
       "    <tr>\n",
       "      <th>1</th>\n",
       "      <td>Alaska</td>\n",
       "      <td>260561</td>\n",
       "    </tr>\n",
       "    <tr>\n",
       "      <th>2</th>\n",
       "      <td>Arizona</td>\n",
       "      <td>2683557</td>\n",
       "    </tr>\n",
       "    <tr>\n",
       "      <th>3</th>\n",
       "      <td>Arkansas</td>\n",
       "      <td>1158460</td>\n",
       "    </tr>\n",
       "    <tr>\n",
       "      <th>4</th>\n",
       "      <td>California</td>\n",
       "      <td>13217586</td>\n",
       "    </tr>\n",
       "    <tr>\n",
       "      <th>5</th>\n",
       "      <td>Colorado</td>\n",
       "      <td>2227932</td>\n",
       "    </tr>\n",
       "    <tr>\n",
       "      <th>6</th>\n",
       "      <td>Connecticut</td>\n",
       "      <td>1397324</td>\n",
       "    </tr>\n",
       "    <tr>\n",
       "      <th>7</th>\n",
       "      <td>Delaware</td>\n",
       "      <td>381097</td>\n",
       "    </tr>\n",
       "    <tr>\n",
       "      <th>8</th>\n",
       "      <td>District of Columbia</td>\n",
       "      <td>310104</td>\n",
       "    </tr>\n",
       "    <tr>\n",
       "      <th>9</th>\n",
       "      <td>Florida</td>\n",
       "      <td>8157420</td>\n",
       "    </tr>\n",
       "  </tbody>\n",
       "</table>\n",
       "</div>"
      ],
      "text/plain": [
       "                  State EARNINGS IN THE PAST 12 MONTHS FOR HOUSEHOLDS\n",
       "0               Alabama                                       1902983\n",
       "1                Alaska                                        260561\n",
       "2               Arizona                                       2683557\n",
       "3              Arkansas                                       1158460\n",
       "4            California                                      13217586\n",
       "5              Colorado                                       2227932\n",
       "6           Connecticut                                       1397324\n",
       "7              Delaware                                        381097\n",
       "8  District of Columbia                                        310104\n",
       "9               Florida                                       8157420"
      ]
     },
     "execution_count": 9,
     "metadata": {},
     "output_type": "execute_result"
    }
   ],
   "source": [
    "earnings_2021_df\n",
    "earnings_2021= earnings_2021_df.rename(columns={\"B19051_001E\": \"EARNINGS IN THE PAST 12 MONTHS FOR HOUSEHOLDS\",\"NAME\": \"State\"})\n",
    "earnings_2021.drop(columns=[\"state\"], inplace=True)\n",
    "earnings_2021_2 = earnings_2021.astype({\"EARNINGS IN THE PAST 12 MONTHS FOR HOUSEHOLDS\":int})\n",
    "earnings_2021.head(10)"
   ]
  },
  {
   "cell_type": "code",
   "execution_count": 10,
   "metadata": {},
   "outputs": [
    {
     "data": {
      "text/html": [
       "<div>\n",
       "<style scoped>\n",
       "    .dataframe tbody tr th:only-of-type {\n",
       "        vertical-align: middle;\n",
       "    }\n",
       "\n",
       "    .dataframe tbody tr th {\n",
       "        vertical-align: top;\n",
       "    }\n",
       "\n",
       "    .dataframe thead th {\n",
       "        text-align: right;\n",
       "    }\n",
       "</style>\n",
       "<table border=\"1\" class=\"dataframe\">\n",
       "  <thead>\n",
       "    <tr style=\"text-align: right;\">\n",
       "      <th></th>\n",
       "      <th>NAME</th>\n",
       "      <th>2019</th>\n",
       "      <th>2020</th>\n",
       "      <th>2021</th>\n",
       "    </tr>\n",
       "  </thead>\n",
       "  <tbody>\n",
       "    <tr>\n",
       "      <th>0</th>\n",
       "      <td>Alabama</td>\n",
       "      <td>1867893</td>\n",
       "      <td>1888504</td>\n",
       "      <td>1902983</td>\n",
       "    </tr>\n",
       "    <tr>\n",
       "      <th>1</th>\n",
       "      <td>Alaska</td>\n",
       "      <td>253346</td>\n",
       "      <td>255173</td>\n",
       "      <td>260561</td>\n",
       "    </tr>\n",
       "    <tr>\n",
       "      <th>2</th>\n",
       "      <td>Arizona</td>\n",
       "      <td>2571268</td>\n",
       "      <td>2643430</td>\n",
       "      <td>2683557</td>\n",
       "    </tr>\n",
       "    <tr>\n",
       "      <th>3</th>\n",
       "      <td>Arkansas</td>\n",
       "      <td>1158071</td>\n",
       "      <td>1170544</td>\n",
       "      <td>1158460</td>\n",
       "    </tr>\n",
       "    <tr>\n",
       "      <th>4</th>\n",
       "      <td>California</td>\n",
       "      <td>13044266</td>\n",
       "      <td>13103114</td>\n",
       "      <td>13217586</td>\n",
       "    </tr>\n",
       "    <tr>\n",
       "      <th>5</th>\n",
       "      <td>Colorado</td>\n",
       "      <td>2148994</td>\n",
       "      <td>2137402</td>\n",
       "      <td>2227932</td>\n",
       "    </tr>\n",
       "    <tr>\n",
       "      <th>6</th>\n",
       "      <td>Delaware</td>\n",
       "      <td>363322</td>\n",
       "      <td>370953</td>\n",
       "      <td>381097</td>\n",
       "    </tr>\n",
       "    <tr>\n",
       "      <th>7</th>\n",
       "      <td>District of Columbia</td>\n",
       "      <td>284386</td>\n",
       "      <td>288307</td>\n",
       "      <td>310104</td>\n",
       "    </tr>\n",
       "    <tr>\n",
       "      <th>8</th>\n",
       "      <td>Connecticut</td>\n",
       "      <td>1370746</td>\n",
       "      <td>1385437</td>\n",
       "      <td>1397324</td>\n",
       "    </tr>\n",
       "    <tr>\n",
       "      <th>9</th>\n",
       "      <td>Florida</td>\n",
       "      <td>7736311</td>\n",
       "      <td>7931313</td>\n",
       "      <td>8157420</td>\n",
       "    </tr>\n",
       "  </tbody>\n",
       "</table>\n",
       "</div>"
      ],
      "text/plain": [
       "                   NAME      2019      2020      2021\n",
       "0               Alabama   1867893   1888504   1902983\n",
       "1                Alaska    253346    255173    260561\n",
       "2               Arizona   2571268   2643430   2683557\n",
       "3              Arkansas   1158071   1170544   1158460\n",
       "4            California  13044266  13103114  13217586\n",
       "5              Colorado   2148994   2137402   2227932\n",
       "6              Delaware    363322    370953    381097\n",
       "7  District of Columbia    284386    288307    310104\n",
       "8           Connecticut   1370746   1385437   1397324\n",
       "9               Florida   7736311   7931313   8157420"
      ]
     },
     "execution_count": 10,
     "metadata": {},
     "output_type": "execute_result"
    }
   ],
   "source": [
    "#combine 2019 & 2020\n",
    "earnings_df = pd.merge(earnings_2019_df,earnings_2020_df, on=\"NAME\")\n",
    "earnings_df\n",
    "\n",
    "earnings = earnings_df.rename(columns={\"B19051_001E_x\": \"2019\", \"B19051_001E_y\": \"2020\"})\n",
    "earnings\n",
    "\n",
    "#combine 2019/2020 & 2021\n",
    "earnings_2_df = pd.merge(earnings_df,earnings_2021_df, on=\"NAME\")\n",
    "earnings_2 = earnings_2_df.rename(columns={\"B19051_001E_x\": \"2019\", \"B19051_001E_y\": \"2020\",\"B19051_001E\": \"2021\"})\n",
    "\n",
    "earnings_2.drop(columns=[\"state_x\", \"state_y\", \"state\"], inplace=True)\n",
    "earnings_2.head(10)"
   ]
  },
  {
   "cell_type": "code",
   "execution_count": 11,
   "metadata": {},
   "outputs": [
    {
     "data": {
      "text/html": [
       "<div>\n",
       "<style scoped>\n",
       "    .dataframe tbody tr th:only-of-type {\n",
       "        vertical-align: middle;\n",
       "    }\n",
       "\n",
       "    .dataframe tbody tr th {\n",
       "        vertical-align: top;\n",
       "    }\n",
       "\n",
       "    .dataframe thead th {\n",
       "        text-align: right;\n",
       "    }\n",
       "</style>\n",
       "<table border=\"1\" class=\"dataframe\">\n",
       "  <thead>\n",
       "    <tr style=\"text-align: right;\">\n",
       "      <th></th>\n",
       "      <th>NAME</th>\n",
       "      <th>2019</th>\n",
       "      <th>2020</th>\n",
       "      <th>2021</th>\n",
       "    </tr>\n",
       "  </thead>\n",
       "  <tbody>\n",
       "    <tr>\n",
       "      <th>0</th>\n",
       "      <td>Alabama</td>\n",
       "      <td>1867893</td>\n",
       "      <td>1888504</td>\n",
       "      <td>1902983</td>\n",
       "    </tr>\n",
       "    <tr>\n",
       "      <th>1</th>\n",
       "      <td>Alaska</td>\n",
       "      <td>253346</td>\n",
       "      <td>255173</td>\n",
       "      <td>260561</td>\n",
       "    </tr>\n",
       "    <tr>\n",
       "      <th>2</th>\n",
       "      <td>Arizona</td>\n",
       "      <td>2571268</td>\n",
       "      <td>2643430</td>\n",
       "      <td>2683557</td>\n",
       "    </tr>\n",
       "    <tr>\n",
       "      <th>3</th>\n",
       "      <td>Arkansas</td>\n",
       "      <td>1158071</td>\n",
       "      <td>1170544</td>\n",
       "      <td>1158460</td>\n",
       "    </tr>\n",
       "    <tr>\n",
       "      <th>4</th>\n",
       "      <td>California</td>\n",
       "      <td>13044266</td>\n",
       "      <td>13103114</td>\n",
       "      <td>13217586</td>\n",
       "    </tr>\n",
       "    <tr>\n",
       "      <th>5</th>\n",
       "      <td>Colorado</td>\n",
       "      <td>2148994</td>\n",
       "      <td>2137402</td>\n",
       "      <td>2227932</td>\n",
       "    </tr>\n",
       "    <tr>\n",
       "      <th>6</th>\n",
       "      <td>Delaware</td>\n",
       "      <td>363322</td>\n",
       "      <td>370953</td>\n",
       "      <td>381097</td>\n",
       "    </tr>\n",
       "    <tr>\n",
       "      <th>7</th>\n",
       "      <td>District of Columbia</td>\n",
       "      <td>284386</td>\n",
       "      <td>288307</td>\n",
       "      <td>310104</td>\n",
       "    </tr>\n",
       "    <tr>\n",
       "      <th>8</th>\n",
       "      <td>Connecticut</td>\n",
       "      <td>1370746</td>\n",
       "      <td>1385437</td>\n",
       "      <td>1397324</td>\n",
       "    </tr>\n",
       "    <tr>\n",
       "      <th>9</th>\n",
       "      <td>Florida</td>\n",
       "      <td>7736311</td>\n",
       "      <td>7931313</td>\n",
       "      <td>8157420</td>\n",
       "    </tr>\n",
       "    <tr>\n",
       "      <th>10</th>\n",
       "      <td>Georgia</td>\n",
       "      <td>3758798</td>\n",
       "      <td>3830264</td>\n",
       "      <td>3885371</td>\n",
       "    </tr>\n",
       "    <tr>\n",
       "      <th>11</th>\n",
       "      <td>Idaho</td>\n",
       "      <td>630008</td>\n",
       "      <td>649299</td>\n",
       "      <td>657101</td>\n",
       "    </tr>\n",
       "    <tr>\n",
       "      <th>12</th>\n",
       "      <td>Hawaii</td>\n",
       "      <td>459424</td>\n",
       "      <td>467932</td>\n",
       "      <td>478413</td>\n",
       "    </tr>\n",
       "    <tr>\n",
       "      <th>13</th>\n",
       "      <td>Illinois</td>\n",
       "      <td>4846134</td>\n",
       "      <td>4884061</td>\n",
       "      <td>4930255</td>\n",
       "    </tr>\n",
       "    <tr>\n",
       "      <th>14</th>\n",
       "      <td>Indiana</td>\n",
       "      <td>2570419</td>\n",
       "      <td>2602770</td>\n",
       "      <td>2622601</td>\n",
       "    </tr>\n",
       "    <tr>\n",
       "      <th>15</th>\n",
       "      <td>Iowa</td>\n",
       "      <td>1265473</td>\n",
       "      <td>1273941</td>\n",
       "      <td>1275893</td>\n",
       "    </tr>\n",
       "    <tr>\n",
       "      <th>16</th>\n",
       "      <td>Kansas</td>\n",
       "      <td>1129227</td>\n",
       "      <td>1141985</td>\n",
       "      <td>1139738</td>\n",
       "    </tr>\n",
       "    <tr>\n",
       "      <th>17</th>\n",
       "      <td>Kentucky</td>\n",
       "      <td>1734618</td>\n",
       "      <td>1748053</td>\n",
       "      <td>1748475</td>\n",
       "    </tr>\n",
       "    <tr>\n",
       "      <th>18</th>\n",
       "      <td>Louisiana</td>\n",
       "      <td>1739497</td>\n",
       "      <td>1751956</td>\n",
       "      <td>1748688</td>\n",
       "    </tr>\n",
       "    <tr>\n",
       "      <th>19</th>\n",
       "      <td>Maine</td>\n",
       "      <td>559921</td>\n",
       "      <td>569551</td>\n",
       "      <td>571064</td>\n",
       "    </tr>\n",
       "    <tr>\n",
       "      <th>20</th>\n",
       "      <td>Maryland</td>\n",
       "      <td>2205204</td>\n",
       "      <td>2230527</td>\n",
       "      <td>2294270</td>\n",
       "    </tr>\n",
       "    <tr>\n",
       "      <th>21</th>\n",
       "      <td>Massachusetts</td>\n",
       "      <td>2617497</td>\n",
       "      <td>2646980</td>\n",
       "      <td>2714448</td>\n",
       "    </tr>\n",
       "    <tr>\n",
       "      <th>22</th>\n",
       "      <td>Michigan</td>\n",
       "      <td>3935041</td>\n",
       "      <td>3980408</td>\n",
       "      <td>3976729</td>\n",
       "    </tr>\n",
       "    <tr>\n",
       "      <th>23</th>\n",
       "      <td>Minnesota</td>\n",
       "      <td>2185603</td>\n",
       "      <td>2207988</td>\n",
       "      <td>2229100</td>\n",
       "    </tr>\n",
       "    <tr>\n",
       "      <th>24</th>\n",
       "      <td>Mississippi</td>\n",
       "      <td>1104394</td>\n",
       "      <td>1116649</td>\n",
       "      <td>1108670</td>\n",
       "    </tr>\n",
       "    <tr>\n",
       "      <th>25</th>\n",
       "      <td>Missouri</td>\n",
       "      <td>2414521</td>\n",
       "      <td>2440212</td>\n",
       "      <td>2433819</td>\n",
       "    </tr>\n",
       "    <tr>\n",
       "      <th>26</th>\n",
       "      <td>Montana</td>\n",
       "      <td>427871</td>\n",
       "      <td>436048</td>\n",
       "      <td>436481</td>\n",
       "    </tr>\n",
       "    <tr>\n",
       "      <th>27</th>\n",
       "      <td>Nebraska</td>\n",
       "      <td>759176</td>\n",
       "      <td>766663</td>\n",
       "      <td>766887</td>\n",
       "    </tr>\n",
       "    <tr>\n",
       "      <th>28</th>\n",
       "      <td>Nevada</td>\n",
       "      <td>1098602</td>\n",
       "      <td>1130011</td>\n",
       "      <td>1141952</td>\n",
       "    </tr>\n",
       "    <tr>\n",
       "      <th>29</th>\n",
       "      <td>New Hampshire</td>\n",
       "      <td>532037</td>\n",
       "      <td>539116</td>\n",
       "      <td>540498</td>\n",
       "    </tr>\n",
       "    <tr>\n",
       "      <th>30</th>\n",
       "      <td>New Jersey</td>\n",
       "      <td>3231874</td>\n",
       "      <td>3272054</td>\n",
       "      <td>3397156</td>\n",
       "    </tr>\n",
       "    <tr>\n",
       "      <th>31</th>\n",
       "      <td>New Mexico</td>\n",
       "      <td>780249</td>\n",
       "      <td>792755</td>\n",
       "      <td>797596</td>\n",
       "    </tr>\n",
       "    <tr>\n",
       "      <th>32</th>\n",
       "      <td>New York</td>\n",
       "      <td>7343234</td>\n",
       "      <td>7417224</td>\n",
       "      <td>7530150</td>\n",
       "    </tr>\n",
       "    <tr>\n",
       "      <th>33</th>\n",
       "      <td>North Carolina</td>\n",
       "      <td>3965482</td>\n",
       "      <td>4031592</td>\n",
       "      <td>4034684</td>\n",
       "    </tr>\n",
       "    <tr>\n",
       "      <th>34</th>\n",
       "      <td>North Dakota</td>\n",
       "      <td>318322</td>\n",
       "      <td>320873</td>\n",
       "      <td>316542</td>\n",
       "    </tr>\n",
       "    <tr>\n",
       "      <th>35</th>\n",
       "      <td>Ohio</td>\n",
       "      <td>4676358</td>\n",
       "      <td>4717226</td>\n",
       "      <td>4754161</td>\n",
       "    </tr>\n",
       "    <tr>\n",
       "      <th>36</th>\n",
       "      <td>Oklahoma</td>\n",
       "      <td>1480061</td>\n",
       "      <td>1493569</td>\n",
       "      <td>1503868</td>\n",
       "    </tr>\n",
       "    <tr>\n",
       "      <th>37</th>\n",
       "      <td>Oregon</td>\n",
       "      <td>1611982</td>\n",
       "      <td>1642579</td>\n",
       "      <td>1658091</td>\n",
       "    </tr>\n",
       "    <tr>\n",
       "      <th>38</th>\n",
       "      <td>Pennsylvania</td>\n",
       "      <td>5053106</td>\n",
       "      <td>5106601</td>\n",
       "      <td>5147783</td>\n",
       "    </tr>\n",
       "    <tr>\n",
       "      <th>39</th>\n",
       "      <td>Rhode Island</td>\n",
       "      <td>410489</td>\n",
       "      <td>414730</td>\n",
       "      <td>426769</td>\n",
       "    </tr>\n",
       "    <tr>\n",
       "      <th>40</th>\n",
       "      <td>South Carolina</td>\n",
       "      <td>1921862</td>\n",
       "      <td>1961481</td>\n",
       "      <td>1976447</td>\n",
       "    </tr>\n",
       "    <tr>\n",
       "      <th>41</th>\n",
       "      <td>South Dakota</td>\n",
       "      <td>344397</td>\n",
       "      <td>347878</td>\n",
       "      <td>345779</td>\n",
       "    </tr>\n",
       "    <tr>\n",
       "      <th>42</th>\n",
       "      <td>Tennessee</td>\n",
       "      <td>2597292</td>\n",
       "      <td>2639455</td>\n",
       "      <td>2664791</td>\n",
       "    </tr>\n",
       "    <tr>\n",
       "      <th>43</th>\n",
       "      <td>Texas</td>\n",
       "      <td>9691647</td>\n",
       "      <td>9906070</td>\n",
       "      <td>10239341</td>\n",
       "    </tr>\n",
       "    <tr>\n",
       "      <th>44</th>\n",
       "      <td>Vermont</td>\n",
       "      <td>260029</td>\n",
       "      <td>262852</td>\n",
       "      <td>262514</td>\n",
       "    </tr>\n",
       "    <tr>\n",
       "      <th>45</th>\n",
       "      <td>Utah</td>\n",
       "      <td>977313</td>\n",
       "      <td>1003345</td>\n",
       "      <td>1033651</td>\n",
       "    </tr>\n",
       "    <tr>\n",
       "      <th>46</th>\n",
       "      <td>Virginia</td>\n",
       "      <td>3151045</td>\n",
       "      <td>3184121</td>\n",
       "      <td>3248528</td>\n",
       "    </tr>\n",
       "    <tr>\n",
       "      <th>47</th>\n",
       "      <td>Washington</td>\n",
       "      <td>2848396</td>\n",
       "      <td>2905822</td>\n",
       "      <td>2931841</td>\n",
       "    </tr>\n",
       "    <tr>\n",
       "      <th>48</th>\n",
       "      <td>West Virginia</td>\n",
       "      <td>732585</td>\n",
       "      <td>734235</td>\n",
       "      <td>711352</td>\n",
       "    </tr>\n",
       "    <tr>\n",
       "      <th>49</th>\n",
       "      <td>Wisconsin</td>\n",
       "      <td>2358156</td>\n",
       "      <td>2377935</td>\n",
       "      <td>2401818</td>\n",
       "    </tr>\n",
       "    <tr>\n",
       "      <th>50</th>\n",
       "      <td>Wyoming</td>\n",
       "      <td>230101</td>\n",
       "      <td>233231</td>\n",
       "      <td>230653</td>\n",
       "    </tr>\n",
       "    <tr>\n",
       "      <th>51</th>\n",
       "      <td>Puerto Rico</td>\n",
       "      <td>1192654</td>\n",
       "      <td>1205749</td>\n",
       "      <td>1196790</td>\n",
       "    </tr>\n",
       "  </tbody>\n",
       "</table>\n",
       "</div>"
      ],
      "text/plain": [
       "                    NAME      2019      2020      2021\n",
       "0                Alabama   1867893   1888504   1902983\n",
       "1                 Alaska    253346    255173    260561\n",
       "2                Arizona   2571268   2643430   2683557\n",
       "3               Arkansas   1158071   1170544   1158460\n",
       "4             California  13044266  13103114  13217586\n",
       "5               Colorado   2148994   2137402   2227932\n",
       "6               Delaware    363322    370953    381097\n",
       "7   District of Columbia    284386    288307    310104\n",
       "8            Connecticut   1370746   1385437   1397324\n",
       "9                Florida   7736311   7931313   8157420\n",
       "10               Georgia   3758798   3830264   3885371\n",
       "11                 Idaho    630008    649299    657101\n",
       "12                Hawaii    459424    467932    478413\n",
       "13              Illinois   4846134   4884061   4930255\n",
       "14               Indiana   2570419   2602770   2622601\n",
       "15                  Iowa   1265473   1273941   1275893\n",
       "16                Kansas   1129227   1141985   1139738\n",
       "17              Kentucky   1734618   1748053   1748475\n",
       "18             Louisiana   1739497   1751956   1748688\n",
       "19                 Maine    559921    569551    571064\n",
       "20              Maryland   2205204   2230527   2294270\n",
       "21         Massachusetts   2617497   2646980   2714448\n",
       "22              Michigan   3935041   3980408   3976729\n",
       "23             Minnesota   2185603   2207988   2229100\n",
       "24           Mississippi   1104394   1116649   1108670\n",
       "25              Missouri   2414521   2440212   2433819\n",
       "26               Montana    427871    436048    436481\n",
       "27              Nebraska    759176    766663    766887\n",
       "28                Nevada   1098602   1130011   1141952\n",
       "29         New Hampshire    532037    539116    540498\n",
       "30            New Jersey   3231874   3272054   3397156\n",
       "31            New Mexico    780249    792755    797596\n",
       "32              New York   7343234   7417224   7530150\n",
       "33        North Carolina   3965482   4031592   4034684\n",
       "34          North Dakota    318322    320873    316542\n",
       "35                  Ohio   4676358   4717226   4754161\n",
       "36              Oklahoma   1480061   1493569   1503868\n",
       "37                Oregon   1611982   1642579   1658091\n",
       "38          Pennsylvania   5053106   5106601   5147783\n",
       "39          Rhode Island    410489    414730    426769\n",
       "40        South Carolina   1921862   1961481   1976447\n",
       "41          South Dakota    344397    347878    345779\n",
       "42             Tennessee   2597292   2639455   2664791\n",
       "43                 Texas   9691647   9906070  10239341\n",
       "44               Vermont    260029    262852    262514\n",
       "45                  Utah    977313   1003345   1033651\n",
       "46              Virginia   3151045   3184121   3248528\n",
       "47            Washington   2848396   2905822   2931841\n",
       "48         West Virginia    732585    734235    711352\n",
       "49             Wisconsin   2358156   2377935   2401818\n",
       "50               Wyoming    230101    233231    230653\n",
       "51           Puerto Rico   1192654   1205749   1196790"
      ]
     },
     "execution_count": 11,
     "metadata": {},
     "output_type": "execute_result"
    }
   ],
   "source": [
    "earnings_2 = earnings_2.astype({\"2019\": int, \"2020\": int, \"2021\":int}, errors='raise')\n",
    "earnings_2\n"
   ]
  },
  {
   "cell_type": "code",
   "execution_count": 14,
   "metadata": {},
   "outputs": [
    {
     "data": {
      "text/html": [
       "<div>\n",
       "<style scoped>\n",
       "    .dataframe tbody tr th:only-of-type {\n",
       "        vertical-align: middle;\n",
       "    }\n",
       "\n",
       "    .dataframe tbody tr th {\n",
       "        vertical-align: top;\n",
       "    }\n",
       "\n",
       "    .dataframe thead th {\n",
       "        text-align: right;\n",
       "    }\n",
       "</style>\n",
       "<table border=\"1\" class=\"dataframe\">\n",
       "  <thead>\n",
       "    <tr style=\"text-align: right;\">\n",
       "      <th></th>\n",
       "      <th>STATE</th>\n",
       "      <th>2019</th>\n",
       "      <th>2020</th>\n",
       "      <th>2021</th>\n",
       "    </tr>\n",
       "  </thead>\n",
       "  <tbody>\n",
       "    <tr>\n",
       "      <th>0</th>\n",
       "      <td>Alabama</td>\n",
       "      <td>1867893</td>\n",
       "      <td>1888504</td>\n",
       "      <td>1902983</td>\n",
       "    </tr>\n",
       "    <tr>\n",
       "      <th>1</th>\n",
       "      <td>Alaska</td>\n",
       "      <td>253346</td>\n",
       "      <td>255173</td>\n",
       "      <td>260561</td>\n",
       "    </tr>\n",
       "    <tr>\n",
       "      <th>2</th>\n",
       "      <td>Arizona</td>\n",
       "      <td>2571268</td>\n",
       "      <td>2643430</td>\n",
       "      <td>2683557</td>\n",
       "    </tr>\n",
       "    <tr>\n",
       "      <th>3</th>\n",
       "      <td>Arkansas</td>\n",
       "      <td>1158071</td>\n",
       "      <td>1170544</td>\n",
       "      <td>1158460</td>\n",
       "    </tr>\n",
       "    <tr>\n",
       "      <th>4</th>\n",
       "      <td>California</td>\n",
       "      <td>13044266</td>\n",
       "      <td>13103114</td>\n",
       "      <td>13217586</td>\n",
       "    </tr>\n",
       "    <tr>\n",
       "      <th>5</th>\n",
       "      <td>Colorado</td>\n",
       "      <td>2148994</td>\n",
       "      <td>2137402</td>\n",
       "      <td>2227932</td>\n",
       "    </tr>\n",
       "    <tr>\n",
       "      <th>8</th>\n",
       "      <td>Connecticut</td>\n",
       "      <td>1370746</td>\n",
       "      <td>1385437</td>\n",
       "      <td>1397324</td>\n",
       "    </tr>\n",
       "    <tr>\n",
       "      <th>6</th>\n",
       "      <td>Delaware</td>\n",
       "      <td>363322</td>\n",
       "      <td>370953</td>\n",
       "      <td>381097</td>\n",
       "    </tr>\n",
       "    <tr>\n",
       "      <th>7</th>\n",
       "      <td>District of Columbia</td>\n",
       "      <td>284386</td>\n",
       "      <td>288307</td>\n",
       "      <td>310104</td>\n",
       "    </tr>\n",
       "    <tr>\n",
       "      <th>9</th>\n",
       "      <td>Florida</td>\n",
       "      <td>7736311</td>\n",
       "      <td>7931313</td>\n",
       "      <td>8157420</td>\n",
       "    </tr>\n",
       "    <tr>\n",
       "      <th>10</th>\n",
       "      <td>Georgia</td>\n",
       "      <td>3758798</td>\n",
       "      <td>3830264</td>\n",
       "      <td>3885371</td>\n",
       "    </tr>\n",
       "    <tr>\n",
       "      <th>12</th>\n",
       "      <td>Hawaii</td>\n",
       "      <td>459424</td>\n",
       "      <td>467932</td>\n",
       "      <td>478413</td>\n",
       "    </tr>\n",
       "    <tr>\n",
       "      <th>11</th>\n",
       "      <td>Idaho</td>\n",
       "      <td>630008</td>\n",
       "      <td>649299</td>\n",
       "      <td>657101</td>\n",
       "    </tr>\n",
       "    <tr>\n",
       "      <th>13</th>\n",
       "      <td>Illinois</td>\n",
       "      <td>4846134</td>\n",
       "      <td>4884061</td>\n",
       "      <td>4930255</td>\n",
       "    </tr>\n",
       "    <tr>\n",
       "      <th>14</th>\n",
       "      <td>Indiana</td>\n",
       "      <td>2570419</td>\n",
       "      <td>2602770</td>\n",
       "      <td>2622601</td>\n",
       "    </tr>\n",
       "    <tr>\n",
       "      <th>15</th>\n",
       "      <td>Iowa</td>\n",
       "      <td>1265473</td>\n",
       "      <td>1273941</td>\n",
       "      <td>1275893</td>\n",
       "    </tr>\n",
       "    <tr>\n",
       "      <th>16</th>\n",
       "      <td>Kansas</td>\n",
       "      <td>1129227</td>\n",
       "      <td>1141985</td>\n",
       "      <td>1139738</td>\n",
       "    </tr>\n",
       "    <tr>\n",
       "      <th>17</th>\n",
       "      <td>Kentucky</td>\n",
       "      <td>1734618</td>\n",
       "      <td>1748053</td>\n",
       "      <td>1748475</td>\n",
       "    </tr>\n",
       "    <tr>\n",
       "      <th>18</th>\n",
       "      <td>Louisiana</td>\n",
       "      <td>1739497</td>\n",
       "      <td>1751956</td>\n",
       "      <td>1748688</td>\n",
       "    </tr>\n",
       "    <tr>\n",
       "      <th>19</th>\n",
       "      <td>Maine</td>\n",
       "      <td>559921</td>\n",
       "      <td>569551</td>\n",
       "      <td>571064</td>\n",
       "    </tr>\n",
       "    <tr>\n",
       "      <th>20</th>\n",
       "      <td>Maryland</td>\n",
       "      <td>2205204</td>\n",
       "      <td>2230527</td>\n",
       "      <td>2294270</td>\n",
       "    </tr>\n",
       "    <tr>\n",
       "      <th>21</th>\n",
       "      <td>Massachusetts</td>\n",
       "      <td>2617497</td>\n",
       "      <td>2646980</td>\n",
       "      <td>2714448</td>\n",
       "    </tr>\n",
       "    <tr>\n",
       "      <th>22</th>\n",
       "      <td>Michigan</td>\n",
       "      <td>3935041</td>\n",
       "      <td>3980408</td>\n",
       "      <td>3976729</td>\n",
       "    </tr>\n",
       "    <tr>\n",
       "      <th>23</th>\n",
       "      <td>Minnesota</td>\n",
       "      <td>2185603</td>\n",
       "      <td>2207988</td>\n",
       "      <td>2229100</td>\n",
       "    </tr>\n",
       "    <tr>\n",
       "      <th>24</th>\n",
       "      <td>Mississippi</td>\n",
       "      <td>1104394</td>\n",
       "      <td>1116649</td>\n",
       "      <td>1108670</td>\n",
       "    </tr>\n",
       "    <tr>\n",
       "      <th>25</th>\n",
       "      <td>Missouri</td>\n",
       "      <td>2414521</td>\n",
       "      <td>2440212</td>\n",
       "      <td>2433819</td>\n",
       "    </tr>\n",
       "    <tr>\n",
       "      <th>26</th>\n",
       "      <td>Montana</td>\n",
       "      <td>427871</td>\n",
       "      <td>436048</td>\n",
       "      <td>436481</td>\n",
       "    </tr>\n",
       "    <tr>\n",
       "      <th>27</th>\n",
       "      <td>Nebraska</td>\n",
       "      <td>759176</td>\n",
       "      <td>766663</td>\n",
       "      <td>766887</td>\n",
       "    </tr>\n",
       "    <tr>\n",
       "      <th>28</th>\n",
       "      <td>Nevada</td>\n",
       "      <td>1098602</td>\n",
       "      <td>1130011</td>\n",
       "      <td>1141952</td>\n",
       "    </tr>\n",
       "    <tr>\n",
       "      <th>29</th>\n",
       "      <td>New Hampshire</td>\n",
       "      <td>532037</td>\n",
       "      <td>539116</td>\n",
       "      <td>540498</td>\n",
       "    </tr>\n",
       "    <tr>\n",
       "      <th>30</th>\n",
       "      <td>New Jersey</td>\n",
       "      <td>3231874</td>\n",
       "      <td>3272054</td>\n",
       "      <td>3397156</td>\n",
       "    </tr>\n",
       "    <tr>\n",
       "      <th>31</th>\n",
       "      <td>New Mexico</td>\n",
       "      <td>780249</td>\n",
       "      <td>792755</td>\n",
       "      <td>797596</td>\n",
       "    </tr>\n",
       "    <tr>\n",
       "      <th>32</th>\n",
       "      <td>New York</td>\n",
       "      <td>7343234</td>\n",
       "      <td>7417224</td>\n",
       "      <td>7530150</td>\n",
       "    </tr>\n",
       "    <tr>\n",
       "      <th>33</th>\n",
       "      <td>North Carolina</td>\n",
       "      <td>3965482</td>\n",
       "      <td>4031592</td>\n",
       "      <td>4034684</td>\n",
       "    </tr>\n",
       "    <tr>\n",
       "      <th>34</th>\n",
       "      <td>North Dakota</td>\n",
       "      <td>318322</td>\n",
       "      <td>320873</td>\n",
       "      <td>316542</td>\n",
       "    </tr>\n",
       "    <tr>\n",
       "      <th>35</th>\n",
       "      <td>Ohio</td>\n",
       "      <td>4676358</td>\n",
       "      <td>4717226</td>\n",
       "      <td>4754161</td>\n",
       "    </tr>\n",
       "    <tr>\n",
       "      <th>36</th>\n",
       "      <td>Oklahoma</td>\n",
       "      <td>1480061</td>\n",
       "      <td>1493569</td>\n",
       "      <td>1503868</td>\n",
       "    </tr>\n",
       "    <tr>\n",
       "      <th>37</th>\n",
       "      <td>Oregon</td>\n",
       "      <td>1611982</td>\n",
       "      <td>1642579</td>\n",
       "      <td>1658091</td>\n",
       "    </tr>\n",
       "    <tr>\n",
       "      <th>38</th>\n",
       "      <td>Pennsylvania</td>\n",
       "      <td>5053106</td>\n",
       "      <td>5106601</td>\n",
       "      <td>5147783</td>\n",
       "    </tr>\n",
       "    <tr>\n",
       "      <th>51</th>\n",
       "      <td>Puerto Rico</td>\n",
       "      <td>1192654</td>\n",
       "      <td>1205749</td>\n",
       "      <td>1196790</td>\n",
       "    </tr>\n",
       "    <tr>\n",
       "      <th>39</th>\n",
       "      <td>Rhode Island</td>\n",
       "      <td>410489</td>\n",
       "      <td>414730</td>\n",
       "      <td>426769</td>\n",
       "    </tr>\n",
       "    <tr>\n",
       "      <th>40</th>\n",
       "      <td>South Carolina</td>\n",
       "      <td>1921862</td>\n",
       "      <td>1961481</td>\n",
       "      <td>1976447</td>\n",
       "    </tr>\n",
       "    <tr>\n",
       "      <th>41</th>\n",
       "      <td>South Dakota</td>\n",
       "      <td>344397</td>\n",
       "      <td>347878</td>\n",
       "      <td>345779</td>\n",
       "    </tr>\n",
       "    <tr>\n",
       "      <th>42</th>\n",
       "      <td>Tennessee</td>\n",
       "      <td>2597292</td>\n",
       "      <td>2639455</td>\n",
       "      <td>2664791</td>\n",
       "    </tr>\n",
       "    <tr>\n",
       "      <th>43</th>\n",
       "      <td>Texas</td>\n",
       "      <td>9691647</td>\n",
       "      <td>9906070</td>\n",
       "      <td>10239341</td>\n",
       "    </tr>\n",
       "    <tr>\n",
       "      <th>45</th>\n",
       "      <td>Utah</td>\n",
       "      <td>977313</td>\n",
       "      <td>1003345</td>\n",
       "      <td>1033651</td>\n",
       "    </tr>\n",
       "    <tr>\n",
       "      <th>44</th>\n",
       "      <td>Vermont</td>\n",
       "      <td>260029</td>\n",
       "      <td>262852</td>\n",
       "      <td>262514</td>\n",
       "    </tr>\n",
       "    <tr>\n",
       "      <th>46</th>\n",
       "      <td>Virginia</td>\n",
       "      <td>3151045</td>\n",
       "      <td>3184121</td>\n",
       "      <td>3248528</td>\n",
       "    </tr>\n",
       "    <tr>\n",
       "      <th>47</th>\n",
       "      <td>Washington</td>\n",
       "      <td>2848396</td>\n",
       "      <td>2905822</td>\n",
       "      <td>2931841</td>\n",
       "    </tr>\n",
       "    <tr>\n",
       "      <th>48</th>\n",
       "      <td>West Virginia</td>\n",
       "      <td>732585</td>\n",
       "      <td>734235</td>\n",
       "      <td>711352</td>\n",
       "    </tr>\n",
       "    <tr>\n",
       "      <th>49</th>\n",
       "      <td>Wisconsin</td>\n",
       "      <td>2358156</td>\n",
       "      <td>2377935</td>\n",
       "      <td>2401818</td>\n",
       "    </tr>\n",
       "    <tr>\n",
       "      <th>50</th>\n",
       "      <td>Wyoming</td>\n",
       "      <td>230101</td>\n",
       "      <td>233231</td>\n",
       "      <td>230653</td>\n",
       "    </tr>\n",
       "  </tbody>\n",
       "</table>\n",
       "</div>"
      ],
      "text/plain": [
       "                   STATE      2019      2020      2021\n",
       "0                Alabama   1867893   1888504   1902983\n",
       "1                 Alaska    253346    255173    260561\n",
       "2                Arizona   2571268   2643430   2683557\n",
       "3               Arkansas   1158071   1170544   1158460\n",
       "4             California  13044266  13103114  13217586\n",
       "5               Colorado   2148994   2137402   2227932\n",
       "8            Connecticut   1370746   1385437   1397324\n",
       "6               Delaware    363322    370953    381097\n",
       "7   District of Columbia    284386    288307    310104\n",
       "9                Florida   7736311   7931313   8157420\n",
       "10               Georgia   3758798   3830264   3885371\n",
       "12                Hawaii    459424    467932    478413\n",
       "11                 Idaho    630008    649299    657101\n",
       "13              Illinois   4846134   4884061   4930255\n",
       "14               Indiana   2570419   2602770   2622601\n",
       "15                  Iowa   1265473   1273941   1275893\n",
       "16                Kansas   1129227   1141985   1139738\n",
       "17              Kentucky   1734618   1748053   1748475\n",
       "18             Louisiana   1739497   1751956   1748688\n",
       "19                 Maine    559921    569551    571064\n",
       "20              Maryland   2205204   2230527   2294270\n",
       "21         Massachusetts   2617497   2646980   2714448\n",
       "22              Michigan   3935041   3980408   3976729\n",
       "23             Minnesota   2185603   2207988   2229100\n",
       "24           Mississippi   1104394   1116649   1108670\n",
       "25              Missouri   2414521   2440212   2433819\n",
       "26               Montana    427871    436048    436481\n",
       "27              Nebraska    759176    766663    766887\n",
       "28                Nevada   1098602   1130011   1141952\n",
       "29         New Hampshire    532037    539116    540498\n",
       "30            New Jersey   3231874   3272054   3397156\n",
       "31            New Mexico    780249    792755    797596\n",
       "32              New York   7343234   7417224   7530150\n",
       "33        North Carolina   3965482   4031592   4034684\n",
       "34          North Dakota    318322    320873    316542\n",
       "35                  Ohio   4676358   4717226   4754161\n",
       "36              Oklahoma   1480061   1493569   1503868\n",
       "37                Oregon   1611982   1642579   1658091\n",
       "38          Pennsylvania   5053106   5106601   5147783\n",
       "51           Puerto Rico   1192654   1205749   1196790\n",
       "39          Rhode Island    410489    414730    426769\n",
       "40        South Carolina   1921862   1961481   1976447\n",
       "41          South Dakota    344397    347878    345779\n",
       "42             Tennessee   2597292   2639455   2664791\n",
       "43                 Texas   9691647   9906070  10239341\n",
       "45                  Utah    977313   1003345   1033651\n",
       "44               Vermont    260029    262852    262514\n",
       "46              Virginia   3151045   3184121   3248528\n",
       "47            Washington   2848396   2905822   2931841\n",
       "48         West Virginia    732585    734235    711352\n",
       "49             Wisconsin   2358156   2377935   2401818\n",
       "50               Wyoming    230101    233231    230653"
      ]
     },
     "execution_count": 14,
     "metadata": {},
     "output_type": "execute_result"
    }
   ],
   "source": [
    "# reorganize data frame with name column values in alphabetical order\n",
    "earnings_df = earnings_2.sort_values(by=[\"NAME\"], ascending=True)\n",
    "# rename NAME column to STATE\n",
    "earnings_df = earnings_df.rename(columns={\"NAME\": \"STATE\"})\n",
    "earnings_df"
   ]
  },
  {
   "cell_type": "code",
   "execution_count": 12,
   "metadata": {},
   "outputs": [
    {
     "data": {
      "text/html": [
       "<div>\n",
       "<style scoped>\n",
       "    .dataframe tbody tr th:only-of-type {\n",
       "        vertical-align: middle;\n",
       "    }\n",
       "\n",
       "    .dataframe tbody tr th {\n",
       "        vertical-align: top;\n",
       "    }\n",
       "\n",
       "    .dataframe thead th {\n",
       "        text-align: right;\n",
       "    }\n",
       "</style>\n",
       "<table border=\"1\" class=\"dataframe\">\n",
       "  <thead>\n",
       "    <tr style=\"text-align: right;\">\n",
       "      <th></th>\n",
       "      <th>STATE</th>\n",
       "      <th>POP_2015</th>\n",
       "      <th>POP_2016</th>\n",
       "      <th>POP_2017</th>\n",
       "      <th>POP_2018</th>\n",
       "      <th>POP_2019</th>\n",
       "      <th>POP_2020</th>\n",
       "      <th>POP_2021</th>\n",
       "      <th>POP_CHANGE_TOTAL</th>\n",
       "      <th>POP_CHANGE_PCT</th>\n",
       "    </tr>\n",
       "  </thead>\n",
       "  <tbody>\n",
       "    <tr>\n",
       "      <th>0</th>\n",
       "      <td>Alabama</td>\n",
       "      <td>4858979.0</td>\n",
       "      <td>4863300.0</td>\n",
       "      <td>4874747.0</td>\n",
       "      <td>4887871.0</td>\n",
       "      <td>4903185.0</td>\n",
       "      <td>5024803.0</td>\n",
       "      <td>5039877.0</td>\n",
       "      <td>180898.0</td>\n",
       "      <td>3.722963</td>\n",
       "    </tr>\n",
       "    <tr>\n",
       "      <th>1</th>\n",
       "      <td>Alaska</td>\n",
       "      <td>738432.0</td>\n",
       "      <td>741894.0</td>\n",
       "      <td>739795.0</td>\n",
       "      <td>737438.0</td>\n",
       "      <td>731545.0</td>\n",
       "      <td>732441.0</td>\n",
       "      <td>732673.0</td>\n",
       "      <td>-5759.0</td>\n",
       "      <td>-0.779896</td>\n",
       "    </tr>\n",
       "    <tr>\n",
       "      <th>2</th>\n",
       "      <td>Arizona</td>\n",
       "      <td>6828065.0</td>\n",
       "      <td>6931071.0</td>\n",
       "      <td>7016270.0</td>\n",
       "      <td>7171646.0</td>\n",
       "      <td>7278717.0</td>\n",
       "      <td>7177986.0</td>\n",
       "      <td>7276316.0</td>\n",
       "      <td>448251.0</td>\n",
       "      <td>6.564832</td>\n",
       "    </tr>\n",
       "    <tr>\n",
       "      <th>3</th>\n",
       "      <td>Arkansas</td>\n",
       "      <td>2978204.0</td>\n",
       "      <td>2988248.0</td>\n",
       "      <td>3004279.0</td>\n",
       "      <td>3013825.0</td>\n",
       "      <td>3017804.0</td>\n",
       "      <td>3012232.0</td>\n",
       "      <td>3025891.0</td>\n",
       "      <td>47687.0</td>\n",
       "      <td>1.601200</td>\n",
       "    </tr>\n",
       "    <tr>\n",
       "      <th>4</th>\n",
       "      <td>California</td>\n",
       "      <td>39144818.0</td>\n",
       "      <td>39250017.0</td>\n",
       "      <td>39536653.0</td>\n",
       "      <td>39557045.0</td>\n",
       "      <td>39512223.0</td>\n",
       "      <td>39499738.0</td>\n",
       "      <td>39237836.0</td>\n",
       "      <td>93018.0</td>\n",
       "      <td>0.237625</td>\n",
       "    </tr>\n",
       "    <tr>\n",
       "      <th>5</th>\n",
       "      <td>Colorado</td>\n",
       "      <td>5456574.0</td>\n",
       "      <td>5540545.0</td>\n",
       "      <td>5607154.0</td>\n",
       "      <td>5695564.0</td>\n",
       "      <td>5758736.0</td>\n",
       "      <td>5784308.0</td>\n",
       "      <td>5812069.0</td>\n",
       "      <td>355495.0</td>\n",
       "      <td>6.514985</td>\n",
       "    </tr>\n",
       "    <tr>\n",
       "      <th>6</th>\n",
       "      <td>Connecticut</td>\n",
       "      <td>3590886.0</td>\n",
       "      <td>3576452.0</td>\n",
       "      <td>3588184.0</td>\n",
       "      <td>3572665.0</td>\n",
       "      <td>3565287.0</td>\n",
       "      <td>3600260.0</td>\n",
       "      <td>3605597.0</td>\n",
       "      <td>14711.0</td>\n",
       "      <td>0.409676</td>\n",
       "    </tr>\n",
       "    <tr>\n",
       "      <th>7</th>\n",
       "      <td>Delaware</td>\n",
       "      <td>945934.0</td>\n",
       "      <td>952065.0</td>\n",
       "      <td>961939.0</td>\n",
       "      <td>967171.0</td>\n",
       "      <td>973764.0</td>\n",
       "      <td>991886.0</td>\n",
       "      <td>1003384.0</td>\n",
       "      <td>57450.0</td>\n",
       "      <td>6.073362</td>\n",
       "    </tr>\n",
       "    <tr>\n",
       "      <th>8</th>\n",
       "      <td>District of Columbia</td>\n",
       "      <td>672228.0</td>\n",
       "      <td>681170.0</td>\n",
       "      <td>693972.0</td>\n",
       "      <td>702455.0</td>\n",
       "      <td>705749.0</td>\n",
       "      <td>690093.0</td>\n",
       "      <td>670050.0</td>\n",
       "      <td>-2178.0</td>\n",
       "      <td>-0.323997</td>\n",
       "    </tr>\n",
       "    <tr>\n",
       "      <th>9</th>\n",
       "      <td>Florida</td>\n",
       "      <td>20271272.0</td>\n",
       "      <td>20612439.0</td>\n",
       "      <td>20984400.0</td>\n",
       "      <td>21299325.0</td>\n",
       "      <td>21477737.0</td>\n",
       "      <td>21569932.0</td>\n",
       "      <td>21781128.0</td>\n",
       "      <td>1509856.0</td>\n",
       "      <td>7.448255</td>\n",
       "    </tr>\n",
       "    <tr>\n",
       "      <th>10</th>\n",
       "      <td>Georgia</td>\n",
       "      <td>10214860.0</td>\n",
       "      <td>10310371.0</td>\n",
       "      <td>10429379.0</td>\n",
       "      <td>10519475.0</td>\n",
       "      <td>10617423.0</td>\n",
       "      <td>10725800.0</td>\n",
       "      <td>10799566.0</td>\n",
       "      <td>584706.0</td>\n",
       "      <td>5.724073</td>\n",
       "    </tr>\n",
       "    <tr>\n",
       "      <th>11</th>\n",
       "      <td>Hawaii</td>\n",
       "      <td>1431603.0</td>\n",
       "      <td>1428557.0</td>\n",
       "      <td>1427538.0</td>\n",
       "      <td>1420491.0</td>\n",
       "      <td>1415872.0</td>\n",
       "      <td>1451911.0</td>\n",
       "      <td>1441553.0</td>\n",
       "      <td>9950.0</td>\n",
       "      <td>0.695025</td>\n",
       "    </tr>\n",
       "    <tr>\n",
       "      <th>12</th>\n",
       "      <td>Idaho</td>\n",
       "      <td>1654930.0</td>\n",
       "      <td>1683140.0</td>\n",
       "      <td>1716943.0</td>\n",
       "      <td>1754208.0</td>\n",
       "      <td>1787065.0</td>\n",
       "      <td>1847772.0</td>\n",
       "      <td>1900923.0</td>\n",
       "      <td>245993.0</td>\n",
       "      <td>14.864254</td>\n",
       "    </tr>\n",
       "    <tr>\n",
       "      <th>13</th>\n",
       "      <td>Illinois</td>\n",
       "      <td>12859995.0</td>\n",
       "      <td>12801539.0</td>\n",
       "      <td>12802023.0</td>\n",
       "      <td>12741080.0</td>\n",
       "      <td>12671821.0</td>\n",
       "      <td>12785245.0</td>\n",
       "      <td>12671469.0</td>\n",
       "      <td>-188526.0</td>\n",
       "      <td>-1.465988</td>\n",
       "    </tr>\n",
       "    <tr>\n",
       "      <th>14</th>\n",
       "      <td>Indiana</td>\n",
       "      <td>6619680.0</td>\n",
       "      <td>6633053.0</td>\n",
       "      <td>6666818.0</td>\n",
       "      <td>6691878.0</td>\n",
       "      <td>6732219.0</td>\n",
       "      <td>6785644.0</td>\n",
       "      <td>6805985.0</td>\n",
       "      <td>186305.0</td>\n",
       "      <td>2.814411</td>\n",
       "    </tr>\n",
       "    <tr>\n",
       "      <th>15</th>\n",
       "      <td>Iowa</td>\n",
       "      <td>3123899.0</td>\n",
       "      <td>3134693.0</td>\n",
       "      <td>3145711.0</td>\n",
       "      <td>3156145.0</td>\n",
       "      <td>3155070.0</td>\n",
       "      <td>3188669.0</td>\n",
       "      <td>3193079.0</td>\n",
       "      <td>69180.0</td>\n",
       "      <td>2.214540</td>\n",
       "    </tr>\n",
       "    <tr>\n",
       "      <th>16</th>\n",
       "      <td>Kansas</td>\n",
       "      <td>2911641.0</td>\n",
       "      <td>2907289.0</td>\n",
       "      <td>2913123.0</td>\n",
       "      <td>2911505.0</td>\n",
       "      <td>2913314.0</td>\n",
       "      <td>2935880.0</td>\n",
       "      <td>2934582.0</td>\n",
       "      <td>22941.0</td>\n",
       "      <td>0.787906</td>\n",
       "    </tr>\n",
       "    <tr>\n",
       "      <th>17</th>\n",
       "      <td>Kentucky</td>\n",
       "      <td>4425092.0</td>\n",
       "      <td>4436974.0</td>\n",
       "      <td>4454189.0</td>\n",
       "      <td>4468402.0</td>\n",
       "      <td>4467673.0</td>\n",
       "      <td>4503958.0</td>\n",
       "      <td>4509394.0</td>\n",
       "      <td>84302.0</td>\n",
       "      <td>1.905090</td>\n",
       "    </tr>\n",
       "    <tr>\n",
       "      <th>18</th>\n",
       "      <td>Louisiana</td>\n",
       "      <td>4670724.0</td>\n",
       "      <td>4681666.0</td>\n",
       "      <td>4684333.0</td>\n",
       "      <td>4659978.0</td>\n",
       "      <td>4648794.0</td>\n",
       "      <td>4651203.0</td>\n",
       "      <td>4624047.0</td>\n",
       "      <td>-46677.0</td>\n",
       "      <td>-0.999353</td>\n",
       "    </tr>\n",
       "    <tr>\n",
       "      <th>19</th>\n",
       "      <td>Maine</td>\n",
       "      <td>1329328.0</td>\n",
       "      <td>1331479.0</td>\n",
       "      <td>1335907.0</td>\n",
       "      <td>1338404.0</td>\n",
       "      <td>1344212.0</td>\n",
       "      <td>1362280.0</td>\n",
       "      <td>1372247.0</td>\n",
       "      <td>42919.0</td>\n",
       "      <td>3.228624</td>\n",
       "    </tr>\n",
       "    <tr>\n",
       "      <th>20</th>\n",
       "      <td>Maryland</td>\n",
       "      <td>6006401.0</td>\n",
       "      <td>6016447.0</td>\n",
       "      <td>6052177.0</td>\n",
       "      <td>6042718.0</td>\n",
       "      <td>6045680.0</td>\n",
       "      <td>6172679.0</td>\n",
       "      <td>6165129.0</td>\n",
       "      <td>158728.0</td>\n",
       "      <td>2.642647</td>\n",
       "    </tr>\n",
       "    <tr>\n",
       "      <th>21</th>\n",
       "      <td>Massachusetts</td>\n",
       "      <td>6794422.0</td>\n",
       "      <td>6811779.0</td>\n",
       "      <td>6859819.0</td>\n",
       "      <td>6902149.0</td>\n",
       "      <td>6892503.0</td>\n",
       "      <td>7022220.0</td>\n",
       "      <td>6984723.0</td>\n",
       "      <td>190301.0</td>\n",
       "      <td>2.800842</td>\n",
       "    </tr>\n",
       "    <tr>\n",
       "      <th>22</th>\n",
       "      <td>Michigan</td>\n",
       "      <td>9922576.0</td>\n",
       "      <td>9928300.0</td>\n",
       "      <td>9962311.0</td>\n",
       "      <td>9995915.0</td>\n",
       "      <td>9986857.0</td>\n",
       "      <td>10067664.0</td>\n",
       "      <td>10050811.0</td>\n",
       "      <td>128235.0</td>\n",
       "      <td>1.292356</td>\n",
       "    </tr>\n",
       "    <tr>\n",
       "      <th>23</th>\n",
       "      <td>Minnesota</td>\n",
       "      <td>5489594.0</td>\n",
       "      <td>5519952.0</td>\n",
       "      <td>5576606.0</td>\n",
       "      <td>5611179.0</td>\n",
       "      <td>5639632.0</td>\n",
       "      <td>5707165.0</td>\n",
       "      <td>5707390.0</td>\n",
       "      <td>217796.0</td>\n",
       "      <td>3.967434</td>\n",
       "    </tr>\n",
       "    <tr>\n",
       "      <th>24</th>\n",
       "      <td>Mississippi</td>\n",
       "      <td>2992333.0</td>\n",
       "      <td>2988726.0</td>\n",
       "      <td>2984100.0</td>\n",
       "      <td>2986530.0</td>\n",
       "      <td>2976149.0</td>\n",
       "      <td>2956870.0</td>\n",
       "      <td>2949965.0</td>\n",
       "      <td>-42368.0</td>\n",
       "      <td>-1.415885</td>\n",
       "    </tr>\n",
       "    <tr>\n",
       "      <th>25</th>\n",
       "      <td>Missouri</td>\n",
       "      <td>6083672.0</td>\n",
       "      <td>6093000.0</td>\n",
       "      <td>6113532.0</td>\n",
       "      <td>6126452.0</td>\n",
       "      <td>6137428.0</td>\n",
       "      <td>6154481.0</td>\n",
       "      <td>6168187.0</td>\n",
       "      <td>84515.0</td>\n",
       "      <td>1.389210</td>\n",
       "    </tr>\n",
       "    <tr>\n",
       "      <th>26</th>\n",
       "      <td>Montana</td>\n",
       "      <td>1032949.0</td>\n",
       "      <td>1042520.0</td>\n",
       "      <td>1050493.0</td>\n",
       "      <td>1062305.0</td>\n",
       "      <td>1068778.0</td>\n",
       "      <td>1086193.0</td>\n",
       "      <td>1104271.0</td>\n",
       "      <td>71322.0</td>\n",
       "      <td>6.904697</td>\n",
       "    </tr>\n",
       "    <tr>\n",
       "      <th>27</th>\n",
       "      <td>Nebraska</td>\n",
       "      <td>1896190.0</td>\n",
       "      <td>1907116.0</td>\n",
       "      <td>1920076.0</td>\n",
       "      <td>1929268.0</td>\n",
       "      <td>1934408.0</td>\n",
       "      <td>1961455.0</td>\n",
       "      <td>1963692.0</td>\n",
       "      <td>67502.0</td>\n",
       "      <td>3.559875</td>\n",
       "    </tr>\n",
       "    <tr>\n",
       "      <th>28</th>\n",
       "      <td>Nevada</td>\n",
       "      <td>2890845.0</td>\n",
       "      <td>2940058.0</td>\n",
       "      <td>2998039.0</td>\n",
       "      <td>3034392.0</td>\n",
       "      <td>3080156.0</td>\n",
       "      <td>3114071.0</td>\n",
       "      <td>3143991.0</td>\n",
       "      <td>253146.0</td>\n",
       "      <td>8.756817</td>\n",
       "    </tr>\n",
       "    <tr>\n",
       "      <th>29</th>\n",
       "      <td>New Hampshire</td>\n",
       "      <td>1330608.0</td>\n",
       "      <td>1334795.0</td>\n",
       "      <td>1342795.0</td>\n",
       "      <td>1356458.0</td>\n",
       "      <td>1359711.0</td>\n",
       "      <td>1377848.0</td>\n",
       "      <td>1388992.0</td>\n",
       "      <td>58384.0</td>\n",
       "      <td>4.387769</td>\n",
       "    </tr>\n",
       "    <tr>\n",
       "      <th>30</th>\n",
       "      <td>New Jersey</td>\n",
       "      <td>8958013.0</td>\n",
       "      <td>8944469.0</td>\n",
       "      <td>9005644.0</td>\n",
       "      <td>8908520.0</td>\n",
       "      <td>8882190.0</td>\n",
       "      <td>9279743.0</td>\n",
       "      <td>9267130.0</td>\n",
       "      <td>309117.0</td>\n",
       "      <td>3.450732</td>\n",
       "    </tr>\n",
       "    <tr>\n",
       "      <th>31</th>\n",
       "      <td>New Mexico</td>\n",
       "      <td>2085109.0</td>\n",
       "      <td>2081015.0</td>\n",
       "      <td>2088070.0</td>\n",
       "      <td>2095428.0</td>\n",
       "      <td>2096829.0</td>\n",
       "      <td>2117566.0</td>\n",
       "      <td>2115877.0</td>\n",
       "      <td>30768.0</td>\n",
       "      <td>1.475606</td>\n",
       "    </tr>\n",
       "    <tr>\n",
       "      <th>32</th>\n",
       "      <td>New York</td>\n",
       "      <td>19795791.0</td>\n",
       "      <td>19745289.0</td>\n",
       "      <td>19849399.0</td>\n",
       "      <td>19542209.0</td>\n",
       "      <td>19453561.0</td>\n",
       "      <td>20154933.0</td>\n",
       "      <td>19835913.0</td>\n",
       "      <td>40122.0</td>\n",
       "      <td>0.202679</td>\n",
       "    </tr>\n",
       "    <tr>\n",
       "      <th>33</th>\n",
       "      <td>North Carolina</td>\n",
       "      <td>10042802.0</td>\n",
       "      <td>10146788.0</td>\n",
       "      <td>10273419.0</td>\n",
       "      <td>10383620.0</td>\n",
       "      <td>10488084.0</td>\n",
       "      <td>10457177.0</td>\n",
       "      <td>10551162.0</td>\n",
       "      <td>508360.0</td>\n",
       "      <td>5.061934</td>\n",
       "    </tr>\n",
       "    <tr>\n",
       "      <th>34</th>\n",
       "      <td>North Dakota</td>\n",
       "      <td>756927.0</td>\n",
       "      <td>757952.0</td>\n",
       "      <td>755393.0</td>\n",
       "      <td>760077.0</td>\n",
       "      <td>762062.0</td>\n",
       "      <td>778962.0</td>\n",
       "      <td>774948.0</td>\n",
       "      <td>18021.0</td>\n",
       "      <td>2.380811</td>\n",
       "    </tr>\n",
       "    <tr>\n",
       "      <th>35</th>\n",
       "      <td>Ohio</td>\n",
       "      <td>11613423.0</td>\n",
       "      <td>11614373.0</td>\n",
       "      <td>11658609.0</td>\n",
       "      <td>11689442.0</td>\n",
       "      <td>11689100.0</td>\n",
       "      <td>11790587.0</td>\n",
       "      <td>11780017.0</td>\n",
       "      <td>166594.0</td>\n",
       "      <td>1.434495</td>\n",
       "    </tr>\n",
       "    <tr>\n",
       "      <th>36</th>\n",
       "      <td>Oklahoma</td>\n",
       "      <td>3911338.0</td>\n",
       "      <td>3923561.0</td>\n",
       "      <td>3930864.0</td>\n",
       "      <td>3943079.0</td>\n",
       "      <td>3956971.0</td>\n",
       "      <td>3962031.0</td>\n",
       "      <td>3986639.0</td>\n",
       "      <td>75301.0</td>\n",
       "      <td>1.925198</td>\n",
       "    </tr>\n",
       "    <tr>\n",
       "      <th>37</th>\n",
       "      <td>Oregon</td>\n",
       "      <td>4028977.0</td>\n",
       "      <td>4093465.0</td>\n",
       "      <td>4142776.0</td>\n",
       "      <td>4190713.0</td>\n",
       "      <td>4217737.0</td>\n",
       "      <td>4241544.0</td>\n",
       "      <td>4246155.0</td>\n",
       "      <td>217178.0</td>\n",
       "      <td>5.390401</td>\n",
       "    </tr>\n",
       "    <tr>\n",
       "      <th>38</th>\n",
       "      <td>Pennsylvania</td>\n",
       "      <td>12802503.0</td>\n",
       "      <td>12784227.0</td>\n",
       "      <td>12805537.0</td>\n",
       "      <td>12807060.0</td>\n",
       "      <td>12801989.0</td>\n",
       "      <td>12989625.0</td>\n",
       "      <td>12964056.0</td>\n",
       "      <td>161553.0</td>\n",
       "      <td>1.261886</td>\n",
       "    </tr>\n",
       "    <tr>\n",
       "      <th>39</th>\n",
       "      <td>Puerto Rico</td>\n",
       "      <td>3474182.0</td>\n",
       "      <td>3411307.0</td>\n",
       "      <td>3337177.0</td>\n",
       "      <td>3195153.0</td>\n",
       "      <td>3193694.0</td>\n",
       "      <td>3281538.0</td>\n",
       "      <td>3263584.0</td>\n",
       "      <td>-210598.0</td>\n",
       "      <td>-6.061801</td>\n",
       "    </tr>\n",
       "    <tr>\n",
       "      <th>40</th>\n",
       "      <td>Rhode Island</td>\n",
       "      <td>1056298.0</td>\n",
       "      <td>1056426.0</td>\n",
       "      <td>1059639.0</td>\n",
       "      <td>1057315.0</td>\n",
       "      <td>1059361.0</td>\n",
       "      <td>1096229.0</td>\n",
       "      <td>1095610.0</td>\n",
       "      <td>39312.0</td>\n",
       "      <td>3.721677</td>\n",
       "    </tr>\n",
       "    <tr>\n",
       "      <th>41</th>\n",
       "      <td>South Carolina</td>\n",
       "      <td>4896146.0</td>\n",
       "      <td>4961119.0</td>\n",
       "      <td>5024369.0</td>\n",
       "      <td>5084127.0</td>\n",
       "      <td>5148714.0</td>\n",
       "      <td>5130729.0</td>\n",
       "      <td>5190705.0</td>\n",
       "      <td>294559.0</td>\n",
       "      <td>6.016140</td>\n",
       "    </tr>\n",
       "    <tr>\n",
       "      <th>42</th>\n",
       "      <td>South Dakota</td>\n",
       "      <td>858469.0</td>\n",
       "      <td>865454.0</td>\n",
       "      <td>869666.0</td>\n",
       "      <td>882235.0</td>\n",
       "      <td>884659.0</td>\n",
       "      <td>887099.0</td>\n",
       "      <td>895376.0</td>\n",
       "      <td>36907.0</td>\n",
       "      <td>4.299165</td>\n",
       "    </tr>\n",
       "    <tr>\n",
       "      <th>43</th>\n",
       "      <td>Tennessee</td>\n",
       "      <td>6600299.0</td>\n",
       "      <td>6651194.0</td>\n",
       "      <td>6715984.0</td>\n",
       "      <td>6770010.0</td>\n",
       "      <td>6829174.0</td>\n",
       "      <td>6920119.0</td>\n",
       "      <td>6975218.0</td>\n",
       "      <td>374919.0</td>\n",
       "      <td>5.680334</td>\n",
       "    </tr>\n",
       "    <tr>\n",
       "      <th>44</th>\n",
       "      <td>Texas</td>\n",
       "      <td>27469114.0</td>\n",
       "      <td>27862596.0</td>\n",
       "      <td>28304596.0</td>\n",
       "      <td>28701845.0</td>\n",
       "      <td>28995881.0</td>\n",
       "      <td>29217653.0</td>\n",
       "      <td>29527941.0</td>\n",
       "      <td>2058827.0</td>\n",
       "      <td>7.495062</td>\n",
       "    </tr>\n",
       "    <tr>\n",
       "      <th>45</th>\n",
       "      <td>Utah</td>\n",
       "      <td>2995919.0</td>\n",
       "      <td>3051217.0</td>\n",
       "      <td>3101833.0</td>\n",
       "      <td>3161105.0</td>\n",
       "      <td>3205958.0</td>\n",
       "      <td>3281684.0</td>\n",
       "      <td>3337975.0</td>\n",
       "      <td>342056.0</td>\n",
       "      <td>11.417398</td>\n",
       "    </tr>\n",
       "    <tr>\n",
       "      <th>46</th>\n",
       "      <td>Vermont</td>\n",
       "      <td>626042.0</td>\n",
       "      <td>624594.0</td>\n",
       "      <td>623657.0</td>\n",
       "      <td>626299.0</td>\n",
       "      <td>623989.0</td>\n",
       "      <td>642495.0</td>\n",
       "      <td>645570.0</td>\n",
       "      <td>19528.0</td>\n",
       "      <td>3.119280</td>\n",
       "    </tr>\n",
       "    <tr>\n",
       "      <th>47</th>\n",
       "      <td>Virginia</td>\n",
       "      <td>8382993.0</td>\n",
       "      <td>8411808.0</td>\n",
       "      <td>8470020.0</td>\n",
       "      <td>8517685.0</td>\n",
       "      <td>8535519.0</td>\n",
       "      <td>8632044.0</td>\n",
       "      <td>8642274.0</td>\n",
       "      <td>259281.0</td>\n",
       "      <td>3.092941</td>\n",
       "    </tr>\n",
       "    <tr>\n",
       "      <th>48</th>\n",
       "      <td>Washington</td>\n",
       "      <td>7170351.0</td>\n",
       "      <td>7288000.0</td>\n",
       "      <td>7405743.0</td>\n",
       "      <td>7535591.0</td>\n",
       "      <td>7614893.0</td>\n",
       "      <td>7718785.0</td>\n",
       "      <td>7738692.0</td>\n",
       "      <td>568341.0</td>\n",
       "      <td>7.926265</td>\n",
       "    </tr>\n",
       "    <tr>\n",
       "      <th>49</th>\n",
       "      <td>West Virginia</td>\n",
       "      <td>1844128.0</td>\n",
       "      <td>1831102.0</td>\n",
       "      <td>1815857.0</td>\n",
       "      <td>1805832.0</td>\n",
       "      <td>1792147.0</td>\n",
       "      <td>1789798.0</td>\n",
       "      <td>1782959.0</td>\n",
       "      <td>-61169.0</td>\n",
       "      <td>-3.316961</td>\n",
       "    </tr>\n",
       "    <tr>\n",
       "      <th>50</th>\n",
       "      <td>Wisconsin</td>\n",
       "      <td>5771337.0</td>\n",
       "      <td>5778708.0</td>\n",
       "      <td>5795483.0</td>\n",
       "      <td>5813568.0</td>\n",
       "      <td>5822434.0</td>\n",
       "      <td>5892323.0</td>\n",
       "      <td>5895908.0</td>\n",
       "      <td>124571.0</td>\n",
       "      <td>2.158443</td>\n",
       "    </tr>\n",
       "    <tr>\n",
       "      <th>51</th>\n",
       "      <td>Wyoming</td>\n",
       "      <td>586107.0</td>\n",
       "      <td>585501.0</td>\n",
       "      <td>579315.0</td>\n",
       "      <td>577737.0</td>\n",
       "      <td>578759.0</td>\n",
       "      <td>577267.0</td>\n",
       "      <td>578803.0</td>\n",
       "      <td>-7304.0</td>\n",
       "      <td>-1.246189</td>\n",
       "    </tr>\n",
       "  </tbody>\n",
       "</table>\n",
       "</div>"
      ],
      "text/plain": [
       "                   STATE    POP_2015    POP_2016    POP_2017    POP_2018  \\\n",
       "0                Alabama   4858979.0   4863300.0   4874747.0   4887871.0   \n",
       "1                 Alaska    738432.0    741894.0    739795.0    737438.0   \n",
       "2                Arizona   6828065.0   6931071.0   7016270.0   7171646.0   \n",
       "3               Arkansas   2978204.0   2988248.0   3004279.0   3013825.0   \n",
       "4             California  39144818.0  39250017.0  39536653.0  39557045.0   \n",
       "5               Colorado   5456574.0   5540545.0   5607154.0   5695564.0   \n",
       "6            Connecticut   3590886.0   3576452.0   3588184.0   3572665.0   \n",
       "7               Delaware    945934.0    952065.0    961939.0    967171.0   \n",
       "8   District of Columbia    672228.0    681170.0    693972.0    702455.0   \n",
       "9                Florida  20271272.0  20612439.0  20984400.0  21299325.0   \n",
       "10               Georgia  10214860.0  10310371.0  10429379.0  10519475.0   \n",
       "11                Hawaii   1431603.0   1428557.0   1427538.0   1420491.0   \n",
       "12                 Idaho   1654930.0   1683140.0   1716943.0   1754208.0   \n",
       "13              Illinois  12859995.0  12801539.0  12802023.0  12741080.0   \n",
       "14               Indiana   6619680.0   6633053.0   6666818.0   6691878.0   \n",
       "15                  Iowa   3123899.0   3134693.0   3145711.0   3156145.0   \n",
       "16                Kansas   2911641.0   2907289.0   2913123.0   2911505.0   \n",
       "17              Kentucky   4425092.0   4436974.0   4454189.0   4468402.0   \n",
       "18             Louisiana   4670724.0   4681666.0   4684333.0   4659978.0   \n",
       "19                 Maine   1329328.0   1331479.0   1335907.0   1338404.0   \n",
       "20              Maryland   6006401.0   6016447.0   6052177.0   6042718.0   \n",
       "21         Massachusetts   6794422.0   6811779.0   6859819.0   6902149.0   \n",
       "22              Michigan   9922576.0   9928300.0   9962311.0   9995915.0   \n",
       "23             Minnesota   5489594.0   5519952.0   5576606.0   5611179.0   \n",
       "24           Mississippi   2992333.0   2988726.0   2984100.0   2986530.0   \n",
       "25              Missouri   6083672.0   6093000.0   6113532.0   6126452.0   \n",
       "26               Montana   1032949.0   1042520.0   1050493.0   1062305.0   \n",
       "27              Nebraska   1896190.0   1907116.0   1920076.0   1929268.0   \n",
       "28                Nevada   2890845.0   2940058.0   2998039.0   3034392.0   \n",
       "29         New Hampshire   1330608.0   1334795.0   1342795.0   1356458.0   \n",
       "30            New Jersey   8958013.0   8944469.0   9005644.0   8908520.0   \n",
       "31            New Mexico   2085109.0   2081015.0   2088070.0   2095428.0   \n",
       "32              New York  19795791.0  19745289.0  19849399.0  19542209.0   \n",
       "33        North Carolina  10042802.0  10146788.0  10273419.0  10383620.0   \n",
       "34          North Dakota    756927.0    757952.0    755393.0    760077.0   \n",
       "35                  Ohio  11613423.0  11614373.0  11658609.0  11689442.0   \n",
       "36              Oklahoma   3911338.0   3923561.0   3930864.0   3943079.0   \n",
       "37                Oregon   4028977.0   4093465.0   4142776.0   4190713.0   \n",
       "38          Pennsylvania  12802503.0  12784227.0  12805537.0  12807060.0   \n",
       "39           Puerto Rico   3474182.0   3411307.0   3337177.0   3195153.0   \n",
       "40          Rhode Island   1056298.0   1056426.0   1059639.0   1057315.0   \n",
       "41        South Carolina   4896146.0   4961119.0   5024369.0   5084127.0   \n",
       "42          South Dakota    858469.0    865454.0    869666.0    882235.0   \n",
       "43             Tennessee   6600299.0   6651194.0   6715984.0   6770010.0   \n",
       "44                 Texas  27469114.0  27862596.0  28304596.0  28701845.0   \n",
       "45                  Utah   2995919.0   3051217.0   3101833.0   3161105.0   \n",
       "46               Vermont    626042.0    624594.0    623657.0    626299.0   \n",
       "47              Virginia   8382993.0   8411808.0   8470020.0   8517685.0   \n",
       "48            Washington   7170351.0   7288000.0   7405743.0   7535591.0   \n",
       "49         West Virginia   1844128.0   1831102.0   1815857.0   1805832.0   \n",
       "50             Wisconsin   5771337.0   5778708.0   5795483.0   5813568.0   \n",
       "51               Wyoming    586107.0    585501.0    579315.0    577737.0   \n",
       "\n",
       "      POP_2019    POP_2020    POP_2021  POP_CHANGE_TOTAL  POP_CHANGE_PCT  \n",
       "0    4903185.0   5024803.0   5039877.0          180898.0        3.722963  \n",
       "1     731545.0    732441.0    732673.0           -5759.0       -0.779896  \n",
       "2    7278717.0   7177986.0   7276316.0          448251.0        6.564832  \n",
       "3    3017804.0   3012232.0   3025891.0           47687.0        1.601200  \n",
       "4   39512223.0  39499738.0  39237836.0           93018.0        0.237625  \n",
       "5    5758736.0   5784308.0   5812069.0          355495.0        6.514985  \n",
       "6    3565287.0   3600260.0   3605597.0           14711.0        0.409676  \n",
       "7     973764.0    991886.0   1003384.0           57450.0        6.073362  \n",
       "8     705749.0    690093.0    670050.0           -2178.0       -0.323997  \n",
       "9   21477737.0  21569932.0  21781128.0         1509856.0        7.448255  \n",
       "10  10617423.0  10725800.0  10799566.0          584706.0        5.724073  \n",
       "11   1415872.0   1451911.0   1441553.0            9950.0        0.695025  \n",
       "12   1787065.0   1847772.0   1900923.0          245993.0       14.864254  \n",
       "13  12671821.0  12785245.0  12671469.0         -188526.0       -1.465988  \n",
       "14   6732219.0   6785644.0   6805985.0          186305.0        2.814411  \n",
       "15   3155070.0   3188669.0   3193079.0           69180.0        2.214540  \n",
       "16   2913314.0   2935880.0   2934582.0           22941.0        0.787906  \n",
       "17   4467673.0   4503958.0   4509394.0           84302.0        1.905090  \n",
       "18   4648794.0   4651203.0   4624047.0          -46677.0       -0.999353  \n",
       "19   1344212.0   1362280.0   1372247.0           42919.0        3.228624  \n",
       "20   6045680.0   6172679.0   6165129.0          158728.0        2.642647  \n",
       "21   6892503.0   7022220.0   6984723.0          190301.0        2.800842  \n",
       "22   9986857.0  10067664.0  10050811.0          128235.0        1.292356  \n",
       "23   5639632.0   5707165.0   5707390.0          217796.0        3.967434  \n",
       "24   2976149.0   2956870.0   2949965.0          -42368.0       -1.415885  \n",
       "25   6137428.0   6154481.0   6168187.0           84515.0        1.389210  \n",
       "26   1068778.0   1086193.0   1104271.0           71322.0        6.904697  \n",
       "27   1934408.0   1961455.0   1963692.0           67502.0        3.559875  \n",
       "28   3080156.0   3114071.0   3143991.0          253146.0        8.756817  \n",
       "29   1359711.0   1377848.0   1388992.0           58384.0        4.387769  \n",
       "30   8882190.0   9279743.0   9267130.0          309117.0        3.450732  \n",
       "31   2096829.0   2117566.0   2115877.0           30768.0        1.475606  \n",
       "32  19453561.0  20154933.0  19835913.0           40122.0        0.202679  \n",
       "33  10488084.0  10457177.0  10551162.0          508360.0        5.061934  \n",
       "34    762062.0    778962.0    774948.0           18021.0        2.380811  \n",
       "35  11689100.0  11790587.0  11780017.0          166594.0        1.434495  \n",
       "36   3956971.0   3962031.0   3986639.0           75301.0        1.925198  \n",
       "37   4217737.0   4241544.0   4246155.0          217178.0        5.390401  \n",
       "38  12801989.0  12989625.0  12964056.0          161553.0        1.261886  \n",
       "39   3193694.0   3281538.0   3263584.0         -210598.0       -6.061801  \n",
       "40   1059361.0   1096229.0   1095610.0           39312.0        3.721677  \n",
       "41   5148714.0   5130729.0   5190705.0          294559.0        6.016140  \n",
       "42    884659.0    887099.0    895376.0           36907.0        4.299165  \n",
       "43   6829174.0   6920119.0   6975218.0          374919.0        5.680334  \n",
       "44  28995881.0  29217653.0  29527941.0         2058827.0        7.495062  \n",
       "45   3205958.0   3281684.0   3337975.0          342056.0       11.417398  \n",
       "46    623989.0    642495.0    645570.0           19528.0        3.119280  \n",
       "47   8535519.0   8632044.0   8642274.0          259281.0        3.092941  \n",
       "48   7614893.0   7718785.0   7738692.0          568341.0        7.926265  \n",
       "49   1792147.0   1789798.0   1782959.0          -61169.0       -3.316961  \n",
       "50   5822434.0   5892323.0   5895908.0          124571.0        2.158443  \n",
       "51    578759.0    577267.0    578803.0           -7304.0       -1.246189  "
      ]
     },
     "execution_count": 12,
     "metadata": {},
     "output_type": "execute_result"
    }
   ],
   "source": [
    "# import csv\n",
    "pop_change_df = pd.read_csv(\"../Census_data/pop_change.csv\")\n",
    "pop_change_df"
   ]
  },
  {
   "cell_type": "code",
   "execution_count": 15,
   "metadata": {},
   "outputs": [
    {
     "data": {
      "text/html": [
       "<div>\n",
       "<style scoped>\n",
       "    .dataframe tbody tr th:only-of-type {\n",
       "        vertical-align: middle;\n",
       "    }\n",
       "\n",
       "    .dataframe tbody tr th {\n",
       "        vertical-align: top;\n",
       "    }\n",
       "\n",
       "    .dataframe thead th {\n",
       "        text-align: right;\n",
       "    }\n",
       "</style>\n",
       "<table border=\"1\" class=\"dataframe\">\n",
       "  <thead>\n",
       "    <tr style=\"text-align: right;\">\n",
       "      <th></th>\n",
       "      <th>STATE</th>\n",
       "      <th>2019</th>\n",
       "      <th>2020</th>\n",
       "      <th>2021</th>\n",
       "      <th>POP_2015</th>\n",
       "      <th>POP_2016</th>\n",
       "      <th>POP_2017</th>\n",
       "      <th>POP_2018</th>\n",
       "      <th>POP_2019</th>\n",
       "      <th>POP_2020</th>\n",
       "      <th>POP_2021</th>\n",
       "      <th>POP_CHANGE_TOTAL</th>\n",
       "      <th>POP_CHANGE_PCT</th>\n",
       "    </tr>\n",
       "  </thead>\n",
       "  <tbody>\n",
       "    <tr>\n",
       "      <th>0</th>\n",
       "      <td>Alabama</td>\n",
       "      <td>1867893</td>\n",
       "      <td>1888504</td>\n",
       "      <td>1902983</td>\n",
       "      <td>4858979.0</td>\n",
       "      <td>4863300.0</td>\n",
       "      <td>4874747.0</td>\n",
       "      <td>4887871.0</td>\n",
       "      <td>4903185.0</td>\n",
       "      <td>5024803.0</td>\n",
       "      <td>5039877.0</td>\n",
       "      <td>180898.0</td>\n",
       "      <td>3.722963</td>\n",
       "    </tr>\n",
       "    <tr>\n",
       "      <th>1</th>\n",
       "      <td>Alaska</td>\n",
       "      <td>253346</td>\n",
       "      <td>255173</td>\n",
       "      <td>260561</td>\n",
       "      <td>738432.0</td>\n",
       "      <td>741894.0</td>\n",
       "      <td>739795.0</td>\n",
       "      <td>737438.0</td>\n",
       "      <td>731545.0</td>\n",
       "      <td>732441.0</td>\n",
       "      <td>732673.0</td>\n",
       "      <td>-5759.0</td>\n",
       "      <td>-0.779896</td>\n",
       "    </tr>\n",
       "    <tr>\n",
       "      <th>2</th>\n",
       "      <td>Arizona</td>\n",
       "      <td>2571268</td>\n",
       "      <td>2643430</td>\n",
       "      <td>2683557</td>\n",
       "      <td>6828065.0</td>\n",
       "      <td>6931071.0</td>\n",
       "      <td>7016270.0</td>\n",
       "      <td>7171646.0</td>\n",
       "      <td>7278717.0</td>\n",
       "      <td>7177986.0</td>\n",
       "      <td>7276316.0</td>\n",
       "      <td>448251.0</td>\n",
       "      <td>6.564832</td>\n",
       "    </tr>\n",
       "    <tr>\n",
       "      <th>3</th>\n",
       "      <td>Arkansas</td>\n",
       "      <td>1158071</td>\n",
       "      <td>1170544</td>\n",
       "      <td>1158460</td>\n",
       "      <td>2978204.0</td>\n",
       "      <td>2988248.0</td>\n",
       "      <td>3004279.0</td>\n",
       "      <td>3013825.0</td>\n",
       "      <td>3017804.0</td>\n",
       "      <td>3012232.0</td>\n",
       "      <td>3025891.0</td>\n",
       "      <td>47687.0</td>\n",
       "      <td>1.601200</td>\n",
       "    </tr>\n",
       "    <tr>\n",
       "      <th>4</th>\n",
       "      <td>California</td>\n",
       "      <td>13044266</td>\n",
       "      <td>13103114</td>\n",
       "      <td>13217586</td>\n",
       "      <td>39144818.0</td>\n",
       "      <td>39250017.0</td>\n",
       "      <td>39536653.0</td>\n",
       "      <td>39557045.0</td>\n",
       "      <td>39512223.0</td>\n",
       "      <td>39499738.0</td>\n",
       "      <td>39237836.0</td>\n",
       "      <td>93018.0</td>\n",
       "      <td>0.237625</td>\n",
       "    </tr>\n",
       "    <tr>\n",
       "      <th>5</th>\n",
       "      <td>Colorado</td>\n",
       "      <td>2148994</td>\n",
       "      <td>2137402</td>\n",
       "      <td>2227932</td>\n",
       "      <td>5456574.0</td>\n",
       "      <td>5540545.0</td>\n",
       "      <td>5607154.0</td>\n",
       "      <td>5695564.0</td>\n",
       "      <td>5758736.0</td>\n",
       "      <td>5784308.0</td>\n",
       "      <td>5812069.0</td>\n",
       "      <td>355495.0</td>\n",
       "      <td>6.514985</td>\n",
       "    </tr>\n",
       "    <tr>\n",
       "      <th>6</th>\n",
       "      <td>Connecticut</td>\n",
       "      <td>1370746</td>\n",
       "      <td>1385437</td>\n",
       "      <td>1397324</td>\n",
       "      <td>3590886.0</td>\n",
       "      <td>3576452.0</td>\n",
       "      <td>3588184.0</td>\n",
       "      <td>3572665.0</td>\n",
       "      <td>3565287.0</td>\n",
       "      <td>3600260.0</td>\n",
       "      <td>3605597.0</td>\n",
       "      <td>14711.0</td>\n",
       "      <td>0.409676</td>\n",
       "    </tr>\n",
       "    <tr>\n",
       "      <th>7</th>\n",
       "      <td>Delaware</td>\n",
       "      <td>363322</td>\n",
       "      <td>370953</td>\n",
       "      <td>381097</td>\n",
       "      <td>945934.0</td>\n",
       "      <td>952065.0</td>\n",
       "      <td>961939.0</td>\n",
       "      <td>967171.0</td>\n",
       "      <td>973764.0</td>\n",
       "      <td>991886.0</td>\n",
       "      <td>1003384.0</td>\n",
       "      <td>57450.0</td>\n",
       "      <td>6.073362</td>\n",
       "    </tr>\n",
       "    <tr>\n",
       "      <th>8</th>\n",
       "      <td>District of Columbia</td>\n",
       "      <td>284386</td>\n",
       "      <td>288307</td>\n",
       "      <td>310104</td>\n",
       "      <td>672228.0</td>\n",
       "      <td>681170.0</td>\n",
       "      <td>693972.0</td>\n",
       "      <td>702455.0</td>\n",
       "      <td>705749.0</td>\n",
       "      <td>690093.0</td>\n",
       "      <td>670050.0</td>\n",
       "      <td>-2178.0</td>\n",
       "      <td>-0.323997</td>\n",
       "    </tr>\n",
       "    <tr>\n",
       "      <th>9</th>\n",
       "      <td>Florida</td>\n",
       "      <td>7736311</td>\n",
       "      <td>7931313</td>\n",
       "      <td>8157420</td>\n",
       "      <td>20271272.0</td>\n",
       "      <td>20612439.0</td>\n",
       "      <td>20984400.0</td>\n",
       "      <td>21299325.0</td>\n",
       "      <td>21477737.0</td>\n",
       "      <td>21569932.0</td>\n",
       "      <td>21781128.0</td>\n",
       "      <td>1509856.0</td>\n",
       "      <td>7.448255</td>\n",
       "    </tr>\n",
       "    <tr>\n",
       "      <th>10</th>\n",
       "      <td>Georgia</td>\n",
       "      <td>3758798</td>\n",
       "      <td>3830264</td>\n",
       "      <td>3885371</td>\n",
       "      <td>10214860.0</td>\n",
       "      <td>10310371.0</td>\n",
       "      <td>10429379.0</td>\n",
       "      <td>10519475.0</td>\n",
       "      <td>10617423.0</td>\n",
       "      <td>10725800.0</td>\n",
       "      <td>10799566.0</td>\n",
       "      <td>584706.0</td>\n",
       "      <td>5.724073</td>\n",
       "    </tr>\n",
       "    <tr>\n",
       "      <th>11</th>\n",
       "      <td>Hawaii</td>\n",
       "      <td>459424</td>\n",
       "      <td>467932</td>\n",
       "      <td>478413</td>\n",
       "      <td>1431603.0</td>\n",
       "      <td>1428557.0</td>\n",
       "      <td>1427538.0</td>\n",
       "      <td>1420491.0</td>\n",
       "      <td>1415872.0</td>\n",
       "      <td>1451911.0</td>\n",
       "      <td>1441553.0</td>\n",
       "      <td>9950.0</td>\n",
       "      <td>0.695025</td>\n",
       "    </tr>\n",
       "    <tr>\n",
       "      <th>12</th>\n",
       "      <td>Idaho</td>\n",
       "      <td>630008</td>\n",
       "      <td>649299</td>\n",
       "      <td>657101</td>\n",
       "      <td>1654930.0</td>\n",
       "      <td>1683140.0</td>\n",
       "      <td>1716943.0</td>\n",
       "      <td>1754208.0</td>\n",
       "      <td>1787065.0</td>\n",
       "      <td>1847772.0</td>\n",
       "      <td>1900923.0</td>\n",
       "      <td>245993.0</td>\n",
       "      <td>14.864254</td>\n",
       "    </tr>\n",
       "    <tr>\n",
       "      <th>13</th>\n",
       "      <td>Illinois</td>\n",
       "      <td>4846134</td>\n",
       "      <td>4884061</td>\n",
       "      <td>4930255</td>\n",
       "      <td>12859995.0</td>\n",
       "      <td>12801539.0</td>\n",
       "      <td>12802023.0</td>\n",
       "      <td>12741080.0</td>\n",
       "      <td>12671821.0</td>\n",
       "      <td>12785245.0</td>\n",
       "      <td>12671469.0</td>\n",
       "      <td>-188526.0</td>\n",
       "      <td>-1.465988</td>\n",
       "    </tr>\n",
       "    <tr>\n",
       "      <th>14</th>\n",
       "      <td>Indiana</td>\n",
       "      <td>2570419</td>\n",
       "      <td>2602770</td>\n",
       "      <td>2622601</td>\n",
       "      <td>6619680.0</td>\n",
       "      <td>6633053.0</td>\n",
       "      <td>6666818.0</td>\n",
       "      <td>6691878.0</td>\n",
       "      <td>6732219.0</td>\n",
       "      <td>6785644.0</td>\n",
       "      <td>6805985.0</td>\n",
       "      <td>186305.0</td>\n",
       "      <td>2.814411</td>\n",
       "    </tr>\n",
       "    <tr>\n",
       "      <th>15</th>\n",
       "      <td>Iowa</td>\n",
       "      <td>1265473</td>\n",
       "      <td>1273941</td>\n",
       "      <td>1275893</td>\n",
       "      <td>3123899.0</td>\n",
       "      <td>3134693.0</td>\n",
       "      <td>3145711.0</td>\n",
       "      <td>3156145.0</td>\n",
       "      <td>3155070.0</td>\n",
       "      <td>3188669.0</td>\n",
       "      <td>3193079.0</td>\n",
       "      <td>69180.0</td>\n",
       "      <td>2.214540</td>\n",
       "    </tr>\n",
       "    <tr>\n",
       "      <th>16</th>\n",
       "      <td>Kansas</td>\n",
       "      <td>1129227</td>\n",
       "      <td>1141985</td>\n",
       "      <td>1139738</td>\n",
       "      <td>2911641.0</td>\n",
       "      <td>2907289.0</td>\n",
       "      <td>2913123.0</td>\n",
       "      <td>2911505.0</td>\n",
       "      <td>2913314.0</td>\n",
       "      <td>2935880.0</td>\n",
       "      <td>2934582.0</td>\n",
       "      <td>22941.0</td>\n",
       "      <td>0.787906</td>\n",
       "    </tr>\n",
       "    <tr>\n",
       "      <th>17</th>\n",
       "      <td>Kentucky</td>\n",
       "      <td>1734618</td>\n",
       "      <td>1748053</td>\n",
       "      <td>1748475</td>\n",
       "      <td>4425092.0</td>\n",
       "      <td>4436974.0</td>\n",
       "      <td>4454189.0</td>\n",
       "      <td>4468402.0</td>\n",
       "      <td>4467673.0</td>\n",
       "      <td>4503958.0</td>\n",
       "      <td>4509394.0</td>\n",
       "      <td>84302.0</td>\n",
       "      <td>1.905090</td>\n",
       "    </tr>\n",
       "    <tr>\n",
       "      <th>18</th>\n",
       "      <td>Louisiana</td>\n",
       "      <td>1739497</td>\n",
       "      <td>1751956</td>\n",
       "      <td>1748688</td>\n",
       "      <td>4670724.0</td>\n",
       "      <td>4681666.0</td>\n",
       "      <td>4684333.0</td>\n",
       "      <td>4659978.0</td>\n",
       "      <td>4648794.0</td>\n",
       "      <td>4651203.0</td>\n",
       "      <td>4624047.0</td>\n",
       "      <td>-46677.0</td>\n",
       "      <td>-0.999353</td>\n",
       "    </tr>\n",
       "    <tr>\n",
       "      <th>19</th>\n",
       "      <td>Maine</td>\n",
       "      <td>559921</td>\n",
       "      <td>569551</td>\n",
       "      <td>571064</td>\n",
       "      <td>1329328.0</td>\n",
       "      <td>1331479.0</td>\n",
       "      <td>1335907.0</td>\n",
       "      <td>1338404.0</td>\n",
       "      <td>1344212.0</td>\n",
       "      <td>1362280.0</td>\n",
       "      <td>1372247.0</td>\n",
       "      <td>42919.0</td>\n",
       "      <td>3.228624</td>\n",
       "    </tr>\n",
       "    <tr>\n",
       "      <th>20</th>\n",
       "      <td>Maryland</td>\n",
       "      <td>2205204</td>\n",
       "      <td>2230527</td>\n",
       "      <td>2294270</td>\n",
       "      <td>6006401.0</td>\n",
       "      <td>6016447.0</td>\n",
       "      <td>6052177.0</td>\n",
       "      <td>6042718.0</td>\n",
       "      <td>6045680.0</td>\n",
       "      <td>6172679.0</td>\n",
       "      <td>6165129.0</td>\n",
       "      <td>158728.0</td>\n",
       "      <td>2.642647</td>\n",
       "    </tr>\n",
       "    <tr>\n",
       "      <th>21</th>\n",
       "      <td>Massachusetts</td>\n",
       "      <td>2617497</td>\n",
       "      <td>2646980</td>\n",
       "      <td>2714448</td>\n",
       "      <td>6794422.0</td>\n",
       "      <td>6811779.0</td>\n",
       "      <td>6859819.0</td>\n",
       "      <td>6902149.0</td>\n",
       "      <td>6892503.0</td>\n",
       "      <td>7022220.0</td>\n",
       "      <td>6984723.0</td>\n",
       "      <td>190301.0</td>\n",
       "      <td>2.800842</td>\n",
       "    </tr>\n",
       "    <tr>\n",
       "      <th>22</th>\n",
       "      <td>Michigan</td>\n",
       "      <td>3935041</td>\n",
       "      <td>3980408</td>\n",
       "      <td>3976729</td>\n",
       "      <td>9922576.0</td>\n",
       "      <td>9928300.0</td>\n",
       "      <td>9962311.0</td>\n",
       "      <td>9995915.0</td>\n",
       "      <td>9986857.0</td>\n",
       "      <td>10067664.0</td>\n",
       "      <td>10050811.0</td>\n",
       "      <td>128235.0</td>\n",
       "      <td>1.292356</td>\n",
       "    </tr>\n",
       "    <tr>\n",
       "      <th>23</th>\n",
       "      <td>Minnesota</td>\n",
       "      <td>2185603</td>\n",
       "      <td>2207988</td>\n",
       "      <td>2229100</td>\n",
       "      <td>5489594.0</td>\n",
       "      <td>5519952.0</td>\n",
       "      <td>5576606.0</td>\n",
       "      <td>5611179.0</td>\n",
       "      <td>5639632.0</td>\n",
       "      <td>5707165.0</td>\n",
       "      <td>5707390.0</td>\n",
       "      <td>217796.0</td>\n",
       "      <td>3.967434</td>\n",
       "    </tr>\n",
       "    <tr>\n",
       "      <th>24</th>\n",
       "      <td>Mississippi</td>\n",
       "      <td>1104394</td>\n",
       "      <td>1116649</td>\n",
       "      <td>1108670</td>\n",
       "      <td>2992333.0</td>\n",
       "      <td>2988726.0</td>\n",
       "      <td>2984100.0</td>\n",
       "      <td>2986530.0</td>\n",
       "      <td>2976149.0</td>\n",
       "      <td>2956870.0</td>\n",
       "      <td>2949965.0</td>\n",
       "      <td>-42368.0</td>\n",
       "      <td>-1.415885</td>\n",
       "    </tr>\n",
       "    <tr>\n",
       "      <th>25</th>\n",
       "      <td>Missouri</td>\n",
       "      <td>2414521</td>\n",
       "      <td>2440212</td>\n",
       "      <td>2433819</td>\n",
       "      <td>6083672.0</td>\n",
       "      <td>6093000.0</td>\n",
       "      <td>6113532.0</td>\n",
       "      <td>6126452.0</td>\n",
       "      <td>6137428.0</td>\n",
       "      <td>6154481.0</td>\n",
       "      <td>6168187.0</td>\n",
       "      <td>84515.0</td>\n",
       "      <td>1.389210</td>\n",
       "    </tr>\n",
       "    <tr>\n",
       "      <th>26</th>\n",
       "      <td>Montana</td>\n",
       "      <td>427871</td>\n",
       "      <td>436048</td>\n",
       "      <td>436481</td>\n",
       "      <td>1032949.0</td>\n",
       "      <td>1042520.0</td>\n",
       "      <td>1050493.0</td>\n",
       "      <td>1062305.0</td>\n",
       "      <td>1068778.0</td>\n",
       "      <td>1086193.0</td>\n",
       "      <td>1104271.0</td>\n",
       "      <td>71322.0</td>\n",
       "      <td>6.904697</td>\n",
       "    </tr>\n",
       "    <tr>\n",
       "      <th>27</th>\n",
       "      <td>Nebraska</td>\n",
       "      <td>759176</td>\n",
       "      <td>766663</td>\n",
       "      <td>766887</td>\n",
       "      <td>1896190.0</td>\n",
       "      <td>1907116.0</td>\n",
       "      <td>1920076.0</td>\n",
       "      <td>1929268.0</td>\n",
       "      <td>1934408.0</td>\n",
       "      <td>1961455.0</td>\n",
       "      <td>1963692.0</td>\n",
       "      <td>67502.0</td>\n",
       "      <td>3.559875</td>\n",
       "    </tr>\n",
       "    <tr>\n",
       "      <th>28</th>\n",
       "      <td>Nevada</td>\n",
       "      <td>1098602</td>\n",
       "      <td>1130011</td>\n",
       "      <td>1141952</td>\n",
       "      <td>2890845.0</td>\n",
       "      <td>2940058.0</td>\n",
       "      <td>2998039.0</td>\n",
       "      <td>3034392.0</td>\n",
       "      <td>3080156.0</td>\n",
       "      <td>3114071.0</td>\n",
       "      <td>3143991.0</td>\n",
       "      <td>253146.0</td>\n",
       "      <td>8.756817</td>\n",
       "    </tr>\n",
       "    <tr>\n",
       "      <th>29</th>\n",
       "      <td>New Hampshire</td>\n",
       "      <td>532037</td>\n",
       "      <td>539116</td>\n",
       "      <td>540498</td>\n",
       "      <td>1330608.0</td>\n",
       "      <td>1334795.0</td>\n",
       "      <td>1342795.0</td>\n",
       "      <td>1356458.0</td>\n",
       "      <td>1359711.0</td>\n",
       "      <td>1377848.0</td>\n",
       "      <td>1388992.0</td>\n",
       "      <td>58384.0</td>\n",
       "      <td>4.387769</td>\n",
       "    </tr>\n",
       "    <tr>\n",
       "      <th>30</th>\n",
       "      <td>New Jersey</td>\n",
       "      <td>3231874</td>\n",
       "      <td>3272054</td>\n",
       "      <td>3397156</td>\n",
       "      <td>8958013.0</td>\n",
       "      <td>8944469.0</td>\n",
       "      <td>9005644.0</td>\n",
       "      <td>8908520.0</td>\n",
       "      <td>8882190.0</td>\n",
       "      <td>9279743.0</td>\n",
       "      <td>9267130.0</td>\n",
       "      <td>309117.0</td>\n",
       "      <td>3.450732</td>\n",
       "    </tr>\n",
       "    <tr>\n",
       "      <th>31</th>\n",
       "      <td>New Mexico</td>\n",
       "      <td>780249</td>\n",
       "      <td>792755</td>\n",
       "      <td>797596</td>\n",
       "      <td>2085109.0</td>\n",
       "      <td>2081015.0</td>\n",
       "      <td>2088070.0</td>\n",
       "      <td>2095428.0</td>\n",
       "      <td>2096829.0</td>\n",
       "      <td>2117566.0</td>\n",
       "      <td>2115877.0</td>\n",
       "      <td>30768.0</td>\n",
       "      <td>1.475606</td>\n",
       "    </tr>\n",
       "    <tr>\n",
       "      <th>32</th>\n",
       "      <td>New York</td>\n",
       "      <td>7343234</td>\n",
       "      <td>7417224</td>\n",
       "      <td>7530150</td>\n",
       "      <td>19795791.0</td>\n",
       "      <td>19745289.0</td>\n",
       "      <td>19849399.0</td>\n",
       "      <td>19542209.0</td>\n",
       "      <td>19453561.0</td>\n",
       "      <td>20154933.0</td>\n",
       "      <td>19835913.0</td>\n",
       "      <td>40122.0</td>\n",
       "      <td>0.202679</td>\n",
       "    </tr>\n",
       "    <tr>\n",
       "      <th>33</th>\n",
       "      <td>North Carolina</td>\n",
       "      <td>3965482</td>\n",
       "      <td>4031592</td>\n",
       "      <td>4034684</td>\n",
       "      <td>10042802.0</td>\n",
       "      <td>10146788.0</td>\n",
       "      <td>10273419.0</td>\n",
       "      <td>10383620.0</td>\n",
       "      <td>10488084.0</td>\n",
       "      <td>10457177.0</td>\n",
       "      <td>10551162.0</td>\n",
       "      <td>508360.0</td>\n",
       "      <td>5.061934</td>\n",
       "    </tr>\n",
       "    <tr>\n",
       "      <th>34</th>\n",
       "      <td>North Dakota</td>\n",
       "      <td>318322</td>\n",
       "      <td>320873</td>\n",
       "      <td>316542</td>\n",
       "      <td>756927.0</td>\n",
       "      <td>757952.0</td>\n",
       "      <td>755393.0</td>\n",
       "      <td>760077.0</td>\n",
       "      <td>762062.0</td>\n",
       "      <td>778962.0</td>\n",
       "      <td>774948.0</td>\n",
       "      <td>18021.0</td>\n",
       "      <td>2.380811</td>\n",
       "    </tr>\n",
       "    <tr>\n",
       "      <th>35</th>\n",
       "      <td>Ohio</td>\n",
       "      <td>4676358</td>\n",
       "      <td>4717226</td>\n",
       "      <td>4754161</td>\n",
       "      <td>11613423.0</td>\n",
       "      <td>11614373.0</td>\n",
       "      <td>11658609.0</td>\n",
       "      <td>11689442.0</td>\n",
       "      <td>11689100.0</td>\n",
       "      <td>11790587.0</td>\n",
       "      <td>11780017.0</td>\n",
       "      <td>166594.0</td>\n",
       "      <td>1.434495</td>\n",
       "    </tr>\n",
       "    <tr>\n",
       "      <th>36</th>\n",
       "      <td>Oklahoma</td>\n",
       "      <td>1480061</td>\n",
       "      <td>1493569</td>\n",
       "      <td>1503868</td>\n",
       "      <td>3911338.0</td>\n",
       "      <td>3923561.0</td>\n",
       "      <td>3930864.0</td>\n",
       "      <td>3943079.0</td>\n",
       "      <td>3956971.0</td>\n",
       "      <td>3962031.0</td>\n",
       "      <td>3986639.0</td>\n",
       "      <td>75301.0</td>\n",
       "      <td>1.925198</td>\n",
       "    </tr>\n",
       "    <tr>\n",
       "      <th>37</th>\n",
       "      <td>Oregon</td>\n",
       "      <td>1611982</td>\n",
       "      <td>1642579</td>\n",
       "      <td>1658091</td>\n",
       "      <td>4028977.0</td>\n",
       "      <td>4093465.0</td>\n",
       "      <td>4142776.0</td>\n",
       "      <td>4190713.0</td>\n",
       "      <td>4217737.0</td>\n",
       "      <td>4241544.0</td>\n",
       "      <td>4246155.0</td>\n",
       "      <td>217178.0</td>\n",
       "      <td>5.390401</td>\n",
       "    </tr>\n",
       "    <tr>\n",
       "      <th>38</th>\n",
       "      <td>Pennsylvania</td>\n",
       "      <td>5053106</td>\n",
       "      <td>5106601</td>\n",
       "      <td>5147783</td>\n",
       "      <td>12802503.0</td>\n",
       "      <td>12784227.0</td>\n",
       "      <td>12805537.0</td>\n",
       "      <td>12807060.0</td>\n",
       "      <td>12801989.0</td>\n",
       "      <td>12989625.0</td>\n",
       "      <td>12964056.0</td>\n",
       "      <td>161553.0</td>\n",
       "      <td>1.261886</td>\n",
       "    </tr>\n",
       "    <tr>\n",
       "      <th>39</th>\n",
       "      <td>Puerto Rico</td>\n",
       "      <td>1192654</td>\n",
       "      <td>1205749</td>\n",
       "      <td>1196790</td>\n",
       "      <td>3474182.0</td>\n",
       "      <td>3411307.0</td>\n",
       "      <td>3337177.0</td>\n",
       "      <td>3195153.0</td>\n",
       "      <td>3193694.0</td>\n",
       "      <td>3281538.0</td>\n",
       "      <td>3263584.0</td>\n",
       "      <td>-210598.0</td>\n",
       "      <td>-6.061801</td>\n",
       "    </tr>\n",
       "    <tr>\n",
       "      <th>40</th>\n",
       "      <td>Rhode Island</td>\n",
       "      <td>410489</td>\n",
       "      <td>414730</td>\n",
       "      <td>426769</td>\n",
       "      <td>1056298.0</td>\n",
       "      <td>1056426.0</td>\n",
       "      <td>1059639.0</td>\n",
       "      <td>1057315.0</td>\n",
       "      <td>1059361.0</td>\n",
       "      <td>1096229.0</td>\n",
       "      <td>1095610.0</td>\n",
       "      <td>39312.0</td>\n",
       "      <td>3.721677</td>\n",
       "    </tr>\n",
       "    <tr>\n",
       "      <th>41</th>\n",
       "      <td>South Carolina</td>\n",
       "      <td>1921862</td>\n",
       "      <td>1961481</td>\n",
       "      <td>1976447</td>\n",
       "      <td>4896146.0</td>\n",
       "      <td>4961119.0</td>\n",
       "      <td>5024369.0</td>\n",
       "      <td>5084127.0</td>\n",
       "      <td>5148714.0</td>\n",
       "      <td>5130729.0</td>\n",
       "      <td>5190705.0</td>\n",
       "      <td>294559.0</td>\n",
       "      <td>6.016140</td>\n",
       "    </tr>\n",
       "    <tr>\n",
       "      <th>42</th>\n",
       "      <td>South Dakota</td>\n",
       "      <td>344397</td>\n",
       "      <td>347878</td>\n",
       "      <td>345779</td>\n",
       "      <td>858469.0</td>\n",
       "      <td>865454.0</td>\n",
       "      <td>869666.0</td>\n",
       "      <td>882235.0</td>\n",
       "      <td>884659.0</td>\n",
       "      <td>887099.0</td>\n",
       "      <td>895376.0</td>\n",
       "      <td>36907.0</td>\n",
       "      <td>4.299165</td>\n",
       "    </tr>\n",
       "    <tr>\n",
       "      <th>43</th>\n",
       "      <td>Tennessee</td>\n",
       "      <td>2597292</td>\n",
       "      <td>2639455</td>\n",
       "      <td>2664791</td>\n",
       "      <td>6600299.0</td>\n",
       "      <td>6651194.0</td>\n",
       "      <td>6715984.0</td>\n",
       "      <td>6770010.0</td>\n",
       "      <td>6829174.0</td>\n",
       "      <td>6920119.0</td>\n",
       "      <td>6975218.0</td>\n",
       "      <td>374919.0</td>\n",
       "      <td>5.680334</td>\n",
       "    </tr>\n",
       "    <tr>\n",
       "      <th>44</th>\n",
       "      <td>Texas</td>\n",
       "      <td>9691647</td>\n",
       "      <td>9906070</td>\n",
       "      <td>10239341</td>\n",
       "      <td>27469114.0</td>\n",
       "      <td>27862596.0</td>\n",
       "      <td>28304596.0</td>\n",
       "      <td>28701845.0</td>\n",
       "      <td>28995881.0</td>\n",
       "      <td>29217653.0</td>\n",
       "      <td>29527941.0</td>\n",
       "      <td>2058827.0</td>\n",
       "      <td>7.495062</td>\n",
       "    </tr>\n",
       "    <tr>\n",
       "      <th>45</th>\n",
       "      <td>Utah</td>\n",
       "      <td>977313</td>\n",
       "      <td>1003345</td>\n",
       "      <td>1033651</td>\n",
       "      <td>2995919.0</td>\n",
       "      <td>3051217.0</td>\n",
       "      <td>3101833.0</td>\n",
       "      <td>3161105.0</td>\n",
       "      <td>3205958.0</td>\n",
       "      <td>3281684.0</td>\n",
       "      <td>3337975.0</td>\n",
       "      <td>342056.0</td>\n",
       "      <td>11.417398</td>\n",
       "    </tr>\n",
       "    <tr>\n",
       "      <th>46</th>\n",
       "      <td>Vermont</td>\n",
       "      <td>260029</td>\n",
       "      <td>262852</td>\n",
       "      <td>262514</td>\n",
       "      <td>626042.0</td>\n",
       "      <td>624594.0</td>\n",
       "      <td>623657.0</td>\n",
       "      <td>626299.0</td>\n",
       "      <td>623989.0</td>\n",
       "      <td>642495.0</td>\n",
       "      <td>645570.0</td>\n",
       "      <td>19528.0</td>\n",
       "      <td>3.119280</td>\n",
       "    </tr>\n",
       "    <tr>\n",
       "      <th>47</th>\n",
       "      <td>Virginia</td>\n",
       "      <td>3151045</td>\n",
       "      <td>3184121</td>\n",
       "      <td>3248528</td>\n",
       "      <td>8382993.0</td>\n",
       "      <td>8411808.0</td>\n",
       "      <td>8470020.0</td>\n",
       "      <td>8517685.0</td>\n",
       "      <td>8535519.0</td>\n",
       "      <td>8632044.0</td>\n",
       "      <td>8642274.0</td>\n",
       "      <td>259281.0</td>\n",
       "      <td>3.092941</td>\n",
       "    </tr>\n",
       "    <tr>\n",
       "      <th>48</th>\n",
       "      <td>Washington</td>\n",
       "      <td>2848396</td>\n",
       "      <td>2905822</td>\n",
       "      <td>2931841</td>\n",
       "      <td>7170351.0</td>\n",
       "      <td>7288000.0</td>\n",
       "      <td>7405743.0</td>\n",
       "      <td>7535591.0</td>\n",
       "      <td>7614893.0</td>\n",
       "      <td>7718785.0</td>\n",
       "      <td>7738692.0</td>\n",
       "      <td>568341.0</td>\n",
       "      <td>7.926265</td>\n",
       "    </tr>\n",
       "    <tr>\n",
       "      <th>49</th>\n",
       "      <td>West Virginia</td>\n",
       "      <td>732585</td>\n",
       "      <td>734235</td>\n",
       "      <td>711352</td>\n",
       "      <td>1844128.0</td>\n",
       "      <td>1831102.0</td>\n",
       "      <td>1815857.0</td>\n",
       "      <td>1805832.0</td>\n",
       "      <td>1792147.0</td>\n",
       "      <td>1789798.0</td>\n",
       "      <td>1782959.0</td>\n",
       "      <td>-61169.0</td>\n",
       "      <td>-3.316961</td>\n",
       "    </tr>\n",
       "    <tr>\n",
       "      <th>50</th>\n",
       "      <td>Wisconsin</td>\n",
       "      <td>2358156</td>\n",
       "      <td>2377935</td>\n",
       "      <td>2401818</td>\n",
       "      <td>5771337.0</td>\n",
       "      <td>5778708.0</td>\n",
       "      <td>5795483.0</td>\n",
       "      <td>5813568.0</td>\n",
       "      <td>5822434.0</td>\n",
       "      <td>5892323.0</td>\n",
       "      <td>5895908.0</td>\n",
       "      <td>124571.0</td>\n",
       "      <td>2.158443</td>\n",
       "    </tr>\n",
       "    <tr>\n",
       "      <th>51</th>\n",
       "      <td>Wyoming</td>\n",
       "      <td>230101</td>\n",
       "      <td>233231</td>\n",
       "      <td>230653</td>\n",
       "      <td>586107.0</td>\n",
       "      <td>585501.0</td>\n",
       "      <td>579315.0</td>\n",
       "      <td>577737.0</td>\n",
       "      <td>578759.0</td>\n",
       "      <td>577267.0</td>\n",
       "      <td>578803.0</td>\n",
       "      <td>-7304.0</td>\n",
       "      <td>-1.246189</td>\n",
       "    </tr>\n",
       "  </tbody>\n",
       "</table>\n",
       "</div>"
      ],
      "text/plain": [
       "                   STATE      2019      2020      2021    POP_2015  \\\n",
       "0                Alabama   1867893   1888504   1902983   4858979.0   \n",
       "1                 Alaska    253346    255173    260561    738432.0   \n",
       "2                Arizona   2571268   2643430   2683557   6828065.0   \n",
       "3               Arkansas   1158071   1170544   1158460   2978204.0   \n",
       "4             California  13044266  13103114  13217586  39144818.0   \n",
       "5               Colorado   2148994   2137402   2227932   5456574.0   \n",
       "6            Connecticut   1370746   1385437   1397324   3590886.0   \n",
       "7               Delaware    363322    370953    381097    945934.0   \n",
       "8   District of Columbia    284386    288307    310104    672228.0   \n",
       "9                Florida   7736311   7931313   8157420  20271272.0   \n",
       "10               Georgia   3758798   3830264   3885371  10214860.0   \n",
       "11                Hawaii    459424    467932    478413   1431603.0   \n",
       "12                 Idaho    630008    649299    657101   1654930.0   \n",
       "13              Illinois   4846134   4884061   4930255  12859995.0   \n",
       "14               Indiana   2570419   2602770   2622601   6619680.0   \n",
       "15                  Iowa   1265473   1273941   1275893   3123899.0   \n",
       "16                Kansas   1129227   1141985   1139738   2911641.0   \n",
       "17              Kentucky   1734618   1748053   1748475   4425092.0   \n",
       "18             Louisiana   1739497   1751956   1748688   4670724.0   \n",
       "19                 Maine    559921    569551    571064   1329328.0   \n",
       "20              Maryland   2205204   2230527   2294270   6006401.0   \n",
       "21         Massachusetts   2617497   2646980   2714448   6794422.0   \n",
       "22              Michigan   3935041   3980408   3976729   9922576.0   \n",
       "23             Minnesota   2185603   2207988   2229100   5489594.0   \n",
       "24           Mississippi   1104394   1116649   1108670   2992333.0   \n",
       "25              Missouri   2414521   2440212   2433819   6083672.0   \n",
       "26               Montana    427871    436048    436481   1032949.0   \n",
       "27              Nebraska    759176    766663    766887   1896190.0   \n",
       "28                Nevada   1098602   1130011   1141952   2890845.0   \n",
       "29         New Hampshire    532037    539116    540498   1330608.0   \n",
       "30            New Jersey   3231874   3272054   3397156   8958013.0   \n",
       "31            New Mexico    780249    792755    797596   2085109.0   \n",
       "32              New York   7343234   7417224   7530150  19795791.0   \n",
       "33        North Carolina   3965482   4031592   4034684  10042802.0   \n",
       "34          North Dakota    318322    320873    316542    756927.0   \n",
       "35                  Ohio   4676358   4717226   4754161  11613423.0   \n",
       "36              Oklahoma   1480061   1493569   1503868   3911338.0   \n",
       "37                Oregon   1611982   1642579   1658091   4028977.0   \n",
       "38          Pennsylvania   5053106   5106601   5147783  12802503.0   \n",
       "39           Puerto Rico   1192654   1205749   1196790   3474182.0   \n",
       "40          Rhode Island    410489    414730    426769   1056298.0   \n",
       "41        South Carolina   1921862   1961481   1976447   4896146.0   \n",
       "42          South Dakota    344397    347878    345779    858469.0   \n",
       "43             Tennessee   2597292   2639455   2664791   6600299.0   \n",
       "44                 Texas   9691647   9906070  10239341  27469114.0   \n",
       "45                  Utah    977313   1003345   1033651   2995919.0   \n",
       "46               Vermont    260029    262852    262514    626042.0   \n",
       "47              Virginia   3151045   3184121   3248528   8382993.0   \n",
       "48            Washington   2848396   2905822   2931841   7170351.0   \n",
       "49         West Virginia    732585    734235    711352   1844128.0   \n",
       "50             Wisconsin   2358156   2377935   2401818   5771337.0   \n",
       "51               Wyoming    230101    233231    230653    586107.0   \n",
       "\n",
       "      POP_2016    POP_2017    POP_2018    POP_2019    POP_2020    POP_2021  \\\n",
       "0    4863300.0   4874747.0   4887871.0   4903185.0   5024803.0   5039877.0   \n",
       "1     741894.0    739795.0    737438.0    731545.0    732441.0    732673.0   \n",
       "2    6931071.0   7016270.0   7171646.0   7278717.0   7177986.0   7276316.0   \n",
       "3    2988248.0   3004279.0   3013825.0   3017804.0   3012232.0   3025891.0   \n",
       "4   39250017.0  39536653.0  39557045.0  39512223.0  39499738.0  39237836.0   \n",
       "5    5540545.0   5607154.0   5695564.0   5758736.0   5784308.0   5812069.0   \n",
       "6    3576452.0   3588184.0   3572665.0   3565287.0   3600260.0   3605597.0   \n",
       "7     952065.0    961939.0    967171.0    973764.0    991886.0   1003384.0   \n",
       "8     681170.0    693972.0    702455.0    705749.0    690093.0    670050.0   \n",
       "9   20612439.0  20984400.0  21299325.0  21477737.0  21569932.0  21781128.0   \n",
       "10  10310371.0  10429379.0  10519475.0  10617423.0  10725800.0  10799566.0   \n",
       "11   1428557.0   1427538.0   1420491.0   1415872.0   1451911.0   1441553.0   \n",
       "12   1683140.0   1716943.0   1754208.0   1787065.0   1847772.0   1900923.0   \n",
       "13  12801539.0  12802023.0  12741080.0  12671821.0  12785245.0  12671469.0   \n",
       "14   6633053.0   6666818.0   6691878.0   6732219.0   6785644.0   6805985.0   \n",
       "15   3134693.0   3145711.0   3156145.0   3155070.0   3188669.0   3193079.0   \n",
       "16   2907289.0   2913123.0   2911505.0   2913314.0   2935880.0   2934582.0   \n",
       "17   4436974.0   4454189.0   4468402.0   4467673.0   4503958.0   4509394.0   \n",
       "18   4681666.0   4684333.0   4659978.0   4648794.0   4651203.0   4624047.0   \n",
       "19   1331479.0   1335907.0   1338404.0   1344212.0   1362280.0   1372247.0   \n",
       "20   6016447.0   6052177.0   6042718.0   6045680.0   6172679.0   6165129.0   \n",
       "21   6811779.0   6859819.0   6902149.0   6892503.0   7022220.0   6984723.0   \n",
       "22   9928300.0   9962311.0   9995915.0   9986857.0  10067664.0  10050811.0   \n",
       "23   5519952.0   5576606.0   5611179.0   5639632.0   5707165.0   5707390.0   \n",
       "24   2988726.0   2984100.0   2986530.0   2976149.0   2956870.0   2949965.0   \n",
       "25   6093000.0   6113532.0   6126452.0   6137428.0   6154481.0   6168187.0   \n",
       "26   1042520.0   1050493.0   1062305.0   1068778.0   1086193.0   1104271.0   \n",
       "27   1907116.0   1920076.0   1929268.0   1934408.0   1961455.0   1963692.0   \n",
       "28   2940058.0   2998039.0   3034392.0   3080156.0   3114071.0   3143991.0   \n",
       "29   1334795.0   1342795.0   1356458.0   1359711.0   1377848.0   1388992.0   \n",
       "30   8944469.0   9005644.0   8908520.0   8882190.0   9279743.0   9267130.0   \n",
       "31   2081015.0   2088070.0   2095428.0   2096829.0   2117566.0   2115877.0   \n",
       "32  19745289.0  19849399.0  19542209.0  19453561.0  20154933.0  19835913.0   \n",
       "33  10146788.0  10273419.0  10383620.0  10488084.0  10457177.0  10551162.0   \n",
       "34    757952.0    755393.0    760077.0    762062.0    778962.0    774948.0   \n",
       "35  11614373.0  11658609.0  11689442.0  11689100.0  11790587.0  11780017.0   \n",
       "36   3923561.0   3930864.0   3943079.0   3956971.0   3962031.0   3986639.0   \n",
       "37   4093465.0   4142776.0   4190713.0   4217737.0   4241544.0   4246155.0   \n",
       "38  12784227.0  12805537.0  12807060.0  12801989.0  12989625.0  12964056.0   \n",
       "39   3411307.0   3337177.0   3195153.0   3193694.0   3281538.0   3263584.0   \n",
       "40   1056426.0   1059639.0   1057315.0   1059361.0   1096229.0   1095610.0   \n",
       "41   4961119.0   5024369.0   5084127.0   5148714.0   5130729.0   5190705.0   \n",
       "42    865454.0    869666.0    882235.0    884659.0    887099.0    895376.0   \n",
       "43   6651194.0   6715984.0   6770010.0   6829174.0   6920119.0   6975218.0   \n",
       "44  27862596.0  28304596.0  28701845.0  28995881.0  29217653.0  29527941.0   \n",
       "45   3051217.0   3101833.0   3161105.0   3205958.0   3281684.0   3337975.0   \n",
       "46    624594.0    623657.0    626299.0    623989.0    642495.0    645570.0   \n",
       "47   8411808.0   8470020.0   8517685.0   8535519.0   8632044.0   8642274.0   \n",
       "48   7288000.0   7405743.0   7535591.0   7614893.0   7718785.0   7738692.0   \n",
       "49   1831102.0   1815857.0   1805832.0   1792147.0   1789798.0   1782959.0   \n",
       "50   5778708.0   5795483.0   5813568.0   5822434.0   5892323.0   5895908.0   \n",
       "51    585501.0    579315.0    577737.0    578759.0    577267.0    578803.0   \n",
       "\n",
       "    POP_CHANGE_TOTAL  POP_CHANGE_PCT  \n",
       "0           180898.0        3.722963  \n",
       "1            -5759.0       -0.779896  \n",
       "2           448251.0        6.564832  \n",
       "3            47687.0        1.601200  \n",
       "4            93018.0        0.237625  \n",
       "5           355495.0        6.514985  \n",
       "6            14711.0        0.409676  \n",
       "7            57450.0        6.073362  \n",
       "8            -2178.0       -0.323997  \n",
       "9          1509856.0        7.448255  \n",
       "10          584706.0        5.724073  \n",
       "11            9950.0        0.695025  \n",
       "12          245993.0       14.864254  \n",
       "13         -188526.0       -1.465988  \n",
       "14          186305.0        2.814411  \n",
       "15           69180.0        2.214540  \n",
       "16           22941.0        0.787906  \n",
       "17           84302.0        1.905090  \n",
       "18          -46677.0       -0.999353  \n",
       "19           42919.0        3.228624  \n",
       "20          158728.0        2.642647  \n",
       "21          190301.0        2.800842  \n",
       "22          128235.0        1.292356  \n",
       "23          217796.0        3.967434  \n",
       "24          -42368.0       -1.415885  \n",
       "25           84515.0        1.389210  \n",
       "26           71322.0        6.904697  \n",
       "27           67502.0        3.559875  \n",
       "28          253146.0        8.756817  \n",
       "29           58384.0        4.387769  \n",
       "30          309117.0        3.450732  \n",
       "31           30768.0        1.475606  \n",
       "32           40122.0        0.202679  \n",
       "33          508360.0        5.061934  \n",
       "34           18021.0        2.380811  \n",
       "35          166594.0        1.434495  \n",
       "36           75301.0        1.925198  \n",
       "37          217178.0        5.390401  \n",
       "38          161553.0        1.261886  \n",
       "39         -210598.0       -6.061801  \n",
       "40           39312.0        3.721677  \n",
       "41          294559.0        6.016140  \n",
       "42           36907.0        4.299165  \n",
       "43          374919.0        5.680334  \n",
       "44         2058827.0        7.495062  \n",
       "45          342056.0       11.417398  \n",
       "46           19528.0        3.119280  \n",
       "47          259281.0        3.092941  \n",
       "48          568341.0        7.926265  \n",
       "49          -61169.0       -3.316961  \n",
       "50          124571.0        2.158443  \n",
       "51           -7304.0       -1.246189  "
      ]
     },
     "execution_count": 15,
     "metadata": {},
     "output_type": "execute_result"
    }
   ],
   "source": [
    "# merge data frames\n",
    "pop_earnings_df = pd.merge(earnings_df, pop_change_df, on=\"STATE\")\n",
    "pop_earnings_df"
   ]
  },
  {
   "cell_type": "code",
   "execution_count": 16,
   "metadata": {},
   "outputs": [
    {
     "data": {
      "text/html": [
       "<div>\n",
       "<style scoped>\n",
       "    .dataframe tbody tr th:only-of-type {\n",
       "        vertical-align: middle;\n",
       "    }\n",
       "\n",
       "    .dataframe tbody tr th {\n",
       "        vertical-align: top;\n",
       "    }\n",
       "\n",
       "    .dataframe thead th {\n",
       "        text-align: right;\n",
       "    }\n",
       "</style>\n",
       "<table border=\"1\" class=\"dataframe\">\n",
       "  <thead>\n",
       "    <tr style=\"text-align: right;\">\n",
       "      <th></th>\n",
       "      <th>STATE</th>\n",
       "      <th>2019</th>\n",
       "      <th>2020</th>\n",
       "      <th>2021</th>\n",
       "      <th>POP_2015</th>\n",
       "      <th>POP_2016</th>\n",
       "      <th>POP_2017</th>\n",
       "      <th>POP_2018</th>\n",
       "      <th>POP_2019</th>\n",
       "      <th>POP_2020</th>\n",
       "      <th>POP_2021</th>\n",
       "      <th>POP_CHANGE_TOTAL</th>\n",
       "      <th>POP_CHANGE_PCT</th>\n",
       "      <th>Average Earnings</th>\n",
       "    </tr>\n",
       "  </thead>\n",
       "  <tbody>\n",
       "    <tr>\n",
       "      <th>0</th>\n",
       "      <td>Alabama</td>\n",
       "      <td>1867893</td>\n",
       "      <td>1888504</td>\n",
       "      <td>1902983</td>\n",
       "      <td>4858979.0</td>\n",
       "      <td>4863300.0</td>\n",
       "      <td>4874747.0</td>\n",
       "      <td>4887871.0</td>\n",
       "      <td>4903185.0</td>\n",
       "      <td>5024803.0</td>\n",
       "      <td>5039877.0</td>\n",
       "      <td>180898.0</td>\n",
       "      <td>3.722963</td>\n",
       "      <td>1.886460e+06</td>\n",
       "    </tr>\n",
       "    <tr>\n",
       "      <th>1</th>\n",
       "      <td>Alaska</td>\n",
       "      <td>253346</td>\n",
       "      <td>255173</td>\n",
       "      <td>260561</td>\n",
       "      <td>738432.0</td>\n",
       "      <td>741894.0</td>\n",
       "      <td>739795.0</td>\n",
       "      <td>737438.0</td>\n",
       "      <td>731545.0</td>\n",
       "      <td>732441.0</td>\n",
       "      <td>732673.0</td>\n",
       "      <td>-5759.0</td>\n",
       "      <td>-0.779896</td>\n",
       "      <td>2.563600e+05</td>\n",
       "    </tr>\n",
       "    <tr>\n",
       "      <th>2</th>\n",
       "      <td>Arizona</td>\n",
       "      <td>2571268</td>\n",
       "      <td>2643430</td>\n",
       "      <td>2683557</td>\n",
       "      <td>6828065.0</td>\n",
       "      <td>6931071.0</td>\n",
       "      <td>7016270.0</td>\n",
       "      <td>7171646.0</td>\n",
       "      <td>7278717.0</td>\n",
       "      <td>7177986.0</td>\n",
       "      <td>7276316.0</td>\n",
       "      <td>448251.0</td>\n",
       "      <td>6.564832</td>\n",
       "      <td>2.632752e+06</td>\n",
       "    </tr>\n",
       "    <tr>\n",
       "      <th>3</th>\n",
       "      <td>Arkansas</td>\n",
       "      <td>1158071</td>\n",
       "      <td>1170544</td>\n",
       "      <td>1158460</td>\n",
       "      <td>2978204.0</td>\n",
       "      <td>2988248.0</td>\n",
       "      <td>3004279.0</td>\n",
       "      <td>3013825.0</td>\n",
       "      <td>3017804.0</td>\n",
       "      <td>3012232.0</td>\n",
       "      <td>3025891.0</td>\n",
       "      <td>47687.0</td>\n",
       "      <td>1.601200</td>\n",
       "      <td>1.162358e+06</td>\n",
       "    </tr>\n",
       "    <tr>\n",
       "      <th>4</th>\n",
       "      <td>California</td>\n",
       "      <td>13044266</td>\n",
       "      <td>13103114</td>\n",
       "      <td>13217586</td>\n",
       "      <td>39144818.0</td>\n",
       "      <td>39250017.0</td>\n",
       "      <td>39536653.0</td>\n",
       "      <td>39557045.0</td>\n",
       "      <td>39512223.0</td>\n",
       "      <td>39499738.0</td>\n",
       "      <td>39237836.0</td>\n",
       "      <td>93018.0</td>\n",
       "      <td>0.237625</td>\n",
       "      <td>1.312166e+07</td>\n",
       "    </tr>\n",
       "    <tr>\n",
       "      <th>5</th>\n",
       "      <td>Colorado</td>\n",
       "      <td>2148994</td>\n",
       "      <td>2137402</td>\n",
       "      <td>2227932</td>\n",
       "      <td>5456574.0</td>\n",
       "      <td>5540545.0</td>\n",
       "      <td>5607154.0</td>\n",
       "      <td>5695564.0</td>\n",
       "      <td>5758736.0</td>\n",
       "      <td>5784308.0</td>\n",
       "      <td>5812069.0</td>\n",
       "      <td>355495.0</td>\n",
       "      <td>6.514985</td>\n",
       "      <td>2.171443e+06</td>\n",
       "    </tr>\n",
       "    <tr>\n",
       "      <th>6</th>\n",
       "      <td>Connecticut</td>\n",
       "      <td>1370746</td>\n",
       "      <td>1385437</td>\n",
       "      <td>1397324</td>\n",
       "      <td>3590886.0</td>\n",
       "      <td>3576452.0</td>\n",
       "      <td>3588184.0</td>\n",
       "      <td>3572665.0</td>\n",
       "      <td>3565287.0</td>\n",
       "      <td>3600260.0</td>\n",
       "      <td>3605597.0</td>\n",
       "      <td>14711.0</td>\n",
       "      <td>0.409676</td>\n",
       "      <td>1.384502e+06</td>\n",
       "    </tr>\n",
       "    <tr>\n",
       "      <th>7</th>\n",
       "      <td>Delaware</td>\n",
       "      <td>363322</td>\n",
       "      <td>370953</td>\n",
       "      <td>381097</td>\n",
       "      <td>945934.0</td>\n",
       "      <td>952065.0</td>\n",
       "      <td>961939.0</td>\n",
       "      <td>967171.0</td>\n",
       "      <td>973764.0</td>\n",
       "      <td>991886.0</td>\n",
       "      <td>1003384.0</td>\n",
       "      <td>57450.0</td>\n",
       "      <td>6.073362</td>\n",
       "      <td>3.717907e+05</td>\n",
       "    </tr>\n",
       "    <tr>\n",
       "      <th>8</th>\n",
       "      <td>District of Columbia</td>\n",
       "      <td>284386</td>\n",
       "      <td>288307</td>\n",
       "      <td>310104</td>\n",
       "      <td>672228.0</td>\n",
       "      <td>681170.0</td>\n",
       "      <td>693972.0</td>\n",
       "      <td>702455.0</td>\n",
       "      <td>705749.0</td>\n",
       "      <td>690093.0</td>\n",
       "      <td>670050.0</td>\n",
       "      <td>-2178.0</td>\n",
       "      <td>-0.323997</td>\n",
       "      <td>2.942657e+05</td>\n",
       "    </tr>\n",
       "    <tr>\n",
       "      <th>9</th>\n",
       "      <td>Florida</td>\n",
       "      <td>7736311</td>\n",
       "      <td>7931313</td>\n",
       "      <td>8157420</td>\n",
       "      <td>20271272.0</td>\n",
       "      <td>20612439.0</td>\n",
       "      <td>20984400.0</td>\n",
       "      <td>21299325.0</td>\n",
       "      <td>21477737.0</td>\n",
       "      <td>21569932.0</td>\n",
       "      <td>21781128.0</td>\n",
       "      <td>1509856.0</td>\n",
       "      <td>7.448255</td>\n",
       "      <td>7.941681e+06</td>\n",
       "    </tr>\n",
       "    <tr>\n",
       "      <th>10</th>\n",
       "      <td>Georgia</td>\n",
       "      <td>3758798</td>\n",
       "      <td>3830264</td>\n",
       "      <td>3885371</td>\n",
       "      <td>10214860.0</td>\n",
       "      <td>10310371.0</td>\n",
       "      <td>10429379.0</td>\n",
       "      <td>10519475.0</td>\n",
       "      <td>10617423.0</td>\n",
       "      <td>10725800.0</td>\n",
       "      <td>10799566.0</td>\n",
       "      <td>584706.0</td>\n",
       "      <td>5.724073</td>\n",
       "      <td>3.824811e+06</td>\n",
       "    </tr>\n",
       "    <tr>\n",
       "      <th>11</th>\n",
       "      <td>Hawaii</td>\n",
       "      <td>459424</td>\n",
       "      <td>467932</td>\n",
       "      <td>478413</td>\n",
       "      <td>1431603.0</td>\n",
       "      <td>1428557.0</td>\n",
       "      <td>1427538.0</td>\n",
       "      <td>1420491.0</td>\n",
       "      <td>1415872.0</td>\n",
       "      <td>1451911.0</td>\n",
       "      <td>1441553.0</td>\n",
       "      <td>9950.0</td>\n",
       "      <td>0.695025</td>\n",
       "      <td>4.685897e+05</td>\n",
       "    </tr>\n",
       "    <tr>\n",
       "      <th>12</th>\n",
       "      <td>Idaho</td>\n",
       "      <td>630008</td>\n",
       "      <td>649299</td>\n",
       "      <td>657101</td>\n",
       "      <td>1654930.0</td>\n",
       "      <td>1683140.0</td>\n",
       "      <td>1716943.0</td>\n",
       "      <td>1754208.0</td>\n",
       "      <td>1787065.0</td>\n",
       "      <td>1847772.0</td>\n",
       "      <td>1900923.0</td>\n",
       "      <td>245993.0</td>\n",
       "      <td>14.864254</td>\n",
       "      <td>6.454693e+05</td>\n",
       "    </tr>\n",
       "    <tr>\n",
       "      <th>13</th>\n",
       "      <td>Illinois</td>\n",
       "      <td>4846134</td>\n",
       "      <td>4884061</td>\n",
       "      <td>4930255</td>\n",
       "      <td>12859995.0</td>\n",
       "      <td>12801539.0</td>\n",
       "      <td>12802023.0</td>\n",
       "      <td>12741080.0</td>\n",
       "      <td>12671821.0</td>\n",
       "      <td>12785245.0</td>\n",
       "      <td>12671469.0</td>\n",
       "      <td>-188526.0</td>\n",
       "      <td>-1.465988</td>\n",
       "      <td>4.886817e+06</td>\n",
       "    </tr>\n",
       "    <tr>\n",
       "      <th>14</th>\n",
       "      <td>Indiana</td>\n",
       "      <td>2570419</td>\n",
       "      <td>2602770</td>\n",
       "      <td>2622601</td>\n",
       "      <td>6619680.0</td>\n",
       "      <td>6633053.0</td>\n",
       "      <td>6666818.0</td>\n",
       "      <td>6691878.0</td>\n",
       "      <td>6732219.0</td>\n",
       "      <td>6785644.0</td>\n",
       "      <td>6805985.0</td>\n",
       "      <td>186305.0</td>\n",
       "      <td>2.814411</td>\n",
       "      <td>2.598597e+06</td>\n",
       "    </tr>\n",
       "    <tr>\n",
       "      <th>15</th>\n",
       "      <td>Iowa</td>\n",
       "      <td>1265473</td>\n",
       "      <td>1273941</td>\n",
       "      <td>1275893</td>\n",
       "      <td>3123899.0</td>\n",
       "      <td>3134693.0</td>\n",
       "      <td>3145711.0</td>\n",
       "      <td>3156145.0</td>\n",
       "      <td>3155070.0</td>\n",
       "      <td>3188669.0</td>\n",
       "      <td>3193079.0</td>\n",
       "      <td>69180.0</td>\n",
       "      <td>2.214540</td>\n",
       "      <td>1.271769e+06</td>\n",
       "    </tr>\n",
       "    <tr>\n",
       "      <th>16</th>\n",
       "      <td>Kansas</td>\n",
       "      <td>1129227</td>\n",
       "      <td>1141985</td>\n",
       "      <td>1139738</td>\n",
       "      <td>2911641.0</td>\n",
       "      <td>2907289.0</td>\n",
       "      <td>2913123.0</td>\n",
       "      <td>2911505.0</td>\n",
       "      <td>2913314.0</td>\n",
       "      <td>2935880.0</td>\n",
       "      <td>2934582.0</td>\n",
       "      <td>22941.0</td>\n",
       "      <td>0.787906</td>\n",
       "      <td>1.136983e+06</td>\n",
       "    </tr>\n",
       "    <tr>\n",
       "      <th>17</th>\n",
       "      <td>Kentucky</td>\n",
       "      <td>1734618</td>\n",
       "      <td>1748053</td>\n",
       "      <td>1748475</td>\n",
       "      <td>4425092.0</td>\n",
       "      <td>4436974.0</td>\n",
       "      <td>4454189.0</td>\n",
       "      <td>4468402.0</td>\n",
       "      <td>4467673.0</td>\n",
       "      <td>4503958.0</td>\n",
       "      <td>4509394.0</td>\n",
       "      <td>84302.0</td>\n",
       "      <td>1.905090</td>\n",
       "      <td>1.743715e+06</td>\n",
       "    </tr>\n",
       "    <tr>\n",
       "      <th>18</th>\n",
       "      <td>Louisiana</td>\n",
       "      <td>1739497</td>\n",
       "      <td>1751956</td>\n",
       "      <td>1748688</td>\n",
       "      <td>4670724.0</td>\n",
       "      <td>4681666.0</td>\n",
       "      <td>4684333.0</td>\n",
       "      <td>4659978.0</td>\n",
       "      <td>4648794.0</td>\n",
       "      <td>4651203.0</td>\n",
       "      <td>4624047.0</td>\n",
       "      <td>-46677.0</td>\n",
       "      <td>-0.999353</td>\n",
       "      <td>1.746714e+06</td>\n",
       "    </tr>\n",
       "    <tr>\n",
       "      <th>19</th>\n",
       "      <td>Maine</td>\n",
       "      <td>559921</td>\n",
       "      <td>569551</td>\n",
       "      <td>571064</td>\n",
       "      <td>1329328.0</td>\n",
       "      <td>1331479.0</td>\n",
       "      <td>1335907.0</td>\n",
       "      <td>1338404.0</td>\n",
       "      <td>1344212.0</td>\n",
       "      <td>1362280.0</td>\n",
       "      <td>1372247.0</td>\n",
       "      <td>42919.0</td>\n",
       "      <td>3.228624</td>\n",
       "      <td>5.668453e+05</td>\n",
       "    </tr>\n",
       "    <tr>\n",
       "      <th>20</th>\n",
       "      <td>Maryland</td>\n",
       "      <td>2205204</td>\n",
       "      <td>2230527</td>\n",
       "      <td>2294270</td>\n",
       "      <td>6006401.0</td>\n",
       "      <td>6016447.0</td>\n",
       "      <td>6052177.0</td>\n",
       "      <td>6042718.0</td>\n",
       "      <td>6045680.0</td>\n",
       "      <td>6172679.0</td>\n",
       "      <td>6165129.0</td>\n",
       "      <td>158728.0</td>\n",
       "      <td>2.642647</td>\n",
       "      <td>2.243334e+06</td>\n",
       "    </tr>\n",
       "    <tr>\n",
       "      <th>21</th>\n",
       "      <td>Massachusetts</td>\n",
       "      <td>2617497</td>\n",
       "      <td>2646980</td>\n",
       "      <td>2714448</td>\n",
       "      <td>6794422.0</td>\n",
       "      <td>6811779.0</td>\n",
       "      <td>6859819.0</td>\n",
       "      <td>6902149.0</td>\n",
       "      <td>6892503.0</td>\n",
       "      <td>7022220.0</td>\n",
       "      <td>6984723.0</td>\n",
       "      <td>190301.0</td>\n",
       "      <td>2.800842</td>\n",
       "      <td>2.659642e+06</td>\n",
       "    </tr>\n",
       "    <tr>\n",
       "      <th>22</th>\n",
       "      <td>Michigan</td>\n",
       "      <td>3935041</td>\n",
       "      <td>3980408</td>\n",
       "      <td>3976729</td>\n",
       "      <td>9922576.0</td>\n",
       "      <td>9928300.0</td>\n",
       "      <td>9962311.0</td>\n",
       "      <td>9995915.0</td>\n",
       "      <td>9986857.0</td>\n",
       "      <td>10067664.0</td>\n",
       "      <td>10050811.0</td>\n",
       "      <td>128235.0</td>\n",
       "      <td>1.292356</td>\n",
       "      <td>3.964059e+06</td>\n",
       "    </tr>\n",
       "    <tr>\n",
       "      <th>23</th>\n",
       "      <td>Minnesota</td>\n",
       "      <td>2185603</td>\n",
       "      <td>2207988</td>\n",
       "      <td>2229100</td>\n",
       "      <td>5489594.0</td>\n",
       "      <td>5519952.0</td>\n",
       "      <td>5576606.0</td>\n",
       "      <td>5611179.0</td>\n",
       "      <td>5639632.0</td>\n",
       "      <td>5707165.0</td>\n",
       "      <td>5707390.0</td>\n",
       "      <td>217796.0</td>\n",
       "      <td>3.967434</td>\n",
       "      <td>2.207564e+06</td>\n",
       "    </tr>\n",
       "    <tr>\n",
       "      <th>24</th>\n",
       "      <td>Mississippi</td>\n",
       "      <td>1104394</td>\n",
       "      <td>1116649</td>\n",
       "      <td>1108670</td>\n",
       "      <td>2992333.0</td>\n",
       "      <td>2988726.0</td>\n",
       "      <td>2984100.0</td>\n",
       "      <td>2986530.0</td>\n",
       "      <td>2976149.0</td>\n",
       "      <td>2956870.0</td>\n",
       "      <td>2949965.0</td>\n",
       "      <td>-42368.0</td>\n",
       "      <td>-1.415885</td>\n",
       "      <td>1.109904e+06</td>\n",
       "    </tr>\n",
       "    <tr>\n",
       "      <th>25</th>\n",
       "      <td>Missouri</td>\n",
       "      <td>2414521</td>\n",
       "      <td>2440212</td>\n",
       "      <td>2433819</td>\n",
       "      <td>6083672.0</td>\n",
       "      <td>6093000.0</td>\n",
       "      <td>6113532.0</td>\n",
       "      <td>6126452.0</td>\n",
       "      <td>6137428.0</td>\n",
       "      <td>6154481.0</td>\n",
       "      <td>6168187.0</td>\n",
       "      <td>84515.0</td>\n",
       "      <td>1.389210</td>\n",
       "      <td>2.429517e+06</td>\n",
       "    </tr>\n",
       "    <tr>\n",
       "      <th>26</th>\n",
       "      <td>Montana</td>\n",
       "      <td>427871</td>\n",
       "      <td>436048</td>\n",
       "      <td>436481</td>\n",
       "      <td>1032949.0</td>\n",
       "      <td>1042520.0</td>\n",
       "      <td>1050493.0</td>\n",
       "      <td>1062305.0</td>\n",
       "      <td>1068778.0</td>\n",
       "      <td>1086193.0</td>\n",
       "      <td>1104271.0</td>\n",
       "      <td>71322.0</td>\n",
       "      <td>6.904697</td>\n",
       "      <td>4.334667e+05</td>\n",
       "    </tr>\n",
       "    <tr>\n",
       "      <th>27</th>\n",
       "      <td>Nebraska</td>\n",
       "      <td>759176</td>\n",
       "      <td>766663</td>\n",
       "      <td>766887</td>\n",
       "      <td>1896190.0</td>\n",
       "      <td>1907116.0</td>\n",
       "      <td>1920076.0</td>\n",
       "      <td>1929268.0</td>\n",
       "      <td>1934408.0</td>\n",
       "      <td>1961455.0</td>\n",
       "      <td>1963692.0</td>\n",
       "      <td>67502.0</td>\n",
       "      <td>3.559875</td>\n",
       "      <td>7.642420e+05</td>\n",
       "    </tr>\n",
       "    <tr>\n",
       "      <th>28</th>\n",
       "      <td>Nevada</td>\n",
       "      <td>1098602</td>\n",
       "      <td>1130011</td>\n",
       "      <td>1141952</td>\n",
       "      <td>2890845.0</td>\n",
       "      <td>2940058.0</td>\n",
       "      <td>2998039.0</td>\n",
       "      <td>3034392.0</td>\n",
       "      <td>3080156.0</td>\n",
       "      <td>3114071.0</td>\n",
       "      <td>3143991.0</td>\n",
       "      <td>253146.0</td>\n",
       "      <td>8.756817</td>\n",
       "      <td>1.123522e+06</td>\n",
       "    </tr>\n",
       "    <tr>\n",
       "      <th>29</th>\n",
       "      <td>New Hampshire</td>\n",
       "      <td>532037</td>\n",
       "      <td>539116</td>\n",
       "      <td>540498</td>\n",
       "      <td>1330608.0</td>\n",
       "      <td>1334795.0</td>\n",
       "      <td>1342795.0</td>\n",
       "      <td>1356458.0</td>\n",
       "      <td>1359711.0</td>\n",
       "      <td>1377848.0</td>\n",
       "      <td>1388992.0</td>\n",
       "      <td>58384.0</td>\n",
       "      <td>4.387769</td>\n",
       "      <td>5.372170e+05</td>\n",
       "    </tr>\n",
       "    <tr>\n",
       "      <th>30</th>\n",
       "      <td>New Jersey</td>\n",
       "      <td>3231874</td>\n",
       "      <td>3272054</td>\n",
       "      <td>3397156</td>\n",
       "      <td>8958013.0</td>\n",
       "      <td>8944469.0</td>\n",
       "      <td>9005644.0</td>\n",
       "      <td>8908520.0</td>\n",
       "      <td>8882190.0</td>\n",
       "      <td>9279743.0</td>\n",
       "      <td>9267130.0</td>\n",
       "      <td>309117.0</td>\n",
       "      <td>3.450732</td>\n",
       "      <td>3.300361e+06</td>\n",
       "    </tr>\n",
       "    <tr>\n",
       "      <th>31</th>\n",
       "      <td>New Mexico</td>\n",
       "      <td>780249</td>\n",
       "      <td>792755</td>\n",
       "      <td>797596</td>\n",
       "      <td>2085109.0</td>\n",
       "      <td>2081015.0</td>\n",
       "      <td>2088070.0</td>\n",
       "      <td>2095428.0</td>\n",
       "      <td>2096829.0</td>\n",
       "      <td>2117566.0</td>\n",
       "      <td>2115877.0</td>\n",
       "      <td>30768.0</td>\n",
       "      <td>1.475606</td>\n",
       "      <td>7.902000e+05</td>\n",
       "    </tr>\n",
       "    <tr>\n",
       "      <th>32</th>\n",
       "      <td>New York</td>\n",
       "      <td>7343234</td>\n",
       "      <td>7417224</td>\n",
       "      <td>7530150</td>\n",
       "      <td>19795791.0</td>\n",
       "      <td>19745289.0</td>\n",
       "      <td>19849399.0</td>\n",
       "      <td>19542209.0</td>\n",
       "      <td>19453561.0</td>\n",
       "      <td>20154933.0</td>\n",
       "      <td>19835913.0</td>\n",
       "      <td>40122.0</td>\n",
       "      <td>0.202679</td>\n",
       "      <td>7.430203e+06</td>\n",
       "    </tr>\n",
       "    <tr>\n",
       "      <th>33</th>\n",
       "      <td>North Carolina</td>\n",
       "      <td>3965482</td>\n",
       "      <td>4031592</td>\n",
       "      <td>4034684</td>\n",
       "      <td>10042802.0</td>\n",
       "      <td>10146788.0</td>\n",
       "      <td>10273419.0</td>\n",
       "      <td>10383620.0</td>\n",
       "      <td>10488084.0</td>\n",
       "      <td>10457177.0</td>\n",
       "      <td>10551162.0</td>\n",
       "      <td>508360.0</td>\n",
       "      <td>5.061934</td>\n",
       "      <td>4.010586e+06</td>\n",
       "    </tr>\n",
       "    <tr>\n",
       "      <th>34</th>\n",
       "      <td>North Dakota</td>\n",
       "      <td>318322</td>\n",
       "      <td>320873</td>\n",
       "      <td>316542</td>\n",
       "      <td>756927.0</td>\n",
       "      <td>757952.0</td>\n",
       "      <td>755393.0</td>\n",
       "      <td>760077.0</td>\n",
       "      <td>762062.0</td>\n",
       "      <td>778962.0</td>\n",
       "      <td>774948.0</td>\n",
       "      <td>18021.0</td>\n",
       "      <td>2.380811</td>\n",
       "      <td>3.185790e+05</td>\n",
       "    </tr>\n",
       "    <tr>\n",
       "      <th>35</th>\n",
       "      <td>Ohio</td>\n",
       "      <td>4676358</td>\n",
       "      <td>4717226</td>\n",
       "      <td>4754161</td>\n",
       "      <td>11613423.0</td>\n",
       "      <td>11614373.0</td>\n",
       "      <td>11658609.0</td>\n",
       "      <td>11689442.0</td>\n",
       "      <td>11689100.0</td>\n",
       "      <td>11790587.0</td>\n",
       "      <td>11780017.0</td>\n",
       "      <td>166594.0</td>\n",
       "      <td>1.434495</td>\n",
       "      <td>4.715915e+06</td>\n",
       "    </tr>\n",
       "    <tr>\n",
       "      <th>36</th>\n",
       "      <td>Oklahoma</td>\n",
       "      <td>1480061</td>\n",
       "      <td>1493569</td>\n",
       "      <td>1503868</td>\n",
       "      <td>3911338.0</td>\n",
       "      <td>3923561.0</td>\n",
       "      <td>3930864.0</td>\n",
       "      <td>3943079.0</td>\n",
       "      <td>3956971.0</td>\n",
       "      <td>3962031.0</td>\n",
       "      <td>3986639.0</td>\n",
       "      <td>75301.0</td>\n",
       "      <td>1.925198</td>\n",
       "      <td>1.492499e+06</td>\n",
       "    </tr>\n",
       "    <tr>\n",
       "      <th>37</th>\n",
       "      <td>Oregon</td>\n",
       "      <td>1611982</td>\n",
       "      <td>1642579</td>\n",
       "      <td>1658091</td>\n",
       "      <td>4028977.0</td>\n",
       "      <td>4093465.0</td>\n",
       "      <td>4142776.0</td>\n",
       "      <td>4190713.0</td>\n",
       "      <td>4217737.0</td>\n",
       "      <td>4241544.0</td>\n",
       "      <td>4246155.0</td>\n",
       "      <td>217178.0</td>\n",
       "      <td>5.390401</td>\n",
       "      <td>1.637551e+06</td>\n",
       "    </tr>\n",
       "    <tr>\n",
       "      <th>38</th>\n",
       "      <td>Pennsylvania</td>\n",
       "      <td>5053106</td>\n",
       "      <td>5106601</td>\n",
       "      <td>5147783</td>\n",
       "      <td>12802503.0</td>\n",
       "      <td>12784227.0</td>\n",
       "      <td>12805537.0</td>\n",
       "      <td>12807060.0</td>\n",
       "      <td>12801989.0</td>\n",
       "      <td>12989625.0</td>\n",
       "      <td>12964056.0</td>\n",
       "      <td>161553.0</td>\n",
       "      <td>1.261886</td>\n",
       "      <td>5.102497e+06</td>\n",
       "    </tr>\n",
       "    <tr>\n",
       "      <th>39</th>\n",
       "      <td>Puerto Rico</td>\n",
       "      <td>1192654</td>\n",
       "      <td>1205749</td>\n",
       "      <td>1196790</td>\n",
       "      <td>3474182.0</td>\n",
       "      <td>3411307.0</td>\n",
       "      <td>3337177.0</td>\n",
       "      <td>3195153.0</td>\n",
       "      <td>3193694.0</td>\n",
       "      <td>3281538.0</td>\n",
       "      <td>3263584.0</td>\n",
       "      <td>-210598.0</td>\n",
       "      <td>-6.061801</td>\n",
       "      <td>1.198398e+06</td>\n",
       "    </tr>\n",
       "    <tr>\n",
       "      <th>40</th>\n",
       "      <td>Rhode Island</td>\n",
       "      <td>410489</td>\n",
       "      <td>414730</td>\n",
       "      <td>426769</td>\n",
       "      <td>1056298.0</td>\n",
       "      <td>1056426.0</td>\n",
       "      <td>1059639.0</td>\n",
       "      <td>1057315.0</td>\n",
       "      <td>1059361.0</td>\n",
       "      <td>1096229.0</td>\n",
       "      <td>1095610.0</td>\n",
       "      <td>39312.0</td>\n",
       "      <td>3.721677</td>\n",
       "      <td>4.173293e+05</td>\n",
       "    </tr>\n",
       "    <tr>\n",
       "      <th>41</th>\n",
       "      <td>South Carolina</td>\n",
       "      <td>1921862</td>\n",
       "      <td>1961481</td>\n",
       "      <td>1976447</td>\n",
       "      <td>4896146.0</td>\n",
       "      <td>4961119.0</td>\n",
       "      <td>5024369.0</td>\n",
       "      <td>5084127.0</td>\n",
       "      <td>5148714.0</td>\n",
       "      <td>5130729.0</td>\n",
       "      <td>5190705.0</td>\n",
       "      <td>294559.0</td>\n",
       "      <td>6.016140</td>\n",
       "      <td>1.953263e+06</td>\n",
       "    </tr>\n",
       "    <tr>\n",
       "      <th>42</th>\n",
       "      <td>South Dakota</td>\n",
       "      <td>344397</td>\n",
       "      <td>347878</td>\n",
       "      <td>345779</td>\n",
       "      <td>858469.0</td>\n",
       "      <td>865454.0</td>\n",
       "      <td>869666.0</td>\n",
       "      <td>882235.0</td>\n",
       "      <td>884659.0</td>\n",
       "      <td>887099.0</td>\n",
       "      <td>895376.0</td>\n",
       "      <td>36907.0</td>\n",
       "      <td>4.299165</td>\n",
       "      <td>3.460180e+05</td>\n",
       "    </tr>\n",
       "    <tr>\n",
       "      <th>43</th>\n",
       "      <td>Tennessee</td>\n",
       "      <td>2597292</td>\n",
       "      <td>2639455</td>\n",
       "      <td>2664791</td>\n",
       "      <td>6600299.0</td>\n",
       "      <td>6651194.0</td>\n",
       "      <td>6715984.0</td>\n",
       "      <td>6770010.0</td>\n",
       "      <td>6829174.0</td>\n",
       "      <td>6920119.0</td>\n",
       "      <td>6975218.0</td>\n",
       "      <td>374919.0</td>\n",
       "      <td>5.680334</td>\n",
       "      <td>2.633846e+06</td>\n",
       "    </tr>\n",
       "    <tr>\n",
       "      <th>44</th>\n",
       "      <td>Texas</td>\n",
       "      <td>9691647</td>\n",
       "      <td>9906070</td>\n",
       "      <td>10239341</td>\n",
       "      <td>27469114.0</td>\n",
       "      <td>27862596.0</td>\n",
       "      <td>28304596.0</td>\n",
       "      <td>28701845.0</td>\n",
       "      <td>28995881.0</td>\n",
       "      <td>29217653.0</td>\n",
       "      <td>29527941.0</td>\n",
       "      <td>2058827.0</td>\n",
       "      <td>7.495062</td>\n",
       "      <td>9.945686e+06</td>\n",
       "    </tr>\n",
       "    <tr>\n",
       "      <th>45</th>\n",
       "      <td>Utah</td>\n",
       "      <td>977313</td>\n",
       "      <td>1003345</td>\n",
       "      <td>1033651</td>\n",
       "      <td>2995919.0</td>\n",
       "      <td>3051217.0</td>\n",
       "      <td>3101833.0</td>\n",
       "      <td>3161105.0</td>\n",
       "      <td>3205958.0</td>\n",
       "      <td>3281684.0</td>\n",
       "      <td>3337975.0</td>\n",
       "      <td>342056.0</td>\n",
       "      <td>11.417398</td>\n",
       "      <td>1.004770e+06</td>\n",
       "    </tr>\n",
       "    <tr>\n",
       "      <th>46</th>\n",
       "      <td>Vermont</td>\n",
       "      <td>260029</td>\n",
       "      <td>262852</td>\n",
       "      <td>262514</td>\n",
       "      <td>626042.0</td>\n",
       "      <td>624594.0</td>\n",
       "      <td>623657.0</td>\n",
       "      <td>626299.0</td>\n",
       "      <td>623989.0</td>\n",
       "      <td>642495.0</td>\n",
       "      <td>645570.0</td>\n",
       "      <td>19528.0</td>\n",
       "      <td>3.119280</td>\n",
       "      <td>2.617983e+05</td>\n",
       "    </tr>\n",
       "    <tr>\n",
       "      <th>47</th>\n",
       "      <td>Virginia</td>\n",
       "      <td>3151045</td>\n",
       "      <td>3184121</td>\n",
       "      <td>3248528</td>\n",
       "      <td>8382993.0</td>\n",
       "      <td>8411808.0</td>\n",
       "      <td>8470020.0</td>\n",
       "      <td>8517685.0</td>\n",
       "      <td>8535519.0</td>\n",
       "      <td>8632044.0</td>\n",
       "      <td>8642274.0</td>\n",
       "      <td>259281.0</td>\n",
       "      <td>3.092941</td>\n",
       "      <td>3.194565e+06</td>\n",
       "    </tr>\n",
       "    <tr>\n",
       "      <th>48</th>\n",
       "      <td>Washington</td>\n",
       "      <td>2848396</td>\n",
       "      <td>2905822</td>\n",
       "      <td>2931841</td>\n",
       "      <td>7170351.0</td>\n",
       "      <td>7288000.0</td>\n",
       "      <td>7405743.0</td>\n",
       "      <td>7535591.0</td>\n",
       "      <td>7614893.0</td>\n",
       "      <td>7718785.0</td>\n",
       "      <td>7738692.0</td>\n",
       "      <td>568341.0</td>\n",
       "      <td>7.926265</td>\n",
       "      <td>2.895353e+06</td>\n",
       "    </tr>\n",
       "    <tr>\n",
       "      <th>49</th>\n",
       "      <td>West Virginia</td>\n",
       "      <td>732585</td>\n",
       "      <td>734235</td>\n",
       "      <td>711352</td>\n",
       "      <td>1844128.0</td>\n",
       "      <td>1831102.0</td>\n",
       "      <td>1815857.0</td>\n",
       "      <td>1805832.0</td>\n",
       "      <td>1792147.0</td>\n",
       "      <td>1789798.0</td>\n",
       "      <td>1782959.0</td>\n",
       "      <td>-61169.0</td>\n",
       "      <td>-3.316961</td>\n",
       "      <td>7.260573e+05</td>\n",
       "    </tr>\n",
       "    <tr>\n",
       "      <th>50</th>\n",
       "      <td>Wisconsin</td>\n",
       "      <td>2358156</td>\n",
       "      <td>2377935</td>\n",
       "      <td>2401818</td>\n",
       "      <td>5771337.0</td>\n",
       "      <td>5778708.0</td>\n",
       "      <td>5795483.0</td>\n",
       "      <td>5813568.0</td>\n",
       "      <td>5822434.0</td>\n",
       "      <td>5892323.0</td>\n",
       "      <td>5895908.0</td>\n",
       "      <td>124571.0</td>\n",
       "      <td>2.158443</td>\n",
       "      <td>2.379303e+06</td>\n",
       "    </tr>\n",
       "    <tr>\n",
       "      <th>51</th>\n",
       "      <td>Wyoming</td>\n",
       "      <td>230101</td>\n",
       "      <td>233231</td>\n",
       "      <td>230653</td>\n",
       "      <td>586107.0</td>\n",
       "      <td>585501.0</td>\n",
       "      <td>579315.0</td>\n",
       "      <td>577737.0</td>\n",
       "      <td>578759.0</td>\n",
       "      <td>577267.0</td>\n",
       "      <td>578803.0</td>\n",
       "      <td>-7304.0</td>\n",
       "      <td>-1.246189</td>\n",
       "      <td>2.313283e+05</td>\n",
       "    </tr>\n",
       "  </tbody>\n",
       "</table>\n",
       "</div>"
      ],
      "text/plain": [
       "                   STATE      2019      2020      2021    POP_2015  \\\n",
       "0                Alabama   1867893   1888504   1902983   4858979.0   \n",
       "1                 Alaska    253346    255173    260561    738432.0   \n",
       "2                Arizona   2571268   2643430   2683557   6828065.0   \n",
       "3               Arkansas   1158071   1170544   1158460   2978204.0   \n",
       "4             California  13044266  13103114  13217586  39144818.0   \n",
       "5               Colorado   2148994   2137402   2227932   5456574.0   \n",
       "6            Connecticut   1370746   1385437   1397324   3590886.0   \n",
       "7               Delaware    363322    370953    381097    945934.0   \n",
       "8   District of Columbia    284386    288307    310104    672228.0   \n",
       "9                Florida   7736311   7931313   8157420  20271272.0   \n",
       "10               Georgia   3758798   3830264   3885371  10214860.0   \n",
       "11                Hawaii    459424    467932    478413   1431603.0   \n",
       "12                 Idaho    630008    649299    657101   1654930.0   \n",
       "13              Illinois   4846134   4884061   4930255  12859995.0   \n",
       "14               Indiana   2570419   2602770   2622601   6619680.0   \n",
       "15                  Iowa   1265473   1273941   1275893   3123899.0   \n",
       "16                Kansas   1129227   1141985   1139738   2911641.0   \n",
       "17              Kentucky   1734618   1748053   1748475   4425092.0   \n",
       "18             Louisiana   1739497   1751956   1748688   4670724.0   \n",
       "19                 Maine    559921    569551    571064   1329328.0   \n",
       "20              Maryland   2205204   2230527   2294270   6006401.0   \n",
       "21         Massachusetts   2617497   2646980   2714448   6794422.0   \n",
       "22              Michigan   3935041   3980408   3976729   9922576.0   \n",
       "23             Minnesota   2185603   2207988   2229100   5489594.0   \n",
       "24           Mississippi   1104394   1116649   1108670   2992333.0   \n",
       "25              Missouri   2414521   2440212   2433819   6083672.0   \n",
       "26               Montana    427871    436048    436481   1032949.0   \n",
       "27              Nebraska    759176    766663    766887   1896190.0   \n",
       "28                Nevada   1098602   1130011   1141952   2890845.0   \n",
       "29         New Hampshire    532037    539116    540498   1330608.0   \n",
       "30            New Jersey   3231874   3272054   3397156   8958013.0   \n",
       "31            New Mexico    780249    792755    797596   2085109.0   \n",
       "32              New York   7343234   7417224   7530150  19795791.0   \n",
       "33        North Carolina   3965482   4031592   4034684  10042802.0   \n",
       "34          North Dakota    318322    320873    316542    756927.0   \n",
       "35                  Ohio   4676358   4717226   4754161  11613423.0   \n",
       "36              Oklahoma   1480061   1493569   1503868   3911338.0   \n",
       "37                Oregon   1611982   1642579   1658091   4028977.0   \n",
       "38          Pennsylvania   5053106   5106601   5147783  12802503.0   \n",
       "39           Puerto Rico   1192654   1205749   1196790   3474182.0   \n",
       "40          Rhode Island    410489    414730    426769   1056298.0   \n",
       "41        South Carolina   1921862   1961481   1976447   4896146.0   \n",
       "42          South Dakota    344397    347878    345779    858469.0   \n",
       "43             Tennessee   2597292   2639455   2664791   6600299.0   \n",
       "44                 Texas   9691647   9906070  10239341  27469114.0   \n",
       "45                  Utah    977313   1003345   1033651   2995919.0   \n",
       "46               Vermont    260029    262852    262514    626042.0   \n",
       "47              Virginia   3151045   3184121   3248528   8382993.0   \n",
       "48            Washington   2848396   2905822   2931841   7170351.0   \n",
       "49         West Virginia    732585    734235    711352   1844128.0   \n",
       "50             Wisconsin   2358156   2377935   2401818   5771337.0   \n",
       "51               Wyoming    230101    233231    230653    586107.0   \n",
       "\n",
       "      POP_2016    POP_2017    POP_2018    POP_2019    POP_2020    POP_2021  \\\n",
       "0    4863300.0   4874747.0   4887871.0   4903185.0   5024803.0   5039877.0   \n",
       "1     741894.0    739795.0    737438.0    731545.0    732441.0    732673.0   \n",
       "2    6931071.0   7016270.0   7171646.0   7278717.0   7177986.0   7276316.0   \n",
       "3    2988248.0   3004279.0   3013825.0   3017804.0   3012232.0   3025891.0   \n",
       "4   39250017.0  39536653.0  39557045.0  39512223.0  39499738.0  39237836.0   \n",
       "5    5540545.0   5607154.0   5695564.0   5758736.0   5784308.0   5812069.0   \n",
       "6    3576452.0   3588184.0   3572665.0   3565287.0   3600260.0   3605597.0   \n",
       "7     952065.0    961939.0    967171.0    973764.0    991886.0   1003384.0   \n",
       "8     681170.0    693972.0    702455.0    705749.0    690093.0    670050.0   \n",
       "9   20612439.0  20984400.0  21299325.0  21477737.0  21569932.0  21781128.0   \n",
       "10  10310371.0  10429379.0  10519475.0  10617423.0  10725800.0  10799566.0   \n",
       "11   1428557.0   1427538.0   1420491.0   1415872.0   1451911.0   1441553.0   \n",
       "12   1683140.0   1716943.0   1754208.0   1787065.0   1847772.0   1900923.0   \n",
       "13  12801539.0  12802023.0  12741080.0  12671821.0  12785245.0  12671469.0   \n",
       "14   6633053.0   6666818.0   6691878.0   6732219.0   6785644.0   6805985.0   \n",
       "15   3134693.0   3145711.0   3156145.0   3155070.0   3188669.0   3193079.0   \n",
       "16   2907289.0   2913123.0   2911505.0   2913314.0   2935880.0   2934582.0   \n",
       "17   4436974.0   4454189.0   4468402.0   4467673.0   4503958.0   4509394.0   \n",
       "18   4681666.0   4684333.0   4659978.0   4648794.0   4651203.0   4624047.0   \n",
       "19   1331479.0   1335907.0   1338404.0   1344212.0   1362280.0   1372247.0   \n",
       "20   6016447.0   6052177.0   6042718.0   6045680.0   6172679.0   6165129.0   \n",
       "21   6811779.0   6859819.0   6902149.0   6892503.0   7022220.0   6984723.0   \n",
       "22   9928300.0   9962311.0   9995915.0   9986857.0  10067664.0  10050811.0   \n",
       "23   5519952.0   5576606.0   5611179.0   5639632.0   5707165.0   5707390.0   \n",
       "24   2988726.0   2984100.0   2986530.0   2976149.0   2956870.0   2949965.0   \n",
       "25   6093000.0   6113532.0   6126452.0   6137428.0   6154481.0   6168187.0   \n",
       "26   1042520.0   1050493.0   1062305.0   1068778.0   1086193.0   1104271.0   \n",
       "27   1907116.0   1920076.0   1929268.0   1934408.0   1961455.0   1963692.0   \n",
       "28   2940058.0   2998039.0   3034392.0   3080156.0   3114071.0   3143991.0   \n",
       "29   1334795.0   1342795.0   1356458.0   1359711.0   1377848.0   1388992.0   \n",
       "30   8944469.0   9005644.0   8908520.0   8882190.0   9279743.0   9267130.0   \n",
       "31   2081015.0   2088070.0   2095428.0   2096829.0   2117566.0   2115877.0   \n",
       "32  19745289.0  19849399.0  19542209.0  19453561.0  20154933.0  19835913.0   \n",
       "33  10146788.0  10273419.0  10383620.0  10488084.0  10457177.0  10551162.0   \n",
       "34    757952.0    755393.0    760077.0    762062.0    778962.0    774948.0   \n",
       "35  11614373.0  11658609.0  11689442.0  11689100.0  11790587.0  11780017.0   \n",
       "36   3923561.0   3930864.0   3943079.0   3956971.0   3962031.0   3986639.0   \n",
       "37   4093465.0   4142776.0   4190713.0   4217737.0   4241544.0   4246155.0   \n",
       "38  12784227.0  12805537.0  12807060.0  12801989.0  12989625.0  12964056.0   \n",
       "39   3411307.0   3337177.0   3195153.0   3193694.0   3281538.0   3263584.0   \n",
       "40   1056426.0   1059639.0   1057315.0   1059361.0   1096229.0   1095610.0   \n",
       "41   4961119.0   5024369.0   5084127.0   5148714.0   5130729.0   5190705.0   \n",
       "42    865454.0    869666.0    882235.0    884659.0    887099.0    895376.0   \n",
       "43   6651194.0   6715984.0   6770010.0   6829174.0   6920119.0   6975218.0   \n",
       "44  27862596.0  28304596.0  28701845.0  28995881.0  29217653.0  29527941.0   \n",
       "45   3051217.0   3101833.0   3161105.0   3205958.0   3281684.0   3337975.0   \n",
       "46    624594.0    623657.0    626299.0    623989.0    642495.0    645570.0   \n",
       "47   8411808.0   8470020.0   8517685.0   8535519.0   8632044.0   8642274.0   \n",
       "48   7288000.0   7405743.0   7535591.0   7614893.0   7718785.0   7738692.0   \n",
       "49   1831102.0   1815857.0   1805832.0   1792147.0   1789798.0   1782959.0   \n",
       "50   5778708.0   5795483.0   5813568.0   5822434.0   5892323.0   5895908.0   \n",
       "51    585501.0    579315.0    577737.0    578759.0    577267.0    578803.0   \n",
       "\n",
       "    POP_CHANGE_TOTAL  POP_CHANGE_PCT  Average Earnings  \n",
       "0           180898.0        3.722963      1.886460e+06  \n",
       "1            -5759.0       -0.779896      2.563600e+05  \n",
       "2           448251.0        6.564832      2.632752e+06  \n",
       "3            47687.0        1.601200      1.162358e+06  \n",
       "4            93018.0        0.237625      1.312166e+07  \n",
       "5           355495.0        6.514985      2.171443e+06  \n",
       "6            14711.0        0.409676      1.384502e+06  \n",
       "7            57450.0        6.073362      3.717907e+05  \n",
       "8            -2178.0       -0.323997      2.942657e+05  \n",
       "9          1509856.0        7.448255      7.941681e+06  \n",
       "10          584706.0        5.724073      3.824811e+06  \n",
       "11            9950.0        0.695025      4.685897e+05  \n",
       "12          245993.0       14.864254      6.454693e+05  \n",
       "13         -188526.0       -1.465988      4.886817e+06  \n",
       "14          186305.0        2.814411      2.598597e+06  \n",
       "15           69180.0        2.214540      1.271769e+06  \n",
       "16           22941.0        0.787906      1.136983e+06  \n",
       "17           84302.0        1.905090      1.743715e+06  \n",
       "18          -46677.0       -0.999353      1.746714e+06  \n",
       "19           42919.0        3.228624      5.668453e+05  \n",
       "20          158728.0        2.642647      2.243334e+06  \n",
       "21          190301.0        2.800842      2.659642e+06  \n",
       "22          128235.0        1.292356      3.964059e+06  \n",
       "23          217796.0        3.967434      2.207564e+06  \n",
       "24          -42368.0       -1.415885      1.109904e+06  \n",
       "25           84515.0        1.389210      2.429517e+06  \n",
       "26           71322.0        6.904697      4.334667e+05  \n",
       "27           67502.0        3.559875      7.642420e+05  \n",
       "28          253146.0        8.756817      1.123522e+06  \n",
       "29           58384.0        4.387769      5.372170e+05  \n",
       "30          309117.0        3.450732      3.300361e+06  \n",
       "31           30768.0        1.475606      7.902000e+05  \n",
       "32           40122.0        0.202679      7.430203e+06  \n",
       "33          508360.0        5.061934      4.010586e+06  \n",
       "34           18021.0        2.380811      3.185790e+05  \n",
       "35          166594.0        1.434495      4.715915e+06  \n",
       "36           75301.0        1.925198      1.492499e+06  \n",
       "37          217178.0        5.390401      1.637551e+06  \n",
       "38          161553.0        1.261886      5.102497e+06  \n",
       "39         -210598.0       -6.061801      1.198398e+06  \n",
       "40           39312.0        3.721677      4.173293e+05  \n",
       "41          294559.0        6.016140      1.953263e+06  \n",
       "42           36907.0        4.299165      3.460180e+05  \n",
       "43          374919.0        5.680334      2.633846e+06  \n",
       "44         2058827.0        7.495062      9.945686e+06  \n",
       "45          342056.0       11.417398      1.004770e+06  \n",
       "46           19528.0        3.119280      2.617983e+05  \n",
       "47          259281.0        3.092941      3.194565e+06  \n",
       "48          568341.0        7.926265      2.895353e+06  \n",
       "49          -61169.0       -3.316961      7.260573e+05  \n",
       "50          124571.0        2.158443      2.379303e+06  \n",
       "51           -7304.0       -1.246189      2.313283e+05  "
      ]
     },
     "execution_count": 16,
     "metadata": {},
     "output_type": "execute_result"
    }
   ],
   "source": [
    "# create a column for the average earnings per state\n",
    "pop_earnings_df[\"Average Earnings\"] = (pop_earnings_df[\"2019\"] + pop_earnings_df[\"2020\"] + pop_earnings_df[\"2021\"])/3\n",
    "pop_earnings_df"
   ]
  },
  {
   "cell_type": "code",
   "execution_count": 30,
   "metadata": {},
   "outputs": [
    {
     "data": {
      "text/html": [
       "<div>\n",
       "<style scoped>\n",
       "    .dataframe tbody tr th:only-of-type {\n",
       "        vertical-align: middle;\n",
       "    }\n",
       "\n",
       "    .dataframe tbody tr th {\n",
       "        vertical-align: top;\n",
       "    }\n",
       "\n",
       "    .dataframe thead th {\n",
       "        text-align: right;\n",
       "    }\n",
       "</style>\n",
       "<table border=\"1\" class=\"dataframe\">\n",
       "  <thead>\n",
       "    <tr style=\"text-align: right;\">\n",
       "      <th></th>\n",
       "      <th>STATE</th>\n",
       "      <th>2019</th>\n",
       "      <th>2020</th>\n",
       "      <th>2021</th>\n",
       "      <th>POP_2015</th>\n",
       "      <th>POP_2016</th>\n",
       "      <th>POP_2017</th>\n",
       "      <th>POP_2018</th>\n",
       "      <th>POP_2019</th>\n",
       "      <th>POP_2020</th>\n",
       "      <th>POP_2021</th>\n",
       "      <th>POP_CHANGE_TOTAL</th>\n",
       "      <th>POP_CHANGE_PCT</th>\n",
       "      <th>Average Earnings</th>\n",
       "    </tr>\n",
       "  </thead>\n",
       "  <tbody>\n",
       "    <tr>\n",
       "      <th>4</th>\n",
       "      <td>California</td>\n",
       "      <td>13044266</td>\n",
       "      <td>13103114</td>\n",
       "      <td>13217586</td>\n",
       "      <td>39144818.0</td>\n",
       "      <td>39250017.0</td>\n",
       "      <td>39536653.0</td>\n",
       "      <td>39557045.0</td>\n",
       "      <td>39512223.0</td>\n",
       "      <td>39499738.0</td>\n",
       "      <td>39237836.0</td>\n",
       "      <td>93018.0</td>\n",
       "      <td>0.237625</td>\n",
       "      <td>1.312166e+07</td>\n",
       "    </tr>\n",
       "    <tr>\n",
       "      <th>44</th>\n",
       "      <td>Texas</td>\n",
       "      <td>9691647</td>\n",
       "      <td>9906070</td>\n",
       "      <td>10239341</td>\n",
       "      <td>27469114.0</td>\n",
       "      <td>27862596.0</td>\n",
       "      <td>28304596.0</td>\n",
       "      <td>28701845.0</td>\n",
       "      <td>28995881.0</td>\n",
       "      <td>29217653.0</td>\n",
       "      <td>29527941.0</td>\n",
       "      <td>2058827.0</td>\n",
       "      <td>7.495062</td>\n",
       "      <td>9.945686e+06</td>\n",
       "    </tr>\n",
       "    <tr>\n",
       "      <th>9</th>\n",
       "      <td>Florida</td>\n",
       "      <td>7736311</td>\n",
       "      <td>7931313</td>\n",
       "      <td>8157420</td>\n",
       "      <td>20271272.0</td>\n",
       "      <td>20612439.0</td>\n",
       "      <td>20984400.0</td>\n",
       "      <td>21299325.0</td>\n",
       "      <td>21477737.0</td>\n",
       "      <td>21569932.0</td>\n",
       "      <td>21781128.0</td>\n",
       "      <td>1509856.0</td>\n",
       "      <td>7.448255</td>\n",
       "      <td>7.941681e+06</td>\n",
       "    </tr>\n",
       "    <tr>\n",
       "      <th>32</th>\n",
       "      <td>New York</td>\n",
       "      <td>7343234</td>\n",
       "      <td>7417224</td>\n",
       "      <td>7530150</td>\n",
       "      <td>19795791.0</td>\n",
       "      <td>19745289.0</td>\n",
       "      <td>19849399.0</td>\n",
       "      <td>19542209.0</td>\n",
       "      <td>19453561.0</td>\n",
       "      <td>20154933.0</td>\n",
       "      <td>19835913.0</td>\n",
       "      <td>40122.0</td>\n",
       "      <td>0.202679</td>\n",
       "      <td>7.430203e+06</td>\n",
       "    </tr>\n",
       "    <tr>\n",
       "      <th>38</th>\n",
       "      <td>Pennsylvania</td>\n",
       "      <td>5053106</td>\n",
       "      <td>5106601</td>\n",
       "      <td>5147783</td>\n",
       "      <td>12802503.0</td>\n",
       "      <td>12784227.0</td>\n",
       "      <td>12805537.0</td>\n",
       "      <td>12807060.0</td>\n",
       "      <td>12801989.0</td>\n",
       "      <td>12989625.0</td>\n",
       "      <td>12964056.0</td>\n",
       "      <td>161553.0</td>\n",
       "      <td>1.261886</td>\n",
       "      <td>5.102497e+06</td>\n",
       "    </tr>\n",
       "    <tr>\n",
       "      <th>13</th>\n",
       "      <td>Illinois</td>\n",
       "      <td>4846134</td>\n",
       "      <td>4884061</td>\n",
       "      <td>4930255</td>\n",
       "      <td>12859995.0</td>\n",
       "      <td>12801539.0</td>\n",
       "      <td>12802023.0</td>\n",
       "      <td>12741080.0</td>\n",
       "      <td>12671821.0</td>\n",
       "      <td>12785245.0</td>\n",
       "      <td>12671469.0</td>\n",
       "      <td>-188526.0</td>\n",
       "      <td>-1.465988</td>\n",
       "      <td>4.886817e+06</td>\n",
       "    </tr>\n",
       "    <tr>\n",
       "      <th>35</th>\n",
       "      <td>Ohio</td>\n",
       "      <td>4676358</td>\n",
       "      <td>4717226</td>\n",
       "      <td>4754161</td>\n",
       "      <td>11613423.0</td>\n",
       "      <td>11614373.0</td>\n",
       "      <td>11658609.0</td>\n",
       "      <td>11689442.0</td>\n",
       "      <td>11689100.0</td>\n",
       "      <td>11790587.0</td>\n",
       "      <td>11780017.0</td>\n",
       "      <td>166594.0</td>\n",
       "      <td>1.434495</td>\n",
       "      <td>4.715915e+06</td>\n",
       "    </tr>\n",
       "  </tbody>\n",
       "</table>\n",
       "</div>"
      ],
      "text/plain": [
       "           STATE      2019      2020      2021    POP_2015    POP_2016  \\\n",
       "4     California  13044266  13103114  13217586  39144818.0  39250017.0   \n",
       "44         Texas   9691647   9906070  10239341  27469114.0  27862596.0   \n",
       "9        Florida   7736311   7931313   8157420  20271272.0  20612439.0   \n",
       "32      New York   7343234   7417224   7530150  19795791.0  19745289.0   \n",
       "38  Pennsylvania   5053106   5106601   5147783  12802503.0  12784227.0   \n",
       "13      Illinois   4846134   4884061   4930255  12859995.0  12801539.0   \n",
       "35          Ohio   4676358   4717226   4754161  11613423.0  11614373.0   \n",
       "\n",
       "      POP_2017    POP_2018    POP_2019    POP_2020    POP_2021  \\\n",
       "4   39536653.0  39557045.0  39512223.0  39499738.0  39237836.0   \n",
       "44  28304596.0  28701845.0  28995881.0  29217653.0  29527941.0   \n",
       "9   20984400.0  21299325.0  21477737.0  21569932.0  21781128.0   \n",
       "32  19849399.0  19542209.0  19453561.0  20154933.0  19835913.0   \n",
       "38  12805537.0  12807060.0  12801989.0  12989625.0  12964056.0   \n",
       "13  12802023.0  12741080.0  12671821.0  12785245.0  12671469.0   \n",
       "35  11658609.0  11689442.0  11689100.0  11790587.0  11780017.0   \n",
       "\n",
       "    POP_CHANGE_TOTAL  POP_CHANGE_PCT  Average Earnings  \n",
       "4            93018.0        0.237625      1.312166e+07  \n",
       "44         2058827.0        7.495062      9.945686e+06  \n",
       "9          1509856.0        7.448255      7.941681e+06  \n",
       "32           40122.0        0.202679      7.430203e+06  \n",
       "38          161553.0        1.261886      5.102497e+06  \n",
       "13         -188526.0       -1.465988      4.886817e+06  \n",
       "35          166594.0        1.434495      4.715915e+06  "
      ]
     },
     "execution_count": 30,
     "metadata": {},
     "output_type": "execute_result"
    }
   ],
   "source": [
    "# create a dataframe for the top 7 states with the highest average earnings\n",
    "top_7_earnings = pop_earnings_df.sort_values(by=[\"Average Earnings\"], ascending=False).head(7)\n",
    "top_7_earnings"
   ]
  },
  {
   "cell_type": "code",
   "execution_count": 63,
   "metadata": {},
   "outputs": [
    {
     "data": {
      "application/vnd.plotly.v1+json": {
       "config": {
        "plotlyServerURL": "https://plot.ly"
       },
       "data": [
        {
         "alignmentgroup": "True",
         "hovertemplate": "State=%{x}<br>Year=2015<br>Population=%{y}<extra></extra>",
         "ids": [
          "California"
         ],
         "legendgroup": "California",
         "marker": {
          "color": "#636efa",
          "pattern": {
           "shape": ""
          }
         },
         "name": "California",
         "offsetgroup": "California",
         "orientation": "v",
         "showlegend": true,
         "textposition": "auto",
         "type": "bar",
         "x": [
          "California"
         ],
         "xaxis": "x",
         "y": [
          39144818
         ],
         "yaxis": "y"
        },
        {
         "alignmentgroup": "True",
         "hovertemplate": "State=%{x}<br>Year=2015<br>Population=%{y}<extra></extra>",
         "ids": [
          "Texas"
         ],
         "legendgroup": "Texas",
         "marker": {
          "color": "#EF553B",
          "pattern": {
           "shape": ""
          }
         },
         "name": "Texas",
         "offsetgroup": "Texas",
         "orientation": "v",
         "showlegend": true,
         "textposition": "auto",
         "type": "bar",
         "x": [
          "Texas"
         ],
         "xaxis": "x",
         "y": [
          27469114
         ],
         "yaxis": "y"
        },
        {
         "alignmentgroup": "True",
         "hovertemplate": "State=%{x}<br>Year=2015<br>Population=%{y}<extra></extra>",
         "ids": [
          "Florida"
         ],
         "legendgroup": "Florida",
         "marker": {
          "color": "#00cc96",
          "pattern": {
           "shape": ""
          }
         },
         "name": "Florida",
         "offsetgroup": "Florida",
         "orientation": "v",
         "showlegend": true,
         "textposition": "auto",
         "type": "bar",
         "x": [
          "Florida"
         ],
         "xaxis": "x",
         "y": [
          20271272
         ],
         "yaxis": "y"
        },
        {
         "alignmentgroup": "True",
         "hovertemplate": "State=%{x}<br>Year=2015<br>Population=%{y}<extra></extra>",
         "ids": [
          "New York"
         ],
         "legendgroup": "New York",
         "marker": {
          "color": "#ab63fa",
          "pattern": {
           "shape": ""
          }
         },
         "name": "New York",
         "offsetgroup": "New York",
         "orientation": "v",
         "showlegend": true,
         "textposition": "auto",
         "type": "bar",
         "x": [
          "New York"
         ],
         "xaxis": "x",
         "y": [
          19795791
         ],
         "yaxis": "y"
        },
        {
         "alignmentgroup": "True",
         "hovertemplate": "State=%{x}<br>Year=2015<br>Population=%{y}<extra></extra>",
         "ids": [
          "Pennsylvania"
         ],
         "legendgroup": "Pennsylvania",
         "marker": {
          "color": "#FFA15A",
          "pattern": {
           "shape": ""
          }
         },
         "name": "Pennsylvania",
         "offsetgroup": "Pennsylvania",
         "orientation": "v",
         "showlegend": true,
         "textposition": "auto",
         "type": "bar",
         "x": [
          "Pennsylvania"
         ],
         "xaxis": "x",
         "y": [
          12802503
         ],
         "yaxis": "y"
        },
        {
         "alignmentgroup": "True",
         "hovertemplate": "State=%{x}<br>Year=2015<br>Population=%{y}<extra></extra>",
         "ids": [
          "Illinois"
         ],
         "legendgroup": "Illinois",
         "marker": {
          "color": "#19d3f3",
          "pattern": {
           "shape": ""
          }
         },
         "name": "Illinois",
         "offsetgroup": "Illinois",
         "orientation": "v",
         "showlegend": true,
         "textposition": "auto",
         "type": "bar",
         "x": [
          "Illinois"
         ],
         "xaxis": "x",
         "y": [
          12859995
         ],
         "yaxis": "y"
        },
        {
         "alignmentgroup": "True",
         "hovertemplate": "State=%{x}<br>Year=2015<br>Population=%{y}<extra></extra>",
         "ids": [
          "Ohio"
         ],
         "legendgroup": "Ohio",
         "marker": {
          "color": "#FF6692",
          "pattern": {
           "shape": ""
          }
         },
         "name": "Ohio",
         "offsetgroup": "Ohio",
         "orientation": "v",
         "showlegend": true,
         "textposition": "auto",
         "type": "bar",
         "x": [
          "Ohio"
         ],
         "xaxis": "x",
         "y": [
          11613423
         ],
         "yaxis": "y"
        }
       ],
       "frames": [
        {
         "data": [
          {
           "alignmentgroup": "True",
           "hovertemplate": "State=%{x}<br>Year=2015<br>Population=%{y}<extra></extra>",
           "ids": [
            "California"
           ],
           "legendgroup": "California",
           "marker": {
            "color": "#636efa",
            "pattern": {
             "shape": ""
            }
           },
           "name": "California",
           "offsetgroup": "California",
           "orientation": "v",
           "showlegend": true,
           "textposition": "auto",
           "type": "bar",
           "x": [
            "California"
           ],
           "xaxis": "x",
           "y": [
            39144818
           ],
           "yaxis": "y"
          },
          {
           "alignmentgroup": "True",
           "hovertemplate": "State=%{x}<br>Year=2015<br>Population=%{y}<extra></extra>",
           "ids": [
            "Texas"
           ],
           "legendgroup": "Texas",
           "marker": {
            "color": "#EF553B",
            "pattern": {
             "shape": ""
            }
           },
           "name": "Texas",
           "offsetgroup": "Texas",
           "orientation": "v",
           "showlegend": true,
           "textposition": "auto",
           "type": "bar",
           "x": [
            "Texas"
           ],
           "xaxis": "x",
           "y": [
            27469114
           ],
           "yaxis": "y"
          },
          {
           "alignmentgroup": "True",
           "hovertemplate": "State=%{x}<br>Year=2015<br>Population=%{y}<extra></extra>",
           "ids": [
            "Florida"
           ],
           "legendgroup": "Florida",
           "marker": {
            "color": "#00cc96",
            "pattern": {
             "shape": ""
            }
           },
           "name": "Florida",
           "offsetgroup": "Florida",
           "orientation": "v",
           "showlegend": true,
           "textposition": "auto",
           "type": "bar",
           "x": [
            "Florida"
           ],
           "xaxis": "x",
           "y": [
            20271272
           ],
           "yaxis": "y"
          },
          {
           "alignmentgroup": "True",
           "hovertemplate": "State=%{x}<br>Year=2015<br>Population=%{y}<extra></extra>",
           "ids": [
            "New York"
           ],
           "legendgroup": "New York",
           "marker": {
            "color": "#ab63fa",
            "pattern": {
             "shape": ""
            }
           },
           "name": "New York",
           "offsetgroup": "New York",
           "orientation": "v",
           "showlegend": true,
           "textposition": "auto",
           "type": "bar",
           "x": [
            "New York"
           ],
           "xaxis": "x",
           "y": [
            19795791
           ],
           "yaxis": "y"
          },
          {
           "alignmentgroup": "True",
           "hovertemplate": "State=%{x}<br>Year=2015<br>Population=%{y}<extra></extra>",
           "ids": [
            "Pennsylvania"
           ],
           "legendgroup": "Pennsylvania",
           "marker": {
            "color": "#FFA15A",
            "pattern": {
             "shape": ""
            }
           },
           "name": "Pennsylvania",
           "offsetgroup": "Pennsylvania",
           "orientation": "v",
           "showlegend": true,
           "textposition": "auto",
           "type": "bar",
           "x": [
            "Pennsylvania"
           ],
           "xaxis": "x",
           "y": [
            12802503
           ],
           "yaxis": "y"
          },
          {
           "alignmentgroup": "True",
           "hovertemplate": "State=%{x}<br>Year=2015<br>Population=%{y}<extra></extra>",
           "ids": [
            "Illinois"
           ],
           "legendgroup": "Illinois",
           "marker": {
            "color": "#19d3f3",
            "pattern": {
             "shape": ""
            }
           },
           "name": "Illinois",
           "offsetgroup": "Illinois",
           "orientation": "v",
           "showlegend": true,
           "textposition": "auto",
           "type": "bar",
           "x": [
            "Illinois"
           ],
           "xaxis": "x",
           "y": [
            12859995
           ],
           "yaxis": "y"
          },
          {
           "alignmentgroup": "True",
           "hovertemplate": "State=%{x}<br>Year=2015<br>Population=%{y}<extra></extra>",
           "ids": [
            "Ohio"
           ],
           "legendgroup": "Ohio",
           "marker": {
            "color": "#FF6692",
            "pattern": {
             "shape": ""
            }
           },
           "name": "Ohio",
           "offsetgroup": "Ohio",
           "orientation": "v",
           "showlegend": true,
           "textposition": "auto",
           "type": "bar",
           "x": [
            "Ohio"
           ],
           "xaxis": "x",
           "y": [
            11613423
           ],
           "yaxis": "y"
          }
         ],
         "name": "2015"
        },
        {
         "data": [
          {
           "alignmentgroup": "True",
           "hovertemplate": "State=%{x}<br>Year=2016<br>Population=%{y}<extra></extra>",
           "ids": [
            "California"
           ],
           "legendgroup": "California",
           "marker": {
            "color": "#636efa",
            "pattern": {
             "shape": ""
            }
           },
           "name": "California",
           "offsetgroup": "California",
           "orientation": "v",
           "showlegend": true,
           "textposition": "auto",
           "type": "bar",
           "x": [
            "California"
           ],
           "xaxis": "x",
           "y": [
            39250017
           ],
           "yaxis": "y"
          },
          {
           "alignmentgroup": "True",
           "hovertemplate": "State=%{x}<br>Year=2016<br>Population=%{y}<extra></extra>",
           "ids": [
            "Texas"
           ],
           "legendgroup": "Texas",
           "marker": {
            "color": "#EF553B",
            "pattern": {
             "shape": ""
            }
           },
           "name": "Texas",
           "offsetgroup": "Texas",
           "orientation": "v",
           "showlegend": true,
           "textposition": "auto",
           "type": "bar",
           "x": [
            "Texas"
           ],
           "xaxis": "x",
           "y": [
            27862596
           ],
           "yaxis": "y"
          },
          {
           "alignmentgroup": "True",
           "hovertemplate": "State=%{x}<br>Year=2016<br>Population=%{y}<extra></extra>",
           "ids": [
            "Florida"
           ],
           "legendgroup": "Florida",
           "marker": {
            "color": "#00cc96",
            "pattern": {
             "shape": ""
            }
           },
           "name": "Florida",
           "offsetgroup": "Florida",
           "orientation": "v",
           "showlegend": true,
           "textposition": "auto",
           "type": "bar",
           "x": [
            "Florida"
           ],
           "xaxis": "x",
           "y": [
            20612439
           ],
           "yaxis": "y"
          },
          {
           "alignmentgroup": "True",
           "hovertemplate": "State=%{x}<br>Year=2016<br>Population=%{y}<extra></extra>",
           "ids": [
            "New York"
           ],
           "legendgroup": "New York",
           "marker": {
            "color": "#ab63fa",
            "pattern": {
             "shape": ""
            }
           },
           "name": "New York",
           "offsetgroup": "New York",
           "orientation": "v",
           "showlegend": true,
           "textposition": "auto",
           "type": "bar",
           "x": [
            "New York"
           ],
           "xaxis": "x",
           "y": [
            19745289
           ],
           "yaxis": "y"
          },
          {
           "alignmentgroup": "True",
           "hovertemplate": "State=%{x}<br>Year=2016<br>Population=%{y}<extra></extra>",
           "ids": [
            "Pennsylvania"
           ],
           "legendgroup": "Pennsylvania",
           "marker": {
            "color": "#FFA15A",
            "pattern": {
             "shape": ""
            }
           },
           "name": "Pennsylvania",
           "offsetgroup": "Pennsylvania",
           "orientation": "v",
           "showlegend": true,
           "textposition": "auto",
           "type": "bar",
           "x": [
            "Pennsylvania"
           ],
           "xaxis": "x",
           "y": [
            12784227
           ],
           "yaxis": "y"
          },
          {
           "alignmentgroup": "True",
           "hovertemplate": "State=%{x}<br>Year=2016<br>Population=%{y}<extra></extra>",
           "ids": [
            "Illinois"
           ],
           "legendgroup": "Illinois",
           "marker": {
            "color": "#19d3f3",
            "pattern": {
             "shape": ""
            }
           },
           "name": "Illinois",
           "offsetgroup": "Illinois",
           "orientation": "v",
           "showlegend": true,
           "textposition": "auto",
           "type": "bar",
           "x": [
            "Illinois"
           ],
           "xaxis": "x",
           "y": [
            12801539
           ],
           "yaxis": "y"
          },
          {
           "alignmentgroup": "True",
           "hovertemplate": "State=%{x}<br>Year=2016<br>Population=%{y}<extra></extra>",
           "ids": [
            "Ohio"
           ],
           "legendgroup": "Ohio",
           "marker": {
            "color": "#FF6692",
            "pattern": {
             "shape": ""
            }
           },
           "name": "Ohio",
           "offsetgroup": "Ohio",
           "orientation": "v",
           "showlegend": true,
           "textposition": "auto",
           "type": "bar",
           "x": [
            "Ohio"
           ],
           "xaxis": "x",
           "y": [
            11614373
           ],
           "yaxis": "y"
          }
         ],
         "name": "2016"
        },
        {
         "data": [
          {
           "alignmentgroup": "True",
           "hovertemplate": "State=%{x}<br>Year=2017<br>Population=%{y}<extra></extra>",
           "ids": [
            "California"
           ],
           "legendgroup": "California",
           "marker": {
            "color": "#636efa",
            "pattern": {
             "shape": ""
            }
           },
           "name": "California",
           "offsetgroup": "California",
           "orientation": "v",
           "showlegend": true,
           "textposition": "auto",
           "type": "bar",
           "x": [
            "California"
           ],
           "xaxis": "x",
           "y": [
            39536653
           ],
           "yaxis": "y"
          },
          {
           "alignmentgroup": "True",
           "hovertemplate": "State=%{x}<br>Year=2017<br>Population=%{y}<extra></extra>",
           "ids": [
            "Texas"
           ],
           "legendgroup": "Texas",
           "marker": {
            "color": "#EF553B",
            "pattern": {
             "shape": ""
            }
           },
           "name": "Texas",
           "offsetgroup": "Texas",
           "orientation": "v",
           "showlegend": true,
           "textposition": "auto",
           "type": "bar",
           "x": [
            "Texas"
           ],
           "xaxis": "x",
           "y": [
            28304596
           ],
           "yaxis": "y"
          },
          {
           "alignmentgroup": "True",
           "hovertemplate": "State=%{x}<br>Year=2017<br>Population=%{y}<extra></extra>",
           "ids": [
            "Florida"
           ],
           "legendgroup": "Florida",
           "marker": {
            "color": "#00cc96",
            "pattern": {
             "shape": ""
            }
           },
           "name": "Florida",
           "offsetgroup": "Florida",
           "orientation": "v",
           "showlegend": true,
           "textposition": "auto",
           "type": "bar",
           "x": [
            "Florida"
           ],
           "xaxis": "x",
           "y": [
            20984400
           ],
           "yaxis": "y"
          },
          {
           "alignmentgroup": "True",
           "hovertemplate": "State=%{x}<br>Year=2017<br>Population=%{y}<extra></extra>",
           "ids": [
            "New York"
           ],
           "legendgroup": "New York",
           "marker": {
            "color": "#ab63fa",
            "pattern": {
             "shape": ""
            }
           },
           "name": "New York",
           "offsetgroup": "New York",
           "orientation": "v",
           "showlegend": true,
           "textposition": "auto",
           "type": "bar",
           "x": [
            "New York"
           ],
           "xaxis": "x",
           "y": [
            19849399
           ],
           "yaxis": "y"
          },
          {
           "alignmentgroup": "True",
           "hovertemplate": "State=%{x}<br>Year=2017<br>Population=%{y}<extra></extra>",
           "ids": [
            "Pennsylvania"
           ],
           "legendgroup": "Pennsylvania",
           "marker": {
            "color": "#FFA15A",
            "pattern": {
             "shape": ""
            }
           },
           "name": "Pennsylvania",
           "offsetgroup": "Pennsylvania",
           "orientation": "v",
           "showlegend": true,
           "textposition": "auto",
           "type": "bar",
           "x": [
            "Pennsylvania"
           ],
           "xaxis": "x",
           "y": [
            12805537
           ],
           "yaxis": "y"
          },
          {
           "alignmentgroup": "True",
           "hovertemplate": "State=%{x}<br>Year=2017<br>Population=%{y}<extra></extra>",
           "ids": [
            "Illinois"
           ],
           "legendgroup": "Illinois",
           "marker": {
            "color": "#19d3f3",
            "pattern": {
             "shape": ""
            }
           },
           "name": "Illinois",
           "offsetgroup": "Illinois",
           "orientation": "v",
           "showlegend": true,
           "textposition": "auto",
           "type": "bar",
           "x": [
            "Illinois"
           ],
           "xaxis": "x",
           "y": [
            12802023
           ],
           "yaxis": "y"
          },
          {
           "alignmentgroup": "True",
           "hovertemplate": "State=%{x}<br>Year=2017<br>Population=%{y}<extra></extra>",
           "ids": [
            "Ohio"
           ],
           "legendgroup": "Ohio",
           "marker": {
            "color": "#FF6692",
            "pattern": {
             "shape": ""
            }
           },
           "name": "Ohio",
           "offsetgroup": "Ohio",
           "orientation": "v",
           "showlegend": true,
           "textposition": "auto",
           "type": "bar",
           "x": [
            "Ohio"
           ],
           "xaxis": "x",
           "y": [
            11658609
           ],
           "yaxis": "y"
          }
         ],
         "name": "2017"
        },
        {
         "data": [
          {
           "alignmentgroup": "True",
           "hovertemplate": "State=%{x}<br>Year=2018<br>Population=%{y}<extra></extra>",
           "ids": [
            "California"
           ],
           "legendgroup": "California",
           "marker": {
            "color": "#636efa",
            "pattern": {
             "shape": ""
            }
           },
           "name": "California",
           "offsetgroup": "California",
           "orientation": "v",
           "showlegend": true,
           "textposition": "auto",
           "type": "bar",
           "x": [
            "California"
           ],
           "xaxis": "x",
           "y": [
            39557045
           ],
           "yaxis": "y"
          },
          {
           "alignmentgroup": "True",
           "hovertemplate": "State=%{x}<br>Year=2018<br>Population=%{y}<extra></extra>",
           "ids": [
            "Texas"
           ],
           "legendgroup": "Texas",
           "marker": {
            "color": "#EF553B",
            "pattern": {
             "shape": ""
            }
           },
           "name": "Texas",
           "offsetgroup": "Texas",
           "orientation": "v",
           "showlegend": true,
           "textposition": "auto",
           "type": "bar",
           "x": [
            "Texas"
           ],
           "xaxis": "x",
           "y": [
            28701845
           ],
           "yaxis": "y"
          },
          {
           "alignmentgroup": "True",
           "hovertemplate": "State=%{x}<br>Year=2018<br>Population=%{y}<extra></extra>",
           "ids": [
            "Florida"
           ],
           "legendgroup": "Florida",
           "marker": {
            "color": "#00cc96",
            "pattern": {
             "shape": ""
            }
           },
           "name": "Florida",
           "offsetgroup": "Florida",
           "orientation": "v",
           "showlegend": true,
           "textposition": "auto",
           "type": "bar",
           "x": [
            "Florida"
           ],
           "xaxis": "x",
           "y": [
            21299325
           ],
           "yaxis": "y"
          },
          {
           "alignmentgroup": "True",
           "hovertemplate": "State=%{x}<br>Year=2018<br>Population=%{y}<extra></extra>",
           "ids": [
            "New York"
           ],
           "legendgroup": "New York",
           "marker": {
            "color": "#ab63fa",
            "pattern": {
             "shape": ""
            }
           },
           "name": "New York",
           "offsetgroup": "New York",
           "orientation": "v",
           "showlegend": true,
           "textposition": "auto",
           "type": "bar",
           "x": [
            "New York"
           ],
           "xaxis": "x",
           "y": [
            19542209
           ],
           "yaxis": "y"
          },
          {
           "alignmentgroup": "True",
           "hovertemplate": "State=%{x}<br>Year=2018<br>Population=%{y}<extra></extra>",
           "ids": [
            "Pennsylvania"
           ],
           "legendgroup": "Pennsylvania",
           "marker": {
            "color": "#FFA15A",
            "pattern": {
             "shape": ""
            }
           },
           "name": "Pennsylvania",
           "offsetgroup": "Pennsylvania",
           "orientation": "v",
           "showlegend": true,
           "textposition": "auto",
           "type": "bar",
           "x": [
            "Pennsylvania"
           ],
           "xaxis": "x",
           "y": [
            12807060
           ],
           "yaxis": "y"
          },
          {
           "alignmentgroup": "True",
           "hovertemplate": "State=%{x}<br>Year=2018<br>Population=%{y}<extra></extra>",
           "ids": [
            "Illinois"
           ],
           "legendgroup": "Illinois",
           "marker": {
            "color": "#19d3f3",
            "pattern": {
             "shape": ""
            }
           },
           "name": "Illinois",
           "offsetgroup": "Illinois",
           "orientation": "v",
           "showlegend": true,
           "textposition": "auto",
           "type": "bar",
           "x": [
            "Illinois"
           ],
           "xaxis": "x",
           "y": [
            12741080
           ],
           "yaxis": "y"
          },
          {
           "alignmentgroup": "True",
           "hovertemplate": "State=%{x}<br>Year=2018<br>Population=%{y}<extra></extra>",
           "ids": [
            "Ohio"
           ],
           "legendgroup": "Ohio",
           "marker": {
            "color": "#FF6692",
            "pattern": {
             "shape": ""
            }
           },
           "name": "Ohio",
           "offsetgroup": "Ohio",
           "orientation": "v",
           "showlegend": true,
           "textposition": "auto",
           "type": "bar",
           "x": [
            "Ohio"
           ],
           "xaxis": "x",
           "y": [
            11689442
           ],
           "yaxis": "y"
          }
         ],
         "name": "2018"
        },
        {
         "data": [
          {
           "alignmentgroup": "True",
           "hovertemplate": "State=%{x}<br>Year=2019<br>Population=%{y}<extra></extra>",
           "ids": [
            "California"
           ],
           "legendgroup": "California",
           "marker": {
            "color": "#636efa",
            "pattern": {
             "shape": ""
            }
           },
           "name": "California",
           "offsetgroup": "California",
           "orientation": "v",
           "showlegend": true,
           "textposition": "auto",
           "type": "bar",
           "x": [
            "California"
           ],
           "xaxis": "x",
           "y": [
            39512223
           ],
           "yaxis": "y"
          },
          {
           "alignmentgroup": "True",
           "hovertemplate": "State=%{x}<br>Year=2019<br>Population=%{y}<extra></extra>",
           "ids": [
            "Texas"
           ],
           "legendgroup": "Texas",
           "marker": {
            "color": "#EF553B",
            "pattern": {
             "shape": ""
            }
           },
           "name": "Texas",
           "offsetgroup": "Texas",
           "orientation": "v",
           "showlegend": true,
           "textposition": "auto",
           "type": "bar",
           "x": [
            "Texas"
           ],
           "xaxis": "x",
           "y": [
            28995881
           ],
           "yaxis": "y"
          },
          {
           "alignmentgroup": "True",
           "hovertemplate": "State=%{x}<br>Year=2019<br>Population=%{y}<extra></extra>",
           "ids": [
            "Florida"
           ],
           "legendgroup": "Florida",
           "marker": {
            "color": "#00cc96",
            "pattern": {
             "shape": ""
            }
           },
           "name": "Florida",
           "offsetgroup": "Florida",
           "orientation": "v",
           "showlegend": true,
           "textposition": "auto",
           "type": "bar",
           "x": [
            "Florida"
           ],
           "xaxis": "x",
           "y": [
            21477737
           ],
           "yaxis": "y"
          },
          {
           "alignmentgroup": "True",
           "hovertemplate": "State=%{x}<br>Year=2019<br>Population=%{y}<extra></extra>",
           "ids": [
            "New York"
           ],
           "legendgroup": "New York",
           "marker": {
            "color": "#ab63fa",
            "pattern": {
             "shape": ""
            }
           },
           "name": "New York",
           "offsetgroup": "New York",
           "orientation": "v",
           "showlegend": true,
           "textposition": "auto",
           "type": "bar",
           "x": [
            "New York"
           ],
           "xaxis": "x",
           "y": [
            19453561
           ],
           "yaxis": "y"
          },
          {
           "alignmentgroup": "True",
           "hovertemplate": "State=%{x}<br>Year=2019<br>Population=%{y}<extra></extra>",
           "ids": [
            "Pennsylvania"
           ],
           "legendgroup": "Pennsylvania",
           "marker": {
            "color": "#FFA15A",
            "pattern": {
             "shape": ""
            }
           },
           "name": "Pennsylvania",
           "offsetgroup": "Pennsylvania",
           "orientation": "v",
           "showlegend": true,
           "textposition": "auto",
           "type": "bar",
           "x": [
            "Pennsylvania"
           ],
           "xaxis": "x",
           "y": [
            12801989
           ],
           "yaxis": "y"
          },
          {
           "alignmentgroup": "True",
           "hovertemplate": "State=%{x}<br>Year=2019<br>Population=%{y}<extra></extra>",
           "ids": [
            "Illinois"
           ],
           "legendgroup": "Illinois",
           "marker": {
            "color": "#19d3f3",
            "pattern": {
             "shape": ""
            }
           },
           "name": "Illinois",
           "offsetgroup": "Illinois",
           "orientation": "v",
           "showlegend": true,
           "textposition": "auto",
           "type": "bar",
           "x": [
            "Illinois"
           ],
           "xaxis": "x",
           "y": [
            12671821
           ],
           "yaxis": "y"
          },
          {
           "alignmentgroup": "True",
           "hovertemplate": "State=%{x}<br>Year=2019<br>Population=%{y}<extra></extra>",
           "ids": [
            "Ohio"
           ],
           "legendgroup": "Ohio",
           "marker": {
            "color": "#FF6692",
            "pattern": {
             "shape": ""
            }
           },
           "name": "Ohio",
           "offsetgroup": "Ohio",
           "orientation": "v",
           "showlegend": true,
           "textposition": "auto",
           "type": "bar",
           "x": [
            "Ohio"
           ],
           "xaxis": "x",
           "y": [
            11689100
           ],
           "yaxis": "y"
          }
         ],
         "name": "2019"
        },
        {
         "data": [
          {
           "alignmentgroup": "True",
           "hovertemplate": "State=%{x}<br>Year=2020<br>Population=%{y}<extra></extra>",
           "ids": [
            "California"
           ],
           "legendgroup": "California",
           "marker": {
            "color": "#636efa",
            "pattern": {
             "shape": ""
            }
           },
           "name": "California",
           "offsetgroup": "California",
           "orientation": "v",
           "showlegend": true,
           "textposition": "auto",
           "type": "bar",
           "x": [
            "California"
           ],
           "xaxis": "x",
           "y": [
            39499738
           ],
           "yaxis": "y"
          },
          {
           "alignmentgroup": "True",
           "hovertemplate": "State=%{x}<br>Year=2020<br>Population=%{y}<extra></extra>",
           "ids": [
            "Texas"
           ],
           "legendgroup": "Texas",
           "marker": {
            "color": "#EF553B",
            "pattern": {
             "shape": ""
            }
           },
           "name": "Texas",
           "offsetgroup": "Texas",
           "orientation": "v",
           "showlegend": true,
           "textposition": "auto",
           "type": "bar",
           "x": [
            "Texas"
           ],
           "xaxis": "x",
           "y": [
            29217653
           ],
           "yaxis": "y"
          },
          {
           "alignmentgroup": "True",
           "hovertemplate": "State=%{x}<br>Year=2020<br>Population=%{y}<extra></extra>",
           "ids": [
            "Florida"
           ],
           "legendgroup": "Florida",
           "marker": {
            "color": "#00cc96",
            "pattern": {
             "shape": ""
            }
           },
           "name": "Florida",
           "offsetgroup": "Florida",
           "orientation": "v",
           "showlegend": true,
           "textposition": "auto",
           "type": "bar",
           "x": [
            "Florida"
           ],
           "xaxis": "x",
           "y": [
            21569932
           ],
           "yaxis": "y"
          },
          {
           "alignmentgroup": "True",
           "hovertemplate": "State=%{x}<br>Year=2020<br>Population=%{y}<extra></extra>",
           "ids": [
            "New York"
           ],
           "legendgroup": "New York",
           "marker": {
            "color": "#ab63fa",
            "pattern": {
             "shape": ""
            }
           },
           "name": "New York",
           "offsetgroup": "New York",
           "orientation": "v",
           "showlegend": true,
           "textposition": "auto",
           "type": "bar",
           "x": [
            "New York"
           ],
           "xaxis": "x",
           "y": [
            20154933
           ],
           "yaxis": "y"
          },
          {
           "alignmentgroup": "True",
           "hovertemplate": "State=%{x}<br>Year=2020<br>Population=%{y}<extra></extra>",
           "ids": [
            "Pennsylvania"
           ],
           "legendgroup": "Pennsylvania",
           "marker": {
            "color": "#FFA15A",
            "pattern": {
             "shape": ""
            }
           },
           "name": "Pennsylvania",
           "offsetgroup": "Pennsylvania",
           "orientation": "v",
           "showlegend": true,
           "textposition": "auto",
           "type": "bar",
           "x": [
            "Pennsylvania"
           ],
           "xaxis": "x",
           "y": [
            12989625
           ],
           "yaxis": "y"
          },
          {
           "alignmentgroup": "True",
           "hovertemplate": "State=%{x}<br>Year=2020<br>Population=%{y}<extra></extra>",
           "ids": [
            "Illinois"
           ],
           "legendgroup": "Illinois",
           "marker": {
            "color": "#19d3f3",
            "pattern": {
             "shape": ""
            }
           },
           "name": "Illinois",
           "offsetgroup": "Illinois",
           "orientation": "v",
           "showlegend": true,
           "textposition": "auto",
           "type": "bar",
           "x": [
            "Illinois"
           ],
           "xaxis": "x",
           "y": [
            12785245
           ],
           "yaxis": "y"
          },
          {
           "alignmentgroup": "True",
           "hovertemplate": "State=%{x}<br>Year=2020<br>Population=%{y}<extra></extra>",
           "ids": [
            "Ohio"
           ],
           "legendgroup": "Ohio",
           "marker": {
            "color": "#FF6692",
            "pattern": {
             "shape": ""
            }
           },
           "name": "Ohio",
           "offsetgroup": "Ohio",
           "orientation": "v",
           "showlegend": true,
           "textposition": "auto",
           "type": "bar",
           "x": [
            "Ohio"
           ],
           "xaxis": "x",
           "y": [
            11790587
           ],
           "yaxis": "y"
          }
         ],
         "name": "2020"
        },
        {
         "data": [
          {
           "alignmentgroup": "True",
           "hovertemplate": "State=%{x}<br>Year=2021<br>Population=%{y}<extra></extra>",
           "ids": [
            "California"
           ],
           "legendgroup": "California",
           "marker": {
            "color": "#636efa",
            "pattern": {
             "shape": ""
            }
           },
           "name": "California",
           "offsetgroup": "California",
           "orientation": "v",
           "showlegend": true,
           "textposition": "auto",
           "type": "bar",
           "x": [
            "California"
           ],
           "xaxis": "x",
           "y": [
            39237836
           ],
           "yaxis": "y"
          },
          {
           "alignmentgroup": "True",
           "hovertemplate": "State=%{x}<br>Year=2021<br>Population=%{y}<extra></extra>",
           "ids": [
            "Texas"
           ],
           "legendgroup": "Texas",
           "marker": {
            "color": "#EF553B",
            "pattern": {
             "shape": ""
            }
           },
           "name": "Texas",
           "offsetgroup": "Texas",
           "orientation": "v",
           "showlegend": true,
           "textposition": "auto",
           "type": "bar",
           "x": [
            "Texas"
           ],
           "xaxis": "x",
           "y": [
            29527941
           ],
           "yaxis": "y"
          },
          {
           "alignmentgroup": "True",
           "hovertemplate": "State=%{x}<br>Year=2021<br>Population=%{y}<extra></extra>",
           "ids": [
            "Florida"
           ],
           "legendgroup": "Florida",
           "marker": {
            "color": "#00cc96",
            "pattern": {
             "shape": ""
            }
           },
           "name": "Florida",
           "offsetgroup": "Florida",
           "orientation": "v",
           "showlegend": true,
           "textposition": "auto",
           "type": "bar",
           "x": [
            "Florida"
           ],
           "xaxis": "x",
           "y": [
            21781128
           ],
           "yaxis": "y"
          },
          {
           "alignmentgroup": "True",
           "hovertemplate": "State=%{x}<br>Year=2021<br>Population=%{y}<extra></extra>",
           "ids": [
            "New York"
           ],
           "legendgroup": "New York",
           "marker": {
            "color": "#ab63fa",
            "pattern": {
             "shape": ""
            }
           },
           "name": "New York",
           "offsetgroup": "New York",
           "orientation": "v",
           "showlegend": true,
           "textposition": "auto",
           "type": "bar",
           "x": [
            "New York"
           ],
           "xaxis": "x",
           "y": [
            19835913
           ],
           "yaxis": "y"
          },
          {
           "alignmentgroup": "True",
           "hovertemplate": "State=%{x}<br>Year=2021<br>Population=%{y}<extra></extra>",
           "ids": [
            "Pennsylvania"
           ],
           "legendgroup": "Pennsylvania",
           "marker": {
            "color": "#FFA15A",
            "pattern": {
             "shape": ""
            }
           },
           "name": "Pennsylvania",
           "offsetgroup": "Pennsylvania",
           "orientation": "v",
           "showlegend": true,
           "textposition": "auto",
           "type": "bar",
           "x": [
            "Pennsylvania"
           ],
           "xaxis": "x",
           "y": [
            12964056
           ],
           "yaxis": "y"
          },
          {
           "alignmentgroup": "True",
           "hovertemplate": "State=%{x}<br>Year=2021<br>Population=%{y}<extra></extra>",
           "ids": [
            "Illinois"
           ],
           "legendgroup": "Illinois",
           "marker": {
            "color": "#19d3f3",
            "pattern": {
             "shape": ""
            }
           },
           "name": "Illinois",
           "offsetgroup": "Illinois",
           "orientation": "v",
           "showlegend": true,
           "textposition": "auto",
           "type": "bar",
           "x": [
            "Illinois"
           ],
           "xaxis": "x",
           "y": [
            12671469
           ],
           "yaxis": "y"
          },
          {
           "alignmentgroup": "True",
           "hovertemplate": "State=%{x}<br>Year=2021<br>Population=%{y}<extra></extra>",
           "ids": [
            "Ohio"
           ],
           "legendgroup": "Ohio",
           "marker": {
            "color": "#FF6692",
            "pattern": {
             "shape": ""
            }
           },
           "name": "Ohio",
           "offsetgroup": "Ohio",
           "orientation": "v",
           "showlegend": true,
           "textposition": "auto",
           "type": "bar",
           "x": [
            "Ohio"
           ],
           "xaxis": "x",
           "y": [
            11780017
           ],
           "yaxis": "y"
          }
         ],
         "name": "2021"
        }
       ],
       "layout": {
        "barmode": "relative",
        "height": 1000,
        "legend": {
         "title": {
          "text": "State"
         },
         "tracegroupgap": 0
        },
        "sliders": [
         {
          "active": 0,
          "currentvalue": {
           "prefix": "Year="
          },
          "len": 0.9,
          "pad": {
           "b": 10,
           "t": 60
          },
          "steps": [
           {
            "args": [
             [
              "2015"
             ],
             {
              "frame": {
               "duration": 0,
               "redraw": true
              },
              "fromcurrent": true,
              "mode": "immediate",
              "transition": {
               "duration": 0,
               "easing": "linear"
              }
             }
            ],
            "label": "2015",
            "method": "animate"
           },
           {
            "args": [
             [
              "2016"
             ],
             {
              "frame": {
               "duration": 0,
               "redraw": true
              },
              "fromcurrent": true,
              "mode": "immediate",
              "transition": {
               "duration": 0,
               "easing": "linear"
              }
             }
            ],
            "label": "2016",
            "method": "animate"
           },
           {
            "args": [
             [
              "2017"
             ],
             {
              "frame": {
               "duration": 0,
               "redraw": true
              },
              "fromcurrent": true,
              "mode": "immediate",
              "transition": {
               "duration": 0,
               "easing": "linear"
              }
             }
            ],
            "label": "2017",
            "method": "animate"
           },
           {
            "args": [
             [
              "2018"
             ],
             {
              "frame": {
               "duration": 0,
               "redraw": true
              },
              "fromcurrent": true,
              "mode": "immediate",
              "transition": {
               "duration": 0,
               "easing": "linear"
              }
             }
            ],
            "label": "2018",
            "method": "animate"
           },
           {
            "args": [
             [
              "2019"
             ],
             {
              "frame": {
               "duration": 0,
               "redraw": true
              },
              "fromcurrent": true,
              "mode": "immediate",
              "transition": {
               "duration": 0,
               "easing": "linear"
              }
             }
            ],
            "label": "2019",
            "method": "animate"
           },
           {
            "args": [
             [
              "2020"
             ],
             {
              "frame": {
               "duration": 0,
               "redraw": true
              },
              "fromcurrent": true,
              "mode": "immediate",
              "transition": {
               "duration": 0,
               "easing": "linear"
              }
             }
            ],
            "label": "2020",
            "method": "animate"
           },
           {
            "args": [
             [
              "2021"
             ],
             {
              "frame": {
               "duration": 0,
               "redraw": true
              },
              "fromcurrent": true,
              "mode": "immediate",
              "transition": {
               "duration": 0,
               "easing": "linear"
              }
             }
            ],
            "label": "2021",
            "method": "animate"
           }
          ],
          "x": 0.1,
          "xanchor": "left",
          "y": 0,
          "yanchor": "top"
         }
        ],
        "template": {
         "data": {
          "bar": [
           {
            "error_x": {
             "color": "#2a3f5f"
            },
            "error_y": {
             "color": "#2a3f5f"
            },
            "marker": {
             "line": {
              "color": "#E5ECF6",
              "width": 0.5
             },
             "pattern": {
              "fillmode": "overlay",
              "size": 10,
              "solidity": 0.2
             }
            },
            "type": "bar"
           }
          ],
          "barpolar": [
           {
            "marker": {
             "line": {
              "color": "#E5ECF6",
              "width": 0.5
             },
             "pattern": {
              "fillmode": "overlay",
              "size": 10,
              "solidity": 0.2
             }
            },
            "type": "barpolar"
           }
          ],
          "carpet": [
           {
            "aaxis": {
             "endlinecolor": "#2a3f5f",
             "gridcolor": "white",
             "linecolor": "white",
             "minorgridcolor": "white",
             "startlinecolor": "#2a3f5f"
            },
            "baxis": {
             "endlinecolor": "#2a3f5f",
             "gridcolor": "white",
             "linecolor": "white",
             "minorgridcolor": "white",
             "startlinecolor": "#2a3f5f"
            },
            "type": "carpet"
           }
          ],
          "choropleth": [
           {
            "colorbar": {
             "outlinewidth": 0,
             "ticks": ""
            },
            "type": "choropleth"
           }
          ],
          "contour": [
           {
            "colorbar": {
             "outlinewidth": 0,
             "ticks": ""
            },
            "colorscale": [
             [
              0,
              "#0d0887"
             ],
             [
              0.1111111111111111,
              "#46039f"
             ],
             [
              0.2222222222222222,
              "#7201a8"
             ],
             [
              0.3333333333333333,
              "#9c179e"
             ],
             [
              0.4444444444444444,
              "#bd3786"
             ],
             [
              0.5555555555555556,
              "#d8576b"
             ],
             [
              0.6666666666666666,
              "#ed7953"
             ],
             [
              0.7777777777777778,
              "#fb9f3a"
             ],
             [
              0.8888888888888888,
              "#fdca26"
             ],
             [
              1,
              "#f0f921"
             ]
            ],
            "type": "contour"
           }
          ],
          "contourcarpet": [
           {
            "colorbar": {
             "outlinewidth": 0,
             "ticks": ""
            },
            "type": "contourcarpet"
           }
          ],
          "heatmap": [
           {
            "colorbar": {
             "outlinewidth": 0,
             "ticks": ""
            },
            "colorscale": [
             [
              0,
              "#0d0887"
             ],
             [
              0.1111111111111111,
              "#46039f"
             ],
             [
              0.2222222222222222,
              "#7201a8"
             ],
             [
              0.3333333333333333,
              "#9c179e"
             ],
             [
              0.4444444444444444,
              "#bd3786"
             ],
             [
              0.5555555555555556,
              "#d8576b"
             ],
             [
              0.6666666666666666,
              "#ed7953"
             ],
             [
              0.7777777777777778,
              "#fb9f3a"
             ],
             [
              0.8888888888888888,
              "#fdca26"
             ],
             [
              1,
              "#f0f921"
             ]
            ],
            "type": "heatmap"
           }
          ],
          "heatmapgl": [
           {
            "colorbar": {
             "outlinewidth": 0,
             "ticks": ""
            },
            "colorscale": [
             [
              0,
              "#0d0887"
             ],
             [
              0.1111111111111111,
              "#46039f"
             ],
             [
              0.2222222222222222,
              "#7201a8"
             ],
             [
              0.3333333333333333,
              "#9c179e"
             ],
             [
              0.4444444444444444,
              "#bd3786"
             ],
             [
              0.5555555555555556,
              "#d8576b"
             ],
             [
              0.6666666666666666,
              "#ed7953"
             ],
             [
              0.7777777777777778,
              "#fb9f3a"
             ],
             [
              0.8888888888888888,
              "#fdca26"
             ],
             [
              1,
              "#f0f921"
             ]
            ],
            "type": "heatmapgl"
           }
          ],
          "histogram": [
           {
            "marker": {
             "pattern": {
              "fillmode": "overlay",
              "size": 10,
              "solidity": 0.2
             }
            },
            "type": "histogram"
           }
          ],
          "histogram2d": [
           {
            "colorbar": {
             "outlinewidth": 0,
             "ticks": ""
            },
            "colorscale": [
             [
              0,
              "#0d0887"
             ],
             [
              0.1111111111111111,
              "#46039f"
             ],
             [
              0.2222222222222222,
              "#7201a8"
             ],
             [
              0.3333333333333333,
              "#9c179e"
             ],
             [
              0.4444444444444444,
              "#bd3786"
             ],
             [
              0.5555555555555556,
              "#d8576b"
             ],
             [
              0.6666666666666666,
              "#ed7953"
             ],
             [
              0.7777777777777778,
              "#fb9f3a"
             ],
             [
              0.8888888888888888,
              "#fdca26"
             ],
             [
              1,
              "#f0f921"
             ]
            ],
            "type": "histogram2d"
           }
          ],
          "histogram2dcontour": [
           {
            "colorbar": {
             "outlinewidth": 0,
             "ticks": ""
            },
            "colorscale": [
             [
              0,
              "#0d0887"
             ],
             [
              0.1111111111111111,
              "#46039f"
             ],
             [
              0.2222222222222222,
              "#7201a8"
             ],
             [
              0.3333333333333333,
              "#9c179e"
             ],
             [
              0.4444444444444444,
              "#bd3786"
             ],
             [
              0.5555555555555556,
              "#d8576b"
             ],
             [
              0.6666666666666666,
              "#ed7953"
             ],
             [
              0.7777777777777778,
              "#fb9f3a"
             ],
             [
              0.8888888888888888,
              "#fdca26"
             ],
             [
              1,
              "#f0f921"
             ]
            ],
            "type": "histogram2dcontour"
           }
          ],
          "mesh3d": [
           {
            "colorbar": {
             "outlinewidth": 0,
             "ticks": ""
            },
            "type": "mesh3d"
           }
          ],
          "parcoords": [
           {
            "line": {
             "colorbar": {
              "outlinewidth": 0,
              "ticks": ""
             }
            },
            "type": "parcoords"
           }
          ],
          "pie": [
           {
            "automargin": true,
            "type": "pie"
           }
          ],
          "scatter": [
           {
            "fillpattern": {
             "fillmode": "overlay",
             "size": 10,
             "solidity": 0.2
            },
            "type": "scatter"
           }
          ],
          "scatter3d": [
           {
            "line": {
             "colorbar": {
              "outlinewidth": 0,
              "ticks": ""
             }
            },
            "marker": {
             "colorbar": {
              "outlinewidth": 0,
              "ticks": ""
             }
            },
            "type": "scatter3d"
           }
          ],
          "scattercarpet": [
           {
            "marker": {
             "colorbar": {
              "outlinewidth": 0,
              "ticks": ""
             }
            },
            "type": "scattercarpet"
           }
          ],
          "scattergeo": [
           {
            "marker": {
             "colorbar": {
              "outlinewidth": 0,
              "ticks": ""
             }
            },
            "type": "scattergeo"
           }
          ],
          "scattergl": [
           {
            "marker": {
             "colorbar": {
              "outlinewidth": 0,
              "ticks": ""
             }
            },
            "type": "scattergl"
           }
          ],
          "scattermapbox": [
           {
            "marker": {
             "colorbar": {
              "outlinewidth": 0,
              "ticks": ""
             }
            },
            "type": "scattermapbox"
           }
          ],
          "scatterpolar": [
           {
            "marker": {
             "colorbar": {
              "outlinewidth": 0,
              "ticks": ""
             }
            },
            "type": "scatterpolar"
           }
          ],
          "scatterpolargl": [
           {
            "marker": {
             "colorbar": {
              "outlinewidth": 0,
              "ticks": ""
             }
            },
            "type": "scatterpolargl"
           }
          ],
          "scatterternary": [
           {
            "marker": {
             "colorbar": {
              "outlinewidth": 0,
              "ticks": ""
             }
            },
            "type": "scatterternary"
           }
          ],
          "surface": [
           {
            "colorbar": {
             "outlinewidth": 0,
             "ticks": ""
            },
            "colorscale": [
             [
              0,
              "#0d0887"
             ],
             [
              0.1111111111111111,
              "#46039f"
             ],
             [
              0.2222222222222222,
              "#7201a8"
             ],
             [
              0.3333333333333333,
              "#9c179e"
             ],
             [
              0.4444444444444444,
              "#bd3786"
             ],
             [
              0.5555555555555556,
              "#d8576b"
             ],
             [
              0.6666666666666666,
              "#ed7953"
             ],
             [
              0.7777777777777778,
              "#fb9f3a"
             ],
             [
              0.8888888888888888,
              "#fdca26"
             ],
             [
              1,
              "#f0f921"
             ]
            ],
            "type": "surface"
           }
          ],
          "table": [
           {
            "cells": {
             "fill": {
              "color": "#EBF0F8"
             },
             "line": {
              "color": "white"
             }
            },
            "header": {
             "fill": {
              "color": "#C8D4E3"
             },
             "line": {
              "color": "white"
             }
            },
            "type": "table"
           }
          ]
         },
         "layout": {
          "annotationdefaults": {
           "arrowcolor": "#2a3f5f",
           "arrowhead": 0,
           "arrowwidth": 1
          },
          "autotypenumbers": "strict",
          "coloraxis": {
           "colorbar": {
            "outlinewidth": 0,
            "ticks": ""
           }
          },
          "colorscale": {
           "diverging": [
            [
             0,
             "#8e0152"
            ],
            [
             0.1,
             "#c51b7d"
            ],
            [
             0.2,
             "#de77ae"
            ],
            [
             0.3,
             "#f1b6da"
            ],
            [
             0.4,
             "#fde0ef"
            ],
            [
             0.5,
             "#f7f7f7"
            ],
            [
             0.6,
             "#e6f5d0"
            ],
            [
             0.7,
             "#b8e186"
            ],
            [
             0.8,
             "#7fbc41"
            ],
            [
             0.9,
             "#4d9221"
            ],
            [
             1,
             "#276419"
            ]
           ],
           "sequential": [
            [
             0,
             "#0d0887"
            ],
            [
             0.1111111111111111,
             "#46039f"
            ],
            [
             0.2222222222222222,
             "#7201a8"
            ],
            [
             0.3333333333333333,
             "#9c179e"
            ],
            [
             0.4444444444444444,
             "#bd3786"
            ],
            [
             0.5555555555555556,
             "#d8576b"
            ],
            [
             0.6666666666666666,
             "#ed7953"
            ],
            [
             0.7777777777777778,
             "#fb9f3a"
            ],
            [
             0.8888888888888888,
             "#fdca26"
            ],
            [
             1,
             "#f0f921"
            ]
           ],
           "sequentialminus": [
            [
             0,
             "#0d0887"
            ],
            [
             0.1111111111111111,
             "#46039f"
            ],
            [
             0.2222222222222222,
             "#7201a8"
            ],
            [
             0.3333333333333333,
             "#9c179e"
            ],
            [
             0.4444444444444444,
             "#bd3786"
            ],
            [
             0.5555555555555556,
             "#d8576b"
            ],
            [
             0.6666666666666666,
             "#ed7953"
            ],
            [
             0.7777777777777778,
             "#fb9f3a"
            ],
            [
             0.8888888888888888,
             "#fdca26"
            ],
            [
             1,
             "#f0f921"
            ]
           ]
          },
          "colorway": [
           "#636efa",
           "#EF553B",
           "#00cc96",
           "#ab63fa",
           "#FFA15A",
           "#19d3f3",
           "#FF6692",
           "#B6E880",
           "#FF97FF",
           "#FECB52"
          ],
          "font": {
           "color": "#2a3f5f"
          },
          "geo": {
           "bgcolor": "white",
           "lakecolor": "white",
           "landcolor": "#E5ECF6",
           "showlakes": true,
           "showland": true,
           "subunitcolor": "white"
          },
          "hoverlabel": {
           "align": "left"
          },
          "hovermode": "closest",
          "mapbox": {
           "style": "light"
          },
          "paper_bgcolor": "white",
          "plot_bgcolor": "#E5ECF6",
          "polar": {
           "angularaxis": {
            "gridcolor": "white",
            "linecolor": "white",
            "ticks": ""
           },
           "bgcolor": "#E5ECF6",
           "radialaxis": {
            "gridcolor": "white",
            "linecolor": "white",
            "ticks": ""
           }
          },
          "scene": {
           "xaxis": {
            "backgroundcolor": "#E5ECF6",
            "gridcolor": "white",
            "gridwidth": 2,
            "linecolor": "white",
            "showbackground": true,
            "ticks": "",
            "zerolinecolor": "white"
           },
           "yaxis": {
            "backgroundcolor": "#E5ECF6",
            "gridcolor": "white",
            "gridwidth": 2,
            "linecolor": "white",
            "showbackground": true,
            "ticks": "",
            "zerolinecolor": "white"
           },
           "zaxis": {
            "backgroundcolor": "#E5ECF6",
            "gridcolor": "white",
            "gridwidth": 2,
            "linecolor": "white",
            "showbackground": true,
            "ticks": "",
            "zerolinecolor": "white"
           }
          },
          "shapedefaults": {
           "line": {
            "color": "#2a3f5f"
           }
          },
          "ternary": {
           "aaxis": {
            "gridcolor": "white",
            "linecolor": "white",
            "ticks": ""
           },
           "baxis": {
            "gridcolor": "white",
            "linecolor": "white",
            "ticks": ""
           },
           "bgcolor": "#E5ECF6",
           "caxis": {
            "gridcolor": "white",
            "linecolor": "white",
            "ticks": ""
           }
          },
          "title": {
           "x": 0.05
          },
          "xaxis": {
           "automargin": true,
           "gridcolor": "white",
           "linecolor": "white",
           "ticks": "",
           "title": {
            "standoff": 15
           },
           "zerolinecolor": "white",
           "zerolinewidth": 2
          },
          "yaxis": {
           "automargin": true,
           "gridcolor": "white",
           "linecolor": "white",
           "ticks": "",
           "title": {
            "standoff": 15
           },
           "zerolinecolor": "white",
           "zerolinewidth": 2
          }
         }
        },
        "title": {
         "text": "Population Change in Top 7 States with Highest Average Earnings"
        },
        "updatemenus": [
         {
          "buttons": [
           {
            "args": [
             null,
             {
              "frame": {
               "duration": 500,
               "redraw": true
              },
              "fromcurrent": true,
              "mode": "immediate",
              "transition": {
               "duration": 500,
               "easing": "linear"
              }
             }
            ],
            "label": "&#9654;",
            "method": "animate"
           },
           {
            "args": [
             [
              null
             ],
             {
              "frame": {
               "duration": 0,
               "redraw": true
              },
              "fromcurrent": true,
              "mode": "immediate",
              "transition": {
               "duration": 0,
               "easing": "linear"
              }
             }
            ],
            "label": "&#9724;",
            "method": "animate"
           }
          ],
          "direction": "left",
          "pad": {
           "r": 10,
           "t": 70
          },
          "showactive": false,
          "type": "buttons",
          "x": 0.1,
          "xanchor": "right",
          "y": 0,
          "yanchor": "top"
         }
        ],
        "width": 1250,
        "xaxis": {
         "anchor": "y",
         "categoryarray": [
          "California",
          "Texas",
          "Florida",
          "New York",
          "Pennsylvania",
          "Illinois",
          "Ohio"
         ],
         "categoryorder": "array",
         "domain": [
          0,
          1
         ],
         "title": {
          "text": "State"
         }
        },
        "yaxis": {
         "anchor": "x",
         "domain": [
          0,
          1
         ],
         "range": [
          0,
          40000000
         ],
         "title": {
          "text": "Population"
         }
        }
       }
      }
     },
     "metadata": {},
     "output_type": "display_data"
    }
   ],
   "source": [
    "# create a list of the top 7 states with the highest average earnings\n",
    "state = top_7_earnings[\"STATE\"].tolist()\n",
    "# create a list of years from 2015 to 2021\n",
    "year = [2015, 2016, 2017, 2018, 2019, 2020, 2021]\n",
    "# create a list of population values per year for each state\n",
    "californinia = [top_7_earnings['POP_2015'].tolist()[0], top_7_earnings['POP_2016'].tolist()[0], top_7_earnings['POP_2017'].tolist()[0], top_7_earnings['POP_2018'].tolist()[0], top_7_earnings['POP_2019'].tolist()[0], top_7_earnings['POP_2020'].tolist()[0], top_7_earnings['POP_2021'].tolist()[0]]\n",
    "texas = [top_7_earnings['POP_2015'].tolist()[1], top_7_earnings['POP_2016'].tolist()[1], top_7_earnings['POP_2017'].tolist()[1], top_7_earnings['POP_2018'].tolist()[1], top_7_earnings['POP_2019'].tolist()[1], top_7_earnings['POP_2020'].tolist()[1], top_7_earnings['POP_2021'].tolist()[1]]\n",
    "florida = [top_7_earnings['POP_2015'].tolist()[2], top_7_earnings['POP_2016'].tolist()[2], top_7_earnings['POP_2017'].tolist()[2], top_7_earnings['POP_2018'].tolist()[2], top_7_earnings['POP_2019'].tolist()[2], top_7_earnings['POP_2020'].tolist()[2], top_7_earnings['POP_2021'].tolist()[2]]\n",
    "new_york = [top_7_earnings['POP_2015'].tolist()[3], top_7_earnings['POP_2016'].tolist()[3], top_7_earnings['POP_2017'].tolist()[3], top_7_earnings['POP_2018'].tolist()[3], top_7_earnings['POP_2019'].tolist()[3], top_7_earnings['POP_2020'].tolist()[3], top_7_earnings['POP_2021'].tolist()[3]]\n",
    "pennsylvania = [top_7_earnings['POP_2015'].tolist()[4], top_7_earnings['POP_2016'].tolist()[4], top_7_earnings['POP_2017'].tolist()[4], top_7_earnings['POP_2018'].tolist()[4], top_7_earnings['POP_2019'].tolist()[4], top_7_earnings['POP_2020'].tolist()[4], top_7_earnings['POP_2021'].tolist()[4]]\n",
    "illinois = [top_7_earnings['POP_2015'].tolist()[5], top_7_earnings['POP_2016'].tolist()[5], top_7_earnings['POP_2017'].tolist()[5], top_7_earnings['POP_2018'].tolist()[5], top_7_earnings['POP_2019'].tolist()[5], top_7_earnings['POP_2020'].tolist()[5], top_7_earnings['POP_2021'].tolist()[5]]\n",
    "ohio = [top_7_earnings['POP_2015'].tolist()[6], top_7_earnings['POP_2016'].tolist()[6], top_7_earnings['POP_2017'].tolist()[6], top_7_earnings['POP_2018'].tolist()[6], top_7_earnings['POP_2019'].tolist()[6], top_7_earnings['POP_2020'].tolist()[6], top_7_earnings['POP_2021'].tolist()[6]]\n",
    "# create a dataframe from the lists\n",
    "top_7_df = pd.DataFrame({\"State\": state, \"Year\": year, \"California\": californinia, \"Texas\": texas, \"Florida\": florida, \"New York\": new_york, \"Pennsylvania\": pennsylvania, \"Illinois\": illinois, \"Ohio\": ohio})\n",
    "top_7_df2 = top_7_df.melt(id_vars=[\"State\", \"Year\"], var_name=\"State2\", value_name=\"Population\")\n",
    "# drop the extra state column\n",
    "top_7_df2.drop(columns=[\"State\"], inplace=True)\n",
    "# rename the state column to State\n",
    "top_7_df2 = top_7_df2.rename(columns={\"State2\": \"State\"})\n",
    "top_7_df2\n",
    "# create animated bar chart with plotly express\n",
    "fig = px.bar(top_7_df2, x='State', y='Population', animation_frame='Year', animation_group='State', color='State', range_y=[0, 40000000], title='Population Change in Top 7 States with Highest Average Earnings', width=1250, height=1000)\n",
    "fig.show()"
   ]
  },
  {
   "cell_type": "code",
   "execution_count": 64,
   "metadata": {},
   "outputs": [
    {
     "data": {
      "text/html": [
       "<div>\n",
       "<style scoped>\n",
       "    .dataframe tbody tr th:only-of-type {\n",
       "        vertical-align: middle;\n",
       "    }\n",
       "\n",
       "    .dataframe tbody tr th {\n",
       "        vertical-align: top;\n",
       "    }\n",
       "\n",
       "    .dataframe thead th {\n",
       "        text-align: right;\n",
       "    }\n",
       "</style>\n",
       "<table border=\"1\" class=\"dataframe\">\n",
       "  <thead>\n",
       "    <tr style=\"text-align: right;\">\n",
       "      <th></th>\n",
       "      <th>STATE</th>\n",
       "      <th>2019</th>\n",
       "      <th>2020</th>\n",
       "      <th>2021</th>\n",
       "      <th>POP_2015</th>\n",
       "      <th>POP_2016</th>\n",
       "      <th>POP_2017</th>\n",
       "      <th>POP_2018</th>\n",
       "      <th>POP_2019</th>\n",
       "      <th>POP_2020</th>\n",
       "      <th>POP_2021</th>\n",
       "      <th>POP_CHANGE_TOTAL</th>\n",
       "      <th>POP_CHANGE_PCT</th>\n",
       "      <th>Average Earnings</th>\n",
       "    </tr>\n",
       "  </thead>\n",
       "  <tbody>\n",
       "    <tr>\n",
       "      <th>51</th>\n",
       "      <td>Wyoming</td>\n",
       "      <td>230101</td>\n",
       "      <td>233231</td>\n",
       "      <td>230653</td>\n",
       "      <td>586107.0</td>\n",
       "      <td>585501.0</td>\n",
       "      <td>579315.0</td>\n",
       "      <td>577737.0</td>\n",
       "      <td>578759.0</td>\n",
       "      <td>577267.0</td>\n",
       "      <td>578803.0</td>\n",
       "      <td>-7304.0</td>\n",
       "      <td>-1.246189</td>\n",
       "      <td>231328.333333</td>\n",
       "    </tr>\n",
       "    <tr>\n",
       "      <th>1</th>\n",
       "      <td>Alaska</td>\n",
       "      <td>253346</td>\n",
       "      <td>255173</td>\n",
       "      <td>260561</td>\n",
       "      <td>738432.0</td>\n",
       "      <td>741894.0</td>\n",
       "      <td>739795.0</td>\n",
       "      <td>737438.0</td>\n",
       "      <td>731545.0</td>\n",
       "      <td>732441.0</td>\n",
       "      <td>732673.0</td>\n",
       "      <td>-5759.0</td>\n",
       "      <td>-0.779896</td>\n",
       "      <td>256360.000000</td>\n",
       "    </tr>\n",
       "    <tr>\n",
       "      <th>46</th>\n",
       "      <td>Vermont</td>\n",
       "      <td>260029</td>\n",
       "      <td>262852</td>\n",
       "      <td>262514</td>\n",
       "      <td>626042.0</td>\n",
       "      <td>624594.0</td>\n",
       "      <td>623657.0</td>\n",
       "      <td>626299.0</td>\n",
       "      <td>623989.0</td>\n",
       "      <td>642495.0</td>\n",
       "      <td>645570.0</td>\n",
       "      <td>19528.0</td>\n",
       "      <td>3.119280</td>\n",
       "      <td>261798.333333</td>\n",
       "    </tr>\n",
       "    <tr>\n",
       "      <th>8</th>\n",
       "      <td>District of Columbia</td>\n",
       "      <td>284386</td>\n",
       "      <td>288307</td>\n",
       "      <td>310104</td>\n",
       "      <td>672228.0</td>\n",
       "      <td>681170.0</td>\n",
       "      <td>693972.0</td>\n",
       "      <td>702455.0</td>\n",
       "      <td>705749.0</td>\n",
       "      <td>690093.0</td>\n",
       "      <td>670050.0</td>\n",
       "      <td>-2178.0</td>\n",
       "      <td>-0.323997</td>\n",
       "      <td>294265.666667</td>\n",
       "    </tr>\n",
       "    <tr>\n",
       "      <th>34</th>\n",
       "      <td>North Dakota</td>\n",
       "      <td>318322</td>\n",
       "      <td>320873</td>\n",
       "      <td>316542</td>\n",
       "      <td>756927.0</td>\n",
       "      <td>757952.0</td>\n",
       "      <td>755393.0</td>\n",
       "      <td>760077.0</td>\n",
       "      <td>762062.0</td>\n",
       "      <td>778962.0</td>\n",
       "      <td>774948.0</td>\n",
       "      <td>18021.0</td>\n",
       "      <td>2.380811</td>\n",
       "      <td>318579.000000</td>\n",
       "    </tr>\n",
       "    <tr>\n",
       "      <th>42</th>\n",
       "      <td>South Dakota</td>\n",
       "      <td>344397</td>\n",
       "      <td>347878</td>\n",
       "      <td>345779</td>\n",
       "      <td>858469.0</td>\n",
       "      <td>865454.0</td>\n",
       "      <td>869666.0</td>\n",
       "      <td>882235.0</td>\n",
       "      <td>884659.0</td>\n",
       "      <td>887099.0</td>\n",
       "      <td>895376.0</td>\n",
       "      <td>36907.0</td>\n",
       "      <td>4.299165</td>\n",
       "      <td>346018.000000</td>\n",
       "    </tr>\n",
       "    <tr>\n",
       "      <th>7</th>\n",
       "      <td>Delaware</td>\n",
       "      <td>363322</td>\n",
       "      <td>370953</td>\n",
       "      <td>381097</td>\n",
       "      <td>945934.0</td>\n",
       "      <td>952065.0</td>\n",
       "      <td>961939.0</td>\n",
       "      <td>967171.0</td>\n",
       "      <td>973764.0</td>\n",
       "      <td>991886.0</td>\n",
       "      <td>1003384.0</td>\n",
       "      <td>57450.0</td>\n",
       "      <td>6.073362</td>\n",
       "      <td>371790.666667</td>\n",
       "    </tr>\n",
       "  </tbody>\n",
       "</table>\n",
       "</div>"
      ],
      "text/plain": [
       "                   STATE    2019    2020    2021  POP_2015  POP_2016  \\\n",
       "51               Wyoming  230101  233231  230653  586107.0  585501.0   \n",
       "1                 Alaska  253346  255173  260561  738432.0  741894.0   \n",
       "46               Vermont  260029  262852  262514  626042.0  624594.0   \n",
       "8   District of Columbia  284386  288307  310104  672228.0  681170.0   \n",
       "34          North Dakota  318322  320873  316542  756927.0  757952.0   \n",
       "42          South Dakota  344397  347878  345779  858469.0  865454.0   \n",
       "7               Delaware  363322  370953  381097  945934.0  952065.0   \n",
       "\n",
       "    POP_2017  POP_2018  POP_2019  POP_2020   POP_2021  POP_CHANGE_TOTAL  \\\n",
       "51  579315.0  577737.0  578759.0  577267.0   578803.0           -7304.0   \n",
       "1   739795.0  737438.0  731545.0  732441.0   732673.0           -5759.0   \n",
       "46  623657.0  626299.0  623989.0  642495.0   645570.0           19528.0   \n",
       "8   693972.0  702455.0  705749.0  690093.0   670050.0           -2178.0   \n",
       "34  755393.0  760077.0  762062.0  778962.0   774948.0           18021.0   \n",
       "42  869666.0  882235.0  884659.0  887099.0   895376.0           36907.0   \n",
       "7   961939.0  967171.0  973764.0  991886.0  1003384.0           57450.0   \n",
       "\n",
       "    POP_CHANGE_PCT  Average Earnings  \n",
       "51       -1.246189     231328.333333  \n",
       "1        -0.779896     256360.000000  \n",
       "46        3.119280     261798.333333  \n",
       "8        -0.323997     294265.666667  \n",
       "34        2.380811     318579.000000  \n",
       "42        4.299165     346018.000000  \n",
       "7         6.073362     371790.666667  "
      ]
     },
     "execution_count": 64,
     "metadata": {},
     "output_type": "execute_result"
    }
   ],
   "source": [
    "# create a dataframe for the bottom 5 states with the lowest average earnings\n",
    "bottom_7_earnings = pop_earnings_df.sort_values(by=[\"Average Earnings\"], ascending=True).head(7)\n",
    "bottom_7_earnings"
   ]
  },
  {
   "cell_type": "code",
   "execution_count": 67,
   "metadata": {},
   "outputs": [
    {
     "data": {
      "application/vnd.plotly.v1+json": {
       "config": {
        "plotlyServerURL": "https://plot.ly"
       },
       "data": [
        {
         "alignmentgroup": "True",
         "hovertemplate": "State=%{x}<br>Year=2015<br>Population=%{y}<extra></extra>",
         "ids": [
          "Wyoming"
         ],
         "legendgroup": "Wyoming",
         "marker": {
          "color": "#636efa",
          "pattern": {
           "shape": ""
          }
         },
         "name": "Wyoming",
         "offsetgroup": "Wyoming",
         "orientation": "v",
         "showlegend": true,
         "textposition": "auto",
         "type": "bar",
         "x": [
          "Wyoming"
         ],
         "xaxis": "x",
         "y": [
          586107
         ],
         "yaxis": "y"
        },
        {
         "alignmentgroup": "True",
         "hovertemplate": "State=%{x}<br>Year=2015<br>Population=%{y}<extra></extra>",
         "ids": [
          "Alaska"
         ],
         "legendgroup": "Alaska",
         "marker": {
          "color": "#EF553B",
          "pattern": {
           "shape": ""
          }
         },
         "name": "Alaska",
         "offsetgroup": "Alaska",
         "orientation": "v",
         "showlegend": true,
         "textposition": "auto",
         "type": "bar",
         "x": [
          "Alaska"
         ],
         "xaxis": "x",
         "y": [
          738432
         ],
         "yaxis": "y"
        },
        {
         "alignmentgroup": "True",
         "hovertemplate": "State=%{x}<br>Year=2015<br>Population=%{y}<extra></extra>",
         "ids": [
          "Vermont"
         ],
         "legendgroup": "Vermont",
         "marker": {
          "color": "#00cc96",
          "pattern": {
           "shape": ""
          }
         },
         "name": "Vermont",
         "offsetgroup": "Vermont",
         "orientation": "v",
         "showlegend": true,
         "textposition": "auto",
         "type": "bar",
         "x": [
          "Vermont"
         ],
         "xaxis": "x",
         "y": [
          626042
         ],
         "yaxis": "y"
        },
        {
         "alignmentgroup": "True",
         "hovertemplate": "State=%{x}<br>Year=2015<br>Population=%{y}<extra></extra>",
         "ids": [
          "District of Columbia"
         ],
         "legendgroup": "District of Columbia",
         "marker": {
          "color": "#ab63fa",
          "pattern": {
           "shape": ""
          }
         },
         "name": "District of Columbia",
         "offsetgroup": "District of Columbia",
         "orientation": "v",
         "showlegend": true,
         "textposition": "auto",
         "type": "bar",
         "x": [
          "District of Columbia"
         ],
         "xaxis": "x",
         "y": [
          672228
         ],
         "yaxis": "y"
        },
        {
         "alignmentgroup": "True",
         "hovertemplate": "State=%{x}<br>Year=2015<br>Population=%{y}<extra></extra>",
         "ids": [
          "North Dakota"
         ],
         "legendgroup": "North Dakota",
         "marker": {
          "color": "#FFA15A",
          "pattern": {
           "shape": ""
          }
         },
         "name": "North Dakota",
         "offsetgroup": "North Dakota",
         "orientation": "v",
         "showlegend": true,
         "textposition": "auto",
         "type": "bar",
         "x": [
          "North Dakota"
         ],
         "xaxis": "x",
         "y": [
          756927
         ],
         "yaxis": "y"
        },
        {
         "alignmentgroup": "True",
         "hovertemplate": "State=%{x}<br>Year=2015<br>Population=%{y}<extra></extra>",
         "ids": [
          "South Dakota"
         ],
         "legendgroup": "South Dakota",
         "marker": {
          "color": "#19d3f3",
          "pattern": {
           "shape": ""
          }
         },
         "name": "South Dakota",
         "offsetgroup": "South Dakota",
         "orientation": "v",
         "showlegend": true,
         "textposition": "auto",
         "type": "bar",
         "x": [
          "South Dakota"
         ],
         "xaxis": "x",
         "y": [
          858469
         ],
         "yaxis": "y"
        },
        {
         "alignmentgroup": "True",
         "hovertemplate": "State=%{x}<br>Year=2015<br>Population=%{y}<extra></extra>",
         "ids": [
          "Delaware"
         ],
         "legendgroup": "Delaware",
         "marker": {
          "color": "#FF6692",
          "pattern": {
           "shape": ""
          }
         },
         "name": "Delaware",
         "offsetgroup": "Delaware",
         "orientation": "v",
         "showlegend": true,
         "textposition": "auto",
         "type": "bar",
         "x": [
          "Delaware"
         ],
         "xaxis": "x",
         "y": [
          945934
         ],
         "yaxis": "y"
        }
       ],
       "frames": [
        {
         "data": [
          {
           "alignmentgroup": "True",
           "hovertemplate": "State=%{x}<br>Year=2015<br>Population=%{y}<extra></extra>",
           "ids": [
            "Wyoming"
           ],
           "legendgroup": "Wyoming",
           "marker": {
            "color": "#636efa",
            "pattern": {
             "shape": ""
            }
           },
           "name": "Wyoming",
           "offsetgroup": "Wyoming",
           "orientation": "v",
           "showlegend": true,
           "textposition": "auto",
           "type": "bar",
           "x": [
            "Wyoming"
           ],
           "xaxis": "x",
           "y": [
            586107
           ],
           "yaxis": "y"
          },
          {
           "alignmentgroup": "True",
           "hovertemplate": "State=%{x}<br>Year=2015<br>Population=%{y}<extra></extra>",
           "ids": [
            "Alaska"
           ],
           "legendgroup": "Alaska",
           "marker": {
            "color": "#EF553B",
            "pattern": {
             "shape": ""
            }
           },
           "name": "Alaska",
           "offsetgroup": "Alaska",
           "orientation": "v",
           "showlegend": true,
           "textposition": "auto",
           "type": "bar",
           "x": [
            "Alaska"
           ],
           "xaxis": "x",
           "y": [
            738432
           ],
           "yaxis": "y"
          },
          {
           "alignmentgroup": "True",
           "hovertemplate": "State=%{x}<br>Year=2015<br>Population=%{y}<extra></extra>",
           "ids": [
            "Vermont"
           ],
           "legendgroup": "Vermont",
           "marker": {
            "color": "#00cc96",
            "pattern": {
             "shape": ""
            }
           },
           "name": "Vermont",
           "offsetgroup": "Vermont",
           "orientation": "v",
           "showlegend": true,
           "textposition": "auto",
           "type": "bar",
           "x": [
            "Vermont"
           ],
           "xaxis": "x",
           "y": [
            626042
           ],
           "yaxis": "y"
          },
          {
           "alignmentgroup": "True",
           "hovertemplate": "State=%{x}<br>Year=2015<br>Population=%{y}<extra></extra>",
           "ids": [
            "District of Columbia"
           ],
           "legendgroup": "District of Columbia",
           "marker": {
            "color": "#ab63fa",
            "pattern": {
             "shape": ""
            }
           },
           "name": "District of Columbia",
           "offsetgroup": "District of Columbia",
           "orientation": "v",
           "showlegend": true,
           "textposition": "auto",
           "type": "bar",
           "x": [
            "District of Columbia"
           ],
           "xaxis": "x",
           "y": [
            672228
           ],
           "yaxis": "y"
          },
          {
           "alignmentgroup": "True",
           "hovertemplate": "State=%{x}<br>Year=2015<br>Population=%{y}<extra></extra>",
           "ids": [
            "North Dakota"
           ],
           "legendgroup": "North Dakota",
           "marker": {
            "color": "#FFA15A",
            "pattern": {
             "shape": ""
            }
           },
           "name": "North Dakota",
           "offsetgroup": "North Dakota",
           "orientation": "v",
           "showlegend": true,
           "textposition": "auto",
           "type": "bar",
           "x": [
            "North Dakota"
           ],
           "xaxis": "x",
           "y": [
            756927
           ],
           "yaxis": "y"
          },
          {
           "alignmentgroup": "True",
           "hovertemplate": "State=%{x}<br>Year=2015<br>Population=%{y}<extra></extra>",
           "ids": [
            "South Dakota"
           ],
           "legendgroup": "South Dakota",
           "marker": {
            "color": "#19d3f3",
            "pattern": {
             "shape": ""
            }
           },
           "name": "South Dakota",
           "offsetgroup": "South Dakota",
           "orientation": "v",
           "showlegend": true,
           "textposition": "auto",
           "type": "bar",
           "x": [
            "South Dakota"
           ],
           "xaxis": "x",
           "y": [
            858469
           ],
           "yaxis": "y"
          },
          {
           "alignmentgroup": "True",
           "hovertemplate": "State=%{x}<br>Year=2015<br>Population=%{y}<extra></extra>",
           "ids": [
            "Delaware"
           ],
           "legendgroup": "Delaware",
           "marker": {
            "color": "#FF6692",
            "pattern": {
             "shape": ""
            }
           },
           "name": "Delaware",
           "offsetgroup": "Delaware",
           "orientation": "v",
           "showlegend": true,
           "textposition": "auto",
           "type": "bar",
           "x": [
            "Delaware"
           ],
           "xaxis": "x",
           "y": [
            945934
           ],
           "yaxis": "y"
          }
         ],
         "name": "2015"
        },
        {
         "data": [
          {
           "alignmentgroup": "True",
           "hovertemplate": "State=%{x}<br>Year=2016<br>Population=%{y}<extra></extra>",
           "ids": [
            "Wyoming"
           ],
           "legendgroup": "Wyoming",
           "marker": {
            "color": "#636efa",
            "pattern": {
             "shape": ""
            }
           },
           "name": "Wyoming",
           "offsetgroup": "Wyoming",
           "orientation": "v",
           "showlegend": true,
           "textposition": "auto",
           "type": "bar",
           "x": [
            "Wyoming"
           ],
           "xaxis": "x",
           "y": [
            585501
           ],
           "yaxis": "y"
          },
          {
           "alignmentgroup": "True",
           "hovertemplate": "State=%{x}<br>Year=2016<br>Population=%{y}<extra></extra>",
           "ids": [
            "Alaska"
           ],
           "legendgroup": "Alaska",
           "marker": {
            "color": "#EF553B",
            "pattern": {
             "shape": ""
            }
           },
           "name": "Alaska",
           "offsetgroup": "Alaska",
           "orientation": "v",
           "showlegend": true,
           "textposition": "auto",
           "type": "bar",
           "x": [
            "Alaska"
           ],
           "xaxis": "x",
           "y": [
            741894
           ],
           "yaxis": "y"
          },
          {
           "alignmentgroup": "True",
           "hovertemplate": "State=%{x}<br>Year=2016<br>Population=%{y}<extra></extra>",
           "ids": [
            "Vermont"
           ],
           "legendgroup": "Vermont",
           "marker": {
            "color": "#00cc96",
            "pattern": {
             "shape": ""
            }
           },
           "name": "Vermont",
           "offsetgroup": "Vermont",
           "orientation": "v",
           "showlegend": true,
           "textposition": "auto",
           "type": "bar",
           "x": [
            "Vermont"
           ],
           "xaxis": "x",
           "y": [
            624594
           ],
           "yaxis": "y"
          },
          {
           "alignmentgroup": "True",
           "hovertemplate": "State=%{x}<br>Year=2016<br>Population=%{y}<extra></extra>",
           "ids": [
            "District of Columbia"
           ],
           "legendgroup": "District of Columbia",
           "marker": {
            "color": "#ab63fa",
            "pattern": {
             "shape": ""
            }
           },
           "name": "District of Columbia",
           "offsetgroup": "District of Columbia",
           "orientation": "v",
           "showlegend": true,
           "textposition": "auto",
           "type": "bar",
           "x": [
            "District of Columbia"
           ],
           "xaxis": "x",
           "y": [
            681170
           ],
           "yaxis": "y"
          },
          {
           "alignmentgroup": "True",
           "hovertemplate": "State=%{x}<br>Year=2016<br>Population=%{y}<extra></extra>",
           "ids": [
            "North Dakota"
           ],
           "legendgroup": "North Dakota",
           "marker": {
            "color": "#FFA15A",
            "pattern": {
             "shape": ""
            }
           },
           "name": "North Dakota",
           "offsetgroup": "North Dakota",
           "orientation": "v",
           "showlegend": true,
           "textposition": "auto",
           "type": "bar",
           "x": [
            "North Dakota"
           ],
           "xaxis": "x",
           "y": [
            757952
           ],
           "yaxis": "y"
          },
          {
           "alignmentgroup": "True",
           "hovertemplate": "State=%{x}<br>Year=2016<br>Population=%{y}<extra></extra>",
           "ids": [
            "South Dakota"
           ],
           "legendgroup": "South Dakota",
           "marker": {
            "color": "#19d3f3",
            "pattern": {
             "shape": ""
            }
           },
           "name": "South Dakota",
           "offsetgroup": "South Dakota",
           "orientation": "v",
           "showlegend": true,
           "textposition": "auto",
           "type": "bar",
           "x": [
            "South Dakota"
           ],
           "xaxis": "x",
           "y": [
            865454
           ],
           "yaxis": "y"
          },
          {
           "alignmentgroup": "True",
           "hovertemplate": "State=%{x}<br>Year=2016<br>Population=%{y}<extra></extra>",
           "ids": [
            "Delaware"
           ],
           "legendgroup": "Delaware",
           "marker": {
            "color": "#FF6692",
            "pattern": {
             "shape": ""
            }
           },
           "name": "Delaware",
           "offsetgroup": "Delaware",
           "orientation": "v",
           "showlegend": true,
           "textposition": "auto",
           "type": "bar",
           "x": [
            "Delaware"
           ],
           "xaxis": "x",
           "y": [
            952065
           ],
           "yaxis": "y"
          }
         ],
         "name": "2016"
        },
        {
         "data": [
          {
           "alignmentgroup": "True",
           "hovertemplate": "State=%{x}<br>Year=2017<br>Population=%{y}<extra></extra>",
           "ids": [
            "Wyoming"
           ],
           "legendgroup": "Wyoming",
           "marker": {
            "color": "#636efa",
            "pattern": {
             "shape": ""
            }
           },
           "name": "Wyoming",
           "offsetgroup": "Wyoming",
           "orientation": "v",
           "showlegend": true,
           "textposition": "auto",
           "type": "bar",
           "x": [
            "Wyoming"
           ],
           "xaxis": "x",
           "y": [
            579315
           ],
           "yaxis": "y"
          },
          {
           "alignmentgroup": "True",
           "hovertemplate": "State=%{x}<br>Year=2017<br>Population=%{y}<extra></extra>",
           "ids": [
            "Alaska"
           ],
           "legendgroup": "Alaska",
           "marker": {
            "color": "#EF553B",
            "pattern": {
             "shape": ""
            }
           },
           "name": "Alaska",
           "offsetgroup": "Alaska",
           "orientation": "v",
           "showlegend": true,
           "textposition": "auto",
           "type": "bar",
           "x": [
            "Alaska"
           ],
           "xaxis": "x",
           "y": [
            739795
           ],
           "yaxis": "y"
          },
          {
           "alignmentgroup": "True",
           "hovertemplate": "State=%{x}<br>Year=2017<br>Population=%{y}<extra></extra>",
           "ids": [
            "Vermont"
           ],
           "legendgroup": "Vermont",
           "marker": {
            "color": "#00cc96",
            "pattern": {
             "shape": ""
            }
           },
           "name": "Vermont",
           "offsetgroup": "Vermont",
           "orientation": "v",
           "showlegend": true,
           "textposition": "auto",
           "type": "bar",
           "x": [
            "Vermont"
           ],
           "xaxis": "x",
           "y": [
            623657
           ],
           "yaxis": "y"
          },
          {
           "alignmentgroup": "True",
           "hovertemplate": "State=%{x}<br>Year=2017<br>Population=%{y}<extra></extra>",
           "ids": [
            "District of Columbia"
           ],
           "legendgroup": "District of Columbia",
           "marker": {
            "color": "#ab63fa",
            "pattern": {
             "shape": ""
            }
           },
           "name": "District of Columbia",
           "offsetgroup": "District of Columbia",
           "orientation": "v",
           "showlegend": true,
           "textposition": "auto",
           "type": "bar",
           "x": [
            "District of Columbia"
           ],
           "xaxis": "x",
           "y": [
            693972
           ],
           "yaxis": "y"
          },
          {
           "alignmentgroup": "True",
           "hovertemplate": "State=%{x}<br>Year=2017<br>Population=%{y}<extra></extra>",
           "ids": [
            "North Dakota"
           ],
           "legendgroup": "North Dakota",
           "marker": {
            "color": "#FFA15A",
            "pattern": {
             "shape": ""
            }
           },
           "name": "North Dakota",
           "offsetgroup": "North Dakota",
           "orientation": "v",
           "showlegend": true,
           "textposition": "auto",
           "type": "bar",
           "x": [
            "North Dakota"
           ],
           "xaxis": "x",
           "y": [
            755393
           ],
           "yaxis": "y"
          },
          {
           "alignmentgroup": "True",
           "hovertemplate": "State=%{x}<br>Year=2017<br>Population=%{y}<extra></extra>",
           "ids": [
            "South Dakota"
           ],
           "legendgroup": "South Dakota",
           "marker": {
            "color": "#19d3f3",
            "pattern": {
             "shape": ""
            }
           },
           "name": "South Dakota",
           "offsetgroup": "South Dakota",
           "orientation": "v",
           "showlegend": true,
           "textposition": "auto",
           "type": "bar",
           "x": [
            "South Dakota"
           ],
           "xaxis": "x",
           "y": [
            869666
           ],
           "yaxis": "y"
          },
          {
           "alignmentgroup": "True",
           "hovertemplate": "State=%{x}<br>Year=2017<br>Population=%{y}<extra></extra>",
           "ids": [
            "Delaware"
           ],
           "legendgroup": "Delaware",
           "marker": {
            "color": "#FF6692",
            "pattern": {
             "shape": ""
            }
           },
           "name": "Delaware",
           "offsetgroup": "Delaware",
           "orientation": "v",
           "showlegend": true,
           "textposition": "auto",
           "type": "bar",
           "x": [
            "Delaware"
           ],
           "xaxis": "x",
           "y": [
            961939
           ],
           "yaxis": "y"
          }
         ],
         "name": "2017"
        },
        {
         "data": [
          {
           "alignmentgroup": "True",
           "hovertemplate": "State=%{x}<br>Year=2018<br>Population=%{y}<extra></extra>",
           "ids": [
            "Wyoming"
           ],
           "legendgroup": "Wyoming",
           "marker": {
            "color": "#636efa",
            "pattern": {
             "shape": ""
            }
           },
           "name": "Wyoming",
           "offsetgroup": "Wyoming",
           "orientation": "v",
           "showlegend": true,
           "textposition": "auto",
           "type": "bar",
           "x": [
            "Wyoming"
           ],
           "xaxis": "x",
           "y": [
            577737
           ],
           "yaxis": "y"
          },
          {
           "alignmentgroup": "True",
           "hovertemplate": "State=%{x}<br>Year=2018<br>Population=%{y}<extra></extra>",
           "ids": [
            "Alaska"
           ],
           "legendgroup": "Alaska",
           "marker": {
            "color": "#EF553B",
            "pattern": {
             "shape": ""
            }
           },
           "name": "Alaska",
           "offsetgroup": "Alaska",
           "orientation": "v",
           "showlegend": true,
           "textposition": "auto",
           "type": "bar",
           "x": [
            "Alaska"
           ],
           "xaxis": "x",
           "y": [
            737438
           ],
           "yaxis": "y"
          },
          {
           "alignmentgroup": "True",
           "hovertemplate": "State=%{x}<br>Year=2018<br>Population=%{y}<extra></extra>",
           "ids": [
            "Vermont"
           ],
           "legendgroup": "Vermont",
           "marker": {
            "color": "#00cc96",
            "pattern": {
             "shape": ""
            }
           },
           "name": "Vermont",
           "offsetgroup": "Vermont",
           "orientation": "v",
           "showlegend": true,
           "textposition": "auto",
           "type": "bar",
           "x": [
            "Vermont"
           ],
           "xaxis": "x",
           "y": [
            626299
           ],
           "yaxis": "y"
          },
          {
           "alignmentgroup": "True",
           "hovertemplate": "State=%{x}<br>Year=2018<br>Population=%{y}<extra></extra>",
           "ids": [
            "District of Columbia"
           ],
           "legendgroup": "District of Columbia",
           "marker": {
            "color": "#ab63fa",
            "pattern": {
             "shape": ""
            }
           },
           "name": "District of Columbia",
           "offsetgroup": "District of Columbia",
           "orientation": "v",
           "showlegend": true,
           "textposition": "auto",
           "type": "bar",
           "x": [
            "District of Columbia"
           ],
           "xaxis": "x",
           "y": [
            702455
           ],
           "yaxis": "y"
          },
          {
           "alignmentgroup": "True",
           "hovertemplate": "State=%{x}<br>Year=2018<br>Population=%{y}<extra></extra>",
           "ids": [
            "North Dakota"
           ],
           "legendgroup": "North Dakota",
           "marker": {
            "color": "#FFA15A",
            "pattern": {
             "shape": ""
            }
           },
           "name": "North Dakota",
           "offsetgroup": "North Dakota",
           "orientation": "v",
           "showlegend": true,
           "textposition": "auto",
           "type": "bar",
           "x": [
            "North Dakota"
           ],
           "xaxis": "x",
           "y": [
            760077
           ],
           "yaxis": "y"
          },
          {
           "alignmentgroup": "True",
           "hovertemplate": "State=%{x}<br>Year=2018<br>Population=%{y}<extra></extra>",
           "ids": [
            "South Dakota"
           ],
           "legendgroup": "South Dakota",
           "marker": {
            "color": "#19d3f3",
            "pattern": {
             "shape": ""
            }
           },
           "name": "South Dakota",
           "offsetgroup": "South Dakota",
           "orientation": "v",
           "showlegend": true,
           "textposition": "auto",
           "type": "bar",
           "x": [
            "South Dakota"
           ],
           "xaxis": "x",
           "y": [
            882235
           ],
           "yaxis": "y"
          },
          {
           "alignmentgroup": "True",
           "hovertemplate": "State=%{x}<br>Year=2018<br>Population=%{y}<extra></extra>",
           "ids": [
            "Delaware"
           ],
           "legendgroup": "Delaware",
           "marker": {
            "color": "#FF6692",
            "pattern": {
             "shape": ""
            }
           },
           "name": "Delaware",
           "offsetgroup": "Delaware",
           "orientation": "v",
           "showlegend": true,
           "textposition": "auto",
           "type": "bar",
           "x": [
            "Delaware"
           ],
           "xaxis": "x",
           "y": [
            967171
           ],
           "yaxis": "y"
          }
         ],
         "name": "2018"
        },
        {
         "data": [
          {
           "alignmentgroup": "True",
           "hovertemplate": "State=%{x}<br>Year=2019<br>Population=%{y}<extra></extra>",
           "ids": [
            "Wyoming"
           ],
           "legendgroup": "Wyoming",
           "marker": {
            "color": "#636efa",
            "pattern": {
             "shape": ""
            }
           },
           "name": "Wyoming",
           "offsetgroup": "Wyoming",
           "orientation": "v",
           "showlegend": true,
           "textposition": "auto",
           "type": "bar",
           "x": [
            "Wyoming"
           ],
           "xaxis": "x",
           "y": [
            578759
           ],
           "yaxis": "y"
          },
          {
           "alignmentgroup": "True",
           "hovertemplate": "State=%{x}<br>Year=2019<br>Population=%{y}<extra></extra>",
           "ids": [
            "Alaska"
           ],
           "legendgroup": "Alaska",
           "marker": {
            "color": "#EF553B",
            "pattern": {
             "shape": ""
            }
           },
           "name": "Alaska",
           "offsetgroup": "Alaska",
           "orientation": "v",
           "showlegend": true,
           "textposition": "auto",
           "type": "bar",
           "x": [
            "Alaska"
           ],
           "xaxis": "x",
           "y": [
            731545
           ],
           "yaxis": "y"
          },
          {
           "alignmentgroup": "True",
           "hovertemplate": "State=%{x}<br>Year=2019<br>Population=%{y}<extra></extra>",
           "ids": [
            "Vermont"
           ],
           "legendgroup": "Vermont",
           "marker": {
            "color": "#00cc96",
            "pattern": {
             "shape": ""
            }
           },
           "name": "Vermont",
           "offsetgroup": "Vermont",
           "orientation": "v",
           "showlegend": true,
           "textposition": "auto",
           "type": "bar",
           "x": [
            "Vermont"
           ],
           "xaxis": "x",
           "y": [
            623989
           ],
           "yaxis": "y"
          },
          {
           "alignmentgroup": "True",
           "hovertemplate": "State=%{x}<br>Year=2019<br>Population=%{y}<extra></extra>",
           "ids": [
            "District of Columbia"
           ],
           "legendgroup": "District of Columbia",
           "marker": {
            "color": "#ab63fa",
            "pattern": {
             "shape": ""
            }
           },
           "name": "District of Columbia",
           "offsetgroup": "District of Columbia",
           "orientation": "v",
           "showlegend": true,
           "textposition": "auto",
           "type": "bar",
           "x": [
            "District of Columbia"
           ],
           "xaxis": "x",
           "y": [
            705749
           ],
           "yaxis": "y"
          },
          {
           "alignmentgroup": "True",
           "hovertemplate": "State=%{x}<br>Year=2019<br>Population=%{y}<extra></extra>",
           "ids": [
            "North Dakota"
           ],
           "legendgroup": "North Dakota",
           "marker": {
            "color": "#FFA15A",
            "pattern": {
             "shape": ""
            }
           },
           "name": "North Dakota",
           "offsetgroup": "North Dakota",
           "orientation": "v",
           "showlegend": true,
           "textposition": "auto",
           "type": "bar",
           "x": [
            "North Dakota"
           ],
           "xaxis": "x",
           "y": [
            762062
           ],
           "yaxis": "y"
          },
          {
           "alignmentgroup": "True",
           "hovertemplate": "State=%{x}<br>Year=2019<br>Population=%{y}<extra></extra>",
           "ids": [
            "South Dakota"
           ],
           "legendgroup": "South Dakota",
           "marker": {
            "color": "#19d3f3",
            "pattern": {
             "shape": ""
            }
           },
           "name": "South Dakota",
           "offsetgroup": "South Dakota",
           "orientation": "v",
           "showlegend": true,
           "textposition": "auto",
           "type": "bar",
           "x": [
            "South Dakota"
           ],
           "xaxis": "x",
           "y": [
            884659
           ],
           "yaxis": "y"
          },
          {
           "alignmentgroup": "True",
           "hovertemplate": "State=%{x}<br>Year=2019<br>Population=%{y}<extra></extra>",
           "ids": [
            "Delaware"
           ],
           "legendgroup": "Delaware",
           "marker": {
            "color": "#FF6692",
            "pattern": {
             "shape": ""
            }
           },
           "name": "Delaware",
           "offsetgroup": "Delaware",
           "orientation": "v",
           "showlegend": true,
           "textposition": "auto",
           "type": "bar",
           "x": [
            "Delaware"
           ],
           "xaxis": "x",
           "y": [
            973764
           ],
           "yaxis": "y"
          }
         ],
         "name": "2019"
        },
        {
         "data": [
          {
           "alignmentgroup": "True",
           "hovertemplate": "State=%{x}<br>Year=2020<br>Population=%{y}<extra></extra>",
           "ids": [
            "Wyoming"
           ],
           "legendgroup": "Wyoming",
           "marker": {
            "color": "#636efa",
            "pattern": {
             "shape": ""
            }
           },
           "name": "Wyoming",
           "offsetgroup": "Wyoming",
           "orientation": "v",
           "showlegend": true,
           "textposition": "auto",
           "type": "bar",
           "x": [
            "Wyoming"
           ],
           "xaxis": "x",
           "y": [
            577267
           ],
           "yaxis": "y"
          },
          {
           "alignmentgroup": "True",
           "hovertemplate": "State=%{x}<br>Year=2020<br>Population=%{y}<extra></extra>",
           "ids": [
            "Alaska"
           ],
           "legendgroup": "Alaska",
           "marker": {
            "color": "#EF553B",
            "pattern": {
             "shape": ""
            }
           },
           "name": "Alaska",
           "offsetgroup": "Alaska",
           "orientation": "v",
           "showlegend": true,
           "textposition": "auto",
           "type": "bar",
           "x": [
            "Alaska"
           ],
           "xaxis": "x",
           "y": [
            732441
           ],
           "yaxis": "y"
          },
          {
           "alignmentgroup": "True",
           "hovertemplate": "State=%{x}<br>Year=2020<br>Population=%{y}<extra></extra>",
           "ids": [
            "Vermont"
           ],
           "legendgroup": "Vermont",
           "marker": {
            "color": "#00cc96",
            "pattern": {
             "shape": ""
            }
           },
           "name": "Vermont",
           "offsetgroup": "Vermont",
           "orientation": "v",
           "showlegend": true,
           "textposition": "auto",
           "type": "bar",
           "x": [
            "Vermont"
           ],
           "xaxis": "x",
           "y": [
            642495
           ],
           "yaxis": "y"
          },
          {
           "alignmentgroup": "True",
           "hovertemplate": "State=%{x}<br>Year=2020<br>Population=%{y}<extra></extra>",
           "ids": [
            "District of Columbia"
           ],
           "legendgroup": "District of Columbia",
           "marker": {
            "color": "#ab63fa",
            "pattern": {
             "shape": ""
            }
           },
           "name": "District of Columbia",
           "offsetgroup": "District of Columbia",
           "orientation": "v",
           "showlegend": true,
           "textposition": "auto",
           "type": "bar",
           "x": [
            "District of Columbia"
           ],
           "xaxis": "x",
           "y": [
            690093
           ],
           "yaxis": "y"
          },
          {
           "alignmentgroup": "True",
           "hovertemplate": "State=%{x}<br>Year=2020<br>Population=%{y}<extra></extra>",
           "ids": [
            "North Dakota"
           ],
           "legendgroup": "North Dakota",
           "marker": {
            "color": "#FFA15A",
            "pattern": {
             "shape": ""
            }
           },
           "name": "North Dakota",
           "offsetgroup": "North Dakota",
           "orientation": "v",
           "showlegend": true,
           "textposition": "auto",
           "type": "bar",
           "x": [
            "North Dakota"
           ],
           "xaxis": "x",
           "y": [
            778962
           ],
           "yaxis": "y"
          },
          {
           "alignmentgroup": "True",
           "hovertemplate": "State=%{x}<br>Year=2020<br>Population=%{y}<extra></extra>",
           "ids": [
            "South Dakota"
           ],
           "legendgroup": "South Dakota",
           "marker": {
            "color": "#19d3f3",
            "pattern": {
             "shape": ""
            }
           },
           "name": "South Dakota",
           "offsetgroup": "South Dakota",
           "orientation": "v",
           "showlegend": true,
           "textposition": "auto",
           "type": "bar",
           "x": [
            "South Dakota"
           ],
           "xaxis": "x",
           "y": [
            887099
           ],
           "yaxis": "y"
          },
          {
           "alignmentgroup": "True",
           "hovertemplate": "State=%{x}<br>Year=2020<br>Population=%{y}<extra></extra>",
           "ids": [
            "Delaware"
           ],
           "legendgroup": "Delaware",
           "marker": {
            "color": "#FF6692",
            "pattern": {
             "shape": ""
            }
           },
           "name": "Delaware",
           "offsetgroup": "Delaware",
           "orientation": "v",
           "showlegend": true,
           "textposition": "auto",
           "type": "bar",
           "x": [
            "Delaware"
           ],
           "xaxis": "x",
           "y": [
            991886
           ],
           "yaxis": "y"
          }
         ],
         "name": "2020"
        },
        {
         "data": [
          {
           "alignmentgroup": "True",
           "hovertemplate": "State=%{x}<br>Year=2021<br>Population=%{y}<extra></extra>",
           "ids": [
            "Wyoming"
           ],
           "legendgroup": "Wyoming",
           "marker": {
            "color": "#636efa",
            "pattern": {
             "shape": ""
            }
           },
           "name": "Wyoming",
           "offsetgroup": "Wyoming",
           "orientation": "v",
           "showlegend": true,
           "textposition": "auto",
           "type": "bar",
           "x": [
            "Wyoming"
           ],
           "xaxis": "x",
           "y": [
            578803
           ],
           "yaxis": "y"
          },
          {
           "alignmentgroup": "True",
           "hovertemplate": "State=%{x}<br>Year=2021<br>Population=%{y}<extra></extra>",
           "ids": [
            "Alaska"
           ],
           "legendgroup": "Alaska",
           "marker": {
            "color": "#EF553B",
            "pattern": {
             "shape": ""
            }
           },
           "name": "Alaska",
           "offsetgroup": "Alaska",
           "orientation": "v",
           "showlegend": true,
           "textposition": "auto",
           "type": "bar",
           "x": [
            "Alaska"
           ],
           "xaxis": "x",
           "y": [
            732673
           ],
           "yaxis": "y"
          },
          {
           "alignmentgroup": "True",
           "hovertemplate": "State=%{x}<br>Year=2021<br>Population=%{y}<extra></extra>",
           "ids": [
            "Vermont"
           ],
           "legendgroup": "Vermont",
           "marker": {
            "color": "#00cc96",
            "pattern": {
             "shape": ""
            }
           },
           "name": "Vermont",
           "offsetgroup": "Vermont",
           "orientation": "v",
           "showlegend": true,
           "textposition": "auto",
           "type": "bar",
           "x": [
            "Vermont"
           ],
           "xaxis": "x",
           "y": [
            645570
           ],
           "yaxis": "y"
          },
          {
           "alignmentgroup": "True",
           "hovertemplate": "State=%{x}<br>Year=2021<br>Population=%{y}<extra></extra>",
           "ids": [
            "District of Columbia"
           ],
           "legendgroup": "District of Columbia",
           "marker": {
            "color": "#ab63fa",
            "pattern": {
             "shape": ""
            }
           },
           "name": "District of Columbia",
           "offsetgroup": "District of Columbia",
           "orientation": "v",
           "showlegend": true,
           "textposition": "auto",
           "type": "bar",
           "x": [
            "District of Columbia"
           ],
           "xaxis": "x",
           "y": [
            670050
           ],
           "yaxis": "y"
          },
          {
           "alignmentgroup": "True",
           "hovertemplate": "State=%{x}<br>Year=2021<br>Population=%{y}<extra></extra>",
           "ids": [
            "North Dakota"
           ],
           "legendgroup": "North Dakota",
           "marker": {
            "color": "#FFA15A",
            "pattern": {
             "shape": ""
            }
           },
           "name": "North Dakota",
           "offsetgroup": "North Dakota",
           "orientation": "v",
           "showlegend": true,
           "textposition": "auto",
           "type": "bar",
           "x": [
            "North Dakota"
           ],
           "xaxis": "x",
           "y": [
            774948
           ],
           "yaxis": "y"
          },
          {
           "alignmentgroup": "True",
           "hovertemplate": "State=%{x}<br>Year=2021<br>Population=%{y}<extra></extra>",
           "ids": [
            "South Dakota"
           ],
           "legendgroup": "South Dakota",
           "marker": {
            "color": "#19d3f3",
            "pattern": {
             "shape": ""
            }
           },
           "name": "South Dakota",
           "offsetgroup": "South Dakota",
           "orientation": "v",
           "showlegend": true,
           "textposition": "auto",
           "type": "bar",
           "x": [
            "South Dakota"
           ],
           "xaxis": "x",
           "y": [
            895376
           ],
           "yaxis": "y"
          },
          {
           "alignmentgroup": "True",
           "hovertemplate": "State=%{x}<br>Year=2021<br>Population=%{y}<extra></extra>",
           "ids": [
            "Delaware"
           ],
           "legendgroup": "Delaware",
           "marker": {
            "color": "#FF6692",
            "pattern": {
             "shape": ""
            }
           },
           "name": "Delaware",
           "offsetgroup": "Delaware",
           "orientation": "v",
           "showlegend": true,
           "textposition": "auto",
           "type": "bar",
           "x": [
            "Delaware"
           ],
           "xaxis": "x",
           "y": [
            1003384
           ],
           "yaxis": "y"
          }
         ],
         "name": "2021"
        }
       ],
       "layout": {
        "barmode": "relative",
        "height": 1000,
        "legend": {
         "title": {
          "text": "State"
         },
         "tracegroupgap": 0
        },
        "sliders": [
         {
          "active": 0,
          "currentvalue": {
           "prefix": "Year="
          },
          "len": 0.9,
          "pad": {
           "b": 10,
           "t": 60
          },
          "steps": [
           {
            "args": [
             [
              "2015"
             ],
             {
              "frame": {
               "duration": 0,
               "redraw": true
              },
              "fromcurrent": true,
              "mode": "immediate",
              "transition": {
               "duration": 0,
               "easing": "linear"
              }
             }
            ],
            "label": "2015",
            "method": "animate"
           },
           {
            "args": [
             [
              "2016"
             ],
             {
              "frame": {
               "duration": 0,
               "redraw": true
              },
              "fromcurrent": true,
              "mode": "immediate",
              "transition": {
               "duration": 0,
               "easing": "linear"
              }
             }
            ],
            "label": "2016",
            "method": "animate"
           },
           {
            "args": [
             [
              "2017"
             ],
             {
              "frame": {
               "duration": 0,
               "redraw": true
              },
              "fromcurrent": true,
              "mode": "immediate",
              "transition": {
               "duration": 0,
               "easing": "linear"
              }
             }
            ],
            "label": "2017",
            "method": "animate"
           },
           {
            "args": [
             [
              "2018"
             ],
             {
              "frame": {
               "duration": 0,
               "redraw": true
              },
              "fromcurrent": true,
              "mode": "immediate",
              "transition": {
               "duration": 0,
               "easing": "linear"
              }
             }
            ],
            "label": "2018",
            "method": "animate"
           },
           {
            "args": [
             [
              "2019"
             ],
             {
              "frame": {
               "duration": 0,
               "redraw": true
              },
              "fromcurrent": true,
              "mode": "immediate",
              "transition": {
               "duration": 0,
               "easing": "linear"
              }
             }
            ],
            "label": "2019",
            "method": "animate"
           },
           {
            "args": [
             [
              "2020"
             ],
             {
              "frame": {
               "duration": 0,
               "redraw": true
              },
              "fromcurrent": true,
              "mode": "immediate",
              "transition": {
               "duration": 0,
               "easing": "linear"
              }
             }
            ],
            "label": "2020",
            "method": "animate"
           },
           {
            "args": [
             [
              "2021"
             ],
             {
              "frame": {
               "duration": 0,
               "redraw": true
              },
              "fromcurrent": true,
              "mode": "immediate",
              "transition": {
               "duration": 0,
               "easing": "linear"
              }
             }
            ],
            "label": "2021",
            "method": "animate"
           }
          ],
          "x": 0.1,
          "xanchor": "left",
          "y": 0,
          "yanchor": "top"
         }
        ],
        "template": {
         "data": {
          "bar": [
           {
            "error_x": {
             "color": "#2a3f5f"
            },
            "error_y": {
             "color": "#2a3f5f"
            },
            "marker": {
             "line": {
              "color": "#E5ECF6",
              "width": 0.5
             },
             "pattern": {
              "fillmode": "overlay",
              "size": 10,
              "solidity": 0.2
             }
            },
            "type": "bar"
           }
          ],
          "barpolar": [
           {
            "marker": {
             "line": {
              "color": "#E5ECF6",
              "width": 0.5
             },
             "pattern": {
              "fillmode": "overlay",
              "size": 10,
              "solidity": 0.2
             }
            },
            "type": "barpolar"
           }
          ],
          "carpet": [
           {
            "aaxis": {
             "endlinecolor": "#2a3f5f",
             "gridcolor": "white",
             "linecolor": "white",
             "minorgridcolor": "white",
             "startlinecolor": "#2a3f5f"
            },
            "baxis": {
             "endlinecolor": "#2a3f5f",
             "gridcolor": "white",
             "linecolor": "white",
             "minorgridcolor": "white",
             "startlinecolor": "#2a3f5f"
            },
            "type": "carpet"
           }
          ],
          "choropleth": [
           {
            "colorbar": {
             "outlinewidth": 0,
             "ticks": ""
            },
            "type": "choropleth"
           }
          ],
          "contour": [
           {
            "colorbar": {
             "outlinewidth": 0,
             "ticks": ""
            },
            "colorscale": [
             [
              0,
              "#0d0887"
             ],
             [
              0.1111111111111111,
              "#46039f"
             ],
             [
              0.2222222222222222,
              "#7201a8"
             ],
             [
              0.3333333333333333,
              "#9c179e"
             ],
             [
              0.4444444444444444,
              "#bd3786"
             ],
             [
              0.5555555555555556,
              "#d8576b"
             ],
             [
              0.6666666666666666,
              "#ed7953"
             ],
             [
              0.7777777777777778,
              "#fb9f3a"
             ],
             [
              0.8888888888888888,
              "#fdca26"
             ],
             [
              1,
              "#f0f921"
             ]
            ],
            "type": "contour"
           }
          ],
          "contourcarpet": [
           {
            "colorbar": {
             "outlinewidth": 0,
             "ticks": ""
            },
            "type": "contourcarpet"
           }
          ],
          "heatmap": [
           {
            "colorbar": {
             "outlinewidth": 0,
             "ticks": ""
            },
            "colorscale": [
             [
              0,
              "#0d0887"
             ],
             [
              0.1111111111111111,
              "#46039f"
             ],
             [
              0.2222222222222222,
              "#7201a8"
             ],
             [
              0.3333333333333333,
              "#9c179e"
             ],
             [
              0.4444444444444444,
              "#bd3786"
             ],
             [
              0.5555555555555556,
              "#d8576b"
             ],
             [
              0.6666666666666666,
              "#ed7953"
             ],
             [
              0.7777777777777778,
              "#fb9f3a"
             ],
             [
              0.8888888888888888,
              "#fdca26"
             ],
             [
              1,
              "#f0f921"
             ]
            ],
            "type": "heatmap"
           }
          ],
          "heatmapgl": [
           {
            "colorbar": {
             "outlinewidth": 0,
             "ticks": ""
            },
            "colorscale": [
             [
              0,
              "#0d0887"
             ],
             [
              0.1111111111111111,
              "#46039f"
             ],
             [
              0.2222222222222222,
              "#7201a8"
             ],
             [
              0.3333333333333333,
              "#9c179e"
             ],
             [
              0.4444444444444444,
              "#bd3786"
             ],
             [
              0.5555555555555556,
              "#d8576b"
             ],
             [
              0.6666666666666666,
              "#ed7953"
             ],
             [
              0.7777777777777778,
              "#fb9f3a"
             ],
             [
              0.8888888888888888,
              "#fdca26"
             ],
             [
              1,
              "#f0f921"
             ]
            ],
            "type": "heatmapgl"
           }
          ],
          "histogram": [
           {
            "marker": {
             "pattern": {
              "fillmode": "overlay",
              "size": 10,
              "solidity": 0.2
             }
            },
            "type": "histogram"
           }
          ],
          "histogram2d": [
           {
            "colorbar": {
             "outlinewidth": 0,
             "ticks": ""
            },
            "colorscale": [
             [
              0,
              "#0d0887"
             ],
             [
              0.1111111111111111,
              "#46039f"
             ],
             [
              0.2222222222222222,
              "#7201a8"
             ],
             [
              0.3333333333333333,
              "#9c179e"
             ],
             [
              0.4444444444444444,
              "#bd3786"
             ],
             [
              0.5555555555555556,
              "#d8576b"
             ],
             [
              0.6666666666666666,
              "#ed7953"
             ],
             [
              0.7777777777777778,
              "#fb9f3a"
             ],
             [
              0.8888888888888888,
              "#fdca26"
             ],
             [
              1,
              "#f0f921"
             ]
            ],
            "type": "histogram2d"
           }
          ],
          "histogram2dcontour": [
           {
            "colorbar": {
             "outlinewidth": 0,
             "ticks": ""
            },
            "colorscale": [
             [
              0,
              "#0d0887"
             ],
             [
              0.1111111111111111,
              "#46039f"
             ],
             [
              0.2222222222222222,
              "#7201a8"
             ],
             [
              0.3333333333333333,
              "#9c179e"
             ],
             [
              0.4444444444444444,
              "#bd3786"
             ],
             [
              0.5555555555555556,
              "#d8576b"
             ],
             [
              0.6666666666666666,
              "#ed7953"
             ],
             [
              0.7777777777777778,
              "#fb9f3a"
             ],
             [
              0.8888888888888888,
              "#fdca26"
             ],
             [
              1,
              "#f0f921"
             ]
            ],
            "type": "histogram2dcontour"
           }
          ],
          "mesh3d": [
           {
            "colorbar": {
             "outlinewidth": 0,
             "ticks": ""
            },
            "type": "mesh3d"
           }
          ],
          "parcoords": [
           {
            "line": {
             "colorbar": {
              "outlinewidth": 0,
              "ticks": ""
             }
            },
            "type": "parcoords"
           }
          ],
          "pie": [
           {
            "automargin": true,
            "type": "pie"
           }
          ],
          "scatter": [
           {
            "fillpattern": {
             "fillmode": "overlay",
             "size": 10,
             "solidity": 0.2
            },
            "type": "scatter"
           }
          ],
          "scatter3d": [
           {
            "line": {
             "colorbar": {
              "outlinewidth": 0,
              "ticks": ""
             }
            },
            "marker": {
             "colorbar": {
              "outlinewidth": 0,
              "ticks": ""
             }
            },
            "type": "scatter3d"
           }
          ],
          "scattercarpet": [
           {
            "marker": {
             "colorbar": {
              "outlinewidth": 0,
              "ticks": ""
             }
            },
            "type": "scattercarpet"
           }
          ],
          "scattergeo": [
           {
            "marker": {
             "colorbar": {
              "outlinewidth": 0,
              "ticks": ""
             }
            },
            "type": "scattergeo"
           }
          ],
          "scattergl": [
           {
            "marker": {
             "colorbar": {
              "outlinewidth": 0,
              "ticks": ""
             }
            },
            "type": "scattergl"
           }
          ],
          "scattermapbox": [
           {
            "marker": {
             "colorbar": {
              "outlinewidth": 0,
              "ticks": ""
             }
            },
            "type": "scattermapbox"
           }
          ],
          "scatterpolar": [
           {
            "marker": {
             "colorbar": {
              "outlinewidth": 0,
              "ticks": ""
             }
            },
            "type": "scatterpolar"
           }
          ],
          "scatterpolargl": [
           {
            "marker": {
             "colorbar": {
              "outlinewidth": 0,
              "ticks": ""
             }
            },
            "type": "scatterpolargl"
           }
          ],
          "scatterternary": [
           {
            "marker": {
             "colorbar": {
              "outlinewidth": 0,
              "ticks": ""
             }
            },
            "type": "scatterternary"
           }
          ],
          "surface": [
           {
            "colorbar": {
             "outlinewidth": 0,
             "ticks": ""
            },
            "colorscale": [
             [
              0,
              "#0d0887"
             ],
             [
              0.1111111111111111,
              "#46039f"
             ],
             [
              0.2222222222222222,
              "#7201a8"
             ],
             [
              0.3333333333333333,
              "#9c179e"
             ],
             [
              0.4444444444444444,
              "#bd3786"
             ],
             [
              0.5555555555555556,
              "#d8576b"
             ],
             [
              0.6666666666666666,
              "#ed7953"
             ],
             [
              0.7777777777777778,
              "#fb9f3a"
             ],
             [
              0.8888888888888888,
              "#fdca26"
             ],
             [
              1,
              "#f0f921"
             ]
            ],
            "type": "surface"
           }
          ],
          "table": [
           {
            "cells": {
             "fill": {
              "color": "#EBF0F8"
             },
             "line": {
              "color": "white"
             }
            },
            "header": {
             "fill": {
              "color": "#C8D4E3"
             },
             "line": {
              "color": "white"
             }
            },
            "type": "table"
           }
          ]
         },
         "layout": {
          "annotationdefaults": {
           "arrowcolor": "#2a3f5f",
           "arrowhead": 0,
           "arrowwidth": 1
          },
          "autotypenumbers": "strict",
          "coloraxis": {
           "colorbar": {
            "outlinewidth": 0,
            "ticks": ""
           }
          },
          "colorscale": {
           "diverging": [
            [
             0,
             "#8e0152"
            ],
            [
             0.1,
             "#c51b7d"
            ],
            [
             0.2,
             "#de77ae"
            ],
            [
             0.3,
             "#f1b6da"
            ],
            [
             0.4,
             "#fde0ef"
            ],
            [
             0.5,
             "#f7f7f7"
            ],
            [
             0.6,
             "#e6f5d0"
            ],
            [
             0.7,
             "#b8e186"
            ],
            [
             0.8,
             "#7fbc41"
            ],
            [
             0.9,
             "#4d9221"
            ],
            [
             1,
             "#276419"
            ]
           ],
           "sequential": [
            [
             0,
             "#0d0887"
            ],
            [
             0.1111111111111111,
             "#46039f"
            ],
            [
             0.2222222222222222,
             "#7201a8"
            ],
            [
             0.3333333333333333,
             "#9c179e"
            ],
            [
             0.4444444444444444,
             "#bd3786"
            ],
            [
             0.5555555555555556,
             "#d8576b"
            ],
            [
             0.6666666666666666,
             "#ed7953"
            ],
            [
             0.7777777777777778,
             "#fb9f3a"
            ],
            [
             0.8888888888888888,
             "#fdca26"
            ],
            [
             1,
             "#f0f921"
            ]
           ],
           "sequentialminus": [
            [
             0,
             "#0d0887"
            ],
            [
             0.1111111111111111,
             "#46039f"
            ],
            [
             0.2222222222222222,
             "#7201a8"
            ],
            [
             0.3333333333333333,
             "#9c179e"
            ],
            [
             0.4444444444444444,
             "#bd3786"
            ],
            [
             0.5555555555555556,
             "#d8576b"
            ],
            [
             0.6666666666666666,
             "#ed7953"
            ],
            [
             0.7777777777777778,
             "#fb9f3a"
            ],
            [
             0.8888888888888888,
             "#fdca26"
            ],
            [
             1,
             "#f0f921"
            ]
           ]
          },
          "colorway": [
           "#636efa",
           "#EF553B",
           "#00cc96",
           "#ab63fa",
           "#FFA15A",
           "#19d3f3",
           "#FF6692",
           "#B6E880",
           "#FF97FF",
           "#FECB52"
          ],
          "font": {
           "color": "#2a3f5f"
          },
          "geo": {
           "bgcolor": "white",
           "lakecolor": "white",
           "landcolor": "#E5ECF6",
           "showlakes": true,
           "showland": true,
           "subunitcolor": "white"
          },
          "hoverlabel": {
           "align": "left"
          },
          "hovermode": "closest",
          "mapbox": {
           "style": "light"
          },
          "paper_bgcolor": "white",
          "plot_bgcolor": "#E5ECF6",
          "polar": {
           "angularaxis": {
            "gridcolor": "white",
            "linecolor": "white",
            "ticks": ""
           },
           "bgcolor": "#E5ECF6",
           "radialaxis": {
            "gridcolor": "white",
            "linecolor": "white",
            "ticks": ""
           }
          },
          "scene": {
           "xaxis": {
            "backgroundcolor": "#E5ECF6",
            "gridcolor": "white",
            "gridwidth": 2,
            "linecolor": "white",
            "showbackground": true,
            "ticks": "",
            "zerolinecolor": "white"
           },
           "yaxis": {
            "backgroundcolor": "#E5ECF6",
            "gridcolor": "white",
            "gridwidth": 2,
            "linecolor": "white",
            "showbackground": true,
            "ticks": "",
            "zerolinecolor": "white"
           },
           "zaxis": {
            "backgroundcolor": "#E5ECF6",
            "gridcolor": "white",
            "gridwidth": 2,
            "linecolor": "white",
            "showbackground": true,
            "ticks": "",
            "zerolinecolor": "white"
           }
          },
          "shapedefaults": {
           "line": {
            "color": "#2a3f5f"
           }
          },
          "ternary": {
           "aaxis": {
            "gridcolor": "white",
            "linecolor": "white",
            "ticks": ""
           },
           "baxis": {
            "gridcolor": "white",
            "linecolor": "white",
            "ticks": ""
           },
           "bgcolor": "#E5ECF6",
           "caxis": {
            "gridcolor": "white",
            "linecolor": "white",
            "ticks": ""
           }
          },
          "title": {
           "x": 0.05
          },
          "xaxis": {
           "automargin": true,
           "gridcolor": "white",
           "linecolor": "white",
           "ticks": "",
           "title": {
            "standoff": 15
           },
           "zerolinecolor": "white",
           "zerolinewidth": 2
          },
          "yaxis": {
           "automargin": true,
           "gridcolor": "white",
           "linecolor": "white",
           "ticks": "",
           "title": {
            "standoff": 15
           },
           "zerolinecolor": "white",
           "zerolinewidth": 2
          }
         }
        },
        "title": {
         "text": "Population Change in Bottom 7 States with Lowest Average Earnings"
        },
        "updatemenus": [
         {
          "buttons": [
           {
            "args": [
             null,
             {
              "frame": {
               "duration": 500,
               "redraw": true
              },
              "fromcurrent": true,
              "mode": "immediate",
              "transition": {
               "duration": 500,
               "easing": "linear"
              }
             }
            ],
            "label": "&#9654;",
            "method": "animate"
           },
           {
            "args": [
             [
              null
             ],
             {
              "frame": {
               "duration": 0,
               "redraw": true
              },
              "fromcurrent": true,
              "mode": "immediate",
              "transition": {
               "duration": 0,
               "easing": "linear"
              }
             }
            ],
            "label": "&#9724;",
            "method": "animate"
           }
          ],
          "direction": "left",
          "pad": {
           "r": 10,
           "t": 70
          },
          "showactive": false,
          "type": "buttons",
          "x": 0.1,
          "xanchor": "right",
          "y": 0,
          "yanchor": "top"
         }
        ],
        "width": 1250,
        "xaxis": {
         "anchor": "y",
         "categoryarray": [
          "Wyoming",
          "Alaska",
          "Vermont",
          "District of Columbia",
          "North Dakota",
          "South Dakota",
          "Delaware"
         ],
         "categoryorder": "array",
         "domain": [
          0,
          1
         ],
         "title": {
          "text": "State"
         }
        },
        "yaxis": {
         "anchor": "x",
         "domain": [
          0,
          1
         ],
         "range": [
          0,
          1100000
         ],
         "title": {
          "text": "Population"
         }
        }
       }
      }
     },
     "metadata": {},
     "output_type": "display_data"
    }
   ],
   "source": [
    "# create a list of the bottom 7 states with the lowest average earnings\n",
    "state2 = bottom_7_earnings[\"STATE\"].tolist()\n",
    "# create a list of population values per year for each state\n",
    "wyoming = [bottom_7_earnings['POP_2015'].tolist()[0], bottom_7_earnings['POP_2016'].tolist()[0], bottom_7_earnings['POP_2017'].tolist()[0], bottom_7_earnings['POP_2018'].tolist()[0], bottom_7_earnings['POP_2019'].tolist()[0], bottom_7_earnings['POP_2020'].tolist()[0], bottom_7_earnings['POP_2021'].tolist()[0]]\n",
    "alaska = [bottom_7_earnings['POP_2015'].tolist()[1], bottom_7_earnings['POP_2016'].tolist()[1], bottom_7_earnings['POP_2017'].tolist()[1], bottom_7_earnings['POP_2018'].tolist()[1], bottom_7_earnings['POP_2019'].tolist()[1], bottom_7_earnings['POP_2020'].tolist()[1], bottom_7_earnings['POP_2021'].tolist()[1]]\n",
    "vermont = [bottom_7_earnings['POP_2015'].tolist()[2], bottom_7_earnings['POP_2016'].tolist()[2], bottom_7_earnings['POP_2017'].tolist()[2], bottom_7_earnings['POP_2018'].tolist()[2], bottom_7_earnings['POP_2019'].tolist()[2], bottom_7_earnings['POP_2020'].tolist()[2], bottom_7_earnings['POP_2021'].tolist()[2]]\n",
    "dc = [bottom_7_earnings['POP_2015'].tolist()[3], bottom_7_earnings['POP_2016'].tolist()[3], bottom_7_earnings['POP_2017'].tolist()[3], bottom_7_earnings['POP_2018'].tolist()[3], bottom_7_earnings['POP_2019'].tolist()[3], bottom_7_earnings['POP_2020'].tolist()[3], bottom_7_earnings['POP_2021'].tolist()[3]]\n",
    "north_dakota = [bottom_7_earnings['POP_2015'].tolist()[4], bottom_7_earnings['POP_2016'].tolist()[4], bottom_7_earnings['POP_2017'].tolist()[4], bottom_7_earnings['POP_2018'].tolist()[4], bottom_7_earnings['POP_2019'].tolist()[4], bottom_7_earnings['POP_2020'].tolist()[4], bottom_7_earnings['POP_2021'].tolist()[4]]\n",
    "south_dakota = [bottom_7_earnings['POP_2015'].tolist()[5], bottom_7_earnings['POP_2016'].tolist()[5], bottom_7_earnings['POP_2017'].tolist()[5], bottom_7_earnings['POP_2018'].tolist()[5], bottom_7_earnings['POP_2019'].tolist()[5], bottom_7_earnings['POP_2020'].tolist()[5], bottom_7_earnings['POP_2021'].tolist()[5]]\n",
    "delaware = [bottom_7_earnings['POP_2015'].tolist()[6], bottom_7_earnings['POP_2016'].tolist()[6], bottom_7_earnings['POP_2017'].tolist()[6], bottom_7_earnings['POP_2018'].tolist()[6], bottom_7_earnings['POP_2019'].tolist()[6], bottom_7_earnings['POP_2020'].tolist()[6], bottom_7_earnings['POP_2021'].tolist()[6]]\n",
    "# create a dataframe from the lists\n",
    "bottom_7_df = pd.DataFrame({\"State\": state2, \"Year\": year, \"Wyoming\": wyoming, \"Alaska\": alaska, \"Vermont\": vermont, \"District of Columbia\": dc, \"North Dakota\": north_dakota, \"South Dakota\": south_dakota, \"Delaware\": delaware})\n",
    "bottom_7_df2 = bottom_7_df.melt(id_vars=[\"State\", \"Year\"], var_name=\"State2\", value_name=\"Population\")\n",
    "# drop the extra state column\n",
    "bottom_7_df2.drop(columns=[\"State\"], inplace=True)\n",
    "# rename the state column to State\n",
    "bottom_7_df2 = bottom_7_df2.rename(columns={\"State2\": \"State\"})\n",
    "bottom_7_df2\n",
    "# create animated bar chart with plotly express\n",
    "fig2 = px.bar(bottom_7_df2, x='State', y='Population', animation_frame='Year', animation_group='State', color='State', range_y=[0, 1100000], title='Population Change in Bottom 7 States with Lowest Average Earnings', width=1250, height=1000)\n",
    "fig2.show()"
   ]
  }
 ],
 "metadata": {
  "kernelspec": {
   "display_name": "PythonData",
   "language": "python",
   "name": "python3"
  },
  "language_info": {
   "codemirror_mode": {
    "name": "ipython",
    "version": 3
   },
   "file_extension": ".py",
   "mimetype": "text/x-python",
   "name": "python",
   "nbconvert_exporter": "python",
   "pygments_lexer": "ipython3",
   "version": "3.7.7"
  },
  "orig_nbformat": 4,
  "vscode": {
   "interpreter": {
    "hash": "6f45a96f67953c2300d7629f311eacc688eee390a4b158fbaedb2fe942a483b2"
   }
  }
 },
 "nbformat": 4,
 "nbformat_minor": 2
}
