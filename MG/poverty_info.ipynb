{
 "cells": [
  {
   "cell_type": "code",
   "execution_count": 4,
   "metadata": {},
   "outputs": [],
   "source": [
    "# Dependencies\n",
    "import requests\n",
    "import numpy as np\n",
    "import pandas as pd\n",
    "import scipy.stats as st\n",
    "import json\n",
    "import matplotlib.pyplot as plt\n",
    "from census import Census"
   ]
  },
  {
   "cell_type": "code",
   "execution_count": 6,
   "metadata": {},
   "outputs": [],
   "source": [
    "# Import U.S. Census API Key\n",
    "from census_api import census_api_key\n",
    "\n",
    "url = \"https://api.census.gov/data\""
   ]
  },
  {
   "cell_type": "code",
   "execution_count": null,
   "metadata": {},
   "outputs": [],
   "source": [
    "#total population 2020\n",
    "year_2020 = \"2020\"\n",
    "\n",
    "url_2020 = \"http://api.census.gov/data/{0}/acs/acs5?get=NAME,{1}&for=state:*&key={2}\".format(year_2020, population, census_api_key)\n",
    "\n",
    "data_2020 = requests.request(\"GET\", url_2020)\n",
    "\n",
    "data_2020_df = pd.DataFrame(data_2020.json()[1:], columns=data_2020.json()[0])\n",
    "data_2020_df\n",
    "\n",
    "data_2020 = data_2020_df.rename(columns={\"B01001_001E\": \"Total Population\",\"NAME\": \"State\"})\n",
    "data_2020.head(10)"
   ]
  }
 ],
 "metadata": {
  "kernelspec": {
   "display_name": "base",
   "language": "python",
   "name": "python3"
  },
  "language_info": {
   "codemirror_mode": {
    "name": "ipython",
    "version": 3
   },
   "file_extension": ".py",
   "mimetype": "text/x-python",
   "name": "python",
   "nbconvert_exporter": "python",
   "pygments_lexer": "ipython3",
   "version": "3.9.13"
  },
  "orig_nbformat": 4,
  "vscode": {
   "interpreter": {
    "hash": "ce6d76fd60b38149ff3543863f4529d309755f9c72712df033ff3dfb5e1287de"
   }
  }
 },
 "nbformat": 4,
 "nbformat_minor": 2
}
