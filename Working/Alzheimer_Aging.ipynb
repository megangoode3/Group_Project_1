{
 "cells": [
  {
   "cell_type": "code",
   "execution_count": 34,
   "metadata": {},
   "outputs": [
    {
     "name": "stderr",
     "output_type": "stream",
     "text": [
      "UsageError: Line magic function `%hvplot` not found.\n"
     ]
    }
   ],
   "source": [
    "# import depenedencies\n",
    "import pandas as pd\n",
    "import numpy as np\n",
    "import matplotlib.pyplot as plt\n",
    "import hvplot.pandas\n",
    "import scipy.stats as stats"
   ]
  },
  {
   "cell_type": "code",
   "execution_count": 49,
   "metadata": {},
   "outputs": [
    {
     "data": {
      "text/html": [
       "<div>\n",
       "<style scoped>\n",
       "    .dataframe tbody tr th:only-of-type {\n",
       "        vertical-align: middle;\n",
       "    }\n",
       "\n",
       "    .dataframe tbody tr th {\n",
       "        vertical-align: top;\n",
       "    }\n",
       "\n",
       "    .dataframe thead th {\n",
       "        text-align: right;\n",
       "    }\n",
       "</style>\n",
       "<table border=\"1\" class=\"dataframe\">\n",
       "  <thead>\n",
       "    <tr style=\"text-align: right;\">\n",
       "      <th></th>\n",
       "      <th>YearStart</th>\n",
       "      <th>YearEnd</th>\n",
       "      <th>LocationAbbr</th>\n",
       "      <th>LocationDesc</th>\n",
       "      <th>Datasource</th>\n",
       "      <th>Class</th>\n",
       "      <th>Topic</th>\n",
       "      <th>Question</th>\n",
       "      <th>Response</th>\n",
       "      <th>Data_Value_Unit</th>\n",
       "      <th>...</th>\n",
       "      <th>QuestionID</th>\n",
       "      <th>ResponseID</th>\n",
       "      <th>LocationID</th>\n",
       "      <th>StratificationCategoryID1</th>\n",
       "      <th>StratificationID1</th>\n",
       "      <th>StratificationCategoryID2</th>\n",
       "      <th>StratificationID2</th>\n",
       "      <th>StratificationCategoryID3</th>\n",
       "      <th>StratificationID3</th>\n",
       "      <th>Report</th>\n",
       "    </tr>\n",
       "  </thead>\n",
       "  <tbody>\n",
       "    <tr>\n",
       "      <th>0</th>\n",
       "      <td>2015</td>\n",
       "      <td>2020</td>\n",
       "      <td>AL</td>\n",
       "      <td>Alabama</td>\n",
       "      <td>BRFSS</td>\n",
       "      <td>Cognitive Decline</td>\n",
       "      <td>Talked with health care professional about sub...</td>\n",
       "      <td>Percentage of older adults with subjective cog...</td>\n",
       "      <td>NaN</td>\n",
       "      <td>%</td>\n",
       "      <td>...</td>\n",
       "      <td>Q42</td>\n",
       "      <td>NaN</td>\n",
       "      <td>1</td>\n",
       "      <td>AGE</td>\n",
       "      <td>65PLUS</td>\n",
       "      <td>RACE</td>\n",
       "      <td>NAA</td>\n",
       "      <td>NaN</td>\n",
       "      <td>NaN</td>\n",
       "      <td>NaN</td>\n",
       "    </tr>\n",
       "    <tr>\n",
       "      <th>1</th>\n",
       "      <td>2015</td>\n",
       "      <td>2015</td>\n",
       "      <td>AL</td>\n",
       "      <td>Alabama</td>\n",
       "      <td>BRFSS</td>\n",
       "      <td>Cognitive Decline</td>\n",
       "      <td>Need assistance with day-to-day activities bec...</td>\n",
       "      <td>Percentage of older adults who reported that a...</td>\n",
       "      <td>NaN</td>\n",
       "      <td>%</td>\n",
       "      <td>...</td>\n",
       "      <td>Q41</td>\n",
       "      <td>NaN</td>\n",
       "      <td>1</td>\n",
       "      <td>AGE</td>\n",
       "      <td>5064</td>\n",
       "      <td>RACE</td>\n",
       "      <td>WHT</td>\n",
       "      <td>NaN</td>\n",
       "      <td>NaN</td>\n",
       "      <td>NaN</td>\n",
       "    </tr>\n",
       "    <tr>\n",
       "      <th>2</th>\n",
       "      <td>2015</td>\n",
       "      <td>2020</td>\n",
       "      <td>AL</td>\n",
       "      <td>Alabama</td>\n",
       "      <td>BRFSS</td>\n",
       "      <td>Cognitive Decline</td>\n",
       "      <td>Need assistance with day-to-day activities bec...</td>\n",
       "      <td>Percentage of older adults who reported that a...</td>\n",
       "      <td>NaN</td>\n",
       "      <td>%</td>\n",
       "      <td>...</td>\n",
       "      <td>Q41</td>\n",
       "      <td>NaN</td>\n",
       "      <td>1</td>\n",
       "      <td>AGE</td>\n",
       "      <td>AGE_OVERALL</td>\n",
       "      <td>GENDER</td>\n",
       "      <td>MALE</td>\n",
       "      <td>NaN</td>\n",
       "      <td>NaN</td>\n",
       "      <td>NaN</td>\n",
       "    </tr>\n",
       "    <tr>\n",
       "      <th>3</th>\n",
       "      <td>2020</td>\n",
       "      <td>2020</td>\n",
       "      <td>AK</td>\n",
       "      <td>Alaska</td>\n",
       "      <td>BRFSS</td>\n",
       "      <td>Cognitive Decline</td>\n",
       "      <td>Functional difficulties associated with subjec...</td>\n",
       "      <td>Percentage of older adults who reported subjec...</td>\n",
       "      <td>NaN</td>\n",
       "      <td>%</td>\n",
       "      <td>...</td>\n",
       "      <td>Q31</td>\n",
       "      <td>NaN</td>\n",
       "      <td>2</td>\n",
       "      <td>AGE</td>\n",
       "      <td>AGE_OVERALL</td>\n",
       "      <td>RACE</td>\n",
       "      <td>ASN</td>\n",
       "      <td>NaN</td>\n",
       "      <td>NaN</td>\n",
       "      <td>NaN</td>\n",
       "    </tr>\n",
       "    <tr>\n",
       "      <th>4</th>\n",
       "      <td>2020</td>\n",
       "      <td>2020</td>\n",
       "      <td>AK</td>\n",
       "      <td>Alaska</td>\n",
       "      <td>BRFSS</td>\n",
       "      <td>Cognitive Decline</td>\n",
       "      <td>Need assistance with day-to-day activities bec...</td>\n",
       "      <td>Percentage of older adults who reported that a...</td>\n",
       "      <td>NaN</td>\n",
       "      <td>%</td>\n",
       "      <td>...</td>\n",
       "      <td>Q41</td>\n",
       "      <td>NaN</td>\n",
       "      <td>2</td>\n",
       "      <td>AGE</td>\n",
       "      <td>5064</td>\n",
       "      <td>RACE</td>\n",
       "      <td>ASN</td>\n",
       "      <td>NaN</td>\n",
       "      <td>NaN</td>\n",
       "      <td>NaN</td>\n",
       "    </tr>\n",
       "  </tbody>\n",
       "</table>\n",
       "<p>5 rows × 37 columns</p>\n",
       "</div>"
      ],
      "text/plain": [
       "   YearStart  YearEnd LocationAbbr LocationDesc Datasource              Class  \\\n",
       "0       2015     2020           AL      Alabama      BRFSS  Cognitive Decline   \n",
       "1       2015     2015           AL      Alabama      BRFSS  Cognitive Decline   \n",
       "2       2015     2020           AL      Alabama      BRFSS  Cognitive Decline   \n",
       "3       2020     2020           AK       Alaska      BRFSS  Cognitive Decline   \n",
       "4       2020     2020           AK       Alaska      BRFSS  Cognitive Decline   \n",
       "\n",
       "                                               Topic  \\\n",
       "0  Talked with health care professional about sub...   \n",
       "1  Need assistance with day-to-day activities bec...   \n",
       "2  Need assistance with day-to-day activities bec...   \n",
       "3  Functional difficulties associated with subjec...   \n",
       "4  Need assistance with day-to-day activities bec...   \n",
       "\n",
       "                                            Question  Response  \\\n",
       "0  Percentage of older adults with subjective cog...       NaN   \n",
       "1  Percentage of older adults who reported that a...       NaN   \n",
       "2  Percentage of older adults who reported that a...       NaN   \n",
       "3  Percentage of older adults who reported subjec...       NaN   \n",
       "4  Percentage of older adults who reported that a...       NaN   \n",
       "\n",
       "  Data_Value_Unit  ... QuestionID ResponseID  LocationID  \\\n",
       "0               %  ...        Q42        NaN           1   \n",
       "1               %  ...        Q41        NaN           1   \n",
       "2               %  ...        Q41        NaN           1   \n",
       "3               %  ...        Q31        NaN           2   \n",
       "4               %  ...        Q41        NaN           2   \n",
       "\n",
       "   StratificationCategoryID1 StratificationID1 StratificationCategoryID2  \\\n",
       "0                        AGE            65PLUS                      RACE   \n",
       "1                        AGE              5064                      RACE   \n",
       "2                        AGE       AGE_OVERALL                    GENDER   \n",
       "3                        AGE       AGE_OVERALL                      RACE   \n",
       "4                        AGE              5064                      RACE   \n",
       "\n",
       "  StratificationID2 StratificationCategoryID3  StratificationID3 Report  \n",
       "0               NAA                       NaN                NaN    NaN  \n",
       "1               WHT                       NaN                NaN    NaN  \n",
       "2              MALE                       NaN                NaN    NaN  \n",
       "3               ASN                       NaN                NaN    NaN  \n",
       "4               ASN                       NaN                NaN    NaN  \n",
       "\n",
       "[5 rows x 37 columns]"
      ]
     },
     "execution_count": 49,
     "metadata": {},
     "output_type": "execute_result"
    }
   ],
   "source": [
    "# Import csv file\n",
    "healthy_aging_df = pd.read_csv('Alzheimer_s_Disease_and_Healthy_Aging_Indicators__Cognitive_Decline.csv', low_memory=False)\n",
    "healthy_aging_df.head()"
   ]
  },
  {
   "cell_type": "code",
   "execution_count": 3,
   "metadata": {},
   "outputs": [
    {
     "data": {
      "text/plain": [
       "array(['Alabama', 'Alaska', 'Arizona', 'Arkansas', 'California',\n",
       "       'Colorado', 'Connecticut', 'Delaware', 'District of Columbia',\n",
       "       'Florida', 'Hawaii', 'Georgia', 'Illinois', 'Idaho', 'Indiana',\n",
       "       'Kentucky', 'Kansas', 'Iowa', 'Louisiana', 'Maryland', 'Maine',\n",
       "       'Massachusetts', 'Midwest', 'Michigan', 'Nebraska', 'Nevada',\n",
       "       'Mississippi', 'Minnesota', 'Missouri', 'Tennessee', 'Montana',\n",
       "       'New Hampshire', 'New Jersey', 'New Mexico', 'New York',\n",
       "       'Northeast', 'North Dakota', 'North Carolina', 'Pennsylvania',\n",
       "       'Ohio', 'Oklahoma', 'Oregon', 'Puerto Rico', 'Rhode Island',\n",
       "       'South Carolina', 'South', 'South Dakota', 'Texas',\n",
       "       'United States, DC & Territories', 'Utah', 'Vermont', 'West',\n",
       "       'Virginia', 'Washington', 'West Virginia', 'Wyoming', 'Wisconsin'],\n",
       "      dtype=object)"
      ]
     },
     "execution_count": 3,
     "metadata": {},
     "output_type": "execute_result"
    }
   ],
   "source": [
    "# get unique values for Response column\n",
    "healthy_aging_df['LocationDesc'].unique()"
   ]
  },
  {
   "cell_type": "code",
   "execution_count": 4,
   "metadata": {},
   "outputs": [
    {
     "data": {
      "text/html": [
       "<div>\n",
       "<style scoped>\n",
       "    .dataframe tbody tr th:only-of-type {\n",
       "        vertical-align: middle;\n",
       "    }\n",
       "\n",
       "    .dataframe tbody tr th {\n",
       "        vertical-align: top;\n",
       "    }\n",
       "\n",
       "    .dataframe thead th {\n",
       "        text-align: right;\n",
       "    }\n",
       "</style>\n",
       "<table border=\"1\" class=\"dataframe\">\n",
       "  <thead>\n",
       "    <tr style=\"text-align: right;\">\n",
       "      <th></th>\n",
       "      <th>YearStart</th>\n",
       "      <th>YearEnd</th>\n",
       "      <th>State</th>\n",
       "      <th>Topic</th>\n",
       "      <th>Percentage</th>\n",
       "      <th>Age</th>\n",
       "    </tr>\n",
       "  </thead>\n",
       "  <tbody>\n",
       "    <tr>\n",
       "      <th>1</th>\n",
       "      <td>2015</td>\n",
       "      <td>2015</td>\n",
       "      <td>Alabama</td>\n",
       "      <td>Need assistance with day-to-day activities bec...</td>\n",
       "      <td>41.8</td>\n",
       "      <td>5064</td>\n",
       "    </tr>\n",
       "    <tr>\n",
       "      <th>2</th>\n",
       "      <td>2015</td>\n",
       "      <td>2020</td>\n",
       "      <td>Alabama</td>\n",
       "      <td>Need assistance with day-to-day activities bec...</td>\n",
       "      <td>39.3</td>\n",
       "      <td>AGE_OVERALL</td>\n",
       "    </tr>\n",
       "    <tr>\n",
       "      <th>5</th>\n",
       "      <td>2015</td>\n",
       "      <td>2020</td>\n",
       "      <td>Arizona</td>\n",
       "      <td>Talked with health care professional about sub...</td>\n",
       "      <td>56.6</td>\n",
       "      <td>5064</td>\n",
       "    </tr>\n",
       "    <tr>\n",
       "      <th>10</th>\n",
       "      <td>2015</td>\n",
       "      <td>2020</td>\n",
       "      <td>Arizona</td>\n",
       "      <td>Subjective cognitive decline or memory loss am...</td>\n",
       "      <td>11.3</td>\n",
       "      <td>AGE_OVERALL</td>\n",
       "    </tr>\n",
       "    <tr>\n",
       "      <th>14</th>\n",
       "      <td>2019</td>\n",
       "      <td>2019</td>\n",
       "      <td>Alabama</td>\n",
       "      <td>Functional difficulties associated with subjec...</td>\n",
       "      <td>52.3</td>\n",
       "      <td>AGE_OVERALL</td>\n",
       "    </tr>\n",
       "  </tbody>\n",
       "</table>\n",
       "</div>"
      ],
      "text/plain": [
       "    YearStart  YearEnd    State  \\\n",
       "1        2015     2015  Alabama   \n",
       "2        2015     2020  Alabama   \n",
       "5        2015     2020  Arizona   \n",
       "10       2015     2020  Arizona   \n",
       "14       2019     2019  Alabama   \n",
       "\n",
       "                                                Topic  Percentage          Age  \n",
       "1   Need assistance with day-to-day activities bec...        41.8         5064  \n",
       "2   Need assistance with day-to-day activities bec...        39.3  AGE_OVERALL  \n",
       "5   Talked with health care professional about sub...        56.6         5064  \n",
       "10  Subjective cognitive decline or memory loss am...        11.3  AGE_OVERALL  \n",
       "14  Functional difficulties associated with subjec...        52.3  AGE_OVERALL  "
      ]
     },
     "execution_count": 4,
     "metadata": {},
     "output_type": "execute_result"
    }
   ],
   "source": [
    "# create a new dataframe with only the columns we need\n",
    "clean_healthy_aging_df = healthy_aging_df[['YearStart', 'YearEnd', 'LocationDesc', 'Topic', 'Data_Value', 'StratificationID1']].copy()\n",
    "\n",
    "# rename columns\n",
    "clean_healthy_aging_df = clean_healthy_aging_df.rename(columns={'LocationDesc': 'State', 'Data_Value': 'Percentage', 'StratificationID1': 'Age'})\n",
    "\n",
    "# drop rows with null values\n",
    "clean_healthy_aging_df = clean_healthy_aging_df.dropna()\n",
    "\n",
    "clean_healthy_aging_df.head()"
   ]
  },
  {
   "cell_type": "code",
   "execution_count": 74,
   "metadata": {},
   "outputs": [
    {
     "data": {
      "text/plain": [
       "array(['Need assistance with day-to-day activities because of subjective cognitive decline or memory loss',\n",
       "       'Subjective cognitive decline or memory loss among older adults',\n",
       "       'Functional difficulties associated with subjective cognitive decline or memory loss among older adults',\n",
       "       'Talked with health care professional about subjective cognitive decline or memory loss'],\n",
       "      dtype=object)"
      ]
     },
     "execution_count": 74,
     "metadata": {},
     "output_type": "execute_result"
    }
   ],
   "source": [
    "# Isolate the data for ages 65 and older\n",
    "over64_df = clean_healthy_aging_df.loc[clean_healthy_aging_df['Age'] == '65PLUS']\n",
    "# Isolate the data for ages 50-64\n",
    "under65_df = clean_healthy_aging_df.loc[clean_healthy_aging_df['Age'] == '5064']\n",
    "# Isolate the data for ages oversll\n",
    "all_ages_df = clean_healthy_aging_df.loc[clean_healthy_aging_df['Age'] == 'AGE_OVERALL']\n",
    "\n",
    "# remove rows for unwanted states\n",
    "over64_df = over64_df.loc[over64_df['State'] != 'District of Columbia']\n",
    "over64_df = over64_df.loc[over64_df['State'] != 'Midwest']\n",
    "over64_df = over64_df.loc[over64_df['State'] != 'Northeast']\n",
    "over64_df = over64_df.loc[over64_df['State'] != 'South']\n",
    "over64_df = over64_df.loc[over64_df['State'] != 'West']\n",
    "over64_df = over64_df.loc[over64_df['State'] != 'United States, DC & Territories']\n",
    "under65_df = under65_df.loc[under65_df['State'] != 'District of Columbia']\n",
    "under65_df = under65_df.loc[under65_df['State'] != 'Midwest']\n",
    "under65_df = under65_df.loc[under65_df['State'] != 'Northeast']\n",
    "under65_df = under65_df.loc[under65_df['State'] != 'South']\n",
    "under65_df = under65_df.loc[under65_df['State'] != 'West']\n",
    "under65_df = under65_df.loc[under65_df['State'] != 'United States, DC & Territories']\n",
    "all_ages_df = all_ages_df.loc[all_ages_df['State'] != 'District of Columbia']\n",
    "all_ages_df = all_ages_df.loc[all_ages_df['State'] != 'Midwest']\n",
    "all_ages_df = all_ages_df.loc[all_ages_df['State'] != 'Northeast']\n",
    "all_ages_df = all_ages_df.loc[all_ages_df['State'] != 'South']\n",
    "all_ages_df = all_ages_df.loc[all_ages_df['State'] != 'West']\n",
    "all_ages_df = all_ages_df.loc[all_ages_df['State'] != 'United States, DC & Territories']\n",
    "\n",
    "# display unique values for Topic column\n",
    "all_ages_df['Topic'].unique()"
   ]
  },
  {
   "cell_type": "code",
   "execution_count": 76,
   "metadata": {},
   "outputs": [],
   "source": [
    "# replace values in Topic column\n",
    "over64_df['Topic'] = over64_df['Topic'].replace({'Subjective cognitive decline or memory loss among older adults': 'Officially Diagnosed',\n",
    "                                                 'Functional difficulties associated with subjective cognitive decline or memory loss among older adults': 'Experiencing Functional Difficulties', \n",
    "                                                 'Talked with health care professional about subjective cognitive decline or memory loss': 'Talked with a Doctor', \n",
    "                                                 'Need assistance with day-to-day activities because of subjective cognitive decline or memory loss': 'Assistance with Daily Living'})\n",
    "under65_df['Topic'] = under65_df['Topic'].replace({'Subjective cognitive decline or memory loss among older adults': 'Officially Diagnosed',\n",
    "                                                    'Functional difficulties associated with subjective cognitive decline or memory loss among older adults': 'Experiencing Functional Difficulties', \n",
    "                                                    'Talked with health care professional about subjective cognitive decline or memory loss': 'Talked with a Doctor', \n",
    "                                                    'Need assistance with day-to-day activities because of subjective cognitive decline or memory loss': 'Assistance with Daily Living'})\n",
    "all_ages_df['Topic'] = all_ages_df['Topic'].replace({'Subjective cognitive decline or memory loss among older adults': 'Officially Diagnosed',\n",
    "                                                 'Functional difficulties associated with subjective cognitive decline or memory loss among older adults': 'Experiencing Functional Difficulties', \n",
    "                                                 'Talked with health care professional about subjective cognitive decline or memory loss': 'Talked with a Doctor', \n",
    "                                                 'Need assistance with day-to-day activities because of subjective cognitive decline or memory loss': 'Assistance with Daily Living'})"
   ]
  },
  {
   "cell_type": "code",
   "execution_count": 77,
   "metadata": {},
   "outputs": [
    {
     "data": {},
     "metadata": {},
     "output_type": "display_data"
    },
    {
     "data": {
      "application/vnd.holoviews_exec.v0+json": "",
      "text/html": [
       "<div id='8432'>\n",
       "  <div class=\"bk-root\" id=\"3c7f8491-f513-4a14-aeb6-ffb4c8d5b6bc\" data-root-id=\"8432\"></div>\n",
       "</div>\n",
       "<script type=\"application/javascript\">(function(root) {\n",
       "  function embed_document(root) {\n",
       "    var docs_json = {\"a265d523-558f-480f-be7d-27b8053ff370\":{\"defs\":[{\"extends\":null,\"module\":null,\"name\":\"ReactiveHTML1\",\"overrides\":[],\"properties\":[]},{\"extends\":null,\"module\":null,\"name\":\"FlexBox1\",\"overrides\":[],\"properties\":[{\"default\":\"flex-start\",\"kind\":null,\"name\":\"align_content\"},{\"default\":\"flex-start\",\"kind\":null,\"name\":\"align_items\"},{\"default\":\"row\",\"kind\":null,\"name\":\"flex_direction\"},{\"default\":\"wrap\",\"kind\":null,\"name\":\"flex_wrap\"},{\"default\":\"flex-start\",\"kind\":null,\"name\":\"justify_content\"}]},{\"extends\":null,\"module\":null,\"name\":\"GridStack1\",\"overrides\":[],\"properties\":[{\"default\":\"warn\",\"kind\":null,\"name\":\"mode\"},{\"default\":null,\"kind\":null,\"name\":\"ncols\"},{\"default\":null,\"kind\":null,\"name\":\"nrows\"},{\"default\":true,\"kind\":null,\"name\":\"allow_resize\"},{\"default\":true,\"kind\":null,\"name\":\"allow_drag\"},{\"default\":[],\"kind\":null,\"name\":\"state\"}]},{\"extends\":null,\"module\":null,\"name\":\"click1\",\"overrides\":[],\"properties\":[{\"default\":\"\",\"kind\":null,\"name\":\"terminal_output\"},{\"default\":\"\",\"kind\":null,\"name\":\"debug_name\"},{\"default\":0,\"kind\":null,\"name\":\"clears\"}]},{\"extends\":null,\"module\":null,\"name\":\"NotificationAreaBase1\",\"overrides\":[],\"properties\":[{\"default\":\"bottom-right\",\"kind\":null,\"name\":\"position\"},{\"default\":0,\"kind\":null,\"name\":\"_clear\"}]},{\"extends\":null,\"module\":null,\"name\":\"NotificationArea1\",\"overrides\":[],\"properties\":[{\"default\":[],\"kind\":null,\"name\":\"notifications\"},{\"default\":\"bottom-right\",\"kind\":null,\"name\":\"position\"},{\"default\":0,\"kind\":null,\"name\":\"_clear\"},{\"default\":[{\"background\":\"#ffc107\",\"icon\":{\"className\":\"fas fa-exclamation-triangle\",\"color\":\"white\",\"tagName\":\"i\"},\"type\":\"warning\"},{\"background\":\"#007bff\",\"icon\":{\"className\":\"fas fa-info-circle\",\"color\":\"white\",\"tagName\":\"i\"},\"type\":\"info\"}],\"kind\":null,\"name\":\"types\"}]},{\"extends\":null,\"module\":null,\"name\":\"Notification\",\"overrides\":[],\"properties\":[{\"default\":null,\"kind\":null,\"name\":\"background\"},{\"default\":3000,\"kind\":null,\"name\":\"duration\"},{\"default\":null,\"kind\":null,\"name\":\"icon\"},{\"default\":\"\",\"kind\":null,\"name\":\"message\"},{\"default\":null,\"kind\":null,\"name\":\"notification_type\"},{\"default\":false,\"kind\":null,\"name\":\"_destroyed\"}]},{\"extends\":null,\"module\":null,\"name\":\"TemplateActions1\",\"overrides\":[],\"properties\":[{\"default\":0,\"kind\":null,\"name\":\"open_modal\"},{\"default\":0,\"kind\":null,\"name\":\"close_modal\"}]},{\"extends\":null,\"module\":null,\"name\":\"MaterialTemplateActions1\",\"overrides\":[],\"properties\":[{\"default\":0,\"kind\":null,\"name\":\"open_modal\"},{\"default\":0,\"kind\":null,\"name\":\"close_modal\"}]}],\"roots\":{\"references\":[{\"attributes\":{\"margin\":[5,5,5,5],\"name\":\"VSpacer07350\",\"sizing_mode\":\"stretch_height\"},\"id\":\"8512\",\"type\":\"Spacer\"},{\"attributes\":{\"data\":{\"Percentage\":{\"__ndarray__\":\"UbgehesRQkBdj8L1KNw6QJuZmZmZGTxAIyIiIiKCP0CamZmZmRlCQM3MzMzMzDJA7xvWvmHtNUBf8RVf8ZU5QAd1UAd10D5AmJaWlpYWP0BFRUVFRUU4QGdmZmZmpjZAzczMzMxsQkCJiIiIiGg2QBzWvmHtGzNAZ2ZmZmbmN0B7FK5H4XpCQO/u7u7u/kFALPnFkl8sMUClVmqlVuo3QDMzMzMz0zZAC73QC71QPEBFRERERAQwQIbyGsprKEVAiIiIiIgYQUAAAAAAAOA6QFVVVVVV1TdAAAAAAACAOECfEuQpQZ46QHh3d3d3dzdABzptoNOGPUCQwvUoXI8/QLu7u7u7m0JAXY/C9SgcNUAAAAAAAGA1QEjhehSuxz5AufKAZJ2rNkAAAAAAAEA4QHoUrkfhekpAIyIiIiKCN0DeyI3cyA0+QPiKr/iKrzlAmpmZmZnZPUDNzMzMzCxAQJqZmZmZeTRAAAAAAACAPEA0MzMzM3M0QHd3d3d3VzhAmZmZmZlpQECZmZmZmRkyQFuPwvUonDNA\",\"dtype\":\"float64\",\"order\":\"little\",\"shape\":[51]},\"State\":[\"Alabama\",\"Alaska\",\"Arizona\",\"Arkansas\",\"California\",\"Colorado\",\"Connecticut\",\"Delaware\",\"Florida\",\"Georgia\",\"Hawaii\",\"Idaho\",\"Illinois\",\"Indiana\",\"Iowa\",\"Kansas\",\"Kentucky\",\"Louisiana\",\"Maine\",\"Maryland\",\"Massachusetts\",\"Michigan\",\"Minnesota\",\"Mississippi\",\"Missouri\",\"Montana\",\"Nebraska\",\"Nevada\",\"New Hampshire\",\"New Jersey\",\"New Mexico\",\"New York\",\"North Carolina\",\"North Dakota\",\"Ohio\",\"Oklahoma\",\"Oregon\",\"Pennsylvania\",\"Puerto Rico\",\"Rhode Island\",\"South Carolina\",\"South Dakota\",\"Tennessee\",\"Texas\",\"Utah\",\"Vermont\",\"Virginia\",\"Washington\",\"West Virginia\",\"Wisconsin\",\"Wyoming\"],\"color\":{\"__ndarray__\":\"UbgehesRQkBdj8L1KNw6QJuZmZmZGTxAIyIiIiKCP0CamZmZmRlCQM3MzMzMzDJA7xvWvmHtNUBf8RVf8ZU5QAd1UAd10D5AmJaWlpYWP0BFRUVFRUU4QGdmZmZmpjZAzczMzMxsQkCJiIiIiGg2QBzWvmHtGzNAZ2ZmZmbmN0B7FK5H4XpCQO/u7u7u/kFALPnFkl8sMUClVmqlVuo3QDMzMzMz0zZAC73QC71QPEBFRERERAQwQIbyGsprKEVAiIiIiIgYQUAAAAAAAOA6QFVVVVVV1TdAAAAAAACAOECfEuQpQZ46QHh3d3d3dzdABzptoNOGPUCQwvUoXI8/QLu7u7u7m0JAXY/C9SgcNUAAAAAAAGA1QEjhehSuxz5AufKAZJ2rNkAAAAAAAEA4QHoUrkfhekpAIyIiIiKCN0DeyI3cyA0+QPiKr/iKrzlAmpmZmZnZPUDNzMzMzCxAQJqZmZmZeTRAAAAAAACAPEA0MzMzM3M0QHd3d3d3VzhAmZmZmZlpQECZmZmZmRkyQFuPwvUonDNA\",\"dtype\":\"float64\",\"order\":\"little\",\"shape\":[51]}},\"selected\":{\"id\":\"8468\"},\"selection_policy\":{\"id\":\"8507\"}},\"id\":\"8467\",\"type\":\"ColumnDataSource\"},{\"attributes\":{\"fill_color\":{\"field\":\"color\",\"transform\":{\"id\":\"8466\"}},\"hatch_color\":{\"field\":\"color\",\"transform\":{\"id\":\"8466\"}},\"top\":{\"field\":\"Percentage\"},\"width\":{\"value\":0.8},\"x\":{\"field\":\"State\"}},\"id\":\"8470\",\"type\":\"VBar\"},{\"attributes\":{\"bottom_units\":\"screen\",\"coordinates\":null,\"fill_alpha\":0.5,\"fill_color\":\"lightgrey\",\"group\":null,\"left_units\":\"screen\",\"level\":\"overlay\",\"line_alpha\":1.0,\"line_color\":\"black\",\"line_dash\":[4,4],\"line_width\":2,\"right_units\":\"screen\",\"syncable\":false,\"top_units\":\"screen\"},\"id\":\"8458\",\"type\":\"BoxAnnotation\"},{\"attributes\":{},\"id\":\"8453\",\"type\":\"SaveTool\"},{\"attributes\":{},\"id\":\"8454\",\"type\":\"PanTool\"},{\"attributes\":{},\"id\":\"8457\",\"type\":\"ResetTool\"},{\"attributes\":{\"children\":[{\"id\":\"8512\"},{\"id\":\"8513\"},{\"id\":\"8515\"}],\"margin\":[0,0,0,0],\"name\":\"Column07352\"},\"id\":\"8511\",\"type\":\"Column\"},{\"attributes\":{\"margin\":[5,5,5,5],\"name\":\"HSpacer07354\",\"sizing_mode\":\"stretch_width\"},\"id\":\"8510\",\"type\":\"Spacer\"},{\"attributes\":{},\"id\":\"8455\",\"type\":\"WheelZoomTool\"},{\"attributes\":{},\"id\":\"8507\",\"type\":\"UnionRenderers\"},{\"attributes\":{\"fill_color\":{\"field\":\"color\",\"transform\":{\"id\":\"8466\"}},\"hatch_color\":{\"field\":\"color\",\"transform\":{\"id\":\"8466\"}},\"top\":{\"field\":\"Percentage\"},\"width\":{\"value\":0.8},\"x\":{\"field\":\"State\"}},\"id\":\"8473\",\"type\":\"VBar\"},{\"attributes\":{\"coordinates\":null,\"group\":null,\"text\":\"Percentage of Adults 65 or older with Cognitive Decline by State\",\"text_color\":\"black\",\"text_font_size\":\"12pt\"},\"id\":\"8438\",\"type\":\"Title\"},{\"attributes\":{\"children\":[{\"id\":\"8514\"}],\"css_classes\":[\"panel-widget-box\"],\"margin\":[5,5,5,5],\"name\":\"WidgetBox07345\"},\"id\":\"8513\",\"type\":\"Column\"},{\"attributes\":{\"fill_color\":{\"field\":\"color\",\"transform\":{\"id\":\"8466\"}},\"hatch_color\":{\"field\":\"color\",\"transform\":{\"id\":\"8466\"}},\"top\":{\"field\":\"Percentage\"},\"width\":{\"value\":0.8},\"x\":{\"field\":\"State\"}},\"id\":\"8472\",\"type\":\"VBar\"},{\"attributes\":{\"overlay\":{\"id\":\"8458\"}},\"id\":\"8456\",\"type\":\"BoxZoomTool\"},{\"attributes\":{},\"id\":\"8484\",\"type\":\"AllLabels\"},{\"attributes\":{},\"id\":\"8480\",\"type\":\"CategoricalTickFormatter\"},{\"attributes\":{\"margin\":[20,20,20,20],\"min_width\":250,\"options\":[\"Assistance with Daily Living\",\"Experiencing Functional Difficulties\",\"Officially Diagnosed\",\"Talked with a Doctor\"],\"title\":\"Topic\",\"value\":\"Assistance with Daily Living\",\"width\":250},\"id\":\"8514\",\"type\":\"panel.models.widgets.CustomSelect\"},{\"attributes\":{},\"id\":\"8468\",\"type\":\"Selection\"},{\"attributes\":{\"axis_label\":\"State\",\"coordinates\":null,\"formatter\":{\"id\":\"8480\"},\"group\":null,\"major_label_orientation\":1.5707963267948966,\"major_label_policy\":{\"id\":\"8481\"},\"ticker\":{\"id\":\"8447\"}},\"id\":\"8446\",\"type\":\"CategoricalAxis\"},{\"attributes\":{},\"id\":\"8442\",\"type\":\"CategoricalScale\"},{\"attributes\":{\"axis\":{\"id\":\"8446\"},\"coordinates\":null,\"grid_line_color\":null,\"group\":null,\"ticker\":null},\"id\":\"8448\",\"type\":\"Grid\"},{\"attributes\":{\"fill_alpha\":{\"value\":0.1},\"fill_color\":{\"field\":\"color\",\"transform\":{\"id\":\"8466\"}},\"hatch_alpha\":{\"value\":0.1},\"hatch_color\":{\"field\":\"color\",\"transform\":{\"id\":\"8466\"}},\"line_alpha\":{\"value\":0.1},\"top\":{\"field\":\"Percentage\"},\"width\":{\"value\":0.8},\"x\":{\"field\":\"State\"}},\"id\":\"8471\",\"type\":\"VBar\"},{\"attributes\":{\"fill_alpha\":{\"value\":0.2},\"fill_color\":{\"field\":\"color\",\"transform\":{\"id\":\"8466\"}},\"hatch_alpha\":{\"value\":0.2},\"hatch_color\":{\"field\":\"color\",\"transform\":{\"id\":\"8466\"}},\"line_alpha\":{\"value\":0.2},\"top\":{\"field\":\"Percentage\"},\"width\":{\"value\":0.8},\"x\":{\"field\":\"State\"}},\"id\":\"8474\",\"type\":\"VBar\"},{\"attributes\":{},\"id\":\"8503\",\"type\":\"NoOverlap\"},{\"attributes\":{\"end\":56.65433333333333,\"reset_end\":56.65433333333333,\"reset_start\":0.0,\"tags\":[[[\"Percentage\",\"Percentage\",null]]]},\"id\":\"8435\",\"type\":\"Range1d\"},{\"attributes\":{},\"id\":\"8444\",\"type\":\"LinearScale\"},{\"attributes\":{\"margin\":[5,5,5,5],\"name\":\"VSpacer07351\",\"sizing_mode\":\"stretch_height\"},\"id\":\"8515\",\"type\":\"Spacer\"},{\"attributes\":{\"coordinates\":null,\"data_source\":{\"id\":\"8467\"},\"glyph\":{\"id\":\"8470\"},\"group\":null,\"hover_glyph\":{\"id\":\"8473\"},\"muted_glyph\":{\"id\":\"8474\"},\"nonselection_glyph\":{\"id\":\"8471\"},\"selection_glyph\":{\"id\":\"8472\"},\"view\":{\"id\":\"8476\"}},\"id\":\"8475\",\"type\":\"GlyphRenderer\"},{\"attributes\":{},\"id\":\"8450\",\"type\":\"BasicTicker\"},{\"attributes\":{\"factors\":[\"Alabama\",\"Alaska\",\"Arizona\",\"Arkansas\",\"California\",\"Colorado\",\"Connecticut\",\"Delaware\",\"Florida\",\"Georgia\",\"Hawaii\",\"Idaho\",\"Illinois\",\"Indiana\",\"Iowa\",\"Kansas\",\"Kentucky\",\"Louisiana\",\"Maine\",\"Maryland\",\"Massachusetts\",\"Michigan\",\"Minnesota\",\"Mississippi\",\"Missouri\",\"Montana\",\"Nebraska\",\"Nevada\",\"New Hampshire\",\"New Jersey\",\"New Mexico\",\"New York\",\"North Carolina\",\"North Dakota\",\"Ohio\",\"Oklahoma\",\"Oregon\",\"Pennsylvania\",\"Puerto Rico\",\"Rhode Island\",\"South Carolina\",\"South Dakota\",\"Tennessee\",\"Texas\",\"Utah\",\"Vermont\",\"Virginia\",\"Washington\",\"West Virginia\",\"Wisconsin\",\"Wyoming\"],\"tags\":[[[\"State\",\"State\",null]]]},\"id\":\"8434\",\"type\":\"FactorRange\"},{\"attributes\":{},\"id\":\"8483\",\"type\":\"BasicTickFormatter\"},{\"attributes\":{},\"id\":\"8447\",\"type\":\"CategoricalTicker\"},{\"attributes\":{\"high\":52.959999999999994,\"low\":16.01666666666667,\"palette\":[\"#fcfbfd\",\"#fbfafc\",\"#fbfafc\",\"#faf9fc\",\"#faf9fb\",\"#f9f8fb\",\"#f9f8fb\",\"#f9f7fb\",\"#f8f7fa\",\"#f8f7fa\",\"#f7f6fa\",\"#f7f6fa\",\"#f7f5f9\",\"#f6f5f9\",\"#f6f4f9\",\"#f5f4f9\",\"#f5f3f8\",\"#f5f3f8\",\"#f4f3f8\",\"#f4f2f8\",\"#f3f2f7\",\"#f3f1f7\",\"#f3f1f7\",\"#f2f0f7\",\"#f2f0f6\",\"#f1f0f6\",\"#f1eff6\",\"#f0eff6\",\"#f0eef5\",\"#f0eef5\",\"#efedf5\",\"#efedf5\",\"#eeecf4\",\"#eeecf4\",\"#edebf4\",\"#ecebf4\",\"#eceaf3\",\"#ebe9f3\",\"#eae9f3\",\"#eae8f2\",\"#e9e8f2\",\"#e8e7f2\",\"#e8e6f1\",\"#e7e6f1\",\"#e7e5f1\",\"#e6e5f0\",\"#e5e4f0\",\"#e5e3f0\",\"#e4e3ef\",\"#e3e2ef\",\"#e3e2ef\",\"#e2e1ef\",\"#e1e1ee\",\"#e1e0ee\",\"#e0dfee\",\"#dfdfed\",\"#dfdeed\",\"#dedeed\",\"#ddddec\",\"#dddcec\",\"#dcdcec\",\"#dbdbeb\",\"#dbdbeb\",\"#dadaeb\",\"#d9d9ea\",\"#d8d8ea\",\"#d7d7e9\",\"#d6d7e9\",\"#d6d6e9\",\"#d5d5e8\",\"#d4d4e8\",\"#d3d3e7\",\"#d2d2e7\",\"#d1d1e6\",\"#d0d0e6\",\"#cfcfe5\",\"#cecee5\",\"#cdcde4\",\"#cccde4\",\"#cbcce3\",\"#cacbe3\",\"#c9cae2\",\"#c8c9e2\",\"#c7c8e1\",\"#c6c7e1\",\"#c6c6e1\",\"#c5c5e0\",\"#c4c4e0\",\"#c3c3df\",\"#c2c3df\",\"#c1c2de\",\"#c0c1de\",\"#bfc0dd\",\"#bebfdd\",\"#bdbedc\",\"#bcbddc\",\"#bbbcdb\",\"#babbdb\",\"#b9bada\",\"#b8b9d9\",\"#b7b8d9\",\"#b6b7d8\",\"#b6b6d8\",\"#b5b4d7\",\"#b4b3d6\",\"#b3b2d6\",\"#b2b1d5\",\"#b1b0d4\",\"#b0afd4\",\"#afaed3\",\"#aeadd2\",\"#adacd2\",\"#acabd1\",\"#aba9d1\",\"#aaa8d0\",\"#a9a7cf\",\"#a8a6cf\",\"#a7a5ce\",\"#a6a4cd\",\"#a6a3cd\",\"#a5a2cc\",\"#a4a1cc\",\"#a3a0cb\",\"#a29eca\",\"#a19dca\",\"#a09cc9\",\"#9f9bc8\",\"#9e9ac8\",\"#9d99c7\",\"#9c98c7\",\"#9b97c6\",\"#9a96c6\",\"#9995c6\",\"#9894c5\",\"#9794c5\",\"#9693c4\",\"#9692c4\",\"#9591c3\",\"#9490c3\",\"#938fc2\",\"#928ec2\",\"#918dc2\",\"#908cc1\",\"#8f8bc1\",\"#8e8ac0\",\"#8d8ac0\",\"#8c89bf\",\"#8b88bf\",\"#8a87be\",\"#8986be\",\"#8885be\",\"#8784bd\",\"#8683bd\",\"#8682bc\",\"#8581bc\",\"#8480bb\",\"#8380bb\",\"#827fbb\",\"#817eba\",\"#807dba\",\"#7f7cb9\",\"#7e7ab8\",\"#7e79b8\",\"#7d77b7\",\"#7c76b6\",\"#7c75b5\",\"#7b73b5\",\"#7a72b4\",\"#7a71b3\",\"#796fb3\",\"#786eb2\",\"#776cb1\",\"#776bb0\",\"#766ab0\",\"#7568af\",\"#7567ae\",\"#7466ae\",\"#7364ad\",\"#7363ac\",\"#7261ab\",\"#7160ab\",\"#715faa\",\"#705da9\",\"#6f5ca8\",\"#6f5ba8\",\"#6e59a7\",\"#6d58a6\",\"#6c56a6\",\"#6c55a5\",\"#6b54a4\",\"#6a52a3\",\"#6a51a3\",\"#6950a2\",\"#684ea1\",\"#684da1\",\"#674ca0\",\"#664aa0\",\"#66499f\",\"#65489e\",\"#64469e\",\"#63459d\",\"#63449c\",\"#62429c\",\"#61419b\",\"#61409b\",\"#603e9a\",\"#5f3d99\",\"#5f3c99\",\"#5e3a98\",\"#5d3997\",\"#5d3897\",\"#5c3696\",\"#5b3595\",\"#5a3495\",\"#5a3394\",\"#593194\",\"#583093\",\"#582f92\",\"#572d92\",\"#562c91\",\"#562b90\",\"#552990\",\"#54288f\",\"#54278f\",\"#53258e\",\"#52248d\",\"#52238d\",\"#51228c\",\"#50218c\",\"#501f8b\",\"#4f1e8b\",\"#4e1d8a\",\"#4e1c89\",\"#4d1a89\",\"#4c1988\",\"#4c1888\",\"#4b1787\",\"#4a1687\",\"#4a1486\",\"#491386\",\"#481285\",\"#481184\",\"#470f84\",\"#460e83\",\"#460d83\",\"#450c82\",\"#440b82\",\"#440981\",\"#430880\",\"#420780\",\"#42067f\",\"#41047f\",\"#40037e\",\"#40027e\",\"#3f017d\",\"#3f007d\"]},\"id\":\"8466\",\"type\":\"LinearColorMapper\"},{\"attributes\":{\"client_comm_id\":\"12b5de029aec4c97942e53d02e5a9fd3\",\"comm_id\":\"5440dbf6d7464f7b975aec8606976da6\",\"plot_id\":\"8432\"},\"id\":\"8549\",\"type\":\"panel.models.comm_manager.CommManager\"},{\"attributes\":{\"axis_label\":\"Percentage\",\"coordinates\":null,\"formatter\":{\"id\":\"8483\"},\"group\":null,\"major_label_policy\":{\"id\":\"8484\"},\"ticker\":{\"id\":\"8450\"}},\"id\":\"8449\",\"type\":\"LinearAxis\"},{\"attributes\":{\"source\":{\"id\":\"8467\"}},\"id\":\"8476\",\"type\":\"CDSView\"},{\"attributes\":{\"children\":[{\"id\":\"8433\"},{\"id\":\"8437\"},{\"id\":\"8510\"},{\"id\":\"8511\"}],\"margin\":[0,0,0,0],\"name\":\"Row07344\"},\"id\":\"8432\",\"type\":\"Row\"},{\"attributes\":{\"axis\":{\"id\":\"8449\"},\"coordinates\":null,\"dimension\":1,\"grid_line_color\":null,\"group\":null,\"ticker\":null},\"id\":\"8452\",\"type\":\"Grid\"},{\"attributes\":{},\"id\":\"8481\",\"type\":\"AllLabels\"},{\"attributes\":{},\"id\":\"8477\",\"type\":\"BasicTicker\"},{\"attributes\":{\"margin\":[5,5,5,5],\"name\":\"HSpacer07353\",\"sizing_mode\":\"stretch_width\"},\"id\":\"8433\",\"type\":\"Spacer\"},{\"attributes\":{\"bar_line_color\":\"black\",\"color_mapper\":{\"id\":\"8466\"},\"coordinates\":null,\"group\":null,\"label_standoff\":8,\"location\":[0,0],\"major_label_policy\":{\"id\":\"8503\"},\"major_tick_line_color\":\"black\",\"ticker\":{\"id\":\"8477\"}},\"id\":\"8478\",\"type\":\"ColorBar\"},{\"attributes\":{\"callback\":null,\"renderers\":[{\"id\":\"8475\"}],\"tags\":[\"hv_created\"],\"tooltips\":[[\"State\",\"@{State}\"],[\"Percentage\",\"@{Percentage}\"]]},\"id\":\"8436\",\"type\":\"HoverTool\"},{\"attributes\":{\"below\":[{\"id\":\"8446\"}],\"center\":[{\"id\":\"8448\"},{\"id\":\"8452\"}],\"height\":800,\"left\":[{\"id\":\"8449\"}],\"margin\":[5,5,5,5],\"min_border_bottom\":10,\"min_border_left\":10,\"min_border_right\":10,\"min_border_top\":10,\"renderers\":[{\"id\":\"8475\"}],\"right\":[{\"id\":\"8478\"}],\"sizing_mode\":\"fixed\",\"title\":{\"id\":\"8438\"},\"toolbar\":{\"id\":\"8459\"},\"width\":1200,\"x_range\":{\"id\":\"8434\"},\"x_scale\":{\"id\":\"8442\"},\"y_range\":{\"id\":\"8435\"},\"y_scale\":{\"id\":\"8444\"}},\"id\":\"8437\",\"subtype\":\"Figure\",\"type\":\"Plot\"},{\"attributes\":{\"active_drag\":{\"id\":\"8454\"},\"active_scroll\":{\"id\":\"8455\"},\"tools\":[{\"id\":\"8436\"},{\"id\":\"8453\"},{\"id\":\"8454\"},{\"id\":\"8455\"},{\"id\":\"8456\"},{\"id\":\"8457\"}]},\"id\":\"8459\",\"type\":\"Toolbar\"}],\"root_ids\":[\"8432\",\"8549\"]},\"title\":\"Bokeh Application\",\"version\":\"2.4.3\"}};\n",
       "    var render_items = [{\"docid\":\"a265d523-558f-480f-be7d-27b8053ff370\",\"root_ids\":[\"8432\"],\"roots\":{\"8432\":\"3c7f8491-f513-4a14-aeb6-ffb4c8d5b6bc\"}}];\n",
       "    root.Bokeh.embed.embed_items_notebook(docs_json, render_items);\n",
       "    for (const render_item of render_items) {\n",
       "      for (const root_id of render_item.root_ids) {\n",
       "\tconst id_el = document.getElementById(root_id)\n",
       "\tif (id_el.children.length && (id_el.children[0].className === 'bk-root')) {\n",
       "\t  const root_el = id_el.children[0]\n",
       "\t  root_el.id = root_el.id + '-rendered'\n",
       "\t}\n",
       "      }\n",
       "    }\n",
       "  }\n",
       "  if (root.Bokeh !== undefined && root.Bokeh.Panel !== undefined) {\n",
       "    embed_document(root);\n",
       "  } else {\n",
       "    var attempts = 0;\n",
       "    var timer = setInterval(function(root) {\n",
       "      if (root.Bokeh !== undefined && root.Bokeh.Panel !== undefined) {\n",
       "        clearInterval(timer);\n",
       "        embed_document(root);\n",
       "      } else if (document.readyState == \"complete\") {\n",
       "        attempts++;\n",
       "        if (attempts > 200) {\n",
       "          clearInterval(timer);\n",
       "          console.log(\"Bokeh: ERROR: Unable to run BokehJS code because BokehJS library is missing\");\n",
       "        }\n",
       "      }\n",
       "    }, 25, root)\n",
       "  }\n",
       "})(window);</script>"
      ],
      "text/plain": [
       ":DynamicMap   [Topic]\n",
       "   :Bars   [State]   (Percentage)"
      ]
     },
     "execution_count": 77,
     "metadata": {
      "application/vnd.holoviews_exec.v0+json": {
       "id": "8432"
      }
     },
     "output_type": "execute_result"
    }
   ],
   "source": [
    "# plot overall average per state and topic for ages 65 and older\n",
    "older_americans_df = over64_df.groupby(['State', 'Topic']).mean()['Percentage'].reset_index()\n",
    "older_americans_plot = older_americans_df.hvplot.bar(x='State', y='Percentage', xlabel='State', ylabel='Percentage', groupby='Topic', color='Percentage', cmap='Purples', rot=90, height=800, width=1200, c='Percentage', colorbar=True, title='Percentage of Adults 65 or older with Cognitive Decline by State')\n",
    "older_americans_plot"
   ]
  },
  {
   "cell_type": "code",
   "execution_count": 78,
   "metadata": {},
   "outputs": [
    {
     "data": {},
     "metadata": {},
     "output_type": "display_data"
    },
    {
     "data": {
      "application/vnd.holoviews_exec.v0+json": "",
      "text/html": [
       "<div id='8605'>\n",
       "  <div class=\"bk-root\" id=\"3d37ba74-3b95-481d-92d7-5978e3ea95c0\" data-root-id=\"8605\"></div>\n",
       "</div>\n",
       "<script type=\"application/javascript\">(function(root) {\n",
       "  function embed_document(root) {\n",
       "    var docs_json = {\"88b6f984-d500-49ba-9fc1-6abe9ef23924\":{\"defs\":[{\"extends\":null,\"module\":null,\"name\":\"ReactiveHTML1\",\"overrides\":[],\"properties\":[]},{\"extends\":null,\"module\":null,\"name\":\"FlexBox1\",\"overrides\":[],\"properties\":[{\"default\":\"flex-start\",\"kind\":null,\"name\":\"align_content\"},{\"default\":\"flex-start\",\"kind\":null,\"name\":\"align_items\"},{\"default\":\"row\",\"kind\":null,\"name\":\"flex_direction\"},{\"default\":\"wrap\",\"kind\":null,\"name\":\"flex_wrap\"},{\"default\":\"flex-start\",\"kind\":null,\"name\":\"justify_content\"}]},{\"extends\":null,\"module\":null,\"name\":\"GridStack1\",\"overrides\":[],\"properties\":[{\"default\":\"warn\",\"kind\":null,\"name\":\"mode\"},{\"default\":null,\"kind\":null,\"name\":\"ncols\"},{\"default\":null,\"kind\":null,\"name\":\"nrows\"},{\"default\":true,\"kind\":null,\"name\":\"allow_resize\"},{\"default\":true,\"kind\":null,\"name\":\"allow_drag\"},{\"default\":[],\"kind\":null,\"name\":\"state\"}]},{\"extends\":null,\"module\":null,\"name\":\"click1\",\"overrides\":[],\"properties\":[{\"default\":\"\",\"kind\":null,\"name\":\"terminal_output\"},{\"default\":\"\",\"kind\":null,\"name\":\"debug_name\"},{\"default\":0,\"kind\":null,\"name\":\"clears\"}]},{\"extends\":null,\"module\":null,\"name\":\"NotificationAreaBase1\",\"overrides\":[],\"properties\":[{\"default\":\"bottom-right\",\"kind\":null,\"name\":\"position\"},{\"default\":0,\"kind\":null,\"name\":\"_clear\"}]},{\"extends\":null,\"module\":null,\"name\":\"NotificationArea1\",\"overrides\":[],\"properties\":[{\"default\":[],\"kind\":null,\"name\":\"notifications\"},{\"default\":\"bottom-right\",\"kind\":null,\"name\":\"position\"},{\"default\":0,\"kind\":null,\"name\":\"_clear\"},{\"default\":[{\"background\":\"#ffc107\",\"icon\":{\"className\":\"fas fa-exclamation-triangle\",\"color\":\"white\",\"tagName\":\"i\"},\"type\":\"warning\"},{\"background\":\"#007bff\",\"icon\":{\"className\":\"fas fa-info-circle\",\"color\":\"white\",\"tagName\":\"i\"},\"type\":\"info\"}],\"kind\":null,\"name\":\"types\"}]},{\"extends\":null,\"module\":null,\"name\":\"Notification\",\"overrides\":[],\"properties\":[{\"default\":null,\"kind\":null,\"name\":\"background\"},{\"default\":3000,\"kind\":null,\"name\":\"duration\"},{\"default\":null,\"kind\":null,\"name\":\"icon\"},{\"default\":\"\",\"kind\":null,\"name\":\"message\"},{\"default\":null,\"kind\":null,\"name\":\"notification_type\"},{\"default\":false,\"kind\":null,\"name\":\"_destroyed\"}]},{\"extends\":null,\"module\":null,\"name\":\"TemplateActions1\",\"overrides\":[],\"properties\":[{\"default\":0,\"kind\":null,\"name\":\"open_modal\"},{\"default\":0,\"kind\":null,\"name\":\"close_modal\"}]},{\"extends\":null,\"module\":null,\"name\":\"MaterialTemplateActions1\",\"overrides\":[],\"properties\":[{\"default\":0,\"kind\":null,\"name\":\"open_modal\"},{\"default\":0,\"kind\":null,\"name\":\"close_modal\"}]}],\"roots\":{\"references\":[{\"attributes\":{\"coordinates\":null,\"group\":null,\"text\":\"Percentage of Adults 65 or older with Cognitive Decline by State\",\"text_color\":\"black\",\"text_font_size\":\"12pt\"},\"id\":\"8611\",\"type\":\"Title\"},{\"attributes\":{\"fill_alpha\":{\"value\":0.1},\"fill_color\":{\"field\":\"color\",\"transform\":{\"id\":\"8639\"}},\"hatch_alpha\":{\"value\":0.1},\"hatch_color\":{\"field\":\"color\",\"transform\":{\"id\":\"8639\"}},\"line_alpha\":{\"value\":0.1},\"top\":{\"field\":\"Percentage\"},\"width\":{\"value\":0.8},\"x\":{\"field\":\"Topic\"}},\"id\":\"8644\",\"type\":\"VBar\"},{\"attributes\":{},\"id\":\"8656\",\"type\":\"AllLabels\"},{\"attributes\":{\"margin\":[5,5,5,5],\"name\":\"HSpacer07493\",\"sizing_mode\":\"stretch_width\"},\"id\":\"8692\",\"type\":\"Spacer\"},{\"attributes\":{\"axis_label\":\"Level of Cognitive Decline\",\"coordinates\":null,\"formatter\":{\"id\":\"8655\"},\"group\":null,\"major_label_policy\":{\"id\":\"8656\"},\"ticker\":{\"id\":\"8620\"}},\"id\":\"8619\",\"type\":\"CategoricalAxis\"},{\"attributes\":{\"axis_label\":\"Percentage\",\"coordinates\":null,\"formatter\":{\"id\":\"8652\"},\"group\":null,\"major_label_policy\":{\"id\":\"8653\"},\"ticker\":{\"id\":\"8623\"}},\"id\":\"8622\",\"type\":\"LinearAxis\"},{\"attributes\":{},\"id\":\"8615\",\"type\":\"CategoricalScale\"},{\"attributes\":{},\"id\":\"8652\",\"type\":\"BasicTickFormatter\"},{\"attributes\":{\"axis\":{\"id\":\"8619\"},\"coordinates\":null,\"grid_line_color\":null,\"group\":null,\"ticker\":null},\"id\":\"8621\",\"type\":\"Grid\"},{\"attributes\":{\"coordinates\":null,\"data_source\":{\"id\":\"8640\"},\"glyph\":{\"id\":\"8643\"},\"group\":null,\"hover_glyph\":{\"id\":\"8646\"},\"muted_glyph\":{\"id\":\"8647\"},\"nonselection_glyph\":{\"id\":\"8644\"},\"selection_glyph\":{\"id\":\"8645\"},\"view\":{\"id\":\"8649\"}},\"id\":\"8648\",\"type\":\"GlyphRenderer\"},{\"attributes\":{\"margin\":[5,5,5,5],\"name\":\"VSpacer07489\",\"sizing_mode\":\"stretch_height\"},\"id\":\"8694\",\"type\":\"Spacer\"},{\"attributes\":{\"children\":[{\"id\":\"8694\"},{\"id\":\"8695\"},{\"id\":\"8697\"}],\"margin\":[0,0,0,0],\"name\":\"Column07491\"},\"id\":\"8693\",\"type\":\"Column\"},{\"attributes\":{\"label\":{\"field\":\"color\"},\"renderers\":[{\"id\":\"8648\"}]},\"id\":\"8661\",\"type\":\"LegendItem\"},{\"attributes\":{\"end\":40.82266666666666,\"reset_end\":40.82266666666666,\"reset_start\":0.0,\"tags\":[[[\"Percentage\",\"Percentage\",null]]]},\"id\":\"8608\",\"type\":\"Range1d\"},{\"attributes\":{},\"id\":\"8653\",\"type\":\"AllLabels\"},{\"attributes\":{\"bottom_units\":\"screen\",\"coordinates\":null,\"fill_alpha\":0.5,\"fill_color\":\"lightgrey\",\"group\":null,\"left_units\":\"screen\",\"level\":\"overlay\",\"line_alpha\":1.0,\"line_color\":\"black\",\"line_dash\":[4,4],\"line_width\":2,\"right_units\":\"screen\",\"syncable\":false,\"top_units\":\"screen\"},\"id\":\"8631\",\"type\":\"BoxAnnotation\"},{\"attributes\":{},\"id\":\"8617\",\"type\":\"LinearScale\"},{\"attributes\":{\"active_drag\":{\"id\":\"8627\"},\"active_scroll\":{\"id\":\"8628\"},\"tools\":[{\"id\":\"8609\"},{\"id\":\"8626\"},{\"id\":\"8627\"},{\"id\":\"8628\"},{\"id\":\"8629\"},{\"id\":\"8630\"}]},\"id\":\"8632\",\"type\":\"Toolbar\"},{\"attributes\":{},\"id\":\"8620\",\"type\":\"CategoricalTicker\"},{\"attributes\":{},\"id\":\"8657\",\"type\":\"UnionRenderers\"},{\"attributes\":{},\"id\":\"8626\",\"type\":\"SaveTool\"},{\"attributes\":{},\"id\":\"8630\",\"type\":\"ResetTool\"},{\"attributes\":{},\"id\":\"8641\",\"type\":\"Selection\"},{\"attributes\":{\"fill_color\":{\"field\":\"color\",\"transform\":{\"id\":\"8639\"}},\"hatch_color\":{\"field\":\"color\",\"transform\":{\"id\":\"8639\"}},\"top\":{\"field\":\"Percentage\"},\"width\":{\"value\":0.8},\"x\":{\"field\":\"Topic\"}},\"id\":\"8643\",\"type\":\"VBar\"},{\"attributes\":{\"fill_alpha\":{\"value\":0.2},\"fill_color\":{\"field\":\"color\",\"transform\":{\"id\":\"8639\"}},\"hatch_alpha\":{\"value\":0.2},\"hatch_color\":{\"field\":\"color\",\"transform\":{\"id\":\"8639\"}},\"line_alpha\":{\"value\":0.2},\"top\":{\"field\":\"Percentage\"},\"width\":{\"value\":0.8},\"x\":{\"field\":\"Topic\"}},\"id\":\"8647\",\"type\":\"VBar\"},{\"attributes\":{\"factors\":[\"Assistance with Daily Living\",\"Experiencing Functional Difficulties\",\"Officially Diagnosed\",\"Talked with a Doctor\"],\"palette\":[\"#fcfbfd\",\"#c6c6e1\",\"#786eb2\",\"#3f007d\"]},\"id\":\"8639\",\"type\":\"CategoricalColorMapper\"},{\"attributes\":{\"client_comm_id\":\"de91b96623394b20b93629b5f1b90eb8\",\"comm_id\":\"30a05f5f6e5a43eb84f77b32e29ac964\",\"plot_id\":\"8605\"},\"id\":\"8728\",\"type\":\"panel.models.comm_manager.CommManager\"},{\"attributes\":{\"margin\":[5,5,5,5],\"name\":\"HSpacer07492\",\"sizing_mode\":\"stretch_width\"},\"id\":\"8606\",\"type\":\"Spacer\"},{\"attributes\":{\"axis\":{\"id\":\"8622\"},\"coordinates\":null,\"dimension\":1,\"grid_line_color\":null,\"group\":null,\"ticker\":null},\"id\":\"8625\",\"type\":\"Grid\"},{\"attributes\":{\"fill_color\":{\"field\":\"color\",\"transform\":{\"id\":\"8639\"}},\"hatch_color\":{\"field\":\"color\",\"transform\":{\"id\":\"8639\"}},\"top\":{\"field\":\"Percentage\"},\"width\":{\"value\":0.8},\"x\":{\"field\":\"Topic\"}},\"id\":\"8645\",\"type\":\"VBar\"},{\"attributes\":{},\"id\":\"8627\",\"type\":\"PanTool\"},{\"attributes\":{\"children\":[{\"id\":\"8606\"},{\"id\":\"8610\"},{\"id\":\"8692\"},{\"id\":\"8693\"}],\"margin\":[0,0,0,0],\"name\":\"Row07483\"},\"id\":\"8605\",\"type\":\"Row\"},{\"attributes\":{\"data\":{\"Percentage\":{\"__ndarray__\":\"UbgehesRQkDptIFOG+hCQJ820GkDnStA7+7u7u4uQ0A=\",\"dtype\":\"float64\",\"order\":\"little\",\"shape\":[4]},\"Topic\":[\"Assistance with Daily Living\",\"Experiencing Functional Difficulties\",\"Officially Diagnosed\",\"Talked with a Doctor\"],\"color\":[\"Assistance with Daily Living\",\"Experiencing Functional Difficulties\",\"Officially Diagnosed\",\"Talked with a Doctor\"]},\"selected\":{\"id\":\"8641\"},\"selection_policy\":{\"id\":\"8657\"}},\"id\":\"8640\",\"type\":\"ColumnDataSource\"},{\"attributes\":{\"callback\":null,\"renderers\":[{\"id\":\"8648\"}],\"tags\":[\"hv_created\"],\"tooltips\":[[\"Topic\",\"@{Topic}\"],[\"Percentage\",\"@{Percentage}\"]]},\"id\":\"8609\",\"type\":\"HoverTool\"},{\"attributes\":{\"margin\":[20,20,20,20],\"min_width\":250,\"options\":[\"Alabama\",\"Alaska\",\"Arizona\",\"Arkansas\",\"California\",\"Colorado\",\"Connecticut\",\"Delaware\",\"Florida\",\"Georgia\",\"Hawaii\",\"Idaho\",\"Illinois\",\"Indiana\",\"Iowa\",\"Kansas\",\"Kentucky\",\"Louisiana\",\"Maine\",\"Maryland\",\"Massachusetts\",\"Michigan\",\"Minnesota\",\"Mississippi\",\"Missouri\",\"Montana\",\"Nebraska\",\"Nevada\",\"New Hampshire\",\"New Jersey\",\"New Mexico\",\"New York\",\"North Carolina\",\"North Dakota\",\"Ohio\",\"Oklahoma\",\"Oregon\",\"Pennsylvania\",\"Puerto Rico\",\"Rhode Island\",\"South Carolina\",\"South Dakota\",\"Tennessee\",\"Texas\",\"Utah\",\"Vermont\",\"Virginia\",\"Washington\",\"West Virginia\",\"Wisconsin\",\"Wyoming\"],\"title\":\"State\",\"value\":\"Alabama\",\"width\":250},\"id\":\"8696\",\"type\":\"panel.models.widgets.CustomSelect\"},{\"attributes\":{\"children\":[{\"id\":\"8696\"}],\"css_classes\":[\"panel-widget-box\"],\"margin\":[5,5,5,5],\"name\":\"WidgetBox07484\"},\"id\":\"8695\",\"type\":\"Column\"},{\"attributes\":{\"above\":[{\"id\":\"8660\"}],\"below\":[{\"id\":\"8619\"}],\"center\":[{\"id\":\"8621\"},{\"id\":\"8625\"},{\"id\":\"8660\"}],\"height\":800,\"left\":[{\"id\":\"8622\"}],\"margin\":[5,5,5,5],\"min_border_bottom\":10,\"min_border_left\":10,\"min_border_right\":10,\"min_border_top\":10,\"renderers\":[{\"id\":\"8648\"}],\"sizing_mode\":\"fixed\",\"title\":{\"id\":\"8611\"},\"toolbar\":{\"id\":\"8632\"},\"width\":1200,\"x_range\":{\"id\":\"8607\"},\"x_scale\":{\"id\":\"8615\"},\"y_range\":{\"id\":\"8608\"},\"y_scale\":{\"id\":\"8617\"}},\"id\":\"8610\",\"subtype\":\"Figure\",\"type\":\"Plot\"},{\"attributes\":{\"margin\":[5,5,5,5],\"name\":\"VSpacer07490\",\"sizing_mode\":\"stretch_height\"},\"id\":\"8697\",\"type\":\"Spacer\"},{\"attributes\":{},\"id\":\"8655\",\"type\":\"CategoricalTickFormatter\"},{\"attributes\":{\"coordinates\":null,\"group\":null,\"items\":[{\"id\":\"8661\"}],\"location\":[0,0],\"orientation\":\"horizontal\"},\"id\":\"8660\",\"type\":\"Legend\"},{\"attributes\":{},\"id\":\"8628\",\"type\":\"WheelZoomTool\"},{\"attributes\":{\"source\":{\"id\":\"8640\"}},\"id\":\"8649\",\"type\":\"CDSView\"},{\"attributes\":{\"overlay\":{\"id\":\"8631\"}},\"id\":\"8629\",\"type\":\"BoxZoomTool\"},{\"attributes\":{\"factors\":[\"Assistance with Daily Living\",\"Experiencing Functional Difficulties\",\"Officially Diagnosed\",\"Talked with a Doctor\"],\"tags\":[[[\"Topic\",\"Topic\",null]]]},\"id\":\"8607\",\"type\":\"FactorRange\"},{\"attributes\":{},\"id\":\"8623\",\"type\":\"BasicTicker\"},{\"attributes\":{\"fill_color\":{\"field\":\"color\",\"transform\":{\"id\":\"8639\"}},\"hatch_color\":{\"field\":\"color\",\"transform\":{\"id\":\"8639\"}},\"top\":{\"field\":\"Percentage\"},\"width\":{\"value\":0.8},\"x\":{\"field\":\"Topic\"}},\"id\":\"8646\",\"type\":\"VBar\"}],\"root_ids\":[\"8605\",\"8728\"]},\"title\":\"Bokeh Application\",\"version\":\"2.4.3\"}};\n",
       "    var render_items = [{\"docid\":\"88b6f984-d500-49ba-9fc1-6abe9ef23924\",\"root_ids\":[\"8605\"],\"roots\":{\"8605\":\"3d37ba74-3b95-481d-92d7-5978e3ea95c0\"}}];\n",
       "    root.Bokeh.embed.embed_items_notebook(docs_json, render_items);\n",
       "    for (const render_item of render_items) {\n",
       "      for (const root_id of render_item.root_ids) {\n",
       "\tconst id_el = document.getElementById(root_id)\n",
       "\tif (id_el.children.length && (id_el.children[0].className === 'bk-root')) {\n",
       "\t  const root_el = id_el.children[0]\n",
       "\t  root_el.id = root_el.id + '-rendered'\n",
       "\t}\n",
       "      }\n",
       "    }\n",
       "  }\n",
       "  if (root.Bokeh !== undefined && root.Bokeh.Panel !== undefined) {\n",
       "    embed_document(root);\n",
       "  } else {\n",
       "    var attempts = 0;\n",
       "    var timer = setInterval(function(root) {\n",
       "      if (root.Bokeh !== undefined && root.Bokeh.Panel !== undefined) {\n",
       "        clearInterval(timer);\n",
       "        embed_document(root);\n",
       "      } else if (document.readyState == \"complete\") {\n",
       "        attempts++;\n",
       "        if (attempts > 200) {\n",
       "          clearInterval(timer);\n",
       "          console.log(\"Bokeh: ERROR: Unable to run BokehJS code because BokehJS library is missing\");\n",
       "        }\n",
       "      }\n",
       "    }, 25, root)\n",
       "  }\n",
       "})(window);</script>"
      ],
      "text/plain": [
       ":DynamicMap   [State]\n",
       "   :Bars   [Topic]   (Percentage)"
      ]
     },
     "execution_count": 78,
     "metadata": {
      "application/vnd.holoviews_exec.v0+json": {
       "id": "8605"
      }
     },
     "output_type": "execute_result"
    }
   ],
   "source": [
    "# plot overall average per state and topic for ages 65 and older\n",
    "older_americans_df = over64_df.groupby(['State', 'Topic']).mean()['Percentage'].reset_index()\n",
    "older_americans_plot2 = older_americans_df.hvplot.bar(x='Topic', y='Percentage', xlabel='Level of Cognitive Decline', ylabel='Percentage', groupby='State', color='Topic', cmap='Purples', height=800, width=1200, legend='top', title='Percentage of Adults 65 or older with Cognitive Decline by State')\n",
    "older_americans_plot2"
   ]
  },
  {
   "cell_type": "code",
   "execution_count": 81,
   "metadata": {},
   "outputs": [
    {
     "data": {},
     "metadata": {},
     "output_type": "display_data"
    },
    {
     "data": {
      "application/vnd.holoviews_exec.v0+json": "",
      "text/html": [
       "<div id='9126'>\n",
       "  <div class=\"bk-root\" id=\"9a3ef890-5f9e-4d12-9c87-f6b4db6b297e\" data-root-id=\"9126\"></div>\n",
       "</div>\n",
       "<script type=\"application/javascript\">(function(root) {\n",
       "  function embed_document(root) {\n",
       "    var docs_json = {\"45b51d3f-fe4d-43ac-9dce-8710aa21fde1\":{\"defs\":[{\"extends\":null,\"module\":null,\"name\":\"ReactiveHTML1\",\"overrides\":[],\"properties\":[]},{\"extends\":null,\"module\":null,\"name\":\"FlexBox1\",\"overrides\":[],\"properties\":[{\"default\":\"flex-start\",\"kind\":null,\"name\":\"align_content\"},{\"default\":\"flex-start\",\"kind\":null,\"name\":\"align_items\"},{\"default\":\"row\",\"kind\":null,\"name\":\"flex_direction\"},{\"default\":\"wrap\",\"kind\":null,\"name\":\"flex_wrap\"},{\"default\":\"flex-start\",\"kind\":null,\"name\":\"justify_content\"}]},{\"extends\":null,\"module\":null,\"name\":\"GridStack1\",\"overrides\":[],\"properties\":[{\"default\":\"warn\",\"kind\":null,\"name\":\"mode\"},{\"default\":null,\"kind\":null,\"name\":\"ncols\"},{\"default\":null,\"kind\":null,\"name\":\"nrows\"},{\"default\":true,\"kind\":null,\"name\":\"allow_resize\"},{\"default\":true,\"kind\":null,\"name\":\"allow_drag\"},{\"default\":[],\"kind\":null,\"name\":\"state\"}]},{\"extends\":null,\"module\":null,\"name\":\"click1\",\"overrides\":[],\"properties\":[{\"default\":\"\",\"kind\":null,\"name\":\"terminal_output\"},{\"default\":\"\",\"kind\":null,\"name\":\"debug_name\"},{\"default\":0,\"kind\":null,\"name\":\"clears\"}]},{\"extends\":null,\"module\":null,\"name\":\"NotificationAreaBase1\",\"overrides\":[],\"properties\":[{\"default\":\"bottom-right\",\"kind\":null,\"name\":\"position\"},{\"default\":0,\"kind\":null,\"name\":\"_clear\"}]},{\"extends\":null,\"module\":null,\"name\":\"NotificationArea1\",\"overrides\":[],\"properties\":[{\"default\":[],\"kind\":null,\"name\":\"notifications\"},{\"default\":\"bottom-right\",\"kind\":null,\"name\":\"position\"},{\"default\":0,\"kind\":null,\"name\":\"_clear\"},{\"default\":[{\"background\":\"#ffc107\",\"icon\":{\"className\":\"fas fa-exclamation-triangle\",\"color\":\"white\",\"tagName\":\"i\"},\"type\":\"warning\"},{\"background\":\"#007bff\",\"icon\":{\"className\":\"fas fa-info-circle\",\"color\":\"white\",\"tagName\":\"i\"},\"type\":\"info\"}],\"kind\":null,\"name\":\"types\"}]},{\"extends\":null,\"module\":null,\"name\":\"Notification\",\"overrides\":[],\"properties\":[{\"default\":null,\"kind\":null,\"name\":\"background\"},{\"default\":3000,\"kind\":null,\"name\":\"duration\"},{\"default\":null,\"kind\":null,\"name\":\"icon\"},{\"default\":\"\",\"kind\":null,\"name\":\"message\"},{\"default\":null,\"kind\":null,\"name\":\"notification_type\"},{\"default\":false,\"kind\":null,\"name\":\"_destroyed\"}]},{\"extends\":null,\"module\":null,\"name\":\"TemplateActions1\",\"overrides\":[],\"properties\":[{\"default\":0,\"kind\":null,\"name\":\"open_modal\"},{\"default\":0,\"kind\":null,\"name\":\"close_modal\"}]},{\"extends\":null,\"module\":null,\"name\":\"MaterialTemplateActions1\",\"overrides\":[],\"properties\":[{\"default\":0,\"kind\":null,\"name\":\"open_modal\"},{\"default\":0,\"kind\":null,\"name\":\"close_modal\"}]}],\"roots\":{\"references\":[{\"attributes\":{},\"id\":\"9151\",\"type\":\"ResetTool\"},{\"attributes\":{},\"id\":\"9138\",\"type\":\"LinearScale\"},{\"attributes\":{\"fill_alpha\":{\"value\":0.1},\"fill_color\":{\"field\":\"color\",\"transform\":{\"id\":\"9160\"}},\"hatch_alpha\":{\"value\":0.1},\"hatch_color\":{\"field\":\"color\",\"transform\":{\"id\":\"9160\"}},\"line_alpha\":{\"value\":0.1},\"top\":{\"field\":\"Percentage\"},\"width\":{\"value\":0.8},\"x\":{\"field\":\"State\"}},\"id\":\"9165\",\"type\":\"VBar\"},{\"attributes\":{},\"id\":\"9147\",\"type\":\"SaveTool\"},{\"attributes\":{},\"id\":\"9136\",\"type\":\"CategoricalScale\"},{\"attributes\":{\"children\":[{\"id\":\"9208\"}],\"css_classes\":[\"panel-widget-box\"],\"margin\":[5,5,5,5],\"name\":\"WidgetBox07901\"},\"id\":\"9207\",\"type\":\"Column\"},{\"attributes\":{\"fill_color\":{\"field\":\"color\",\"transform\":{\"id\":\"9160\"}},\"hatch_color\":{\"field\":\"color\",\"transform\":{\"id\":\"9160\"}},\"top\":{\"field\":\"Percentage\"},\"width\":{\"value\":0.8},\"x\":{\"field\":\"State\"}},\"id\":\"9167\",\"type\":\"VBar\"},{\"attributes\":{\"overlay\":{\"id\":\"9152\"}},\"id\":\"9150\",\"type\":\"BoxZoomTool\"},{\"attributes\":{\"end\":71.62055555555557,\"reset_end\":71.62055555555557,\"reset_start\":0.0,\"tags\":[[[\"Percentage\",\"Percentage\",null]]]},\"id\":\"9129\",\"type\":\"Range1d\"},{\"attributes\":{\"coordinates\":null,\"data_source\":{\"id\":\"9161\"},\"glyph\":{\"id\":\"9164\"},\"group\":null,\"hover_glyph\":{\"id\":\"9167\"},\"muted_glyph\":{\"id\":\"9168\"},\"nonselection_glyph\":{\"id\":\"9165\"},\"selection_glyph\":{\"id\":\"9166\"},\"view\":{\"id\":\"9170\"}},\"id\":\"9169\",\"type\":\"GlyphRenderer\"},{\"attributes\":{\"fill_color\":{\"field\":\"color\",\"transform\":{\"id\":\"9160\"}},\"hatch_color\":{\"field\":\"color\",\"transform\":{\"id\":\"9160\"}},\"top\":{\"field\":\"Percentage\"},\"width\":{\"value\":0.8},\"x\":{\"field\":\"State\"}},\"id\":\"9166\",\"type\":\"VBar\"},{\"attributes\":{\"high\":67.31111111111112,\"low\":24.21666666666667,\"palette\":[\"#f7fcf5\",\"#f6fbf4\",\"#f5fbf3\",\"#f5fbf3\",\"#f4fbf2\",\"#f4faf1\",\"#f3faf1\",\"#f3faf0\",\"#f2faef\",\"#f1faef\",\"#f1f9ee\",\"#f0f9ed\",\"#f0f9ed\",\"#eff9ec\",\"#eff8eb\",\"#eef8eb\",\"#edf8ea\",\"#edf8e9\",\"#ecf8e9\",\"#ecf7e8\",\"#ebf7e7\",\"#ebf7e7\",\"#eaf7e6\",\"#eaf6e5\",\"#e9f6e5\",\"#e8f6e4\",\"#e8f6e3\",\"#e7f6e3\",\"#e7f5e2\",\"#e6f5e1\",\"#e6f5e1\",\"#e5f5e0\",\"#e4f4df\",\"#e3f4de\",\"#e3f4dd\",\"#e2f3dc\",\"#e1f3db\",\"#e0f3da\",\"#dff2d9\",\"#def2d8\",\"#ddf1d7\",\"#dcf1d6\",\"#dbf1d5\",\"#daf0d4\",\"#d9f0d3\",\"#d8f0d2\",\"#d7efd1\",\"#d6efd0\",\"#d5eecf\",\"#d4eece\",\"#d3eecd\",\"#d3edcc\",\"#d2edcb\",\"#d1edca\",\"#d0ecc9\",\"#cfecc8\",\"#ceebc7\",\"#cdebc6\",\"#ccebc5\",\"#cbeac4\",\"#caeac3\",\"#c9eac2\",\"#c8e9c1\",\"#c7e9c0\",\"#c6e8bf\",\"#c5e8be\",\"#c4e7bd\",\"#c3e7bc\",\"#c1e6bb\",\"#c0e6b9\",\"#bfe5b8\",\"#bee5b7\",\"#bde4b6\",\"#bbe4b5\",\"#bae3b4\",\"#b9e3b2\",\"#b8e2b1\",\"#b7e2b0\",\"#b6e1af\",\"#b4e1ae\",\"#b3e0ad\",\"#b2e0ab\",\"#b1dfaa\",\"#b0dfa9\",\"#aedea8\",\"#addea7\",\"#acdda6\",\"#abdda5\",\"#aadca3\",\"#a8dca2\",\"#a7dba1\",\"#a6dba0\",\"#a5da9f\",\"#a4da9e\",\"#a2d99c\",\"#a1d99b\",\"#a0d89a\",\"#9fd899\",\"#9dd798\",\"#9cd697\",\"#9ad695\",\"#99d594\",\"#98d493\",\"#96d492\",\"#95d391\",\"#93d290\",\"#92d28e\",\"#90d18d\",\"#8fd08c\",\"#8ed08b\",\"#8ccf8a\",\"#8bce89\",\"#89ce87\",\"#88cd86\",\"#87cc85\",\"#85cc84\",\"#84cb83\",\"#82ca82\",\"#81ca81\",\"#80c97f\",\"#7ec87e\",\"#7dc87d\",\"#7bc77c\",\"#7ac67b\",\"#78c67a\",\"#77c578\",\"#76c477\",\"#74c476\",\"#73c375\",\"#71c274\",\"#70c274\",\"#6ec173\",\"#6cc072\",\"#6bbf71\",\"#69be70\",\"#68be70\",\"#66bd6f\",\"#64bc6e\",\"#63bb6d\",\"#61ba6c\",\"#60ba6c\",\"#5eb96b\",\"#5cb86a\",\"#5bb769\",\"#59b769\",\"#58b668\",\"#56b567\",\"#54b466\",\"#53b365\",\"#51b365\",\"#50b264\",\"#4eb163\",\"#4cb062\",\"#4bb061\",\"#49af61\",\"#48ae60\",\"#46ad5f\",\"#44ac5e\",\"#43ac5e\",\"#41ab5d\",\"#40aa5c\",\"#3fa95b\",\"#3ea85b\",\"#3da75a\",\"#3ca659\",\"#3ba558\",\"#3aa458\",\"#39a357\",\"#38a256\",\"#37a155\",\"#37a055\",\"#369f54\",\"#359e53\",\"#349d52\",\"#339c51\",\"#329b51\",\"#319a50\",\"#30994f\",\"#2f984e\",\"#2e974e\",\"#2d964d\",\"#2c954c\",\"#2b944b\",\"#2a934b\",\"#29924a\",\"#289149\",\"#279048\",\"#278f48\",\"#268e47\",\"#258d46\",\"#248c45\",\"#238b45\",\"#228a44\",\"#218943\",\"#1f8842\",\"#1e8742\",\"#1d8641\",\"#1c8540\",\"#1b843f\",\"#1a833e\",\"#19823e\",\"#18813d\",\"#17803c\",\"#167f3b\",\"#157e3a\",\"#137e3a\",\"#127d39\",\"#117c38\",\"#107b37\",\"#0f7a37\",\"#0e7936\",\"#0d7835\",\"#0c7734\",\"#0b7633\",\"#0a7533\",\"#087432\",\"#077331\",\"#067230\",\"#057130\",\"#04702f\",\"#036f2e\",\"#026f2d\",\"#016e2c\",\"#006d2c\",\"#006b2b\",\"#006a2b\",\"#00692a\",\"#006829\",\"#006629\",\"#006528\",\"#006428\",\"#006227\",\"#006127\",\"#006026\",\"#005f26\",\"#005d25\",\"#005c25\",\"#005b24\",\"#005924\",\"#005823\",\"#005723\",\"#005622\",\"#005421\",\"#005321\",\"#005220\",\"#005020\",\"#004f1f\",\"#004e1f\",\"#004d1e\",\"#004b1e\",\"#004a1d\",\"#00491d\",\"#00471c\",\"#00461c\",\"#00451b\",\"#00441b\"]},\"id\":\"9160\",\"type\":\"LinearColorMapper\"},{\"attributes\":{\"bottom_units\":\"screen\",\"coordinates\":null,\"fill_alpha\":0.5,\"fill_color\":\"lightgrey\",\"group\":null,\"left_units\":\"screen\",\"level\":\"overlay\",\"line_alpha\":1.0,\"line_color\":\"black\",\"line_dash\":[4,4],\"line_width\":2,\"right_units\":\"screen\",\"syncable\":false,\"top_units\":\"screen\"},\"id\":\"9152\",\"type\":\"BoxAnnotation\"},{\"attributes\":{\"margin\":[20,20,20,20],\"min_width\":250,\"options\":[\"Assistance with Daily Living\",\"Experiencing Functional Difficulties\",\"Officially Diagnosed\",\"Talked with a Doctor\"],\"title\":\"Topic\",\"value\":\"Assistance with Daily Living\",\"width\":250},\"id\":\"9208\",\"type\":\"panel.models.widgets.CustomSelect\"},{\"attributes\":{\"axis\":{\"id\":\"9140\"},\"coordinates\":null,\"grid_line_color\":null,\"group\":null,\"ticker\":null},\"id\":\"9142\",\"type\":\"Grid\"},{\"attributes\":{\"source\":{\"id\":\"9161\"}},\"id\":\"9170\",\"type\":\"CDSView\"},{\"attributes\":{},\"id\":\"9201\",\"type\":\"UnionRenderers\"},{\"attributes\":{},\"id\":\"9175\",\"type\":\"AllLabels\"},{\"attributes\":{},\"id\":\"9171\",\"type\":\"BasicTicker\"},{\"attributes\":{\"bar_line_color\":\"black\",\"color_mapper\":{\"id\":\"9160\"},\"coordinates\":null,\"group\":null,\"label_standoff\":8,\"location\":[0,0],\"major_label_policy\":{\"id\":\"9197\"},\"major_tick_line_color\":\"black\",\"ticker\":{\"id\":\"9171\"}},\"id\":\"9172\",\"type\":\"ColorBar\"},{\"attributes\":{},\"id\":\"9148\",\"type\":\"PanTool\"},{\"attributes\":{},\"id\":\"9174\",\"type\":\"CategoricalTickFormatter\"},{\"attributes\":{},\"id\":\"9178\",\"type\":\"AllLabels\"},{\"attributes\":{},\"id\":\"9144\",\"type\":\"BasicTicker\"},{\"attributes\":{},\"id\":\"9177\",\"type\":\"BasicTickFormatter\"},{\"attributes\":{\"below\":[{\"id\":\"9140\"}],\"center\":[{\"id\":\"9142\"},{\"id\":\"9146\"}],\"height\":800,\"left\":[{\"id\":\"9143\"}],\"margin\":[5,5,5,5],\"min_border_bottom\":10,\"min_border_left\":10,\"min_border_right\":10,\"min_border_top\":10,\"renderers\":[{\"id\":\"9169\"}],\"right\":[{\"id\":\"9172\"}],\"sizing_mode\":\"fixed\",\"title\":{\"id\":\"9132\"},\"toolbar\":{\"id\":\"9153\"},\"width\":1200,\"x_range\":{\"id\":\"9128\"},\"x_scale\":{\"id\":\"9136\"},\"y_range\":{\"id\":\"9129\"},\"y_scale\":{\"id\":\"9138\"}},\"id\":\"9131\",\"subtype\":\"Figure\",\"type\":\"Plot\"},{\"attributes\":{\"margin\":[5,5,5,5],\"name\":\"VSpacer07907\",\"sizing_mode\":\"stretch_height\"},\"id\":\"9209\",\"type\":\"Spacer\"},{\"attributes\":{\"fill_alpha\":{\"value\":0.2},\"fill_color\":{\"field\":\"color\",\"transform\":{\"id\":\"9160\"}},\"hatch_alpha\":{\"value\":0.2},\"hatch_color\":{\"field\":\"color\",\"transform\":{\"id\":\"9160\"}},\"line_alpha\":{\"value\":0.2},\"top\":{\"field\":\"Percentage\"},\"width\":{\"value\":0.8},\"x\":{\"field\":\"State\"}},\"id\":\"9168\",\"type\":\"VBar\"},{\"attributes\":{},\"id\":\"9162\",\"type\":\"Selection\"},{\"attributes\":{\"axis_label\":\"Percentage\",\"coordinates\":null,\"formatter\":{\"id\":\"9177\"},\"group\":null,\"major_label_policy\":{\"id\":\"9178\"},\"ticker\":{\"id\":\"9144\"}},\"id\":\"9143\",\"type\":\"LinearAxis\"},{\"attributes\":{\"margin\":[5,5,5,5],\"name\":\"HSpacer07910\",\"sizing_mode\":\"stretch_width\"},\"id\":\"9204\",\"type\":\"Spacer\"},{\"attributes\":{\"coordinates\":null,\"group\":null,\"text\":\"Percentage of Adults ages 50-64 with Cognitive Decline by State\",\"text_color\":\"black\",\"text_font_size\":\"12pt\"},\"id\":\"9132\",\"type\":\"Title\"},{\"attributes\":{\"active_drag\":{\"id\":\"9148\"},\"active_scroll\":{\"id\":\"9149\"},\"tools\":[{\"id\":\"9130\"},{\"id\":\"9147\"},{\"id\":\"9148\"},{\"id\":\"9149\"},{\"id\":\"9150\"},{\"id\":\"9151\"}]},\"id\":\"9153\",\"type\":\"Toolbar\"},{\"attributes\":{\"factors\":[\"Alabama\",\"Alaska\",\"Arizona\",\"Arkansas\",\"California\",\"Colorado\",\"Connecticut\",\"Delaware\",\"Florida\",\"Georgia\",\"Hawaii\",\"Idaho\",\"Illinois\",\"Indiana\",\"Iowa\",\"Kansas\",\"Kentucky\",\"Louisiana\",\"Maine\",\"Maryland\",\"Massachusetts\",\"Michigan\",\"Minnesota\",\"Mississippi\",\"Missouri\",\"Montana\",\"Nebraska\",\"Nevada\",\"New Hampshire\",\"New Jersey\",\"New Mexico\",\"New York\",\"North Carolina\",\"North Dakota\",\"Ohio\",\"Oklahoma\",\"Oregon\",\"Pennsylvania\",\"Puerto Rico\",\"Rhode Island\",\"South Carolina\",\"South Dakota\",\"Tennessee\",\"Texas\",\"Utah\",\"Vermont\",\"Virginia\",\"Washington\",\"West Virginia\",\"Wisconsin\",\"Wyoming\"],\"tags\":[[[\"State\",\"State\",null]]]},\"id\":\"9128\",\"type\":\"FactorRange\"},{\"attributes\":{\"data\":{\"Percentage\":{\"__ndarray__\":\"5hdLfrEkRkCZmZmZmYlDQGdmZmZmBkRAPgrXo3AdR0C8u7u7u/tDQM3MzMzMLDtAKkGeEuSpPUD2KFyPwnVIQDisfcPa90RA///////vQ0C8u7u7u5tAQHI9CtejcD1AmZmZmZlZQkDNzMzMzIxDQHh3d3d3NzhAzczMzMy8QEBFRERERNREQPmBH/iBX0VATwd1UAd1P0DTBjptoFM/QAAAAAAAIDtA9EIv9EIvQUC7u7u7u/s8QM3MzMzMjElA393d3d0dQ0BnZmZmZmZAQP//////vztAmpmZmZkZPkDgehSuRyE9QM3MzMzMrEBAO22g0wY6SUCu0Rqt0ZpBQDMzMzMzM0ZAzczMzMxMPEAzMzMzMyNCQJqZmZmZ4UZA3SQGgZXDQUAkIiIiIuI9QD/pkz7p01BAAAAAAAAgQ0DntIFOG6hEQMdxHMdxnD5AZmZmZmZiR0DqoA7qoC5IQJN2rEAYKUBAwvUoXI/COUCGXuiFXmhBQDMzMzMz8ztAiYiIiIgoQ0AVrkfhetQ/QM3MzMzM/DxA\",\"dtype\":\"float64\",\"order\":\"little\",\"shape\":[51]},\"State\":[\"Alabama\",\"Alaska\",\"Arizona\",\"Arkansas\",\"California\",\"Colorado\",\"Connecticut\",\"Delaware\",\"Florida\",\"Georgia\",\"Hawaii\",\"Idaho\",\"Illinois\",\"Indiana\",\"Iowa\",\"Kansas\",\"Kentucky\",\"Louisiana\",\"Maine\",\"Maryland\",\"Massachusetts\",\"Michigan\",\"Minnesota\",\"Mississippi\",\"Missouri\",\"Montana\",\"Nebraska\",\"Nevada\",\"New Hampshire\",\"New Jersey\",\"New Mexico\",\"New York\",\"North Carolina\",\"North Dakota\",\"Ohio\",\"Oklahoma\",\"Oregon\",\"Pennsylvania\",\"Puerto Rico\",\"Rhode Island\",\"South Carolina\",\"South Dakota\",\"Tennessee\",\"Texas\",\"Utah\",\"Vermont\",\"Virginia\",\"Washington\",\"West Virginia\",\"Wisconsin\",\"Wyoming\"],\"color\":{\"__ndarray__\":\"5hdLfrEkRkCZmZmZmYlDQGdmZmZmBkRAPgrXo3AdR0C8u7u7u/tDQM3MzMzMLDtAKkGeEuSpPUD2KFyPwnVIQDisfcPa90RA///////vQ0C8u7u7u5tAQHI9CtejcD1AmZmZmZlZQkDNzMzMzIxDQHh3d3d3NzhAzczMzMy8QEBFRERERNREQPmBH/iBX0VATwd1UAd1P0DTBjptoFM/QAAAAAAAIDtA9EIv9EIvQUC7u7u7u/s8QM3MzMzMjElA393d3d0dQ0BnZmZmZmZAQP//////vztAmpmZmZkZPkDgehSuRyE9QM3MzMzMrEBAO22g0wY6SUCu0Rqt0ZpBQDMzMzMzM0ZAzczMzMxMPEAzMzMzMyNCQJqZmZmZ4UZA3SQGgZXDQUAkIiIiIuI9QD/pkz7p01BAAAAAAAAgQ0DntIFOG6hEQMdxHMdxnD5AZmZmZmZiR0DqoA7qoC5IQJN2rEAYKUBAwvUoXI/COUCGXuiFXmhBQDMzMzMz8ztAiYiIiIgoQ0AVrkfhetQ/QM3MzMzM/DxA\",\"dtype\":\"float64\",\"order\":\"little\",\"shape\":[51]}},\"selected\":{\"id\":\"9162\"},\"selection_policy\":{\"id\":\"9201\"}},\"id\":\"9161\",\"type\":\"ColumnDataSource\"},{\"attributes\":{},\"id\":\"9141\",\"type\":\"CategoricalTicker\"},{\"attributes\":{\"children\":[{\"id\":\"9127\"},{\"id\":\"9131\"},{\"id\":\"9204\"},{\"id\":\"9205\"}],\"margin\":[0,0,0,0],\"name\":\"Row07900\"},\"id\":\"9126\",\"type\":\"Row\"},{\"attributes\":{},\"id\":\"9149\",\"type\":\"WheelZoomTool\"},{\"attributes\":{},\"id\":\"9197\",\"type\":\"NoOverlap\"},{\"attributes\":{\"margin\":[5,5,5,5],\"name\":\"HSpacer07909\",\"sizing_mode\":\"stretch_width\"},\"id\":\"9127\",\"type\":\"Spacer\"},{\"attributes\":{\"callback\":null,\"renderers\":[{\"id\":\"9169\"}],\"tags\":[\"hv_created\"],\"tooltips\":[[\"State\",\"@{State}\"],[\"Percentage\",\"@{Percentage}\"]]},\"id\":\"9130\",\"type\":\"HoverTool\"},{\"attributes\":{\"children\":[{\"id\":\"9206\"},{\"id\":\"9207\"},{\"id\":\"9209\"}],\"margin\":[0,0,0,0],\"name\":\"Column07908\"},\"id\":\"9205\",\"type\":\"Column\"},{\"attributes\":{\"margin\":[5,5,5,5],\"name\":\"VSpacer07906\",\"sizing_mode\":\"stretch_height\"},\"id\":\"9206\",\"type\":\"Spacer\"},{\"attributes\":{\"fill_color\":{\"field\":\"color\",\"transform\":{\"id\":\"9160\"}},\"hatch_color\":{\"field\":\"color\",\"transform\":{\"id\":\"9160\"}},\"top\":{\"field\":\"Percentage\"},\"width\":{\"value\":0.8},\"x\":{\"field\":\"State\"}},\"id\":\"9164\",\"type\":\"VBar\"},{\"attributes\":{\"axis_label\":\"State\",\"coordinates\":null,\"formatter\":{\"id\":\"9174\"},\"group\":null,\"major_label_orientation\":1.5707963267948966,\"major_label_policy\":{\"id\":\"9175\"},\"ticker\":{\"id\":\"9141\"}},\"id\":\"9140\",\"type\":\"CategoricalAxis\"},{\"attributes\":{\"axis\":{\"id\":\"9143\"},\"coordinates\":null,\"dimension\":1,\"grid_line_color\":null,\"group\":null,\"ticker\":null},\"id\":\"9146\",\"type\":\"Grid\"},{\"attributes\":{\"client_comm_id\":\"c859bfc1ae784857a791ecaebfdd274e\",\"comm_id\":\"95fe18d048804d1097d18a10229a0805\",\"plot_id\":\"9126\"},\"id\":\"9243\",\"type\":\"panel.models.comm_manager.CommManager\"}],\"root_ids\":[\"9126\",\"9243\"]},\"title\":\"Bokeh Application\",\"version\":\"2.4.3\"}};\n",
       "    var render_items = [{\"docid\":\"45b51d3f-fe4d-43ac-9dce-8710aa21fde1\",\"root_ids\":[\"9126\"],\"roots\":{\"9126\":\"9a3ef890-5f9e-4d12-9c87-f6b4db6b297e\"}}];\n",
       "    root.Bokeh.embed.embed_items_notebook(docs_json, render_items);\n",
       "    for (const render_item of render_items) {\n",
       "      for (const root_id of render_item.root_ids) {\n",
       "\tconst id_el = document.getElementById(root_id)\n",
       "\tif (id_el.children.length && (id_el.children[0].className === 'bk-root')) {\n",
       "\t  const root_el = id_el.children[0]\n",
       "\t  root_el.id = root_el.id + '-rendered'\n",
       "\t}\n",
       "      }\n",
       "    }\n",
       "  }\n",
       "  if (root.Bokeh !== undefined && root.Bokeh.Panel !== undefined) {\n",
       "    embed_document(root);\n",
       "  } else {\n",
       "    var attempts = 0;\n",
       "    var timer = setInterval(function(root) {\n",
       "      if (root.Bokeh !== undefined && root.Bokeh.Panel !== undefined) {\n",
       "        clearInterval(timer);\n",
       "        embed_document(root);\n",
       "      } else if (document.readyState == \"complete\") {\n",
       "        attempts++;\n",
       "        if (attempts > 200) {\n",
       "          clearInterval(timer);\n",
       "          console.log(\"Bokeh: ERROR: Unable to run BokehJS code because BokehJS library is missing\");\n",
       "        }\n",
       "      }\n",
       "    }, 25, root)\n",
       "  }\n",
       "})(window);</script>"
      ],
      "text/plain": [
       ":DynamicMap   [Topic]\n",
       "   :Bars   [State]   (Percentage)"
      ]
     },
     "execution_count": 81,
     "metadata": {
      "application/vnd.holoviews_exec.v0+json": {
       "id": "9126"
      }
     },
     "output_type": "execute_result"
    }
   ],
   "source": [
    "# plot overall average per state and topic for ages under 65\n",
    "younger_americans_df = under65_df.groupby(['State', 'Topic']).mean()['Percentage'].reset_index()\n",
    "younger_americans_plot = younger_americans_df.hvplot.bar(x='State', y='Percentage', xlabel='State', ylabel='Percentage', groupby='Topic', color='Percentage', cmap='Greens', rot=90, height=800, width=1200, c='Percentage', colorbar=True, title='Percentage of Adults ages 50-64 with Cognitive Decline by State')\n",
    "younger_americans_plot"
   ]
  },
  {
   "cell_type": "code",
   "execution_count": 80,
   "metadata": {},
   "outputs": [
    {
     "data": {},
     "metadata": {},
     "output_type": "display_data"
    },
    {
     "data": {
      "application/vnd.holoviews_exec.v0+json": "",
      "text/html": [
       "<div id='8952'>\n",
       "  <div class=\"bk-root\" id=\"1642f665-ad6a-4f18-af7f-03c010e9cce4\" data-root-id=\"8952\"></div>\n",
       "</div>\n",
       "<script type=\"application/javascript\">(function(root) {\n",
       "  function embed_document(root) {\n",
       "    var docs_json = {\"99679830-07e4-4a78-8396-f22eff1b6f48\":{\"defs\":[{\"extends\":null,\"module\":null,\"name\":\"ReactiveHTML1\",\"overrides\":[],\"properties\":[]},{\"extends\":null,\"module\":null,\"name\":\"FlexBox1\",\"overrides\":[],\"properties\":[{\"default\":\"flex-start\",\"kind\":null,\"name\":\"align_content\"},{\"default\":\"flex-start\",\"kind\":null,\"name\":\"align_items\"},{\"default\":\"row\",\"kind\":null,\"name\":\"flex_direction\"},{\"default\":\"wrap\",\"kind\":null,\"name\":\"flex_wrap\"},{\"default\":\"flex-start\",\"kind\":null,\"name\":\"justify_content\"}]},{\"extends\":null,\"module\":null,\"name\":\"GridStack1\",\"overrides\":[],\"properties\":[{\"default\":\"warn\",\"kind\":null,\"name\":\"mode\"},{\"default\":null,\"kind\":null,\"name\":\"ncols\"},{\"default\":null,\"kind\":null,\"name\":\"nrows\"},{\"default\":true,\"kind\":null,\"name\":\"allow_resize\"},{\"default\":true,\"kind\":null,\"name\":\"allow_drag\"},{\"default\":[],\"kind\":null,\"name\":\"state\"}]},{\"extends\":null,\"module\":null,\"name\":\"click1\",\"overrides\":[],\"properties\":[{\"default\":\"\",\"kind\":null,\"name\":\"terminal_output\"},{\"default\":\"\",\"kind\":null,\"name\":\"debug_name\"},{\"default\":0,\"kind\":null,\"name\":\"clears\"}]},{\"extends\":null,\"module\":null,\"name\":\"NotificationAreaBase1\",\"overrides\":[],\"properties\":[{\"default\":\"bottom-right\",\"kind\":null,\"name\":\"position\"},{\"default\":0,\"kind\":null,\"name\":\"_clear\"}]},{\"extends\":null,\"module\":null,\"name\":\"NotificationArea1\",\"overrides\":[],\"properties\":[{\"default\":[],\"kind\":null,\"name\":\"notifications\"},{\"default\":\"bottom-right\",\"kind\":null,\"name\":\"position\"},{\"default\":0,\"kind\":null,\"name\":\"_clear\"},{\"default\":[{\"background\":\"#ffc107\",\"icon\":{\"className\":\"fas fa-exclamation-triangle\",\"color\":\"white\",\"tagName\":\"i\"},\"type\":\"warning\"},{\"background\":\"#007bff\",\"icon\":{\"className\":\"fas fa-info-circle\",\"color\":\"white\",\"tagName\":\"i\"},\"type\":\"info\"}],\"kind\":null,\"name\":\"types\"}]},{\"extends\":null,\"module\":null,\"name\":\"Notification\",\"overrides\":[],\"properties\":[{\"default\":null,\"kind\":null,\"name\":\"background\"},{\"default\":3000,\"kind\":null,\"name\":\"duration\"},{\"default\":null,\"kind\":null,\"name\":\"icon\"},{\"default\":\"\",\"kind\":null,\"name\":\"message\"},{\"default\":null,\"kind\":null,\"name\":\"notification_type\"},{\"default\":false,\"kind\":null,\"name\":\"_destroyed\"}]},{\"extends\":null,\"module\":null,\"name\":\"TemplateActions1\",\"overrides\":[],\"properties\":[{\"default\":0,\"kind\":null,\"name\":\"open_modal\"},{\"default\":0,\"kind\":null,\"name\":\"close_modal\"}]},{\"extends\":null,\"module\":null,\"name\":\"MaterialTemplateActions1\",\"overrides\":[],\"properties\":[{\"default\":0,\"kind\":null,\"name\":\"open_modal\"},{\"default\":0,\"kind\":null,\"name\":\"close_modal\"}]}],\"roots\":{\"references\":[{\"attributes\":{},\"id\":\"8970\",\"type\":\"BasicTicker\"},{\"attributes\":{},\"id\":\"8967\",\"type\":\"CategoricalTicker\"},{\"attributes\":{\"coordinates\":null,\"data_source\":{\"id\":\"8987\"},\"glyph\":{\"id\":\"8990\"},\"group\":null,\"hover_glyph\":{\"id\":\"8993\"},\"muted_glyph\":{\"id\":\"8994\"},\"nonselection_glyph\":{\"id\":\"8991\"},\"selection_glyph\":{\"id\":\"8992\"},\"view\":{\"id\":\"8996\"}},\"id\":\"8995\",\"type\":\"GlyphRenderer\"},{\"attributes\":{\"active_drag\":{\"id\":\"8974\"},\"active_scroll\":{\"id\":\"8975\"},\"tools\":[{\"id\":\"8956\"},{\"id\":\"8973\"},{\"id\":\"8974\"},{\"id\":\"8975\"},{\"id\":\"8976\"},{\"id\":\"8977\"}]},\"id\":\"8979\",\"type\":\"Toolbar\"},{\"attributes\":{\"axis_label\":\"Percentage\",\"coordinates\":null,\"formatter\":{\"id\":\"8999\"},\"group\":null,\"major_label_policy\":{\"id\":\"9000\"},\"ticker\":{\"id\":\"8970\"}},\"id\":\"8969\",\"type\":\"LinearAxis\"},{\"attributes\":{},\"id\":\"8977\",\"type\":\"ResetTool\"},{\"attributes\":{\"factors\":[\"Assistance with Daily Living\",\"Experiencing Functional Difficulties\",\"Officially Diagnosed\",\"Talked with a Doctor\"],\"tags\":[[[\"Topic\",\"Topic\",null]]]},\"id\":\"8954\",\"type\":\"FactorRange\"},{\"attributes\":{\"coordinates\":null,\"group\":null,\"items\":[{\"id\":\"9008\"}],\"location\":[0,0],\"orientation\":\"horizontal\"},\"id\":\"9007\",\"type\":\"Legend\"},{\"attributes\":{\"fill_color\":{\"field\":\"color\",\"transform\":{\"id\":\"8986\"}},\"hatch_color\":{\"field\":\"color\",\"transform\":{\"id\":\"8986\"}},\"top\":{\"field\":\"Percentage\"},\"width\":{\"value\":0.8},\"x\":{\"field\":\"Topic\"}},\"id\":\"8992\",\"type\":\"VBar\"},{\"attributes\":{\"axis\":{\"id\":\"8969\"},\"coordinates\":null,\"dimension\":1,\"grid_line_color\":null,\"group\":null,\"ticker\":null},\"id\":\"8972\",\"type\":\"Grid\"},{\"attributes\":{},\"id\":\"9003\",\"type\":\"AllLabels\"},{\"attributes\":{\"fill_color\":{\"field\":\"color\",\"transform\":{\"id\":\"8986\"}},\"hatch_color\":{\"field\":\"color\",\"transform\":{\"id\":\"8986\"}},\"top\":{\"field\":\"Percentage\"},\"width\":{\"value\":0.8},\"x\":{\"field\":\"Topic\"}},\"id\":\"8990\",\"type\":\"VBar\"},{\"attributes\":{},\"id\":\"8973\",\"type\":\"SaveTool\"},{\"attributes\":{},\"id\":\"8975\",\"type\":\"WheelZoomTool\"},{\"attributes\":{},\"id\":\"9002\",\"type\":\"CategoricalTickFormatter\"},{\"attributes\":{\"margin\":[5,5,5,5],\"name\":\"HSpacer07771\",\"sizing_mode\":\"stretch_width\"},\"id\":\"9039\",\"type\":\"Spacer\"},{\"attributes\":{\"fill_color\":{\"field\":\"color\",\"transform\":{\"id\":\"8986\"}},\"hatch_color\":{\"field\":\"color\",\"transform\":{\"id\":\"8986\"}},\"top\":{\"field\":\"Percentage\"},\"width\":{\"value\":0.8},\"x\":{\"field\":\"Topic\"}},\"id\":\"8993\",\"type\":\"VBar\"},{\"attributes\":{\"margin\":[5,5,5,5],\"name\":\"HSpacer07770\",\"sizing_mode\":\"stretch_width\"},\"id\":\"8953\",\"type\":\"Spacer\"},{\"attributes\":{},\"id\":\"8988\",\"type\":\"Selection\"},{\"attributes\":{\"callback\":null,\"renderers\":[{\"id\":\"8995\"}],\"tags\":[\"hv_created\"],\"tooltips\":[[\"Topic\",\"@{Topic}\"],[\"Percentage\",\"@{Percentage}\"]]},\"id\":\"8956\",\"type\":\"HoverTool\"},{\"attributes\":{\"above\":[{\"id\":\"9007\"}],\"below\":[{\"id\":\"8966\"}],\"center\":[{\"id\":\"8968\"},{\"id\":\"8972\"},{\"id\":\"9007\"}],\"height\":800,\"left\":[{\"id\":\"8969\"}],\"margin\":[5,5,5,5],\"min_border_bottom\":10,\"min_border_left\":10,\"min_border_right\":10,\"min_border_top\":10,\"renderers\":[{\"id\":\"8995\"}],\"sizing_mode\":\"fixed\",\"title\":{\"id\":\"8958\"},\"toolbar\":{\"id\":\"8979\"},\"width\":1200,\"x_range\":{\"id\":\"8954\"},\"x_scale\":{\"id\":\"8962\"},\"y_range\":{\"id\":\"8955\"},\"y_scale\":{\"id\":\"8964\"}},\"id\":\"8957\",\"subtype\":\"Figure\",\"type\":\"Plot\"},{\"attributes\":{\"fill_alpha\":{\"value\":0.2},\"fill_color\":{\"field\":\"color\",\"transform\":{\"id\":\"8986\"}},\"hatch_alpha\":{\"value\":0.2},\"hatch_color\":{\"field\":\"color\",\"transform\":{\"id\":\"8986\"}},\"line_alpha\":{\"value\":0.2},\"top\":{\"field\":\"Percentage\"},\"width\":{\"value\":0.8},\"x\":{\"field\":\"Topic\"}},\"id\":\"8994\",\"type\":\"VBar\"},{\"attributes\":{\"children\":[{\"id\":\"9041\"},{\"id\":\"9042\"},{\"id\":\"9044\"}],\"margin\":[0,0,0,0],\"name\":\"Column07769\"},\"id\":\"9040\",\"type\":\"Column\"},{\"attributes\":{\"children\":[{\"id\":\"9043\"}],\"css_classes\":[\"panel-widget-box\"],\"margin\":[5,5,5,5],\"name\":\"WidgetBox07762\"},\"id\":\"9042\",\"type\":\"Column\"},{\"attributes\":{},\"id\":\"9004\",\"type\":\"UnionRenderers\"},{\"attributes\":{\"data\":{\"Percentage\":{\"__ndarray__\":\"5hdLfrEkRkAXS36x5BdLQE0b6LSBTixApHA9CtejSEA=\",\"dtype\":\"float64\",\"order\":\"little\",\"shape\":[4]},\"Topic\":[\"Assistance with Daily Living\",\"Experiencing Functional Difficulties\",\"Officially Diagnosed\",\"Talked with a Doctor\"],\"color\":[\"Assistance with Daily Living\",\"Experiencing Functional Difficulties\",\"Officially Diagnosed\",\"Talked with a Doctor\"]},\"selected\":{\"id\":\"8988\"},\"selection_policy\":{\"id\":\"9004\"}},\"id\":\"8987\",\"type\":\"ColumnDataSource\"},{\"attributes\":{\"source\":{\"id\":\"8987\"}},\"id\":\"8996\",\"type\":\"CDSView\"},{\"attributes\":{\"overlay\":{\"id\":\"8978\"}},\"id\":\"8976\",\"type\":\"BoxZoomTool\"},{\"attributes\":{\"factors\":[\"Assistance with Daily Living\",\"Experiencing Functional Difficulties\",\"Officially Diagnosed\",\"Talked with a Doctor\"],\"palette\":[\"#f7fcf5\",\"#addea7\",\"#37a055\",\"#00441b\"]},\"id\":\"8986\",\"type\":\"CategoricalColorMapper\"},{\"attributes\":{\"fill_alpha\":{\"value\":0.1},\"fill_color\":{\"field\":\"color\",\"transform\":{\"id\":\"8986\"}},\"hatch_alpha\":{\"value\":0.1},\"hatch_color\":{\"field\":\"color\",\"transform\":{\"id\":\"8986\"}},\"line_alpha\":{\"value\":0.1},\"top\":{\"field\":\"Percentage\"},\"width\":{\"value\":0.8},\"x\":{\"field\":\"Topic\"}},\"id\":\"8991\",\"type\":\"VBar\"},{\"attributes\":{\"margin\":[20,20,20,20],\"min_width\":250,\"options\":[\"Alabama\",\"Alaska\",\"Arizona\",\"Arkansas\",\"California\",\"Colorado\",\"Connecticut\",\"Delaware\",\"Florida\",\"Georgia\",\"Hawaii\",\"Idaho\",\"Illinois\",\"Indiana\",\"Iowa\",\"Kansas\",\"Kentucky\",\"Louisiana\",\"Maine\",\"Maryland\",\"Massachusetts\",\"Michigan\",\"Minnesota\",\"Mississippi\",\"Missouri\",\"Montana\",\"Nebraska\",\"Nevada\",\"New Hampshire\",\"New Jersey\",\"New Mexico\",\"New York\",\"North Carolina\",\"North Dakota\",\"Ohio\",\"Oklahoma\",\"Oregon\",\"Pennsylvania\",\"Puerto Rico\",\"Rhode Island\",\"South Carolina\",\"South Dakota\",\"Tennessee\",\"Texas\",\"Utah\",\"Vermont\",\"Virginia\",\"Washington\",\"West Virginia\",\"Wisconsin\",\"Wyoming\"],\"title\":\"State\",\"value\":\"Alabama\",\"width\":250},\"id\":\"9043\",\"type\":\"panel.models.widgets.CustomSelect\"},{\"attributes\":{\"margin\":[5,5,5,5],\"name\":\"VSpacer07767\",\"sizing_mode\":\"stretch_height\"},\"id\":\"9041\",\"type\":\"Spacer\"},{\"attributes\":{\"coordinates\":null,\"group\":null,\"text\":\"Percentage of Adults under 65 with Cognitive Decline by State\",\"text_color\":\"black\",\"text_font_size\":\"12pt\"},\"id\":\"8958\",\"type\":\"Title\"},{\"attributes\":{\"margin\":[5,5,5,5],\"name\":\"VSpacer07768\",\"sizing_mode\":\"stretch_height\"},\"id\":\"9044\",\"type\":\"Spacer\"},{\"attributes\":{},\"id\":\"9000\",\"type\":\"AllLabels\"},{\"attributes\":{},\"id\":\"8999\",\"type\":\"BasicTickFormatter\"},{\"attributes\":{\"axis_label\":\"Level of Cognitive Decline\",\"coordinates\":null,\"formatter\":{\"id\":\"9002\"},\"group\":null,\"major_label_policy\":{\"id\":\"9003\"},\"ticker\":{\"id\":\"8967\"}},\"id\":\"8966\",\"type\":\"CategoricalAxis\"},{\"attributes\":{},\"id\":\"8962\",\"type\":\"CategoricalScale\"},{\"attributes\":{\"label\":{\"field\":\"color\"},\"renderers\":[{\"id\":\"8995\"}]},\"id\":\"9008\",\"type\":\"LegendItem\"},{\"attributes\":{\"children\":[{\"id\":\"8953\"},{\"id\":\"8957\"},{\"id\":\"9039\"},{\"id\":\"9040\"}],\"margin\":[0,0,0,0],\"name\":\"Row07761\"},\"id\":\"8952\",\"type\":\"Row\"},{\"attributes\":{\"axis\":{\"id\":\"8966\"},\"coordinates\":null,\"grid_line_color\":null,\"group\":null,\"ticker\":null},\"id\":\"8968\",\"type\":\"Grid\"},{\"attributes\":{},\"id\":\"8974\",\"type\":\"PanTool\"},{\"attributes\":{\"bottom_units\":\"screen\",\"coordinates\":null,\"fill_alpha\":0.5,\"fill_color\":\"lightgrey\",\"group\":null,\"left_units\":\"screen\",\"level\":\"overlay\",\"line_alpha\":1.0,\"line_color\":\"black\",\"line_dash\":[4,4],\"line_width\":2,\"right_units\":\"screen\",\"syncable\":false,\"top_units\":\"screen\"},\"id\":\"8978\",\"type\":\"BoxAnnotation\"},{\"attributes\":{\"client_comm_id\":\"1397575fd97748949a72c8c64dc28284\",\"comm_id\":\"8495b7605dd34134a7c67d5ddb84eb15\",\"plot_id\":\"8952\"},\"id\":\"9075\",\"type\":\"panel.models.comm_manager.CommManager\"},{\"attributes\":{\"end\":58.18999999999999,\"reset_end\":58.18999999999999,\"reset_start\":0.0,\"tags\":[[[\"Percentage\",\"Percentage\",null]]]},\"id\":\"8955\",\"type\":\"Range1d\"},{\"attributes\":{},\"id\":\"8964\",\"type\":\"LinearScale\"}],\"root_ids\":[\"8952\",\"9075\"]},\"title\":\"Bokeh Application\",\"version\":\"2.4.3\"}};\n",
       "    var render_items = [{\"docid\":\"99679830-07e4-4a78-8396-f22eff1b6f48\",\"root_ids\":[\"8952\"],\"roots\":{\"8952\":\"1642f665-ad6a-4f18-af7f-03c010e9cce4\"}}];\n",
       "    root.Bokeh.embed.embed_items_notebook(docs_json, render_items);\n",
       "    for (const render_item of render_items) {\n",
       "      for (const root_id of render_item.root_ids) {\n",
       "\tconst id_el = document.getElementById(root_id)\n",
       "\tif (id_el.children.length && (id_el.children[0].className === 'bk-root')) {\n",
       "\t  const root_el = id_el.children[0]\n",
       "\t  root_el.id = root_el.id + '-rendered'\n",
       "\t}\n",
       "      }\n",
       "    }\n",
       "  }\n",
       "  if (root.Bokeh !== undefined && root.Bokeh.Panel !== undefined) {\n",
       "    embed_document(root);\n",
       "  } else {\n",
       "    var attempts = 0;\n",
       "    var timer = setInterval(function(root) {\n",
       "      if (root.Bokeh !== undefined && root.Bokeh.Panel !== undefined) {\n",
       "        clearInterval(timer);\n",
       "        embed_document(root);\n",
       "      } else if (document.readyState == \"complete\") {\n",
       "        attempts++;\n",
       "        if (attempts > 200) {\n",
       "          clearInterval(timer);\n",
       "          console.log(\"Bokeh: ERROR: Unable to run BokehJS code because BokehJS library is missing\");\n",
       "        }\n",
       "      }\n",
       "    }, 25, root)\n",
       "  }\n",
       "})(window);</script>"
      ],
      "text/plain": [
       ":DynamicMap   [State]\n",
       "   :Bars   [Topic]   (Percentage)"
      ]
     },
     "execution_count": 80,
     "metadata": {
      "application/vnd.holoviews_exec.v0+json": {
       "id": "8952"
      }
     },
     "output_type": "execute_result"
    }
   ],
   "source": [
    "# plot overall average per state and topic for ages under 65\n",
    "younger_americans_df = under65_df.groupby(['State', 'Topic']).mean()['Percentage'].reset_index()\n",
    "younger_americans_plot2 = younger_americans_df.hvplot.bar(x='Topic', y='Percentage', xlabel='Level of Cognitive Decline', ylabel='Percentage', groupby='State', color='Topic', cmap='Greens', height=800, width=1200, legend='top', title='Percentage of Adults ages 50-64 with Cognitive Decline by State')\n",
    "younger_americans_plot2"
   ]
  },
  {
   "cell_type": "code",
   "execution_count": 82,
   "metadata": {},
   "outputs": [
    {
     "data": {},
     "metadata": {},
     "output_type": "display_data"
    },
    {
     "data": {
      "application/vnd.holoviews_exec.v0+json": "",
      "text/html": [
       "<div id='9299'>\n",
       "  <div class=\"bk-root\" id=\"12098272-4e44-4363-94bc-154dce8516d3\" data-root-id=\"9299\"></div>\n",
       "</div>\n",
       "<script type=\"application/javascript\">(function(root) {\n",
       "  function embed_document(root) {\n",
       "    var docs_json = {\"1bd086b7-68da-493d-88ff-82d0197335d3\":{\"defs\":[{\"extends\":null,\"module\":null,\"name\":\"ReactiveHTML1\",\"overrides\":[],\"properties\":[]},{\"extends\":null,\"module\":null,\"name\":\"FlexBox1\",\"overrides\":[],\"properties\":[{\"default\":\"flex-start\",\"kind\":null,\"name\":\"align_content\"},{\"default\":\"flex-start\",\"kind\":null,\"name\":\"align_items\"},{\"default\":\"row\",\"kind\":null,\"name\":\"flex_direction\"},{\"default\":\"wrap\",\"kind\":null,\"name\":\"flex_wrap\"},{\"default\":\"flex-start\",\"kind\":null,\"name\":\"justify_content\"}]},{\"extends\":null,\"module\":null,\"name\":\"GridStack1\",\"overrides\":[],\"properties\":[{\"default\":\"warn\",\"kind\":null,\"name\":\"mode\"},{\"default\":null,\"kind\":null,\"name\":\"ncols\"},{\"default\":null,\"kind\":null,\"name\":\"nrows\"},{\"default\":true,\"kind\":null,\"name\":\"allow_resize\"},{\"default\":true,\"kind\":null,\"name\":\"allow_drag\"},{\"default\":[],\"kind\":null,\"name\":\"state\"}]},{\"extends\":null,\"module\":null,\"name\":\"click1\",\"overrides\":[],\"properties\":[{\"default\":\"\",\"kind\":null,\"name\":\"terminal_output\"},{\"default\":\"\",\"kind\":null,\"name\":\"debug_name\"},{\"default\":0,\"kind\":null,\"name\":\"clears\"}]},{\"extends\":null,\"module\":null,\"name\":\"NotificationAreaBase1\",\"overrides\":[],\"properties\":[{\"default\":\"bottom-right\",\"kind\":null,\"name\":\"position\"},{\"default\":0,\"kind\":null,\"name\":\"_clear\"}]},{\"extends\":null,\"module\":null,\"name\":\"NotificationArea1\",\"overrides\":[],\"properties\":[{\"default\":[],\"kind\":null,\"name\":\"notifications\"},{\"default\":\"bottom-right\",\"kind\":null,\"name\":\"position\"},{\"default\":0,\"kind\":null,\"name\":\"_clear\"},{\"default\":[{\"background\":\"#ffc107\",\"icon\":{\"className\":\"fas fa-exclamation-triangle\",\"color\":\"white\",\"tagName\":\"i\"},\"type\":\"warning\"},{\"background\":\"#007bff\",\"icon\":{\"className\":\"fas fa-info-circle\",\"color\":\"white\",\"tagName\":\"i\"},\"type\":\"info\"}],\"kind\":null,\"name\":\"types\"}]},{\"extends\":null,\"module\":null,\"name\":\"Notification\",\"overrides\":[],\"properties\":[{\"default\":null,\"kind\":null,\"name\":\"background\"},{\"default\":3000,\"kind\":null,\"name\":\"duration\"},{\"default\":null,\"kind\":null,\"name\":\"icon\"},{\"default\":\"\",\"kind\":null,\"name\":\"message\"},{\"default\":null,\"kind\":null,\"name\":\"notification_type\"},{\"default\":false,\"kind\":null,\"name\":\"_destroyed\"}]},{\"extends\":null,\"module\":null,\"name\":\"TemplateActions1\",\"overrides\":[],\"properties\":[{\"default\":0,\"kind\":null,\"name\":\"open_modal\"},{\"default\":0,\"kind\":null,\"name\":\"close_modal\"}]},{\"extends\":null,\"module\":null,\"name\":\"MaterialTemplateActions1\",\"overrides\":[],\"properties\":[{\"default\":0,\"kind\":null,\"name\":\"open_modal\"},{\"default\":0,\"kind\":null,\"name\":\"close_modal\"}]}],\"roots\":{\"references\":[{\"attributes\":{\"active_drag\":{\"id\":\"9321\"},\"active_scroll\":{\"id\":\"9322\"},\"tools\":[{\"id\":\"9303\"},{\"id\":\"9320\"},{\"id\":\"9321\"},{\"id\":\"9322\"},{\"id\":\"9323\"},{\"id\":\"9324\"}]},\"id\":\"9326\",\"type\":\"Toolbar\"},{\"attributes\":{\"margin\":[5,5,5,5],\"name\":\"VSpacer08046\",\"sizing_mode\":\"stretch_height\"},\"id\":\"9382\",\"type\":\"Spacer\"},{\"attributes\":{},\"id\":\"9322\",\"type\":\"WheelZoomTool\"},{\"attributes\":{},\"id\":\"9335\",\"type\":\"Selection\"},{\"attributes\":{\"fill_alpha\":{\"value\":0.2},\"fill_color\":{\"field\":\"color\",\"transform\":{\"id\":\"9333\"}},\"hatch_alpha\":{\"value\":0.2},\"hatch_color\":{\"field\":\"color\",\"transform\":{\"id\":\"9333\"}},\"line_alpha\":{\"value\":0.2},\"top\":{\"field\":\"Percentage\"},\"width\":{\"value\":0.8},\"x\":{\"field\":\"State\"}},\"id\":\"9341\",\"type\":\"VBar\"},{\"attributes\":{\"bottom_units\":\"screen\",\"coordinates\":null,\"fill_alpha\":0.5,\"fill_color\":\"lightgrey\",\"group\":null,\"left_units\":\"screen\",\"level\":\"overlay\",\"line_alpha\":1.0,\"line_color\":\"black\",\"line_dash\":[4,4],\"line_width\":2,\"right_units\":\"screen\",\"syncable\":false,\"top_units\":\"screen\"},\"id\":\"9325\",\"type\":\"BoxAnnotation\"},{\"attributes\":{\"axis\":{\"id\":\"9316\"},\"coordinates\":null,\"dimension\":1,\"grid_line_color\":null,\"group\":null,\"ticker\":null},\"id\":\"9319\",\"type\":\"Grid\"},{\"attributes\":{\"margin\":[5,5,5,5],\"name\":\"HSpacer08048\",\"sizing_mode\":\"stretch_width\"},\"id\":\"9300\",\"type\":\"Spacer\"},{\"attributes\":{\"axis_label\":\"State\",\"coordinates\":null,\"formatter\":{\"id\":\"9347\"},\"group\":null,\"major_label_orientation\":1.5707963267948966,\"major_label_policy\":{\"id\":\"9348\"},\"ticker\":{\"id\":\"9314\"}},\"id\":\"9313\",\"type\":\"CategoricalAxis\"},{\"attributes\":{},\"id\":\"9320\",\"type\":\"SaveTool\"},{\"attributes\":{\"callback\":null,\"renderers\":[{\"id\":\"9342\"}],\"tags\":[\"hv_created\"],\"tooltips\":[[\"State\",\"@{State}\"],[\"Percentage\",\"@{Percentage}\"]]},\"id\":\"9303\",\"type\":\"HoverTool\"},{\"attributes\":{},\"id\":\"9324\",\"type\":\"ResetTool\"},{\"attributes\":{\"margin\":[5,5,5,5],\"name\":\"VSpacer08045\",\"sizing_mode\":\"stretch_height\"},\"id\":\"9379\",\"type\":\"Spacer\"},{\"attributes\":{\"coordinates\":null,\"group\":null,\"text\":\"Percentage at any age with Cognitive Decline by State\",\"text_color\":\"black\",\"text_font_size\":\"12pt\"},\"id\":\"9305\",\"type\":\"Title\"},{\"attributes\":{\"high\":65.02000000000001,\"low\":21.433333333333334,\"palette\":[\"#fff5eb\",\"#fef4ea\",\"#fef4e9\",\"#fef3e8\",\"#fef3e7\",\"#fef2e6\",\"#fef2e5\",\"#fef1e4\",\"#fef1e3\",\"#fef0e2\",\"#fef0e1\",\"#feefe0\",\"#feefe0\",\"#feeedf\",\"#feeede\",\"#feeddd\",\"#feeddc\",\"#feeddb\",\"#feecda\",\"#feecd9\",\"#feebd8\",\"#feebd7\",\"#feead6\",\"#feead6\",\"#fee9d5\",\"#fee9d4\",\"#fee8d3\",\"#fee8d2\",\"#fee7d1\",\"#fee7d0\",\"#fee6cf\",\"#fee6ce\",\"#fde5cd\",\"#fde5cc\",\"#fde4cb\",\"#fde3c9\",\"#fde3c8\",\"#fde2c6\",\"#fde1c5\",\"#fde1c4\",\"#fde0c2\",\"#fddfc1\",\"#fddfc0\",\"#fddebe\",\"#fdddbd\",\"#fddcbb\",\"#fddcba\",\"#fddbb9\",\"#fddab7\",\"#fddab6\",\"#fdd9b4\",\"#fdd8b3\",\"#fdd8b2\",\"#fdd7b0\",\"#fdd6af\",\"#fdd6ae\",\"#fdd5ac\",\"#fdd4ab\",\"#fdd3a9\",\"#fdd3a8\",\"#fdd2a7\",\"#fdd1a5\",\"#fdd1a4\",\"#fdd0a3\",\"#fdcfa1\",\"#fdce9f\",\"#fdcd9e\",\"#fdcc9c\",\"#fdcb9a\",\"#fdca98\",\"#fdc997\",\"#fdc895\",\"#fdc793\",\"#fdc692\",\"#fdc590\",\"#fdc48e\",\"#fdc28c\",\"#fdc18b\",\"#fdc089\",\"#fdbf87\",\"#fdbe85\",\"#fdbd84\",\"#fdbc82\",\"#fdbb80\",\"#fdba7f\",\"#fdb97d\",\"#fdb87b\",\"#fdb779\",\"#fdb678\",\"#fdb576\",\"#fdb474\",\"#fdb272\",\"#fdb171\",\"#fdb06f\",\"#fdaf6d\",\"#fdae6c\",\"#fdad6a\",\"#fdac68\",\"#fdab67\",\"#fdaa66\",\"#fda964\",\"#fda863\",\"#fda761\",\"#fda660\",\"#fda55e\",\"#fda45d\",\"#fda35b\",\"#fda25a\",\"#fda158\",\"#fda057\",\"#fd9f55\",\"#fd9e54\",\"#fd9d52\",\"#fd9c51\",\"#fd9a4f\",\"#fd994e\",\"#fd984c\",\"#fd974b\",\"#fd964a\",\"#fd9548\",\"#fd9447\",\"#fd9345\",\"#fd9244\",\"#fd9142\",\"#fd9041\",\"#fd8f3f\",\"#fd8e3e\",\"#fd8d3c\",\"#fc8c3b\",\"#fc8b3a\",\"#fc8a38\",\"#fb8937\",\"#fb8736\",\"#fa8634\",\"#fa8533\",\"#fa8432\",\"#f98331\",\"#f9822f\",\"#f9812e\",\"#f8802d\",\"#f87e2b\",\"#f77d2a\",\"#f77c29\",\"#f77b28\",\"#f67a26\",\"#f67925\",\"#f67824\",\"#f57622\",\"#f57521\",\"#f47420\",\"#f4731f\",\"#f4721d\",\"#f3711c\",\"#f3701b\",\"#f36f19\",\"#f26d18\",\"#f26c17\",\"#f16b16\",\"#f16a14\",\"#f16913\",\"#f06812\",\"#ef6712\",\"#ef6611\",\"#ee6510\",\"#ed6410\",\"#ec630f\",\"#ec620f\",\"#eb610e\",\"#ea600e\",\"#e95f0d\",\"#e95d0d\",\"#e85c0c\",\"#e75b0b\",\"#e65a0b\",\"#e5590a\",\"#e5580a\",\"#e45709\",\"#e35609\",\"#e25508\",\"#e25407\",\"#e15307\",\"#e05206\",\"#df5106\",\"#df5005\",\"#de4f05\",\"#dd4e04\",\"#dc4d03\",\"#dc4c03\",\"#db4b02\",\"#da4a02\",\"#d94901\",\"#d94801\",\"#d74701\",\"#d64701\",\"#d44601\",\"#d34501\",\"#d14501\",\"#cf4401\",\"#ce4401\",\"#cc4301\",\"#cb4301\",\"#c94201\",\"#c74101\",\"#c64101\",\"#c44001\",\"#c34001\",\"#c13f01\",\"#bf3f01\",\"#be3e02\",\"#bc3d02\",\"#bb3d02\",\"#b93c02\",\"#b73c02\",\"#b63b02\",\"#b43b02\",\"#b33a02\",\"#b13a02\",\"#af3902\",\"#ae3802\",\"#ac3802\",\"#ab3702\",\"#a93702\",\"#a73602\",\"#a63602\",\"#a43503\",\"#a33503\",\"#a23403\",\"#a13403\",\"#a03303\",\"#9e3303\",\"#9d3203\",\"#9c3203\",\"#9b3103\",\"#993103\",\"#983003\",\"#973003\",\"#962f03\",\"#952f03\",\"#932f03\",\"#922e03\",\"#912e03\",\"#902d03\",\"#8e2d03\",\"#8d2c03\",\"#8c2c03\",\"#8b2b03\",\"#8a2b03\",\"#882a03\",\"#872a03\",\"#862903\",\"#852903\",\"#832803\",\"#822803\",\"#812703\",\"#802703\",\"#7f2704\"]},\"id\":\"9333\",\"type\":\"LinearColorMapper\"},{\"attributes\":{\"fill_color\":{\"field\":\"color\",\"transform\":{\"id\":\"9333\"}},\"hatch_color\":{\"field\":\"color\",\"transform\":{\"id\":\"9333\"}},\"top\":{\"field\":\"Percentage\"},\"width\":{\"value\":0.8},\"x\":{\"field\":\"State\"}},\"id\":\"9337\",\"type\":\"VBar\"},{\"attributes\":{},\"id\":\"9321\",\"type\":\"PanTool\"},{\"attributes\":{\"overlay\":{\"id\":\"9325\"}},\"id\":\"9323\",\"type\":\"BoxZoomTool\"},{\"attributes\":{},\"id\":\"9350\",\"type\":\"BasicTickFormatter\"},{\"attributes\":{},\"id\":\"9348\",\"type\":\"AllLabels\"},{\"attributes\":{\"fill_color\":{\"field\":\"color\",\"transform\":{\"id\":\"9333\"}},\"hatch_color\":{\"field\":\"color\",\"transform\":{\"id\":\"9333\"}},\"top\":{\"field\":\"Percentage\"},\"width\":{\"value\":0.8},\"x\":{\"field\":\"State\"}},\"id\":\"9340\",\"type\":\"VBar\"},{\"attributes\":{\"axis_label\":\"Percentage\",\"coordinates\":null,\"formatter\":{\"id\":\"9350\"},\"group\":null,\"major_label_policy\":{\"id\":\"9351\"},\"ticker\":{\"id\":\"9317\"}},\"id\":\"9316\",\"type\":\"LinearAxis\"},{\"attributes\":{\"children\":[{\"id\":\"9379\"},{\"id\":\"9380\"},{\"id\":\"9382\"}],\"margin\":[0,0,0,0],\"name\":\"Column08047\"},\"id\":\"9378\",\"type\":\"Column\"},{\"attributes\":{\"coordinates\":null,\"data_source\":{\"id\":\"9334\"},\"glyph\":{\"id\":\"9337\"},\"group\":null,\"hover_glyph\":{\"id\":\"9340\"},\"muted_glyph\":{\"id\":\"9341\"},\"nonselection_glyph\":{\"id\":\"9338\"},\"selection_glyph\":{\"id\":\"9339\"},\"view\":{\"id\":\"9343\"}},\"id\":\"9342\",\"type\":\"GlyphRenderer\"},{\"attributes\":{\"axis\":{\"id\":\"9313\"},\"coordinates\":null,\"grid_line_color\":null,\"group\":null,\"ticker\":null},\"id\":\"9315\",\"type\":\"Grid\"},{\"attributes\":{},\"id\":\"9309\",\"type\":\"CategoricalScale\"},{\"attributes\":{},\"id\":\"9311\",\"type\":\"LinearScale\"},{\"attributes\":{\"fill_color\":{\"field\":\"color\",\"transform\":{\"id\":\"9333\"}},\"hatch_color\":{\"field\":\"color\",\"transform\":{\"id\":\"9333\"}},\"top\":{\"field\":\"Percentage\"},\"width\":{\"value\":0.8},\"x\":{\"field\":\"State\"}},\"id\":\"9339\",\"type\":\"VBar\"},{\"attributes\":{},\"id\":\"9374\",\"type\":\"UnionRenderers\"},{\"attributes\":{\"fill_alpha\":{\"value\":0.1},\"fill_color\":{\"field\":\"color\",\"transform\":{\"id\":\"9333\"}},\"hatch_alpha\":{\"value\":0.1},\"hatch_color\":{\"field\":\"color\",\"transform\":{\"id\":\"9333\"}},\"line_alpha\":{\"value\":0.1},\"top\":{\"field\":\"Percentage\"},\"width\":{\"value\":0.8},\"x\":{\"field\":\"State\"}},\"id\":\"9338\",\"type\":\"VBar\"},{\"attributes\":{},\"id\":\"9317\",\"type\":\"BasicTicker\"},{\"attributes\":{\"margin\":[5,5,5,5],\"name\":\"HSpacer08049\",\"sizing_mode\":\"stretch_width\"},\"id\":\"9377\",\"type\":\"Spacer\"},{\"attributes\":{\"children\":[{\"id\":\"9381\"}],\"css_classes\":[\"panel-widget-box\"],\"margin\":[5,5,5,5],\"name\":\"WidgetBox08040\"},\"id\":\"9380\",\"type\":\"Column\"},{\"attributes\":{},\"id\":\"9351\",\"type\":\"AllLabels\"},{\"attributes\":{},\"id\":\"9370\",\"type\":\"NoOverlap\"},{\"attributes\":{\"data\":{\"Percentage\":{\"__ndarray__\":\"lfxiyS9WREBI4XoUroc+QM3MzMzMDENAJ3ZiJ3ZiREBERERERIQ9QJqZmZmZ+TdAIyIiIiJCOkDNzMzMzFxAQM7MzMzM/ENAexSuR+FKQ0DiehSuRyE6QAAAAAAAwDlAzczMzMxsRUBVVVVVVZU/QO/u7u7ubjVARERERESkPEAYeqEXeiFDQArXo3A9ykVAAQAAAADgNkBx6vfcEqc8QJqZmZmZeTlAMjMzMzMLQEB4d3d3dxc2QArXo3A9qkdAdnd3d3cnQkDMzMzMzOw9QLy7u7u7mzlAAAAAAACgOEAREREREdE6QL/iK77iK0BAhutRuB7FQ0DVQR3UQe1AQFIrtVIr9URAZ2ZmZmamNkCamZmZmRE9QGZmZmZm1kJAja/4iq9YPEDv7u7u7i47QOJ6FK5HQVBAiIiIiIgIQEB3d3d3d3dCQCEiIiIiYjdAdnV1dXV1REC7urq6ujpGQN3d3d3dLTlA61G4HoUrO0BlZmZmZuY/QERERERERDpARUREREQUQkBnZmZmZgY5QAEAAAAAgDhA\",\"dtype\":\"float64\",\"order\":\"little\",\"shape\":[51]},\"State\":[\"Alabama\",\"Alaska\",\"Arizona\",\"Arkansas\",\"California\",\"Colorado\",\"Connecticut\",\"Delaware\",\"Florida\",\"Georgia\",\"Hawaii\",\"Idaho\",\"Illinois\",\"Indiana\",\"Iowa\",\"Kansas\",\"Kentucky\",\"Louisiana\",\"Maine\",\"Maryland\",\"Massachusetts\",\"Michigan\",\"Minnesota\",\"Mississippi\",\"Missouri\",\"Montana\",\"Nebraska\",\"Nevada\",\"New Hampshire\",\"New Jersey\",\"New Mexico\",\"New York\",\"North Carolina\",\"North Dakota\",\"Ohio\",\"Oklahoma\",\"Oregon\",\"Pennsylvania\",\"Puerto Rico\",\"Rhode Island\",\"South Carolina\",\"South Dakota\",\"Tennessee\",\"Texas\",\"Utah\",\"Vermont\",\"Virginia\",\"Washington\",\"West Virginia\",\"Wisconsin\",\"Wyoming\"],\"color\":{\"__ndarray__\":\"lfxiyS9WREBI4XoUroc+QM3MzMzMDENAJ3ZiJ3ZiREBERERERIQ9QJqZmZmZ+TdAIyIiIiJCOkDNzMzMzFxAQM7MzMzM/ENAexSuR+FKQ0DiehSuRyE6QAAAAAAAwDlAzczMzMxsRUBVVVVVVZU/QO/u7u7ubjVARERERESkPEAYeqEXeiFDQArXo3A9ykVAAQAAAADgNkBx6vfcEqc8QJqZmZmZeTlAMjMzMzMLQEB4d3d3dxc2QArXo3A9qkdAdnd3d3cnQkDMzMzMzOw9QLy7u7u7mzlAAAAAAACgOEAREREREdE6QL/iK77iK0BAhutRuB7FQ0DVQR3UQe1AQFIrtVIr9URAZ2ZmZmamNkCamZmZmRE9QGZmZmZm1kJAja/4iq9YPEDv7u7u7i47QOJ6FK5HQVBAiIiIiIgIQEB3d3d3d3dCQCEiIiIiYjdAdnV1dXV1REC7urq6ujpGQN3d3d3dLTlA61G4HoUrO0BlZmZmZuY/QERERERERDpARUREREQUQkBnZmZmZgY5QAEAAAAAgDhA\",\"dtype\":\"float64\",\"order\":\"little\",\"shape\":[51]}},\"selected\":{\"id\":\"9335\"},\"selection_policy\":{\"id\":\"9374\"}},\"id\":\"9334\",\"type\":\"ColumnDataSource\"},{\"attributes\":{\"source\":{\"id\":\"9334\"}},\"id\":\"9343\",\"type\":\"CDSView\"},{\"attributes\":{\"margin\":[20,20,20,20],\"min_width\":250,\"options\":[\"Assistance with Daily Living\",\"Experiencing Functional Difficulties\",\"Officially Diagnosed\",\"Talked with a Doctor\"],\"title\":\"Topic\",\"value\":\"Assistance with Daily Living\",\"width\":250},\"id\":\"9381\",\"type\":\"panel.models.widgets.CustomSelect\"},{\"attributes\":{\"end\":69.37866666666667,\"reset_end\":69.37866666666667,\"reset_start\":0.0,\"tags\":[[[\"Percentage\",\"Percentage\",null]]]},\"id\":\"9302\",\"type\":\"Range1d\"},{\"attributes\":{},\"id\":\"9344\",\"type\":\"BasicTicker\"},{\"attributes\":{},\"id\":\"9347\",\"type\":\"CategoricalTickFormatter\"},{\"attributes\":{},\"id\":\"9314\",\"type\":\"CategoricalTicker\"},{\"attributes\":{\"bar_line_color\":\"black\",\"color_mapper\":{\"id\":\"9333\"},\"coordinates\":null,\"group\":null,\"label_standoff\":8,\"location\":[0,0],\"major_label_policy\":{\"id\":\"9370\"},\"major_tick_line_color\":\"black\",\"ticker\":{\"id\":\"9344\"}},\"id\":\"9345\",\"type\":\"ColorBar\"},{\"attributes\":{\"client_comm_id\":\"dcf46de2c7764a0bbd2adc60c76f7b73\",\"comm_id\":\"ff8f2c15350b481db55580a30563502b\",\"plot_id\":\"9299\"},\"id\":\"9416\",\"type\":\"panel.models.comm_manager.CommManager\"},{\"attributes\":{\"factors\":[\"Alabama\",\"Alaska\",\"Arizona\",\"Arkansas\",\"California\",\"Colorado\",\"Connecticut\",\"Delaware\",\"Florida\",\"Georgia\",\"Hawaii\",\"Idaho\",\"Illinois\",\"Indiana\",\"Iowa\",\"Kansas\",\"Kentucky\",\"Louisiana\",\"Maine\",\"Maryland\",\"Massachusetts\",\"Michigan\",\"Minnesota\",\"Mississippi\",\"Missouri\",\"Montana\",\"Nebraska\",\"Nevada\",\"New Hampshire\",\"New Jersey\",\"New Mexico\",\"New York\",\"North Carolina\",\"North Dakota\",\"Ohio\",\"Oklahoma\",\"Oregon\",\"Pennsylvania\",\"Puerto Rico\",\"Rhode Island\",\"South Carolina\",\"South Dakota\",\"Tennessee\",\"Texas\",\"Utah\",\"Vermont\",\"Virginia\",\"Washington\",\"West Virginia\",\"Wisconsin\",\"Wyoming\"],\"tags\":[[[\"State\",\"State\",null]]]},\"id\":\"9301\",\"type\":\"FactorRange\"},{\"attributes\":{\"below\":[{\"id\":\"9313\"}],\"center\":[{\"id\":\"9315\"},{\"id\":\"9319\"}],\"height\":800,\"left\":[{\"id\":\"9316\"}],\"margin\":[5,5,5,5],\"min_border_bottom\":10,\"min_border_left\":10,\"min_border_right\":10,\"min_border_top\":10,\"renderers\":[{\"id\":\"9342\"}],\"right\":[{\"id\":\"9345\"}],\"sizing_mode\":\"fixed\",\"title\":{\"id\":\"9305\"},\"toolbar\":{\"id\":\"9326\"},\"width\":1200,\"x_range\":{\"id\":\"9301\"},\"x_scale\":{\"id\":\"9309\"},\"y_range\":{\"id\":\"9302\"},\"y_scale\":{\"id\":\"9311\"}},\"id\":\"9304\",\"subtype\":\"Figure\",\"type\":\"Plot\"},{\"attributes\":{\"children\":[{\"id\":\"9300\"},{\"id\":\"9304\"},{\"id\":\"9377\"},{\"id\":\"9378\"}],\"margin\":[0,0,0,0],\"name\":\"Row08039\"},\"id\":\"9299\",\"type\":\"Row\"}],\"root_ids\":[\"9299\",\"9416\"]},\"title\":\"Bokeh Application\",\"version\":\"2.4.3\"}};\n",
       "    var render_items = [{\"docid\":\"1bd086b7-68da-493d-88ff-82d0197335d3\",\"root_ids\":[\"9299\"],\"roots\":{\"9299\":\"12098272-4e44-4363-94bc-154dce8516d3\"}}];\n",
       "    root.Bokeh.embed.embed_items_notebook(docs_json, render_items);\n",
       "    for (const render_item of render_items) {\n",
       "      for (const root_id of render_item.root_ids) {\n",
       "\tconst id_el = document.getElementById(root_id)\n",
       "\tif (id_el.children.length && (id_el.children[0].className === 'bk-root')) {\n",
       "\t  const root_el = id_el.children[0]\n",
       "\t  root_el.id = root_el.id + '-rendered'\n",
       "\t}\n",
       "      }\n",
       "    }\n",
       "  }\n",
       "  if (root.Bokeh !== undefined && root.Bokeh.Panel !== undefined) {\n",
       "    embed_document(root);\n",
       "  } else {\n",
       "    var attempts = 0;\n",
       "    var timer = setInterval(function(root) {\n",
       "      if (root.Bokeh !== undefined && root.Bokeh.Panel !== undefined) {\n",
       "        clearInterval(timer);\n",
       "        embed_document(root);\n",
       "      } else if (document.readyState == \"complete\") {\n",
       "        attempts++;\n",
       "        if (attempts > 200) {\n",
       "          clearInterval(timer);\n",
       "          console.log(\"Bokeh: ERROR: Unable to run BokehJS code because BokehJS library is missing\");\n",
       "        }\n",
       "      }\n",
       "    }, 25, root)\n",
       "  }\n",
       "})(window);</script>"
      ],
      "text/plain": [
       ":DynamicMap   [Topic]\n",
       "   :Bars   [State]   (Percentage)"
      ]
     },
     "execution_count": 82,
     "metadata": {
      "application/vnd.holoviews_exec.v0+json": {
       "id": "9299"
      }
     },
     "output_type": "execute_result"
    }
   ],
   "source": [
    "# plot overall average per state and topic for all ages\n",
    "all_ages_americans_df = all_ages_df.groupby(['State', 'Topic']).mean()['Percentage'].reset_index()\n",
    "all_ages_americans_plot = all_ages_americans_df.hvplot.bar(x='State', y='Percentage', xlabel='State', ylabel='Percentage', groupby='Topic', color='Percentage', cmap='Oranges', rot=90, height=800, width=1200, c='Percentage', colorbar=True, title='Percentage at any age with Cognitive Decline by State')\n",
    "all_ages_americans_plot"
   ]
  },
  {
   "cell_type": "code",
   "execution_count": 84,
   "metadata": {},
   "outputs": [
    {
     "data": {},
     "metadata": {},
     "output_type": "display_data"
    },
    {
     "data": {
      "application/vnd.holoviews_exec.v0+json": "",
      "text/html": [
       "<div id='9646'>\n",
       "  <div class=\"bk-root\" id=\"6834848c-c1ee-456d-ae06-609a206ca7cc\" data-root-id=\"9646\"></div>\n",
       "</div>\n",
       "<script type=\"application/javascript\">(function(root) {\n",
       "  function embed_document(root) {\n",
       "    var docs_json = {\"3b822e55-9966-4972-9bcb-5c598a31df61\":{\"defs\":[{\"extends\":null,\"module\":null,\"name\":\"ReactiveHTML1\",\"overrides\":[],\"properties\":[]},{\"extends\":null,\"module\":null,\"name\":\"FlexBox1\",\"overrides\":[],\"properties\":[{\"default\":\"flex-start\",\"kind\":null,\"name\":\"align_content\"},{\"default\":\"flex-start\",\"kind\":null,\"name\":\"align_items\"},{\"default\":\"row\",\"kind\":null,\"name\":\"flex_direction\"},{\"default\":\"wrap\",\"kind\":null,\"name\":\"flex_wrap\"},{\"default\":\"flex-start\",\"kind\":null,\"name\":\"justify_content\"}]},{\"extends\":null,\"module\":null,\"name\":\"GridStack1\",\"overrides\":[],\"properties\":[{\"default\":\"warn\",\"kind\":null,\"name\":\"mode\"},{\"default\":null,\"kind\":null,\"name\":\"ncols\"},{\"default\":null,\"kind\":null,\"name\":\"nrows\"},{\"default\":true,\"kind\":null,\"name\":\"allow_resize\"},{\"default\":true,\"kind\":null,\"name\":\"allow_drag\"},{\"default\":[],\"kind\":null,\"name\":\"state\"}]},{\"extends\":null,\"module\":null,\"name\":\"click1\",\"overrides\":[],\"properties\":[{\"default\":\"\",\"kind\":null,\"name\":\"terminal_output\"},{\"default\":\"\",\"kind\":null,\"name\":\"debug_name\"},{\"default\":0,\"kind\":null,\"name\":\"clears\"}]},{\"extends\":null,\"module\":null,\"name\":\"NotificationAreaBase1\",\"overrides\":[],\"properties\":[{\"default\":\"bottom-right\",\"kind\":null,\"name\":\"position\"},{\"default\":0,\"kind\":null,\"name\":\"_clear\"}]},{\"extends\":null,\"module\":null,\"name\":\"NotificationArea1\",\"overrides\":[],\"properties\":[{\"default\":[],\"kind\":null,\"name\":\"notifications\"},{\"default\":\"bottom-right\",\"kind\":null,\"name\":\"position\"},{\"default\":0,\"kind\":null,\"name\":\"_clear\"},{\"default\":[{\"background\":\"#ffc107\",\"icon\":{\"className\":\"fas fa-exclamation-triangle\",\"color\":\"white\",\"tagName\":\"i\"},\"type\":\"warning\"},{\"background\":\"#007bff\",\"icon\":{\"className\":\"fas fa-info-circle\",\"color\":\"white\",\"tagName\":\"i\"},\"type\":\"info\"}],\"kind\":null,\"name\":\"types\"}]},{\"extends\":null,\"module\":null,\"name\":\"Notification\",\"overrides\":[],\"properties\":[{\"default\":null,\"kind\":null,\"name\":\"background\"},{\"default\":3000,\"kind\":null,\"name\":\"duration\"},{\"default\":null,\"kind\":null,\"name\":\"icon\"},{\"default\":\"\",\"kind\":null,\"name\":\"message\"},{\"default\":null,\"kind\":null,\"name\":\"notification_type\"},{\"default\":false,\"kind\":null,\"name\":\"_destroyed\"}]},{\"extends\":null,\"module\":null,\"name\":\"TemplateActions1\",\"overrides\":[],\"properties\":[{\"default\":0,\"kind\":null,\"name\":\"open_modal\"},{\"default\":0,\"kind\":null,\"name\":\"close_modal\"}]},{\"extends\":null,\"module\":null,\"name\":\"MaterialTemplateActions1\",\"overrides\":[],\"properties\":[{\"default\":0,\"kind\":null,\"name\":\"open_modal\"},{\"default\":0,\"kind\":null,\"name\":\"close_modal\"}]}],\"roots\":{\"references\":[{\"attributes\":{\"coordinates\":null,\"data_source\":{\"id\":\"9681\"},\"glyph\":{\"id\":\"9684\"},\"group\":null,\"hover_glyph\":{\"id\":\"9687\"},\"muted_glyph\":{\"id\":\"9688\"},\"nonselection_glyph\":{\"id\":\"9685\"},\"selection_glyph\":{\"id\":\"9686\"},\"view\":{\"id\":\"9690\"}},\"id\":\"9689\",\"type\":\"GlyphRenderer\"},{\"attributes\":{},\"id\":\"9661\",\"type\":\"CategoricalTicker\"},{\"attributes\":{\"margin\":[20,20,20,20],\"min_width\":250,\"options\":[\"Alabama\",\"Alaska\",\"Arizona\",\"Arkansas\",\"California\",\"Colorado\",\"Connecticut\",\"Delaware\",\"Florida\",\"Georgia\",\"Hawaii\",\"Idaho\",\"Illinois\",\"Indiana\",\"Iowa\",\"Kansas\",\"Kentucky\",\"Louisiana\",\"Maine\",\"Maryland\",\"Massachusetts\",\"Michigan\",\"Minnesota\",\"Mississippi\",\"Missouri\",\"Montana\",\"Nebraska\",\"Nevada\",\"New Hampshire\",\"New Jersey\",\"New Mexico\",\"New York\",\"North Carolina\",\"North Dakota\",\"Ohio\",\"Oklahoma\",\"Oregon\",\"Pennsylvania\",\"Puerto Rico\",\"Rhode Island\",\"South Carolina\",\"South Dakota\",\"Tennessee\",\"Texas\",\"Utah\",\"Vermont\",\"Virginia\",\"Washington\",\"West Virginia\",\"Wisconsin\",\"Wyoming\"],\"title\":\"State\",\"value\":\"Alabama\",\"width\":250},\"id\":\"9737\",\"type\":\"panel.models.widgets.CustomSelect\"},{\"attributes\":{\"margin\":[5,5,5,5],\"name\":\"VSpacer08324\",\"sizing_mode\":\"stretch_height\"},\"id\":\"9738\",\"type\":\"Spacer\"},{\"attributes\":{\"overlay\":{\"id\":\"9672\"}},\"id\":\"9670\",\"type\":\"BoxZoomTool\"},{\"attributes\":{\"axis\":{\"id\":\"9663\"},\"coordinates\":null,\"dimension\":1,\"grid_line_color\":null,\"group\":null,\"ticker\":null},\"id\":\"9666\",\"type\":\"Grid\"},{\"attributes\":{\"data\":{\"Percentage\":{\"__ndarray__\":\"lfxiyS9WREB+seQXS35HQPrFkl8s+StAwFjyiyU/RkA=\",\"dtype\":\"float64\",\"order\":\"little\",\"shape\":[4]},\"Topic\":[\"Assistance with Daily Living\",\"Experiencing Functional Difficulties\",\"Officially Diagnosed\",\"Talked with a Doctor\"],\"color\":[\"Assistance with Daily Living\",\"Experiencing Functional Difficulties\",\"Officially Diagnosed\",\"Talked with a Doctor\"]},\"selected\":{\"id\":\"9682\"},\"selection_policy\":{\"id\":\"9698\"}},\"id\":\"9681\",\"type\":\"ColumnDataSource\"},{\"attributes\":{},\"id\":\"9693\",\"type\":\"BasicTickFormatter\"},{\"attributes\":{},\"id\":\"9682\",\"type\":\"Selection\"},{\"attributes\":{\"margin\":[5,5,5,5],\"name\":\"VSpacer08323\",\"sizing_mode\":\"stretch_height\"},\"id\":\"9735\",\"type\":\"Spacer\"},{\"attributes\":{\"fill_color\":{\"field\":\"color\",\"transform\":{\"id\":\"9680\"}},\"hatch_color\":{\"field\":\"color\",\"transform\":{\"id\":\"9680\"}},\"top\":{\"field\":\"Percentage\"},\"width\":{\"value\":0.8},\"x\":{\"field\":\"Topic\"}},\"id\":\"9684\",\"type\":\"VBar\"},{\"attributes\":{\"above\":[{\"id\":\"9701\"}],\"below\":[{\"id\":\"9660\"}],\"center\":[{\"id\":\"9662\"},{\"id\":\"9666\"},{\"id\":\"9701\"}],\"height\":800,\"left\":[{\"id\":\"9663\"}],\"margin\":[5,5,5,5],\"min_border_bottom\":10,\"min_border_left\":10,\"min_border_right\":10,\"min_border_top\":10,\"renderers\":[{\"id\":\"9689\"}],\"sizing_mode\":\"fixed\",\"title\":{\"id\":\"9652\"},\"toolbar\":{\"id\":\"9673\"},\"width\":1200,\"x_range\":{\"id\":\"9648\"},\"x_scale\":{\"id\":\"9656\"},\"y_range\":{\"id\":\"9649\"},\"y_scale\":{\"id\":\"9658\"}},\"id\":\"9651\",\"subtype\":\"Figure\",\"type\":\"Plot\"},{\"attributes\":{},\"id\":\"9696\",\"type\":\"CategoricalTickFormatter\"},{\"attributes\":{},\"id\":\"9656\",\"type\":\"CategoricalScale\"},{\"attributes\":{\"axis_label\":\"Level of Cognitive Decline\",\"coordinates\":null,\"formatter\":{\"id\":\"9696\"},\"group\":null,\"major_label_policy\":{\"id\":\"9697\"},\"ticker\":{\"id\":\"9661\"}},\"id\":\"9660\",\"type\":\"CategoricalAxis\"},{\"attributes\":{\"fill_alpha\":{\"value\":0.2},\"fill_color\":{\"field\":\"color\",\"transform\":{\"id\":\"9680\"}},\"hatch_alpha\":{\"value\":0.2},\"hatch_color\":{\"field\":\"color\",\"transform\":{\"id\":\"9680\"}},\"line_alpha\":{\"value\":0.2},\"top\":{\"field\":\"Percentage\"},\"width\":{\"value\":0.8},\"x\":{\"field\":\"Topic\"}},\"id\":\"9688\",\"type\":\"VBar\"},{\"attributes\":{},\"id\":\"9671\",\"type\":\"ResetTool\"},{\"attributes\":{},\"id\":\"9669\",\"type\":\"WheelZoomTool\"},{\"attributes\":{},\"id\":\"9694\",\"type\":\"AllLabels\"},{\"attributes\":{},\"id\":\"9668\",\"type\":\"PanTool\"},{\"attributes\":{\"label\":{\"field\":\"color\"},\"renderers\":[{\"id\":\"9689\"}]},\"id\":\"9702\",\"type\":\"LegendItem\"},{\"attributes\":{\"client_comm_id\":\"3897c9a7969247fbb9e2cc18abf904c6\",\"comm_id\":\"d99f418053804a3b94fae1132f5c0da2\",\"plot_id\":\"9646\"},\"id\":\"9769\",\"type\":\"panel.models.comm_manager.CommManager\"},{\"attributes\":{},\"id\":\"9697\",\"type\":\"AllLabels\"},{\"attributes\":{},\"id\":\"9664\",\"type\":\"BasicTicker\"},{\"attributes\":{\"axis_label\":\"Percentage\",\"coordinates\":null,\"formatter\":{\"id\":\"9693\"},\"group\":null,\"major_label_policy\":{\"id\":\"9694\"},\"ticker\":{\"id\":\"9664\"}},\"id\":\"9663\",\"type\":\"LinearAxis\"},{\"attributes\":{\"fill_color\":{\"field\":\"color\",\"transform\":{\"id\":\"9680\"}},\"hatch_color\":{\"field\":\"color\",\"transform\":{\"id\":\"9680\"}},\"top\":{\"field\":\"Percentage\"},\"width\":{\"value\":0.8},\"x\":{\"field\":\"Topic\"}},\"id\":\"9687\",\"type\":\"VBar\"},{\"attributes\":{\"margin\":[5,5,5,5],\"name\":\"HSpacer08326\",\"sizing_mode\":\"stretch_width\"},\"id\":\"9647\",\"type\":\"Spacer\"},{\"attributes\":{\"children\":[{\"id\":\"9735\"},{\"id\":\"9736\"},{\"id\":\"9738\"}],\"margin\":[0,0,0,0],\"name\":\"Column08325\"},\"id\":\"9734\",\"type\":\"Column\"},{\"attributes\":{\"end\":50.28666666666666,\"reset_end\":50.28666666666666,\"reset_start\":0.0,\"tags\":[[[\"Percentage\",\"Percentage\",null]]]},\"id\":\"9649\",\"type\":\"Range1d\"},{\"attributes\":{\"children\":[{\"id\":\"9737\"}],\"css_classes\":[\"panel-widget-box\"],\"margin\":[5,5,5,5],\"name\":\"WidgetBox08318\"},\"id\":\"9736\",\"type\":\"Column\"},{\"attributes\":{\"factors\":[\"Assistance with Daily Living\",\"Experiencing Functional Difficulties\",\"Officially Diagnosed\",\"Talked with a Doctor\"],\"palette\":[\"#fff5eb\",\"#fdb97d\",\"#e95d0d\",\"#7f2704\"]},\"id\":\"9680\",\"type\":\"CategoricalColorMapper\"},{\"attributes\":{\"axis\":{\"id\":\"9660\"},\"coordinates\":null,\"grid_line_color\":null,\"group\":null,\"ticker\":null},\"id\":\"9662\",\"type\":\"Grid\"},{\"attributes\":{\"factors\":[\"Assistance with Daily Living\",\"Experiencing Functional Difficulties\",\"Officially Diagnosed\",\"Talked with a Doctor\"],\"tags\":[[[\"Topic\",\"Topic\",null]]]},\"id\":\"9648\",\"type\":\"FactorRange\"},{\"attributes\":{\"fill_color\":{\"field\":\"color\",\"transform\":{\"id\":\"9680\"}},\"hatch_color\":{\"field\":\"color\",\"transform\":{\"id\":\"9680\"}},\"top\":{\"field\":\"Percentage\"},\"width\":{\"value\":0.8},\"x\":{\"field\":\"Topic\"}},\"id\":\"9686\",\"type\":\"VBar\"},{\"attributes\":{\"fill_alpha\":{\"value\":0.1},\"fill_color\":{\"field\":\"color\",\"transform\":{\"id\":\"9680\"}},\"hatch_alpha\":{\"value\":0.1},\"hatch_color\":{\"field\":\"color\",\"transform\":{\"id\":\"9680\"}},\"line_alpha\":{\"value\":0.1},\"top\":{\"field\":\"Percentage\"},\"width\":{\"value\":0.8},\"x\":{\"field\":\"Topic\"}},\"id\":\"9685\",\"type\":\"VBar\"},{\"attributes\":{\"callback\":null,\"renderers\":[{\"id\":\"9689\"}],\"tags\":[\"hv_created\"],\"tooltips\":[[\"Topic\",\"@{Topic}\"],[\"Percentage\",\"@{Percentage}\"]]},\"id\":\"9650\",\"type\":\"HoverTool\"},{\"attributes\":{\"bottom_units\":\"screen\",\"coordinates\":null,\"fill_alpha\":0.5,\"fill_color\":\"lightgrey\",\"group\":null,\"left_units\":\"screen\",\"level\":\"overlay\",\"line_alpha\":1.0,\"line_color\":\"black\",\"line_dash\":[4,4],\"line_width\":2,\"right_units\":\"screen\",\"syncable\":false,\"top_units\":\"screen\"},\"id\":\"9672\",\"type\":\"BoxAnnotation\"},{\"attributes\":{\"margin\":[5,5,5,5],\"name\":\"HSpacer08327\",\"sizing_mode\":\"stretch_width\"},\"id\":\"9733\",\"type\":\"Spacer\"},{\"attributes\":{},\"id\":\"9667\",\"type\":\"SaveTool\"},{\"attributes\":{},\"id\":\"9698\",\"type\":\"UnionRenderers\"},{\"attributes\":{\"source\":{\"id\":\"9681\"}},\"id\":\"9690\",\"type\":\"CDSView\"},{\"attributes\":{\"children\":[{\"id\":\"9647\"},{\"id\":\"9651\"},{\"id\":\"9733\"},{\"id\":\"9734\"}],\"margin\":[0,0,0,0],\"name\":\"Row08317\"},\"id\":\"9646\",\"type\":\"Row\"},{\"attributes\":{\"coordinates\":null,\"group\":null,\"text\":\"Percentage at any age with Cognitive Decline by State\",\"text_color\":\"black\",\"text_font_size\":\"12pt\"},\"id\":\"9652\",\"type\":\"Title\"},{\"attributes\":{\"active_drag\":{\"id\":\"9668\"},\"active_scroll\":{\"id\":\"9669\"},\"tools\":[{\"id\":\"9650\"},{\"id\":\"9667\"},{\"id\":\"9668\"},{\"id\":\"9669\"},{\"id\":\"9670\"},{\"id\":\"9671\"}]},\"id\":\"9673\",\"type\":\"Toolbar\"},{\"attributes\":{},\"id\":\"9658\",\"type\":\"LinearScale\"},{\"attributes\":{\"coordinates\":null,\"group\":null,\"items\":[{\"id\":\"9702\"}],\"location\":[0,0],\"orientation\":\"horizontal\"},\"id\":\"9701\",\"type\":\"Legend\"}],\"root_ids\":[\"9646\",\"9769\"]},\"title\":\"Bokeh Application\",\"version\":\"2.4.3\"}};\n",
       "    var render_items = [{\"docid\":\"3b822e55-9966-4972-9bcb-5c598a31df61\",\"root_ids\":[\"9646\"],\"roots\":{\"9646\":\"6834848c-c1ee-456d-ae06-609a206ca7cc\"}}];\n",
       "    root.Bokeh.embed.embed_items_notebook(docs_json, render_items);\n",
       "    for (const render_item of render_items) {\n",
       "      for (const root_id of render_item.root_ids) {\n",
       "\tconst id_el = document.getElementById(root_id)\n",
       "\tif (id_el.children.length && (id_el.children[0].className === 'bk-root')) {\n",
       "\t  const root_el = id_el.children[0]\n",
       "\t  root_el.id = root_el.id + '-rendered'\n",
       "\t}\n",
       "      }\n",
       "    }\n",
       "  }\n",
       "  if (root.Bokeh !== undefined && root.Bokeh.Panel !== undefined) {\n",
       "    embed_document(root);\n",
       "  } else {\n",
       "    var attempts = 0;\n",
       "    var timer = setInterval(function(root) {\n",
       "      if (root.Bokeh !== undefined && root.Bokeh.Panel !== undefined) {\n",
       "        clearInterval(timer);\n",
       "        embed_document(root);\n",
       "      } else if (document.readyState == \"complete\") {\n",
       "        attempts++;\n",
       "        if (attempts > 200) {\n",
       "          clearInterval(timer);\n",
       "          console.log(\"Bokeh: ERROR: Unable to run BokehJS code because BokehJS library is missing\");\n",
       "        }\n",
       "      }\n",
       "    }, 25, root)\n",
       "  }\n",
       "})(window);</script>"
      ],
      "text/plain": [
       ":DynamicMap   [State]\n",
       "   :Bars   [Topic]   (Percentage)"
      ]
     },
     "execution_count": 84,
     "metadata": {
      "application/vnd.holoviews_exec.v0+json": {
       "id": "9646"
      }
     },
     "output_type": "execute_result"
    }
   ],
   "source": [
    "# plot overall average per state and topic for all ages\n",
    "all_ages_americans_df = all_ages_df.groupby(['State', 'Topic']).mean()['Percentage'].reset_index()\n",
    "all_ages_americans_plot2 = all_ages_americans_df.hvplot.bar(x='Topic', y='Percentage', xlabel='Level of Cognitive Decline', ylabel='Percentage', groupby='State', color='Topic', cmap='Oranges', height=800, width=1200, legend='top', title='Percentage at any age with Cognitive Decline by State')\n",
    "all_ages_americans_plot2"
   ]
  },
  {
   "cell_type": "code",
   "execution_count": 42,
   "metadata": {},
   "outputs": [
    {
     "data": {
      "text/html": [
       "<div>\n",
       "<style scoped>\n",
       "    .dataframe tbody tr th:only-of-type {\n",
       "        vertical-align: middle;\n",
       "    }\n",
       "\n",
       "    .dataframe tbody tr th {\n",
       "        vertical-align: top;\n",
       "    }\n",
       "\n",
       "    .dataframe thead th {\n",
       "        text-align: right;\n",
       "    }\n",
       "</style>\n",
       "<table border=\"1\" class=\"dataframe\">\n",
       "  <thead>\n",
       "    <tr style=\"text-align: right;\">\n",
       "      <th></th>\n",
       "      <th>Hospital</th>\n",
       "      <th>Number of cases submitted</th>\n",
       "      <th>Patient died (%)</th>\n",
       "      <th>Patient died (N)</th>\n",
       "      <th>Median length stay (days)</th>\n",
       "      <th>Continence needs (%)</th>\n",
       "      <th>Continence needs (N)</th>\n",
       "      <th>Presence of any pain (%)</th>\n",
       "      <th>Presence of any pain (N)</th>\n",
       "      <th>Confirmed delirium diagnosis (%)</th>\n",
       "    </tr>\n",
       "  </thead>\n",
       "  <tbody>\n",
       "    <tr>\n",
       "      <th>0</th>\n",
       "      <td>Airedale General Hospital</td>\n",
       "      <td>49</td>\n",
       "      <td>10.2</td>\n",
       "      <td>5</td>\n",
       "      <td>12</td>\n",
       "      <td>93.8</td>\n",
       "      <td>45</td>\n",
       "      <td>98.0</td>\n",
       "      <td>48</td>\n",
       "      <td>80.0</td>\n",
       "    </tr>\n",
       "    <tr>\n",
       "      <th>1</th>\n",
       "      <td>Trafford General Hospital</td>\n",
       "      <td>50</td>\n",
       "      <td>4.0</td>\n",
       "      <td>2</td>\n",
       "      <td>26</td>\n",
       "      <td>100.0</td>\n",
       "      <td>50</td>\n",
       "      <td>84.0</td>\n",
       "      <td>42</td>\n",
       "      <td>100.0</td>\n",
       "    </tr>\n",
       "    <tr>\n",
       "      <th>2</th>\n",
       "      <td>Alexandra Hospital</td>\n",
       "      <td>50</td>\n",
       "      <td>12.0</td>\n",
       "      <td>6</td>\n",
       "      <td>11</td>\n",
       "      <td>93.8</td>\n",
       "      <td>45</td>\n",
       "      <td>70.0</td>\n",
       "      <td>35</td>\n",
       "      <td>100.0</td>\n",
       "    </tr>\n",
       "    <tr>\n",
       "      <th>3</th>\n",
       "      <td>St Peter's Hospital</td>\n",
       "      <td>74</td>\n",
       "      <td>6.8</td>\n",
       "      <td>5</td>\n",
       "      <td>8</td>\n",
       "      <td>84.9</td>\n",
       "      <td>62</td>\n",
       "      <td>76.7</td>\n",
       "      <td>56</td>\n",
       "      <td>78.9</td>\n",
       "    </tr>\n",
       "    <tr>\n",
       "      <th>4</th>\n",
       "      <td>Aintree University Hospital</td>\n",
       "      <td>50</td>\n",
       "      <td>16.0</td>\n",
       "      <td>8</td>\n",
       "      <td>11</td>\n",
       "      <td>91.7</td>\n",
       "      <td>44</td>\n",
       "      <td>92.0</td>\n",
       "      <td>46</td>\n",
       "      <td>100.0</td>\n",
       "    </tr>\n",
       "  </tbody>\n",
       "</table>\n",
       "</div>"
      ],
      "text/plain": [
       "                      Hospital  Number of cases submitted  Patient died (%)  \\\n",
       "0    Airedale General Hospital                         49              10.2   \n",
       "1    Trafford General Hospital                         50               4.0   \n",
       "2           Alexandra Hospital                         50              12.0   \n",
       "3          St Peter's Hospital                         74               6.8   \n",
       "4  Aintree University Hospital                         50              16.0   \n",
       "\n",
       "   Patient died (N)  Median length stay (days)  Continence needs (%)  \\\n",
       "0                 5                         12                  93.8   \n",
       "1                 2                         26                 100.0   \n",
       "2                 6                         11                  93.8   \n",
       "3                 5                          8                  84.9   \n",
       "4                 8                         11                  91.7   \n",
       "\n",
       "   Continence needs (N)  Presence of any pain (%)  Presence of any pain (N)  \\\n",
       "0                    45                      98.0                        48   \n",
       "1                    50                      84.0                        42   \n",
       "2                    45                      70.0                        35   \n",
       "3                    62                      76.7                        56   \n",
       "4                    44                      92.0                        46   \n",
       "\n",
       "   Confirmed delirium diagnosis (%)  \n",
       "0                              80.0  \n",
       "1                             100.0  \n",
       "2                             100.0  \n",
       "3                              78.9  \n",
       "4                             100.0  "
      ]
     },
     "execution_count": 42,
     "metadata": {},
     "output_type": "execute_result"
    }
   ],
   "source": [
    "# Import csv file\n",
    "hospital_audit_df = pd.read_csv('england_dementia_hospital_audit.csv')\n",
    "# drop null values\n",
    "cleaned_hospital_audit_df = hospital_audit_df.dropna()\n",
    "cleaned_hospital_audit_df.head()"
   ]
  },
  {
   "cell_type": "code",
   "execution_count": null,
   "metadata": {},
   "outputs": [],
   "source": [
    "# create chart for dementia patients with various symptoms\n",
    "overall_deaths = cleaned_hospital_audit_df['Patient died (%)'].mean()\n",
    "overall_incontinence = cleaned_hospital_audit_df['Continence needs (%)'].mean()\n",
    "overall_pain = cleaned_hospital_audit_df['Presence of any pain (%)'].mean()\n",
    "overall_delirium = cleaned_hospital_audit_df['Confirmed delirium diagnosis (%)'].mean()\n"
   ]
  },
  {
   "cell_type": "code",
   "execution_count": 46,
   "metadata": {},
   "outputs": [
    {
     "data": {},
     "metadata": {},
     "output_type": "display_data"
    },
    {
     "data": {
      "application/vnd.holoviews_exec.v0+json": "",
      "text/html": [
       "<div id='5898'>\n",
       "  <div class=\"bk-root\" id=\"c81bd1dd-9591-4367-9a39-a94c986c3876\" data-root-id=\"5898\"></div>\n",
       "</div>\n",
       "<script type=\"application/javascript\">(function(root) {\n",
       "  function embed_document(root) {\n",
       "    var docs_json = {\"245e7354-5cac-4fdb-8044-59db54c35b2a\":{\"defs\":[{\"extends\":null,\"module\":null,\"name\":\"ReactiveHTML1\",\"overrides\":[],\"properties\":[]},{\"extends\":null,\"module\":null,\"name\":\"FlexBox1\",\"overrides\":[],\"properties\":[{\"default\":\"flex-start\",\"kind\":null,\"name\":\"align_content\"},{\"default\":\"flex-start\",\"kind\":null,\"name\":\"align_items\"},{\"default\":\"row\",\"kind\":null,\"name\":\"flex_direction\"},{\"default\":\"wrap\",\"kind\":null,\"name\":\"flex_wrap\"},{\"default\":\"flex-start\",\"kind\":null,\"name\":\"justify_content\"}]},{\"extends\":null,\"module\":null,\"name\":\"GridStack1\",\"overrides\":[],\"properties\":[{\"default\":\"warn\",\"kind\":null,\"name\":\"mode\"},{\"default\":null,\"kind\":null,\"name\":\"ncols\"},{\"default\":null,\"kind\":null,\"name\":\"nrows\"},{\"default\":true,\"kind\":null,\"name\":\"allow_resize\"},{\"default\":true,\"kind\":null,\"name\":\"allow_drag\"},{\"default\":[],\"kind\":null,\"name\":\"state\"}]},{\"extends\":null,\"module\":null,\"name\":\"click1\",\"overrides\":[],\"properties\":[{\"default\":\"\",\"kind\":null,\"name\":\"terminal_output\"},{\"default\":\"\",\"kind\":null,\"name\":\"debug_name\"},{\"default\":0,\"kind\":null,\"name\":\"clears\"}]},{\"extends\":null,\"module\":null,\"name\":\"NotificationAreaBase1\",\"overrides\":[],\"properties\":[{\"default\":\"bottom-right\",\"kind\":null,\"name\":\"position\"},{\"default\":0,\"kind\":null,\"name\":\"_clear\"}]},{\"extends\":null,\"module\":null,\"name\":\"NotificationArea1\",\"overrides\":[],\"properties\":[{\"default\":[],\"kind\":null,\"name\":\"notifications\"},{\"default\":\"bottom-right\",\"kind\":null,\"name\":\"position\"},{\"default\":0,\"kind\":null,\"name\":\"_clear\"},{\"default\":[{\"background\":\"#ffc107\",\"icon\":{\"className\":\"fas fa-exclamation-triangle\",\"color\":\"white\",\"tagName\":\"i\"},\"type\":\"warning\"},{\"background\":\"#007bff\",\"icon\":{\"className\":\"fas fa-info-circle\",\"color\":\"white\",\"tagName\":\"i\"},\"type\":\"info\"}],\"kind\":null,\"name\":\"types\"}]},{\"extends\":null,\"module\":null,\"name\":\"Notification\",\"overrides\":[],\"properties\":[{\"default\":null,\"kind\":null,\"name\":\"background\"},{\"default\":3000,\"kind\":null,\"name\":\"duration\"},{\"default\":null,\"kind\":null,\"name\":\"icon\"},{\"default\":\"\",\"kind\":null,\"name\":\"message\"},{\"default\":null,\"kind\":null,\"name\":\"notification_type\"},{\"default\":false,\"kind\":null,\"name\":\"_destroyed\"}]},{\"extends\":null,\"module\":null,\"name\":\"TemplateActions1\",\"overrides\":[],\"properties\":[{\"default\":0,\"kind\":null,\"name\":\"open_modal\"},{\"default\":0,\"kind\":null,\"name\":\"close_modal\"}]},{\"extends\":null,\"module\":null,\"name\":\"MaterialTemplateActions1\",\"overrides\":[],\"properties\":[{\"default\":0,\"kind\":null,\"name\":\"open_modal\"},{\"default\":0,\"kind\":null,\"name\":\"close_modal\"}]}],\"roots\":{\"references\":[{\"attributes\":{\"bottom\":{\"field\":\"bottom\"},\"fill_color\":{\"value\":\"#30a2da\"},\"top\":{\"field\":\"top\"},\"width\":{\"value\":0.7},\"x\":{\"field\":\"index\"}},\"id\":\"6002\",\"type\":\"VBar\"},{\"attributes\":{\"active_drag\":{\"id\":\"5919\"},\"active_scroll\":{\"id\":\"5920\"},\"tools\":[{\"id\":\"5918\"},{\"id\":\"5919\"},{\"id\":\"5920\"},{\"id\":\"5921\"},{\"id\":\"5922\"}]},\"id\":\"5924\",\"type\":\"Toolbar\"},{\"attributes\":{\"data\":{\"index\":[\"Patient died (%)\",\"Patient died (%)\",\"Continence needs (%)\",\"Continence needs (%)\",\"Continence needs (%)\",\"Continence needs (%)\",\"Continence needs (%)\",\"Continence needs (%)\",\"Continence needs (%)\",\"Continence needs (%)\",\"Continence needs (%)\",\"Presence of any pain (%)\",\"Presence of any pain (%)\",\"Presence of any pain (%)\",\"Presence of any pain (%)\",\"Presence of any pain (%)\",\"Presence of any pain (%)\",\"Presence of any pain (%)\",\"Presence of any pain (%)\",\"Presence of any pain (%)\",\"Presence of any pain (%)\",\"Presence of any pain (%)\",\"Presence of any pain (%)\",\"Presence of any pain (%)\",\"Confirmed delirium diagnosis (%)\",\"Confirmed delirium diagnosis (%)\",\"Confirmed delirium diagnosis (%)\",\"Confirmed delirium diagnosis (%)\",\"Confirmed delirium diagnosis (%)\",\"Confirmed delirium diagnosis (%)\",\"Confirmed delirium diagnosis (%)\",\"Confirmed delirium diagnosis (%)\"],\"value\":{\"__ndarray__\":\"AAAAAAAAPEAAAAAAAABEQGZmZmZmZk1AAAAAAAAAOUAzMzMzM3NKQJqZmZmZGUZAzczMzMzMEEBmZmZmZiZLQGZmZmZmJktAZmZmZmZmP0DNzMzMzAxKQJqZmZmZmRlAZmZmZmZmJEAAAAAAAIBDQAAAAAAAAEtAAAAAAAAAMEBmZmZmZiZNQM3MzMzMzEVAAAAAAAAANEAzMzMzM3NJQDMzMzMzszpAMzMzMzMzRkAzMzMzM3NMQAAAAAAAACRAAAAAAAAAAAAAAAAAAAAAAAAAAAAAAAAAAAAAAAAAAAAAAAAAAAAAAAAAAAAAAAAAAAAAAAAAAAAAAAAAAAAAAA==\",\"dtype\":\"float64\",\"order\":\"little\",\"shape\":[32]}},\"selected\":{\"id\":\"5985\"},\"selection_policy\":{\"id\":\"5984\"}},\"id\":\"5930\",\"type\":\"ColumnDataSource\"},{\"attributes\":{},\"id\":\"5918\",\"type\":\"SaveTool\"},{\"attributes\":{},\"id\":\"5919\",\"type\":\"PanTool\"},{\"attributes\":{},\"id\":\"5991\",\"type\":\"Selection\"},{\"attributes\":{\"source\":{\"id\":\"5954\"}},\"id\":\"5960\",\"type\":\"CDSView\"},{\"attributes\":{\"x0\":{\"field\":\"x0\"},\"x1\":{\"field\":\"x1\"},\"y0\":{\"field\":\"y0\"},\"y1\":{\"field\":\"y1\"}},\"id\":\"5956\",\"type\":\"Segment\"},{\"attributes\":{},\"id\":\"5920\",\"type\":\"WheelZoomTool\"},{\"attributes\":{\"bottom\":{\"field\":\"bottom\"},\"fill_alpha\":{\"value\":0.2},\"fill_color\":{\"value\":\"#30a2da\"},\"hatch_alpha\":{\"value\":0.2},\"line_alpha\":{\"value\":0.2},\"top\":{\"field\":\"top\"},\"width\":{\"value\":0.7},\"x\":{\"field\":\"index\"}},\"id\":\"6004\",\"type\":\"VBar\"},{\"attributes\":{\"x0\":{\"field\":\"x0\"},\"x1\":{\"field\":\"x1\"},\"y0\":{\"field\":\"y0\"},\"y1\":{\"field\":\"y1\"}},\"id\":\"5964\",\"type\":\"Segment\"},{\"attributes\":{\"bottom\":{\"field\":\"bottom\"},\"fill_alpha\":{\"value\":1.0},\"fill_color\":{\"value\":\"#30a2da\"},\"hatch_alpha\":{\"value\":1.0},\"hatch_color\":{\"value\":\"black\"},\"hatch_scale\":{\"value\":12.0},\"hatch_weight\":{\"value\":1.0},\"line_alpha\":{\"value\":1.0},\"line_cap\":{\"value\":\"butt\"},\"line_color\":{\"value\":\"black\"},\"line_dash\":{\"value\":[]},\"line_dash_offset\":{\"value\":0},\"line_join\":{\"value\":\"bevel\"},\"line_width\":{\"value\":1},\"top\":{\"field\":\"top\"},\"width\":{\"value\":0.7},\"x\":{\"field\":\"index\"}},\"id\":\"5999\",\"type\":\"VBar\"},{\"attributes\":{\"overlay\":{\"id\":\"5923\"}},\"id\":\"5921\",\"type\":\"BoxZoomTool\"},{\"attributes\":{\"data\":{\"x0\":[\"Patient died (%)\",\"Continence needs (%)\",\"Presence of any pain (%)\",\"Confirmed delirium diagnosis (%)\"],\"x1\":[\"Patient died (%)\",\"Continence needs (%)\",\"Presence of any pain (%)\",\"Confirmed delirium diagnosis (%)\"],\"y0\":{\"__ndarray__\":\"AAAAAACAOEAAAAAAAABZQAAAAAAAAFlAAAAAAAAAWUA=\",\"dtype\":\"float64\",\"order\":\"little\",\"shape\":[4]},\"y1\":{\"__ndarray__\":\"AAAAAAAALEAAAAAAAABZQAAAAAAAgFhAmpmZmZkZWEA=\",\"dtype\":\"float64\",\"order\":\"little\",\"shape\":[4]}},\"selected\":{\"id\":\"5987\"},\"selection_policy\":{\"id\":\"5986\"}},\"id\":\"5938\",\"type\":\"ColumnDataSource\"},{\"attributes\":{\"coordinates\":null,\"data_source\":{\"id\":\"5946\"},\"glyph\":{\"id\":\"5948\"},\"group\":null,\"hover_glyph\":null,\"muted_glyph\":{\"id\":\"5950\"},\"nonselection_glyph\":{\"id\":\"5949\"},\"selection_glyph\":{\"id\":\"5953\"},\"view\":{\"id\":\"5952\"}},\"id\":\"5951\",\"type\":\"GlyphRenderer\"},{\"attributes\":{},\"id\":\"5922\",\"type\":\"ResetTool\"},{\"attributes\":{},\"id\":\"5990\",\"type\":\"UnionRenderers\"},{\"attributes\":{\"coordinates\":null,\"data_source\":{\"id\":\"5970\"},\"glyph\":{\"id\":\"5972\"},\"group\":null,\"hover_glyph\":null,\"muted_glyph\":{\"id\":\"5974\"},\"nonselection_glyph\":{\"id\":\"5973\"},\"selection_glyph\":{\"id\":\"5999\"},\"view\":{\"id\":\"5976\"}},\"id\":\"5975\",\"type\":\"GlyphRenderer\"},{\"attributes\":{\"bottom_units\":\"screen\",\"coordinates\":null,\"fill_alpha\":0.5,\"fill_color\":\"lightgrey\",\"group\":null,\"left_units\":\"screen\",\"level\":\"overlay\",\"line_alpha\":1.0,\"line_color\":\"black\",\"line_dash\":[4,4],\"line_width\":2,\"right_units\":\"screen\",\"syncable\":false,\"top_units\":\"screen\"},\"id\":\"5923\",\"type\":\"BoxAnnotation\"},{\"attributes\":{\"bottom\":{\"field\":\"bottom\"},\"fill_alpha\":{\"value\":0.1},\"fill_color\":{\"value\":\"#30a2da\"},\"hatch_alpha\":{\"value\":0.1},\"line_alpha\":{\"value\":0.1},\"top\":{\"field\":\"top\"},\"width\":{\"value\":0.7},\"x\":{\"field\":\"index\"}},\"id\":\"5973\",\"type\":\"VBar\"},{\"attributes\":{},\"id\":\"5987\",\"type\":\"Selection\"},{\"attributes\":{\"line_alpha\":{\"value\":1.0},\"line_cap\":{\"value\":\"butt\"},\"line_color\":{\"value\":\"black\"},\"line_dash\":{\"value\":[]},\"line_dash_offset\":{\"value\":0},\"line_join\":{\"value\":\"bevel\"},\"line_width\":{\"value\":1},\"x0\":{\"field\":\"x0\"},\"x1\":{\"field\":\"x1\"},\"y0\":{\"field\":\"y0\"},\"y1\":{\"field\":\"y1\"}},\"id\":\"5969\",\"type\":\"Segment\"},{\"attributes\":{},\"id\":\"5993\",\"type\":\"Selection\"},{\"attributes\":{\"children\":[{\"id\":\"5899\"},{\"id\":\"5902\"},{\"id\":\"6042\"}],\"margin\":[0,0,0,0],\"name\":\"Row05146\",\"tags\":[\"embedded\"]},\"id\":\"5898\",\"type\":\"Row\"},{\"attributes\":{\"line_alpha\":{\"value\":0.2},\"x0\":{\"field\":\"x0\"},\"x1\":{\"field\":\"x1\"},\"y0\":{\"field\":\"y0\"},\"y1\":{\"field\":\"y1\"}},\"id\":\"5966\",\"type\":\"Segment\"},{\"attributes\":{\"margin\":[5,5,5,5],\"name\":\"HSpacer05150\",\"sizing_mode\":\"stretch_width\"},\"id\":\"5899\",\"type\":\"Spacer\"},{\"attributes\":{\"line_alpha\":{\"value\":0.2},\"x0\":{\"field\":\"x0\"},\"x1\":{\"field\":\"x1\"},\"y0\":{\"field\":\"y0\"},\"y1\":{\"field\":\"y1\"}},\"id\":\"5958\",\"type\":\"Segment\"},{\"attributes\":{},\"id\":\"5985\",\"type\":\"Selection\"},{\"attributes\":{\"line_alpha\":{\"value\":1.0},\"line_cap\":{\"value\":\"butt\"},\"line_color\":{\"value\":\"black\"},\"line_dash\":{\"value\":[]},\"line_dash_offset\":{\"value\":0},\"line_join\":{\"value\":\"bevel\"},\"line_width\":{\"value\":1},\"x0\":{\"field\":\"x0\"},\"x1\":{\"field\":\"x1\"},\"y0\":{\"field\":\"y0\"},\"y1\":{\"field\":\"y1\"}},\"id\":\"5945\",\"type\":\"Segment\"},{\"attributes\":{},\"id\":\"5992\",\"type\":\"UnionRenderers\"},{\"attributes\":{},\"id\":\"5984\",\"type\":\"UnionRenderers\"},{\"attributes\":{\"coordinates\":null,\"data_source\":{\"id\":\"5938\"},\"glyph\":{\"id\":\"5940\"},\"group\":null,\"hover_glyph\":null,\"muted_glyph\":{\"id\":\"5942\"},\"nonselection_glyph\":{\"id\":\"5941\"},\"selection_glyph\":{\"id\":\"5945\"},\"view\":{\"id\":\"5944\"}},\"id\":\"5943\",\"type\":\"GlyphRenderer\"},{\"attributes\":{\"fill_alpha\":{\"value\":0.1},\"fill_color\":{\"value\":\"black\"},\"hatch_alpha\":{\"value\":0.1},\"line_alpha\":{\"value\":0.1},\"x\":{\"field\":\"index\"},\"y\":{\"field\":\"value\"}},\"id\":\"5933\",\"type\":\"Circle\"},{\"attributes\":{\"data\":{\"x0\":[[\"Patient died (%)\",-0.2],[\"Continence needs (%)\",-0.2],[\"Presence of any pain (%)\",-0.2],[\"Confirmed delirium diagnosis (%)\",-0.2]],\"x1\":[[\"Patient died (%)\",0.2],[\"Continence needs (%)\",0.2],[\"Presence of any pain (%)\",0.2],[\"Confirmed delirium diagnosis (%)\",0.2]],\"y0\":[24.5,100.0,100.0,100.0],\"y1\":[24.5,100.0,100.0,100.0]},\"selected\":{\"id\":\"5993\"},\"selection_policy\":{\"id\":\"5992\"}},\"id\":\"5962\",\"type\":\"ColumnDataSource\"},{\"attributes\":{\"below\":[{\"id\":\"5911\"}],\"center\":[{\"id\":\"5913\"},{\"id\":\"5917\"},{\"id\":\"5997\"}],\"height\":800,\"left\":[{\"id\":\"5914\"}],\"margin\":[5,5,5,5],\"min_border_bottom\":10,\"min_border_left\":10,\"min_border_right\":10,\"min_border_top\":10,\"renderers\":[{\"id\":\"5935\"},{\"id\":\"5943\"},{\"id\":\"5951\"},{\"id\":\"5959\"},{\"id\":\"5967\"},{\"id\":\"5975\"},{\"id\":\"6005\"}],\"sizing_mode\":\"fixed\",\"title\":{\"id\":\"5903\"},\"toolbar\":{\"id\":\"5924\"},\"width\":1200,\"x_range\":{\"id\":\"5900\"},\"x_scale\":{\"id\":\"5907\"},\"y_range\":{\"id\":\"5901\"},\"y_scale\":{\"id\":\"5909\"}},\"id\":\"5902\",\"subtype\":\"Figure\",\"type\":\"Plot\"},{\"attributes\":{\"line_alpha\":{\"value\":1.0},\"line_cap\":{\"value\":\"butt\"},\"line_color\":{\"value\":\"black\"},\"line_dash\":{\"value\":[]},\"line_dash_offset\":{\"value\":0},\"line_join\":{\"value\":\"bevel\"},\"line_width\":{\"value\":1},\"x0\":{\"field\":\"x0\"},\"x1\":{\"field\":\"x1\"},\"y0\":{\"field\":\"y0\"},\"y1\":{\"field\":\"y1\"}},\"id\":\"5961\",\"type\":\"Segment\"},{\"attributes\":{\"end\":110.0,\"reset_end\":110.0,\"reset_start\":-10.0,\"start\":-10.0,\"tags\":[[[\"value\",\"value\",null]]]},\"id\":\"5901\",\"type\":\"Range1d\"},{\"attributes\":{\"source\":{\"id\":\"5962\"}},\"id\":\"5968\",\"type\":\"CDSView\"},{\"attributes\":{\"coordinates\":null,\"group\":null,\"items\":[]},\"id\":\"5997\",\"type\":\"Legend\"},{\"attributes\":{\"fill_color\":{\"value\":\"black\"},\"x\":{\"field\":\"index\"},\"y\":{\"field\":\"value\"}},\"id\":\"5932\",\"type\":\"Circle\"},{\"attributes\":{\"source\":{\"id\":\"5946\"}},\"id\":\"5952\",\"type\":\"CDSView\"},{\"attributes\":{},\"id\":\"5986\",\"type\":\"UnionRenderers\"},{\"attributes\":{\"bottom\":{\"field\":\"bottom\"},\"fill_alpha\":{\"value\":1.0},\"fill_color\":{\"value\":\"#30a2da\"},\"hatch_alpha\":{\"value\":1.0},\"hatch_color\":{\"value\":\"black\"},\"hatch_scale\":{\"value\":12.0},\"hatch_weight\":{\"value\":1.0},\"line_alpha\":{\"value\":1.0},\"line_cap\":{\"value\":\"butt\"},\"line_color\":{\"value\":\"black\"},\"line_dash\":{\"value\":[]},\"line_dash_offset\":{\"value\":0},\"line_join\":{\"value\":\"bevel\"},\"line_width\":{\"value\":1},\"top\":{\"field\":\"top\"},\"width\":{\"value\":0.7},\"x\":{\"field\":\"index\"}},\"id\":\"6007\",\"type\":\"VBar\"},{\"attributes\":{\"data\":{\"x0\":[[\"Patient died (%)\",-0.2],[\"Continence needs (%)\",-0.2],[\"Presence of any pain (%)\",-0.2],[\"Confirmed delirium diagnosis (%)\",-0.2]],\"x1\":[[\"Patient died (%)\",0.2],[\"Continence needs (%)\",0.2],[\"Presence of any pain (%)\",0.2],[\"Confirmed delirium diagnosis (%)\",0.2]],\"y0\":[0.0,63.8,58.8,25.0],\"y1\":[0.0,63.8,58.8,25.0]},\"selected\":{\"id\":\"5991\"},\"selection_policy\":{\"id\":\"5990\"}},\"id\":\"5954\",\"type\":\"ColumnDataSource\"},{\"attributes\":{},\"id\":\"5907\",\"type\":\"CategoricalScale\"},{\"attributes\":{\"source\":{\"id\":\"5970\"}},\"id\":\"5976\",\"type\":\"CDSView\"},{\"attributes\":{},\"id\":\"5995\",\"type\":\"Selection\"},{\"attributes\":{\"coordinates\":null,\"group\":null,\"text\":\"Percentage of Dementia Patients with Various Symptoms\",\"text_color\":\"black\",\"text_font_size\":\"12pt\"},\"id\":\"5903\",\"type\":\"Title\"},{\"attributes\":{\"fill_alpha\":{\"value\":0.2},\"fill_color\":{\"value\":\"black\"},\"hatch_alpha\":{\"value\":0.2},\"line_alpha\":{\"value\":0.2},\"x\":{\"field\":\"index\"},\"y\":{\"field\":\"value\"}},\"id\":\"5934\",\"type\":\"Circle\"},{\"attributes\":{\"data\":{\"bottom\":{\"__ndarray__\":\"AAAAAAAALEAAAAAAAABZQAAAAAAAgFhAmpmZmZkZWEA=\",\"dtype\":\"float64\",\"order\":\"little\",\"shape\":[4]},\"index\":[\"Patient died (%)\",\"Continence needs (%)\",\"Presence of any pain (%)\",\"Confirmed delirium diagnosis (%)\"],\"top\":{\"__ndarray__\":\"zczMzMzMJUDNzMzMzMxXQDMzMzMzM1dAMzMzMzPTVEA=\",\"dtype\":\"float64\",\"order\":\"little\",\"shape\":[4]}},\"selected\":{\"id\":\"5995\"},\"selection_policy\":{\"id\":\"5994\"}},\"id\":\"5970\",\"type\":\"ColumnDataSource\"},{\"attributes\":{\"margin\":[5,5,5,5],\"name\":\"HSpacer05151\",\"sizing_mode\":\"stretch_width\"},\"id\":\"6042\",\"type\":\"Spacer\"},{\"attributes\":{},\"id\":\"5988\",\"type\":\"UnionRenderers\"},{\"attributes\":{\"line_alpha\":{\"value\":0.1},\"x0\":{\"field\":\"x0\"},\"x1\":{\"field\":\"x1\"},\"y0\":{\"field\":\"y0\"},\"y1\":{\"field\":\"y1\"}},\"id\":\"5949\",\"type\":\"Segment\"},{\"attributes\":{\"factors\":[\"Patient died (%)\",\"Continence needs (%)\",\"Presence of any pain (%)\",\"Confirmed delirium diagnosis (%)\"],\"tags\":[[[\"Variable\",\"Variable\",null]]]},\"id\":\"5900\",\"type\":\"FactorRange\"},{\"attributes\":{\"axis_label\":\"Symptom\",\"coordinates\":null,\"formatter\":{\"id\":\"5982\"},\"group\":null,\"major_label_orientation\":1.5707963267948966,\"major_label_policy\":{\"id\":\"5983\"},\"ticker\":{\"id\":\"5912\"}},\"id\":\"5911\",\"type\":\"CategoricalAxis\"},{\"attributes\":{},\"id\":\"5980\",\"type\":\"AllLabels\"},{\"attributes\":{\"axis\":{\"id\":\"5911\"},\"coordinates\":null,\"group\":null,\"ticker\":{\"id\":\"5912\"}},\"id\":\"5913\",\"type\":\"Grid\"},{\"attributes\":{\"line_alpha\":{\"value\":0.1},\"x0\":{\"field\":\"x0\"},\"x1\":{\"field\":\"x1\"},\"y0\":{\"field\":\"y0\"},\"y1\":{\"field\":\"y1\"}},\"id\":\"5941\",\"type\":\"Segment\"},{\"attributes\":{},\"id\":\"5994\",\"type\":\"UnionRenderers\"},{\"attributes\":{\"source\":{\"id\":\"5938\"}},\"id\":\"5944\",\"type\":\"CDSView\"},{\"attributes\":{\"coordinates\":null,\"data_source\":{\"id\":\"5930\"},\"glyph\":{\"id\":\"5932\"},\"group\":null,\"hover_glyph\":null,\"muted_glyph\":{\"id\":\"5934\"},\"nonselection_glyph\":{\"id\":\"5933\"},\"selection_glyph\":{\"id\":\"5937\"},\"view\":{\"id\":\"5936\"}},\"id\":\"5935\",\"type\":\"GlyphRenderer\"},{\"attributes\":{},\"id\":\"5989\",\"type\":\"Selection\"},{\"attributes\":{},\"id\":\"5982\",\"type\":\"CategoricalTickFormatter\"},{\"attributes\":{},\"id\":\"5909\",\"type\":\"LinearScale\"},{\"attributes\":{\"coordinates\":null,\"data_source\":{\"id\":\"5962\"},\"glyph\":{\"id\":\"5964\"},\"group\":null,\"hover_glyph\":null,\"muted_glyph\":{\"id\":\"5966\"},\"nonselection_glyph\":{\"id\":\"5965\"},\"selection_glyph\":{\"id\":\"5969\"},\"view\":{\"id\":\"5968\"}},\"id\":\"5967\",\"type\":\"GlyphRenderer\"},{\"attributes\":{},\"id\":\"6040\",\"type\":\"Selection\"},{\"attributes\":{\"data\":{\"x0\":[\"Patient died (%)\",\"Continence needs (%)\",\"Presence of any pain (%)\",\"Confirmed delirium diagnosis (%)\"],\"x1\":[\"Patient died (%)\",\"Continence needs (%)\",\"Presence of any pain (%)\",\"Confirmed delirium diagnosis (%)\"],\"y0\":{\"__ndarray__\":\"AAAAAAAAAABmZmZmZuZPQGZmZmZmZk1AAAAAAAAAOUA=\",\"dtype\":\"float64\",\"order\":\"little\",\"shape\":[4]},\"y1\":{\"__ndarray__\":\"AAAAAAAAGEAAAAAAAGBVQM3MzMzMjFRAzczMzMysUEA=\",\"dtype\":\"float64\",\"order\":\"little\",\"shape\":[4]}},\"selected\":{\"id\":\"5989\"},\"selection_policy\":{\"id\":\"5988\"}},\"id\":\"5946\",\"type\":\"ColumnDataSource\"},{\"attributes\":{\"bottom\":{\"field\":\"bottom\"},\"fill_alpha\":{\"value\":0.1},\"fill_color\":{\"value\":\"#30a2da\"},\"hatch_alpha\":{\"value\":0.1},\"line_alpha\":{\"value\":0.1},\"top\":{\"field\":\"top\"},\"width\":{\"value\":0.7},\"x\":{\"field\":\"index\"}},\"id\":\"6003\",\"type\":\"VBar\"},{\"attributes\":{},\"id\":\"5915\",\"type\":\"BasicTicker\"},{\"attributes\":{\"line_alpha\":{\"value\":0.1},\"x0\":{\"field\":\"x0\"},\"x1\":{\"field\":\"x1\"},\"y0\":{\"field\":\"y0\"},\"y1\":{\"field\":\"y1\"}},\"id\":\"5957\",\"type\":\"Segment\"},{\"attributes\":{},\"id\":\"5912\",\"type\":\"CategoricalTicker\"},{\"attributes\":{\"x0\":{\"field\":\"x0\"},\"x1\":{\"field\":\"x1\"},\"y0\":{\"field\":\"y0\"},\"y1\":{\"field\":\"y1\"}},\"id\":\"5948\",\"type\":\"Segment\"},{\"attributes\":{},\"id\":\"6039\",\"type\":\"UnionRenderers\"},{\"attributes\":{},\"id\":\"5979\",\"type\":\"BasicTickFormatter\"},{\"attributes\":{\"axis_label\":\"Percentage\",\"coordinates\":null,\"formatter\":{\"id\":\"5979\"},\"group\":null,\"major_label_policy\":{\"id\":\"5980\"},\"ticker\":{\"id\":\"5915\"}},\"id\":\"5914\",\"type\":\"LinearAxis\"},{\"attributes\":{},\"id\":\"5983\",\"type\":\"AllLabels\"},{\"attributes\":{\"line_alpha\":{\"value\":1.0},\"line_cap\":{\"value\":\"butt\"},\"line_color\":{\"value\":\"black\"},\"line_dash\":{\"value\":[]},\"line_dash_offset\":{\"value\":0},\"line_join\":{\"value\":\"bevel\"},\"line_width\":{\"value\":1},\"x0\":{\"field\":\"x0\"},\"x1\":{\"field\":\"x1\"},\"y0\":{\"field\":\"y0\"},\"y1\":{\"field\":\"y1\"}},\"id\":\"5953\",\"type\":\"Segment\"},{\"attributes\":{\"source\":{\"id\":\"5930\"}},\"id\":\"5936\",\"type\":\"CDSView\"},{\"attributes\":{\"axis\":{\"id\":\"5914\"},\"coordinates\":null,\"dimension\":1,\"group\":null,\"ticker\":{\"id\":\"5915\"}},\"id\":\"5917\",\"type\":\"Grid\"},{\"attributes\":{\"bottom\":{\"field\":\"bottom\"},\"fill_color\":{\"value\":\"#30a2da\"},\"top\":{\"field\":\"top\"},\"width\":{\"value\":0.7},\"x\":{\"field\":\"index\"}},\"id\":\"5972\",\"type\":\"VBar\"},{\"attributes\":{\"coordinates\":null,\"data_source\":{\"id\":\"6000\"},\"glyph\":{\"id\":\"6002\"},\"group\":null,\"hover_glyph\":null,\"muted_glyph\":{\"id\":\"6004\"},\"nonselection_glyph\":{\"id\":\"6003\"},\"selection_glyph\":{\"id\":\"6007\"},\"view\":{\"id\":\"6006\"}},\"id\":\"6005\",\"type\":\"GlyphRenderer\"},{\"attributes\":{\"line_alpha\":{\"value\":0.2},\"x0\":{\"field\":\"x0\"},\"x1\":{\"field\":\"x1\"},\"y0\":{\"field\":\"y0\"},\"y1\":{\"field\":\"y1\"}},\"id\":\"5950\",\"type\":\"Segment\"},{\"attributes\":{\"coordinates\":null,\"data_source\":{\"id\":\"5954\"},\"glyph\":{\"id\":\"5956\"},\"group\":null,\"hover_glyph\":null,\"muted_glyph\":{\"id\":\"5958\"},\"nonselection_glyph\":{\"id\":\"5957\"},\"selection_glyph\":{\"id\":\"5961\"},\"view\":{\"id\":\"5960\"}},\"id\":\"5959\",\"type\":\"GlyphRenderer\"},{\"attributes\":{\"source\":{\"id\":\"6000\"}},\"id\":\"6006\",\"type\":\"CDSView\"},{\"attributes\":{\"data\":{\"bottom\":{\"__ndarray__\":\"zczMzMzMJUDNzMzMzMxXQDMzMzMzM1dAMzMzMzPTVEA=\",\"dtype\":\"float64\",\"order\":\"little\",\"shape\":[4]},\"index\":[\"Patient died (%)\",\"Continence needs (%)\",\"Presence of any pain (%)\",\"Confirmed delirium diagnosis (%)\"],\"top\":{\"__ndarray__\":\"AAAAAAAAGEAAAAAAAGBVQM3MzMzMjFRAzczMzMysUEA=\",\"dtype\":\"float64\",\"order\":\"little\",\"shape\":[4]}},\"selected\":{\"id\":\"6040\"},\"selection_policy\":{\"id\":\"6039\"}},\"id\":\"6000\",\"type\":\"ColumnDataSource\"},{\"attributes\":{\"line_alpha\":{\"value\":0.2},\"x0\":{\"field\":\"x0\"},\"x1\":{\"field\":\"x1\"},\"y0\":{\"field\":\"y0\"},\"y1\":{\"field\":\"y1\"}},\"id\":\"5942\",\"type\":\"Segment\"},{\"attributes\":{\"line_alpha\":{\"value\":0.1},\"x0\":{\"field\":\"x0\"},\"x1\":{\"field\":\"x1\"},\"y0\":{\"field\":\"y0\"},\"y1\":{\"field\":\"y1\"}},\"id\":\"5965\",\"type\":\"Segment\"},{\"attributes\":{\"angle\":{\"value\":0.0},\"fill_alpha\":{\"value\":1.0},\"fill_color\":{\"value\":\"black\"},\"hatch_alpha\":{\"value\":1.0},\"hatch_color\":{\"value\":\"black\"},\"hatch_scale\":{\"value\":12.0},\"hatch_weight\":{\"value\":1.0},\"line_alpha\":{\"value\":1.0},\"line_cap\":{\"value\":\"butt\"},\"line_color\":{\"value\":\"black\"},\"line_dash\":{\"value\":[]},\"line_dash_offset\":{\"value\":0},\"line_join\":{\"value\":\"bevel\"},\"line_width\":{\"value\":1},\"size\":{\"value\":4},\"x\":{\"field\":\"index\"},\"y\":{\"field\":\"value\"}},\"id\":\"5937\",\"type\":\"Circle\"},{\"attributes\":{\"bottom\":{\"field\":\"bottom\"},\"fill_alpha\":{\"value\":0.2},\"fill_color\":{\"value\":\"#30a2da\"},\"hatch_alpha\":{\"value\":0.2},\"line_alpha\":{\"value\":0.2},\"top\":{\"field\":\"top\"},\"width\":{\"value\":0.7},\"x\":{\"field\":\"index\"}},\"id\":\"5974\",\"type\":\"VBar\"},{\"attributes\":{\"x0\":{\"field\":\"x0\"},\"x1\":{\"field\":\"x1\"},\"y0\":{\"field\":\"y0\"},\"y1\":{\"field\":\"y1\"}},\"id\":\"5940\",\"type\":\"Segment\"}],\"root_ids\":[\"5898\"]},\"title\":\"Bokeh Application\",\"version\":\"2.4.3\"}};\n",
       "    var render_items = [{\"docid\":\"245e7354-5cac-4fdb-8044-59db54c35b2a\",\"root_ids\":[\"5898\"],\"roots\":{\"5898\":\"c81bd1dd-9591-4367-9a39-a94c986c3876\"}}];\n",
       "    root.Bokeh.embed.embed_items_notebook(docs_json, render_items);\n",
       "    for (const render_item of render_items) {\n",
       "      for (const root_id of render_item.root_ids) {\n",
       "\tconst id_el = document.getElementById(root_id)\n",
       "\tif (id_el.children.length && (id_el.children[0].className === 'bk-root')) {\n",
       "\t  const root_el = id_el.children[0]\n",
       "\t  root_el.id = root_el.id + '-rendered'\n",
       "\t}\n",
       "      }\n",
       "    }\n",
       "  }\n",
       "  if (root.Bokeh !== undefined && root.Bokeh.Panel !== undefined) {\n",
       "    embed_document(root);\n",
       "  } else {\n",
       "    var attempts = 0;\n",
       "    var timer = setInterval(function(root) {\n",
       "      if (root.Bokeh !== undefined && root.Bokeh.Panel !== undefined) {\n",
       "        clearInterval(timer);\n",
       "        embed_document(root);\n",
       "      } else if (document.readyState == \"complete\") {\n",
       "        attempts++;\n",
       "        if (attempts > 200) {\n",
       "          clearInterval(timer);\n",
       "          console.log(\"Bokeh: ERROR: Unable to run BokehJS code because BokehJS library is missing\");\n",
       "        }\n",
       "      }\n",
       "    }, 25, root)\n",
       "  }\n",
       "})(window);</script>"
      ],
      "text/plain": [
       ":BoxWhisker   [Variable]   (value)"
      ]
     },
     "execution_count": 46,
     "metadata": {
      "application/vnd.holoviews_exec.v0+json": {
       "id": "5898"
      }
     },
     "output_type": "execute_result"
    }
   ],
   "source": [
    "# create box plot for dementia patients with various symptoms\n",
    "audit_box_plot = cleaned_hospital_audit_df.hvplot.box(y=['Patient died (%)', 'Continence needs (%)', 'Presence of any pain (%)', 'Confirmed delirium diagnosis (%)'], xlabel='Symptom', ylabel='Percentage', height=800, width=1200, rot=90, grid=True, title='Percentage of Dementia Patients with Various Symptoms')\n",
    "audit_box_plot"
   ]
  },
  {
   "cell_type": "code",
   "execution_count": 47,
   "metadata": {},
   "outputs": [
    {
     "data": {},
     "metadata": {},
     "output_type": "display_data"
    },
    {
     "data": {
      "application/vnd.holoviews_exec.v0+json": "",
      "text/html": [
       "<div id='6154'>\n",
       "  <div class=\"bk-root\" id=\"a0ac1af9-0191-486c-a976-a7d61a4a4567\" data-root-id=\"6154\"></div>\n",
       "</div>\n",
       "<script type=\"application/javascript\">(function(root) {\n",
       "  function embed_document(root) {\n",
       "    var docs_json = {\"22c5f1a3-01f3-41bf-805e-703fe034e84f\":{\"defs\":[{\"extends\":null,\"module\":null,\"name\":\"ReactiveHTML1\",\"overrides\":[],\"properties\":[]},{\"extends\":null,\"module\":null,\"name\":\"FlexBox1\",\"overrides\":[],\"properties\":[{\"default\":\"flex-start\",\"kind\":null,\"name\":\"align_content\"},{\"default\":\"flex-start\",\"kind\":null,\"name\":\"align_items\"},{\"default\":\"row\",\"kind\":null,\"name\":\"flex_direction\"},{\"default\":\"wrap\",\"kind\":null,\"name\":\"flex_wrap\"},{\"default\":\"flex-start\",\"kind\":null,\"name\":\"justify_content\"}]},{\"extends\":null,\"module\":null,\"name\":\"GridStack1\",\"overrides\":[],\"properties\":[{\"default\":\"warn\",\"kind\":null,\"name\":\"mode\"},{\"default\":null,\"kind\":null,\"name\":\"ncols\"},{\"default\":null,\"kind\":null,\"name\":\"nrows\"},{\"default\":true,\"kind\":null,\"name\":\"allow_resize\"},{\"default\":true,\"kind\":null,\"name\":\"allow_drag\"},{\"default\":[],\"kind\":null,\"name\":\"state\"}]},{\"extends\":null,\"module\":null,\"name\":\"click1\",\"overrides\":[],\"properties\":[{\"default\":\"\",\"kind\":null,\"name\":\"terminal_output\"},{\"default\":\"\",\"kind\":null,\"name\":\"debug_name\"},{\"default\":0,\"kind\":null,\"name\":\"clears\"}]},{\"extends\":null,\"module\":null,\"name\":\"NotificationAreaBase1\",\"overrides\":[],\"properties\":[{\"default\":\"bottom-right\",\"kind\":null,\"name\":\"position\"},{\"default\":0,\"kind\":null,\"name\":\"_clear\"}]},{\"extends\":null,\"module\":null,\"name\":\"NotificationArea1\",\"overrides\":[],\"properties\":[{\"default\":[],\"kind\":null,\"name\":\"notifications\"},{\"default\":\"bottom-right\",\"kind\":null,\"name\":\"position\"},{\"default\":0,\"kind\":null,\"name\":\"_clear\"},{\"default\":[{\"background\":\"#ffc107\",\"icon\":{\"className\":\"fas fa-exclamation-triangle\",\"color\":\"white\",\"tagName\":\"i\"},\"type\":\"warning\"},{\"background\":\"#007bff\",\"icon\":{\"className\":\"fas fa-info-circle\",\"color\":\"white\",\"tagName\":\"i\"},\"type\":\"info\"}],\"kind\":null,\"name\":\"types\"}]},{\"extends\":null,\"module\":null,\"name\":\"Notification\",\"overrides\":[],\"properties\":[{\"default\":null,\"kind\":null,\"name\":\"background\"},{\"default\":3000,\"kind\":null,\"name\":\"duration\"},{\"default\":null,\"kind\":null,\"name\":\"icon\"},{\"default\":\"\",\"kind\":null,\"name\":\"message\"},{\"default\":null,\"kind\":null,\"name\":\"notification_type\"},{\"default\":false,\"kind\":null,\"name\":\"_destroyed\"}]},{\"extends\":null,\"module\":null,\"name\":\"TemplateActions1\",\"overrides\":[],\"properties\":[{\"default\":0,\"kind\":null,\"name\":\"open_modal\"},{\"default\":0,\"kind\":null,\"name\":\"close_modal\"}]},{\"extends\":null,\"module\":null,\"name\":\"MaterialTemplateActions1\",\"overrides\":[],\"properties\":[{\"default\":0,\"kind\":null,\"name\":\"open_modal\"},{\"default\":0,\"kind\":null,\"name\":\"close_modal\"}]}],\"roots\":{\"references\":[{\"attributes\":{\"coordinates\":null,\"group\":null,\"text\":\"Percentage of Dementia Patients with Various Symptoms\",\"text_color\":\"black\",\"text_font_size\":\"12pt\"},\"id\":\"6163\",\"type\":\"Title\"},{\"attributes\":{\"fill_alpha\":0.5,\"fill_color\":\"#30a2da\",\"hatch_color\":\"#30a2da\",\"x\":{\"field\":\"x\"},\"y\":{\"field\":\"y\"}},\"id\":\"6220\",\"type\":\"Patch\"},{\"attributes\":{},\"id\":\"6172\",\"type\":\"BasicTicker\"},{\"attributes\":{\"fill_alpha\":0.5,\"fill_color\":\"#6d904f\",\"hatch_color\":\"#6d904f\",\"x\":{\"field\":\"x\"},\"y\":{\"field\":\"y\"}},\"id\":\"6270\",\"type\":\"Patch\"},{\"attributes\":{},\"id\":\"6176\",\"type\":\"BasicTicker\"},{\"attributes\":{\"data\":{\"x\":{\"__ndarray__\":\"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\",\"dtype\":\"float64\",\"order\":\"little\",\"shape\":[200]},\"y\":{\"__ndarray__\":\"AAAAAAAAAAAAAAAAAAAAAAAAAAAAAAAAAAAAAAAAAAAAAAAAAAAAAAAAAAAAAAAAAAAAAAAAAAAAAAAAAAAAAAAAAAAAAAAAAAAAAAAAAAAAAAAAAAAAAAAAAAAAAAAAAAAAAAAAAAAAAAAAAAAAAAAAAAAAAAAAAAAAAAAAAAAAAAAAAAAAAAAAAAAAAAAAAAAAAAAAAAAAAAAAAAAAAAAAAAAAAAAAAAAAAAAAAAAAAAAAAAAAAAAAAAAAAAAAAAAAAAAAAAAAAAAAAAAAAAAAAAAAAAAAAAAAAAAAAAAAAAAAAAAAAAAAAAAAAAAAAAAAAAAAAAAAAAAAAAAAAAAAAAAAAAAAAAAAAAAAAAAAAAAAAAAAAAAAAAAAAAAAAAAAAAAAAAAAAAAAAAAAAAAAAAAAAAAAAAAAAAAAAAAAAAAAAAAAAAAAAAAAAAAAAAAAAAAAAAAAAAAAAAAAAAAAAAAAAAAAAAAAAAAAAAAAAAAAAAAAAAAAAAAAAAAAAAAAAAAAAAAAAAAAAAAAAAAAAAAAAAAAAAAAAAAAAAAAAAAAAAAAAAAAAAAAAAAAAAAAAAAAAAAAAAAAAAAAAAAAAAAAAAAAAAAAAAAAAAAAAAAAAAAAAAAAAAAAAAAAAAAAAAAAAAAAAAAAAAAAAAAAAAAAAAAAAAAAAAAAAAAAAAAAAAAAAAAAAAAAAAAAAAAAAAAAAAAAAAAAAAAAAAAAAAAAAAAAAAAAAAAAAAAAAAAAAAAAAAAAAAAAAAAAAAAAAAAAAAAAAAAAAAAAAAAAAAAAAAAAAAAAAAAAAAAAAAAAAAAAAAAAAAAAAAAAAAAAAAAAAAAAAAAAAAAAAAAAAAAAAAAAAAAAAAAAAAAAAAAAAAAAAAAAAAAAAAAAAAAAAAAAAAAAAAAAAAAAAAAAAAAAAAAAAAAAAAAAAAAAAAAAAAAAAAAAAAAAAAAAAAAAAAAAAAAAAAAAAAAAAAAAAAAAAAAAAAAAAAAAAAAAAAAAAAAAAAAAAAAAAAAAAAAAAAAAAAAAAAAAAAAAAAAAAAAAAAAAAAAAAAAAAABeAPJxGmToPgGWh9OKVPg+ROu8C9LpBj/9W1qig18UP1GH46UoGiE/siN6F7gbKz/A1CAVpEg0P9AKebSHqDw/UKyOIigdQz+yNXl0TxJIP9QzOKT2nkw/YhJS73IQUD/qzB3gdQZRPyeJBjkPCVE/9kz6TdEXUD8uTeLA7LRMPzSEyvhpLEg/6vSHdoI4Qz+H6mlMfN48P8+BN7CefzQ/i92shTegKz9Hfsq63eUhP2+vuagcRBc/orBBcDX7ED83a8CzmXIQPzFFtcP6qxU/ONOkxqydID/rrbI/vQ4qPwXz77yD2DM/6iRc797xPD/jOj4EVC5EP916znS5/Uo/GRxjQU9oUT/yVIL0ns5VPzkFTSWwvVo/Fpv5kncrYD9Ym5DEMWZjP8yPVhOHKWc/90qdWreJaz//4gnBh0hwP9MRjZv0IXM/MJVOAP5Vdj+8KuXG6vJ5P0hYkXVQFH4/5tzkp3dwgT8yMBZOCkGEP9rvoVXEi4c/8JeXkbZWiz+Cj/IDp5yPP+fA2LczKJI/SaUSjPyxlD9ers41PmiXP5wzN9SKTZo/w8alsOBpnT+3OipFVWOgPy9BcsEuNKI/fWSr9usjpD/u9Crd+SamPz5N10yMKag/xDBJKaERqj//KM+kv8KrP5FfVEZ/Iq0/pYs/TtMcrj/+a6A0WKeuP9eZO6U0w64/a8G53FJ9rj9TLYT6yeytP2ODLcxtL60/hvBoU9NkrD/XbI8Ao6irP4rAyuqMDas/o6XLjEiaqj+xpEnnikmqP5w27nbrDKo/WHwQtKzRqT+nun/LuoWpP+lnas08G6k/StP2FceJqD/qeuy+Ss2nP4cl79vN46Y/LD8VmGDLpT96ACFheYGkPyWO0l0RBKM/dFAVEu5ToT+eH+U24e2eP3/+P7uJ8po/AdLRjqHZlj9S0qah+82SP346kaMt9o0/uYENM1ANhz8Avxd6QheBP9xM10aOXng/lqJJDDqscD/0Lmad0dllP76kbFWoYFs/LIlLWFVeUD8o8g+FdaZCP6lSHyBAODQ/Y1O9thHVJD9ruWVi+18UPw==\",\"dtype\":\"float64\",\"order\":\"little\",\"shape\":[200]}},\"selected\":{\"id\":\"6201\"},\"selection_policy\":{\"id\":\"6215\"}},\"id\":\"6200\",\"type\":\"ColumnDataSource\"},{\"attributes\":{\"fill_alpha\":0.2,\"fill_color\":\"#e5ae38\",\"hatch_alpha\":0.2,\"hatch_color\":\"#e5ae38\",\"line_alpha\":0.2,\"x\":{\"field\":\"x\"},\"y\":{\"field\":\"y\"}},\"id\":\"6248\",\"type\":\"Patch\"},{\"attributes\":{\"fill_alpha\":0.5,\"fill_color\":\"#fc4f30\",\"hatch_color\":\"#fc4f30\",\"x\":{\"field\":\"x\"},\"y\":{\"field\":\"y\"}},\"id\":\"6242\",\"type\":\"Patch\"},{\"attributes\":{\"label\":{\"value\":\"Patient died (%)\"},\"renderers\":[{\"id\":\"6206\"}]},\"id\":\"6219\",\"type\":\"LegendItem\"},{\"attributes\":{\"coordinates\":null,\"data_source\":{\"id\":\"6267\"},\"glyph\":{\"id\":\"6270\"},\"group\":null,\"hover_glyph\":null,\"muted_glyph\":{\"id\":\"6272\"},\"nonselection_glyph\":{\"id\":\"6271\"},\"selection_glyph\":{\"id\":\"6292\"},\"view\":{\"id\":\"6274\"}},\"id\":\"6273\",\"type\":\"GlyphRenderer\"},{\"attributes\":{},\"id\":\"6193\",\"type\":\"BasicTickFormatter\"},{\"attributes\":{\"axis\":{\"id\":\"6171\"},\"coordinates\":null,\"group\":null,\"ticker\":{\"id\":\"6172\"}},\"id\":\"6174\",\"type\":\"Grid\"},{\"attributes\":{\"fill_alpha\":0.2,\"fill_color\":\"#fc4f30\",\"hatch_alpha\":0.2,\"hatch_color\":\"#fc4f30\",\"line_alpha\":0.2,\"x\":{\"field\":\"x\"},\"y\":{\"field\":\"y\"}},\"id\":\"6226\",\"type\":\"Patch\"},{\"attributes\":{},\"id\":\"6244\",\"type\":\"Selection\"},{\"attributes\":{},\"id\":\"6169\",\"type\":\"LinearScale\"},{\"attributes\":{\"axis_label\":\"Percentage\",\"coordinates\":null,\"formatter\":{\"id\":\"6196\"},\"group\":null,\"major_label_policy\":{\"id\":\"6197\"},\"ticker\":{\"id\":\"6176\"}},\"id\":\"6175\",\"type\":\"LinearAxis\"},{\"attributes\":{\"axis_label\":\"Symptom\",\"coordinates\":null,\"formatter\":{\"id\":\"6193\"},\"group\":null,\"major_label_orientation\":1.5707963267948966,\"major_label_policy\":{\"id\":\"6194\"},\"ticker\":{\"id\":\"6172\"}},\"id\":\"6171\",\"type\":\"LinearAxis\"},{\"attributes\":{\"coordinates\":null,\"data_source\":{\"id\":\"6243\"},\"glyph\":{\"id\":\"6246\"},\"group\":null,\"hover_glyph\":null,\"muted_glyph\":{\"id\":\"6248\"},\"nonselection_glyph\":{\"id\":\"6247\"},\"selection_glyph\":{\"id\":\"6266\"},\"view\":{\"id\":\"6250\"}},\"id\":\"6249\",\"type\":\"GlyphRenderer\"},{\"attributes\":{\"fill_alpha\":0.5,\"fill_color\":\"#fc4f30\",\"hatch_color\":\"#fc4f30\",\"x\":{\"field\":\"x\"},\"y\":{\"field\":\"y\"}},\"id\":\"6224\",\"type\":\"Patch\"},{\"attributes\":{\"coordinates\":null,\"data_source\":{\"id\":\"6221\"},\"glyph\":{\"id\":\"6224\"},\"group\":null,\"hover_glyph\":null,\"muted_glyph\":{\"id\":\"6226\"},\"nonselection_glyph\":{\"id\":\"6225\"},\"selection_glyph\":{\"id\":\"6242\"},\"view\":{\"id\":\"6228\"}},\"id\":\"6227\",\"type\":\"GlyphRenderer\"},{\"attributes\":{\"axis\":{\"id\":\"6175\"},\"coordinates\":null,\"dimension\":1,\"group\":null,\"ticker\":{\"id\":\"6176\"}},\"id\":\"6178\",\"type\":\"Grid\"},{\"attributes\":{\"fill_alpha\":0.5,\"fill_color\":\"#e5ae38\",\"hatch_color\":\"#e5ae38\",\"x\":{\"field\":\"x\"},\"y\":{\"field\":\"y\"}},\"id\":\"6246\",\"type\":\"Patch\"},{\"attributes\":{\"end\":0.0660908639596044,\"reset_end\":0.0660908639596044,\"reset_start\":0.0,\"tags\":[[[\"value_density\",\"Density\",null]]]},\"id\":\"6157\",\"type\":\"Range1d\"},{\"attributes\":{},\"id\":\"6196\",\"type\":\"BasicTickFormatter\"},{\"attributes\":{\"callback\":null,\"renderers\":[{\"id\":\"6206\"},{\"id\":\"6227\"},{\"id\":\"6249\"},{\"id\":\"6273\"}],\"tags\":[\"hv_created\"],\"tooltips\":[[\"Variable\",\"@{Variable}\"],[\"value\",\"@{value}\"],[\"Density\",\"@{value_density}\"]]},\"id\":\"6158\",\"type\":\"HoverTool\"},{\"attributes\":{},\"id\":\"6215\",\"type\":\"UnionRenderers\"},{\"attributes\":{\"fill_alpha\":0.2,\"fill_color\":\"#6d904f\",\"hatch_alpha\":0.2,\"hatch_color\":\"#6d904f\",\"line_alpha\":0.2,\"x\":{\"field\":\"x\"},\"y\":{\"field\":\"y\"}},\"id\":\"6272\",\"type\":\"Patch\"},{\"attributes\":{\"fill_alpha\":0.5,\"fill_color\":\"#6d904f\",\"hatch_color\":\"#6d904f\",\"x\":{\"field\":\"x\"},\"y\":{\"field\":\"y\"}},\"id\":\"6292\",\"type\":\"Patch\"},{\"attributes\":{\"active_drag\":{\"id\":\"6180\"},\"active_scroll\":{\"id\":\"6181\"},\"tools\":[{\"id\":\"6158\"},{\"id\":\"6179\"},{\"id\":\"6180\"},{\"id\":\"6181\"},{\"id\":\"6182\"},{\"id\":\"6183\"}]},\"id\":\"6185\",\"type\":\"Toolbar\"},{\"attributes\":{\"bottom_units\":\"screen\",\"coordinates\":null,\"fill_alpha\":0.5,\"fill_color\":\"lightgrey\",\"group\":null,\"left_units\":\"screen\",\"level\":\"overlay\",\"line_alpha\":1.0,\"line_color\":\"black\",\"line_dash\":[4,4],\"line_width\":2,\"right_units\":\"screen\",\"syncable\":false,\"top_units\":\"screen\"},\"id\":\"6184\",\"type\":\"BoxAnnotation\"},{\"attributes\":{},\"id\":\"6179\",\"type\":\"SaveTool\"},{\"attributes\":{\"fill_alpha\":0.5,\"fill_color\":\"#e5ae38\",\"hatch_alpha\":0.1,\"hatch_color\":\"#e5ae38\",\"line_alpha\":1,\"x\":{\"field\":\"x\"},\"y\":{\"field\":\"y\"}},\"id\":\"6247\",\"type\":\"Patch\"},{\"attributes\":{},\"id\":\"6180\",\"type\":\"PanTool\"},{\"attributes\":{},\"id\":\"6183\",\"type\":\"ResetTool\"},{\"attributes\":{\"fill_alpha\":0.2,\"fill_color\":\"#30a2da\",\"hatch_alpha\":0.2,\"hatch_color\":\"#30a2da\",\"line_alpha\":0.2,\"x\":{\"field\":\"x\"},\"y\":{\"field\":\"y\"}},\"id\":\"6205\",\"type\":\"Patch\"},{\"attributes\":{},\"id\":\"6181\",\"type\":\"WheelZoomTool\"},{\"attributes\":{\"overlay\":{\"id\":\"6184\"}},\"id\":\"6182\",\"type\":\"BoxZoomTool\"},{\"attributes\":{\"data\":{\"x\":{\"__ndarray__\":\"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\",\"dtype\":\"float64\",\"order\":\"little\",\"shape\":[200]},\"y\":{\"__ndarray__\":\"AAAAAAAAAAAAAAAAAAAAAAAAAAAAAAAAAAAAAAAAAAAAAAAAAAAAAAAAAAAAAAAAAAAAAAAAAAAAAAAAAAAAAAAAAAAAAAAAAAAAAAAAAAAAAAAAAAAAAAAAAAAAAAAAAAAAAAAAAAAAAAAAAAAAAAAAAAAAAAAAAAAAAAAAAAAAAAAAAAAAAAAAAAAAAAAAAAAAAAAAAAAAAAAAAAAAAAAAAAAAAAAAAAAAAAAAAAAAAAAAAAAAAAAAAAAAAAAAAAAAAAAAAAAAAAAAAAAAAAAAAAAAAAAAAAAAAAAAAAAAAAAAAAAAAAAAAAAAAAAAAAAAAAAAAAAAAAAAAAAAAAAAAAAAAAAAAAAAAAAAAAAAAAAAAAAAAAAAAAAAAAAAAAAAAAAAAAAAAAAAAAAAAAAAAAAAAAAAAAAAAAAAAAAAAAAAAAAAAAAAAAAAAAAAAAAAAAAAAAAAAAAAAAAAAAAAAAAAAAAAAAAAAAAAAAAAAAAAAAAAAAAAAAAAAAAAAAAAAAAAAAAAAAAAAAAAAAAAAAAAAAAAAAAAAAAAAAAAAAAAAAAAAAAAAAAAAAAAAAAAAAAAAAAAAAAAAAAAAAAAAAAAAAAAAAAAAAAAAAAAAAAAAAAAAAAAAAAAAAAAAAAAAAAAAAAAAAAAAAAAAAAAAAAAAAAAAAAAAAAAAAAAAAAAAAAAAAAAAAAAAAAAAAAAAAAAAAAAAAAAAAAAAAAAAAAAAAAAAAAAAAAAAAAAAAAAAAAAAAAAAAAAAAAAAAAAAAAAAAAAAAAAAAAAAAAAAAAAAAAAAAAAAAAAAAAAAAAAAAAAAAAAAAAAAAAAAAAAAAAAAAAAAAAAAAAAAAAAAAAAAAAAAAAAAAAAAAAAAAAAAAAAAAAAAAAAAAAAAAAAAAAAAAAAAAAAAAAAAAAAAAAAAAAAAAAAAAAAAAAAAAAAAAAAAAAAAAAAAAAAAAAAAAAAAAAAAAAAAAAAAAAAAAAAAAAAAAAAAAAAAAAAAAAAAAAAAAAAAAAAAAAAAAAAAAAAAAAAAAAAAAAAAAAAAAAAAAAAAAAAAAAAAAAWAjd+dFohP7tJUbD8WC0/aIMDO9oOOD+5OG6HNR9DPy7U7Sciek0/+PAl0k8JVj9SB2+5qfZfP5WVGEiyfmY/rOK/4xK8bj/U/4lFlmN0PzpKwUIVSHo/ObWKwTl3gD/ihaT93RGEP1oCvNjf0Ic/TCLYe5mKiz8MP9nIRBOPP9fk3fMIIZE/XavwPfx6kj9x26bsq4yTP/lFYpfcUZQ/27uyCrnMlD81l/sRsASVP96x/h+uBJU//r1jbx3ZlD//8EXpFI6UP5U5ORICLpQ/O9plou/Akz+l6F53X0yTP11a8HqP05I/AK5OifRXkj+xBb4ZvNmRP0oV75I3WJE/iffqHCrSkD8x2YwtA0aQP0lL/lwvZI8/0bHWodApjj8QtbBl8NqMP3E0rm9Rd4s/mrnmmQgBij9n7TelvHyIP9s/WeBo8YY/Xy70iZdnhT/mlf1OLeiDP8xDA8UAe4I/KUWdvIwlgT+bOtcCGNR/P+AZ6VFvjn0/JtsCXXdxez/Oi61WlHB5P/iZDFMffnc/s2z01GmOdT9c674qM5pzPzbcY2cOoHE/Q+swQvpIbz8LjVOmpGFrP+LNPpZpomc/P4zjUYIkZD8MExboov1gP/fjmShaeVw/R2eD9gTQVz+IdQSDEvtTP+4rNtI56FA/w8aLZLf3TD8WcCVVBC1JP0OGoTNFNEY/fqk099XcQz9CV9IVZgdCP+1D24TbqEA/gtXqEY+UPz+V1+djTww/P55MoUY6A0A/xEFhkDhtQT8zfkVP6+tDP6MxJppSmUc/W/JYEPx3TD9E+peMgjVRP3ufvd2/mFQ/BVYrtWgzWD9l34juhsRbP60oDh2kAl8/4F2cOiLSYD/HOBxQtrRhPyDEJRtCEmI/SOZAIW/gYT++n8KEyiJhP9SeQzYj1F8/6eIxhQqjXD8Ok/8LqfVYPwW1vMziElU/V3rRXl48UT8mnFS1hk9LPyPhQ/mf9UQ/ng2CgqcpPz/UY8raz3A2P66qu0KYTi8/GT3hlWsnJT9GGfIpCrEbP3QwvGWPjhE/2cnibqqQBT9SV7VCj6j5Pg==\",\"dtype\":\"float64\",\"order\":\"little\",\"shape\":[200]}},\"selected\":{\"id\":\"6268\"},\"selection_policy\":{\"id\":\"6288\"}},\"id\":\"6267\",\"type\":\"ColumnDataSource\"},{\"attributes\":{\"fill_alpha\":0.5,\"fill_color\":\"#30a2da\",\"hatch_alpha\":0.1,\"hatch_color\":\"#30a2da\",\"line_alpha\":1,\"x\":{\"field\":\"x\"},\"y\":{\"field\":\"y\"}},\"id\":\"6204\",\"type\":\"Patch\"},{\"attributes\":{\"below\":[{\"id\":\"6171\"}],\"center\":[{\"id\":\"6174\"},{\"id\":\"6178\"}],\"height\":800,\"left\":[{\"id\":\"6175\"}],\"margin\":[5,5,5,5],\"min_border_bottom\":10,\"min_border_left\":10,\"min_border_right\":10,\"min_border_top\":10,\"renderers\":[{\"id\":\"6206\"},{\"id\":\"6227\"},{\"id\":\"6249\"},{\"id\":\"6273\"}],\"right\":[{\"id\":\"6218\"}],\"sizing_mode\":\"fixed\",\"title\":{\"id\":\"6163\"},\"toolbar\":{\"id\":\"6185\"},\"width\":1200,\"x_range\":{\"id\":\"6156\"},\"x_scale\":{\"id\":\"6167\"},\"y_range\":{\"id\":\"6157\"},\"y_scale\":{\"id\":\"6169\"}},\"id\":\"6162\",\"subtype\":\"Figure\",\"type\":\"Plot\"},{\"attributes\":{},\"id\":\"6268\",\"type\":\"Selection\"},{\"attributes\":{\"label\":{\"value\":\"Confirmed delirium diagnosis (%)\"},\"renderers\":[{\"id\":\"6273\"}]},\"id\":\"6291\",\"type\":\"LegendItem\"},{\"attributes\":{\"fill_alpha\":0.5,\"fill_color\":\"#fc4f30\",\"hatch_alpha\":0.1,\"hatch_color\":\"#fc4f30\",\"line_alpha\":1,\"x\":{\"field\":\"x\"},\"y\":{\"field\":\"y\"}},\"id\":\"6225\",\"type\":\"Patch\"},{\"attributes\":{\"source\":{\"id\":\"6243\"}},\"id\":\"6250\",\"type\":\"CDSView\"},{\"attributes\":{\"data\":{\"x\":{\"__ndarray__\":\"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\",\"dtype\":\"float64\",\"order\":\"little\",\"shape\":[200]},\"y\":{\"__ndarray__\":\"AAAAAAAAAAAAAAAAAAAAAAAAAAAAAAAAAAAAAAAAAAAAAAAAAAAAAAAAAAAAAAAAAAAAAAAAAAAAAAAAAAAAAAAAAAAAAAAAAAAAAAAAAAAAAAAAAAAAAAAAAAAAAAAAAAAAAAAAAAAAAAAAAAAAAAAAAAAAAAAAAAAAAAAAAAAAAAAAAAAAAAAAAAAAAAAAAAAAAAAAAAAAAAAAAAAAAAAAAAAAAAAAAAAAAAAAAAAAAAAAAAAAAAAAAAAAAAAAAAAAAAAAAAAAAAAAAAAAAAAAAAAAAAAAAAAAAAAAAAAAAAAAAAAAAAAAAAAAAAAAAAAAAAAAAAAAAAAAAAAAAAAAAAAAAAAAAAAAAAAAAAAAAAAAAAAAAAAAAAAAAAAAAAAAAAAAAAAAAAAAAAAAAAAAAAAAAAAAAAAAAAAAAAAAAAAAAAAAAAAAAAAAAAAAAAAAAAAAAAAAAAAAAAAAAAAAAAAAAAAAAAAAAAAAAAAAAAAAAAAAAAAAAAAAAAAAAAAAAAAAAAAAAAAAAAAAAAAAAAAAAAAAAAAAAAAAAAAAAAAAAAAAAAAAAAAAAAAAAAAAAAAAAAAAAAAAAAAAAAAAAAAAAAAAAAAAAAAAAAAAAAAAAAAAAAAAAAAAAAAAAAAAAAAAAAAAAAAAAAAAAAAAAAAAAAAAAAAAAAAAAAAAAAAAAAAAAAAAAAAAAAAAAAAAAAAAAAAAAAAAAAAAAAAAAAAAAAAAAAAAAAAAAAAAAAAAAAAAAAAAAAAAAAAAAAAAAAAAAAAAAAAAAAAAAAAAAAAAAAAAAAAAAAAAAAAAAAAAAAAAAAAAAAAAAAAAAAAAAAAAAAAAAAAAAAAAAAAAAAAAAAAAAAAAAAAAAAAAAAAAAAAAAAAAAAAAAAAAAAAAAAAAAAAAAAAAAAAAAAAAAAAAAAAAAAAAAAAAAAAAAAAAAAAAAAAAAAAAAAAAAAAAAAAAAAAAAAAAAAAAAAAAAAAAAAAAAAAAAAAAAAAAAAAAAAAAAAAAAAAAAAAAAAAAAAAAAAAAAAAAAAAAAAAAAAAAAAAAAAAAAAAAAAB1MZhu87IwP7TvOu0GF0E/kwah+B6JUD9RvOaYpUNePx4PWa7VNGo/AcISyO57dT8KcnRne6+AP6faqgBIkog/zXdnuwkrkT/EearpL8qWP5CDKyM3xpw/6PHmRcBNoT/gwmj6MNyjP9WzKCtgzKU/qNU/BiLwpj/IqU6htzWnPz2E8qF8qaY/fMYRLcJwpT9+30re+7+jP4CapBFwz6E/RWdPHdOinz8UrXSbqtebP/Aem5DAa5g/MGIC4hxylT9MLy3EO+mSP0JIseWsw5A/zfdbly7gjT/aGKkU372KPz9OFCNWCog/MiDbX2S4hT8LSvemB8CDP/7UERCHGYI/YW8+tIy5gD+HmtczKx9/P4JTTGEnDn0/32AfnXoVez/8IAzVzxF5P28fm00J73Y/thlnfeGsdD8U8bMVkF5yP/b8ozdNJXA/toItMDZObD/i/zXjswhpP0uZE173nWY/oLxOP1MLZT8magucHChkP5WYSF4csGM/XhgJa8dUYz9rdpzdQ9BiP/Pi2em+9GE/Gg+C5MyzYD++0HG0jzheP815lHbuoFo/Cdp3CL/xVj+nHStzi3FTP2Iu+fzsT1A/wBGU5EJKSz92fhfflvNGP9QtHPvVoEM/zj2mHSRWQT9guSAzchZAPy0q/6f9tD8/ZQp9rmyGQD/cp9LmzORBP32vjAA7qkM/OVXJNxqART9hga8tGhJHP/TI0x79GUg/05bSfhlnSD8VOFpRkuFHP4awgmurikY/DpeVSmh7RD8NLw+EieFBPwUKF6KO9D0/UcyUZDgVOD8Y06ogeawyP+08i457XSw/V1mU3C3lJT/JSrGzE1kiP8z8DoqR3iE/YyurWLJYJD/WYL8NA2UpP0PM48H1KjA/BL0z7NEZND8nJVElc+c3P0d3Em9p9To/OUyL0RO8PD9Taqneaeg8P4S2witLbzs/9nFs+o6OOD8e0bpE3ro0P8yD/H3GgDA/aMDjC5LHKD9DPYnEPoshP5Q/hy1ibRc/FhtmsHaADT/F6twpiIQBP0TWCzxanvM+7Xh4M0+45D4qN5OVBKPUPg==\",\"dtype\":\"float64\",\"order\":\"little\",\"shape\":[200]}},\"selected\":{\"id\":\"6222\"},\"selection_policy\":{\"id\":\"6238\"}},\"id\":\"6221\",\"type\":\"ColumnDataSource\"},{\"attributes\":{\"source\":{\"id\":\"6221\"}},\"id\":\"6228\",\"type\":\"CDSView\"},{\"attributes\":{\"end\":125.72049309810083,\"reset_end\":125.72049309810083,\"reset_start\":-25.720493098100825,\"start\":-25.720493098100825,\"tags\":[[[\"value\",\"value\",null]]]},\"id\":\"6156\",\"type\":\"Range1d\"},{\"attributes\":{\"click_policy\":\"mute\",\"coordinates\":null,\"group\":null,\"items\":[{\"id\":\"6219\"},{\"id\":\"6241\"},{\"id\":\"6265\"},{\"id\":\"6291\"}],\"location\":[0,0],\"title\":\"Variable\"},\"id\":\"6218\",\"type\":\"Legend\"},{\"attributes\":{\"margin\":[5,5,5,5],\"name\":\"HSpacer05424\",\"sizing_mode\":\"stretch_width\"},\"id\":\"6313\",\"type\":\"Spacer\"},{\"attributes\":{\"margin\":[5,5,5,5],\"name\":\"HSpacer05423\",\"sizing_mode\":\"stretch_width\"},\"id\":\"6155\",\"type\":\"Spacer\"},{\"attributes\":{},\"id\":\"6201\",\"type\":\"Selection\"},{\"attributes\":{\"fill_alpha\":0.5,\"fill_color\":\"#30a2da\",\"hatch_color\":\"#30a2da\",\"x\":{\"field\":\"x\"},\"y\":{\"field\":\"y\"}},\"id\":\"6203\",\"type\":\"Patch\"},{\"attributes\":{\"children\":[{\"id\":\"6155\"},{\"id\":\"6162\"},{\"id\":\"6313\"}],\"margin\":[0,0,0,0],\"name\":\"Row05419\",\"tags\":[\"embedded\"]},\"id\":\"6154\",\"type\":\"Row\"},{\"attributes\":{\"source\":{\"id\":\"6267\"}},\"id\":\"6274\",\"type\":\"CDSView\"},{\"attributes\":{},\"id\":\"6288\",\"type\":\"UnionRenderers\"},{\"attributes\":{},\"id\":\"6222\",\"type\":\"Selection\"},{\"attributes\":{\"coordinates\":null,\"data_source\":{\"id\":\"6200\"},\"glyph\":{\"id\":\"6203\"},\"group\":null,\"hover_glyph\":null,\"muted_glyph\":{\"id\":\"6205\"},\"nonselection_glyph\":{\"id\":\"6204\"},\"selection_glyph\":{\"id\":\"6220\"},\"view\":{\"id\":\"6207\"}},\"id\":\"6206\",\"type\":\"GlyphRenderer\"},{\"attributes\":{},\"id\":\"6262\",\"type\":\"UnionRenderers\"},{\"attributes\":{\"source\":{\"id\":\"6200\"}},\"id\":\"6207\",\"type\":\"CDSView\"},{\"attributes\":{},\"id\":\"6167\",\"type\":\"LinearScale\"},{\"attributes\":{\"data\":{\"x\":{\"__ndarray__\":\"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\",\"dtype\":\"float64\",\"order\":\"little\",\"shape\":[200]},\"y\":{\"__ndarray__\":\"AAAAAAAAAAAAAAAAAAAAAAAAAAAAAAAAAAAAAAAAAAAAAAAAAAAAAAAAAAAAAAAAAAAAAAAAAAAAAAAAAAAAAAAAAAAAAAAAAAAAAAAAAAAAAAAAAAAAAAAAAAAAAAAAAAAAAAAAAAAAAAAAAAAAAAAAAAAAAAAAAAAAAAAAAAAAAAAAAAAAAAAAAAAAAAAAAAAAAAAAAAAAAAAAAAAAAAAAAAAAAAAAAAAAAAAAAAAAAAAAAAAAAAAAAAAAAAAAAAAAAAAAAAAAAAAAAAAAAAAAAAAAAAAAAAAAAAAAAAAAAAAAAAAAAAAAAAAAAAAAAAAAAAAAAAAAAAAAAAAAAAAAAAAAAAAAAAAAAAAAAAAAAAAAAAAAAAAAAAAAAAAAAAAAAAAAAAAAAAAAAAAAAAAAAAAAAAAAAAAAAAAAAAAAAAAAAAAAAAAAAAAAAAAAAAAAAAAAAAAAAAAAAAAAAAAAAAAAAAAAAAAAAAAAAAAAAAAAAAAAAAAAAAAAAAAAAAAAAAAAAAAAAAAAAAAAAAAAAAAAAAAAAAAAAAAAAAAAAAAAAAAAAAAAAAAAAAAAAAAAAAAAAAAAAAAAAAAAAAAAAAAAAAAAAAAAAAAAAAAAAAAAAAAAAAAAAAAAAAAAAAAAAAAAAAAAAAAAAAAAAAAAAAAAAAAAAAAAAAAAAAAAAAAAAAAAAAAAAAAAAAAAAAAAAAAAAAAAAAAAAAAAAAAAAAAAAAAAAAAAAAAAAAAAAAAAAAAAAAAAAAAAAAAAAAAAAAAAAAAAAAAAAAAAAAAAAAAAAAAAAAAAAAAAAAAAAAAAAAAAAAAAAAAAAAAAAAAAAAAAAAAAAAAAAAAAAAAAAAAAAAAAAAAAAAAAAAAAAAAAAAAAAAAAAAAAAAAAAAAAAAAAAAAAAAAAAAAAAAAAAAAAAAAAAAAAAAAAAAAAAAAAAAAAAAAAAAAAAAAAAAAAAAAAAAAAAAAAAAAAAAAAAAAAAAAAAAAAAAAAAAAAAAAAAAAAAAAAAAAAAAAAAAAAAAAAAAAAAAAAAAAAAAAAAAAAAAAAAAAAAAAAAADu3zFvUHMlPylCeNnhpzM/ANINgkpWQT881r4Qp3FNPydh6A1WE1g/XAJLwsz1Yj/3oqFNDsVsP9CJLDHJCHU/F0C+rYKmfT+VUaaDbyeEP67onFCSb4o/6kG1aAW9kD9FG9dnR3qUP8z/+gT4OJg/xw6TMfq6mz+/3hOmvMKeP2MfF1DwjaA/9ZydQE5RoT/LAPlNH6ShP6ih+xT1iaE/pSrAd84PoT/dlAlXOEmgPxWwh2aamZ4/kvqHQL9hnD9Np2OE3BGaP/ZmgKphyJc/LaAK+HOalT+omxo31ZSTP+Fj8QKuvZE/FJBWeIcWkD/XX5sx9DuNPwiqlC7CoYo/TtO4bDtWiD88Y25FKlCGPygZBeskhoQ/QT/V6UHvgj9dncvxsYOBP5jnYAYWPYA/CeyDn94sfj+Qt3hlUxd8P+/YIQbeMXo/vYFT6xp0eD9I7CfycdR2P08cKXmYSHU/NzyO5vTGcz9In9v7aEhyP1WX8PvbyXA/qWb4AeKZbj8nUDjnOq9rP+9itZ1i5Wg/nXkD/GhPZj+GWOxuUv1jP3VikjyE+GE/SjHnOOZBYD9qrQSrF6RdP+6oBYJoNls/SScjhBEZWT+hOCi+iytXP6bqZjbtVFU/rsNMgymIUz95VcXpX8VRP6lWaE01GFA/PnjMD8cnTT93hICeOJxKP3OqzFMHtEg/v0ZQ77OIRz8b22LRAyNHP6m9YQcKe0c/dXp0eHF7SD/Ils8FnwZKP4AJOvYL/Es/AS73JnU8Tj+LAeghA1ZQPwSR6NInmVE/kY2DkTbcUj82Y7fOGBNUP69bI6uyL1U/l8dCSRUhVj/k6pQ3tdNWPw+h0c3fMlc/ypOIRlorVz8Yl6SEua5WP+QOSdmztlU/sYL29YxHVD+6gqgx3HBSP2ldJShNTFA/d4Xi0//0Sz+t8aqBWj1HP7R2wO8EtEI/n9cstbgePT+Y2QSfXuk1PzOwk9912i8/Ko1kfI1aJj+pIsguK0ceP94hQiwfyBM/ckF7FHHtCD/W7jWnwUj+PqD/Ibolu/E+RPo3kugB5D6aMyVjFcDVPg==\",\"dtype\":\"float64\",\"order\":\"little\",\"shape\":[200]}},\"selected\":{\"id\":\"6244\"},\"selection_policy\":{\"id\":\"6262\"}},\"id\":\"6243\",\"type\":\"ColumnDataSource\"},{\"attributes\":{\"label\":{\"value\":\"Continence needs (%)\"},\"renderers\":[{\"id\":\"6227\"}]},\"id\":\"6241\",\"type\":\"LegendItem\"},{\"attributes\":{\"label\":{\"value\":\"Presence of any pain (%)\"},\"renderers\":[{\"id\":\"6249\"}]},\"id\":\"6265\",\"type\":\"LegendItem\"},{\"attributes\":{\"fill_alpha\":0.5,\"fill_color\":\"#6d904f\",\"hatch_alpha\":0.1,\"hatch_color\":\"#6d904f\",\"line_alpha\":1,\"x\":{\"field\":\"x\"},\"y\":{\"field\":\"y\"}},\"id\":\"6271\",\"type\":\"Patch\"},{\"attributes\":{},\"id\":\"6194\",\"type\":\"AllLabels\"},{\"attributes\":{},\"id\":\"6238\",\"type\":\"UnionRenderers\"},{\"attributes\":{},\"id\":\"6197\",\"type\":\"AllLabels\"},{\"attributes\":{\"fill_alpha\":0.5,\"fill_color\":\"#e5ae38\",\"hatch_color\":\"#e5ae38\",\"x\":{\"field\":\"x\"},\"y\":{\"field\":\"y\"}},\"id\":\"6266\",\"type\":\"Patch\"}],\"root_ids\":[\"6154\"]},\"title\":\"Bokeh Application\",\"version\":\"2.4.3\"}};\n",
       "    var render_items = [{\"docid\":\"22c5f1a3-01f3-41bf-805e-703fe034e84f\",\"root_ids\":[\"6154\"],\"roots\":{\"6154\":\"a0ac1af9-0191-486c-a976-a7d61a4a4567\"}}];\n",
       "    root.Bokeh.embed.embed_items_notebook(docs_json, render_items);\n",
       "    for (const render_item of render_items) {\n",
       "      for (const root_id of render_item.root_ids) {\n",
       "\tconst id_el = document.getElementById(root_id)\n",
       "\tif (id_el.children.length && (id_el.children[0].className === 'bk-root')) {\n",
       "\t  const root_el = id_el.children[0]\n",
       "\t  root_el.id = root_el.id + '-rendered'\n",
       "\t}\n",
       "      }\n",
       "    }\n",
       "  }\n",
       "  if (root.Bokeh !== undefined && root.Bokeh.Panel !== undefined) {\n",
       "    embed_document(root);\n",
       "  } else {\n",
       "    var attempts = 0;\n",
       "    var timer = setInterval(function(root) {\n",
       "      if (root.Bokeh !== undefined && root.Bokeh.Panel !== undefined) {\n",
       "        clearInterval(timer);\n",
       "        embed_document(root);\n",
       "      } else if (document.readyState == \"complete\") {\n",
       "        attempts++;\n",
       "        if (attempts > 200) {\n",
       "          clearInterval(timer);\n",
       "          console.log(\"Bokeh: ERROR: Unable to run BokehJS code because BokehJS library is missing\");\n",
       "        }\n",
       "      }\n",
       "    }, 25, root)\n",
       "  }\n",
       "})(window);</script>"
      ],
      "text/plain": [
       ":NdOverlay   [Variable]\n",
       "   :Distribution   [value]   (Density)"
      ]
     },
     "execution_count": 47,
     "metadata": {
      "application/vnd.holoviews_exec.v0+json": {
       "id": "6154"
      }
     },
     "output_type": "execute_result"
    }
   ],
   "source": [
    "# create kde plot for dementia patients with various symptoms\n",
    "cleaned_hospital_audit_df.hvplot.kde(y=['Patient died (%)', 'Continence needs (%)', 'Presence of any pain (%)', 'Confirmed delirium diagnosis (%)'], xlabel='Symptom', ylabel='Percentage', height=800, width=1200, rot=90, grid=True, title='Percentage of Dementia Patients with Various Symptoms')"
   ]
  },
  {
   "cell_type": "code",
   "execution_count": 53,
   "metadata": {},
   "outputs": [
    {
     "data": {
      "image/png": "[encoded data removed]",
      "text/plain": [
       "<Figure size 1440x864 with 1 Axes>"
      ]
     },
     "metadata": {
      "needs_background": "light"
     },
     "output_type": "display_data"
    }
   ],
   "source": [
    "# create plot showing death rate for patients with dementia admitted to hospital\n",
    "plt.figure(figsize=(20, 12))\n",
    "plt.scatter(cleaned_hospital_audit_df['Confirmed delirium diagnosis (%)'], cleaned_hospital_audit_df['Patient died (%)'], marker='o', facecolors='red', edgecolors='black', alpha=0.75)\n",
    "plt.title('Death Rate and Confirmed Delirium Diagnosis Rate for Patients with Dementia Admitted to Hospital')\n",
    "plt.xlabel('Confirmed Delirium Diagnosis (%)')\n",
    "plt.ylabel('Patient Died (%)')\n",
    "plt.show()\n"
   ]
  },
  {
   "cell_type": "code",
   "execution_count": 38,
   "metadata": {},
   "outputs": [
    {
     "data": {},
     "metadata": {},
     "output_type": "display_data"
    },
    {
     "data": {
      "application/vnd.holoviews_exec.v0+json": "",
      "text/html": [
       "<div id='33950'>\n",
       "  <div class=\"bk-root\" id=\"5a40b880-496d-48f7-8073-c3c8412974fd\" data-root-id=\"33950\"></div>\n",
       "</div>\n",
       "<script type=\"application/javascript\">(function(root) {\n",
       "  function embed_document(root) {\n",
       "    var docs_json = {\"c0736723-26a3-4bfd-975c-f5de3845f385\":{\"defs\":[{\"extends\":null,\"module\":null,\"name\":\"ReactiveHTML1\",\"overrides\":[],\"properties\":[]},{\"extends\":null,\"module\":null,\"name\":\"FlexBox1\",\"overrides\":[],\"properties\":[{\"default\":\"flex-start\",\"kind\":null,\"name\":\"align_content\"},{\"default\":\"flex-start\",\"kind\":null,\"name\":\"align_items\"},{\"default\":\"row\",\"kind\":null,\"name\":\"flex_direction\"},{\"default\":\"wrap\",\"kind\":null,\"name\":\"flex_wrap\"},{\"default\":\"flex-start\",\"kind\":null,\"name\":\"justify_content\"}]},{\"extends\":null,\"module\":null,\"name\":\"GridStack1\",\"overrides\":[],\"properties\":[{\"default\":\"warn\",\"kind\":null,\"name\":\"mode\"},{\"default\":null,\"kind\":null,\"name\":\"ncols\"},{\"default\":null,\"kind\":null,\"name\":\"nrows\"},{\"default\":true,\"kind\":null,\"name\":\"allow_resize\"},{\"default\":true,\"kind\":null,\"name\":\"allow_drag\"},{\"default\":[],\"kind\":null,\"name\":\"state\"}]},{\"extends\":null,\"module\":null,\"name\":\"click1\",\"overrides\":[],\"properties\":[{\"default\":\"\",\"kind\":null,\"name\":\"terminal_output\"},{\"default\":\"\",\"kind\":null,\"name\":\"debug_name\"},{\"default\":0,\"kind\":null,\"name\":\"clears\"}]},{\"extends\":null,\"module\":null,\"name\":\"NotificationAreaBase1\",\"overrides\":[],\"properties\":[{\"default\":\"bottom-right\",\"kind\":null,\"name\":\"position\"},{\"default\":0,\"kind\":null,\"name\":\"_clear\"}]},{\"extends\":null,\"module\":null,\"name\":\"NotificationArea1\",\"overrides\":[],\"properties\":[{\"default\":[],\"kind\":null,\"name\":\"notifications\"},{\"default\":\"bottom-right\",\"kind\":null,\"name\":\"position\"},{\"default\":0,\"kind\":null,\"name\":\"_clear\"},{\"default\":[{\"background\":\"#ffc107\",\"icon\":{\"className\":\"fas fa-exclamation-triangle\",\"color\":\"white\",\"tagName\":\"i\"},\"type\":\"warning\"},{\"background\":\"#007bff\",\"icon\":{\"className\":\"fas fa-info-circle\",\"color\":\"white\",\"tagName\":\"i\"},\"type\":\"info\"}],\"kind\":null,\"name\":\"types\"}]},{\"extends\":null,\"module\":null,\"name\":\"Notification\",\"overrides\":[],\"properties\":[{\"default\":null,\"kind\":null,\"name\":\"background\"},{\"default\":3000,\"kind\":null,\"name\":\"duration\"},{\"default\":null,\"kind\":null,\"name\":\"icon\"},{\"default\":\"\",\"kind\":null,\"name\":\"message\"},{\"default\":null,\"kind\":null,\"name\":\"notification_type\"},{\"default\":false,\"kind\":null,\"name\":\"_destroyed\"}]},{\"extends\":null,\"module\":null,\"name\":\"TemplateActions1\",\"overrides\":[],\"properties\":[{\"default\":0,\"kind\":null,\"name\":\"open_modal\"},{\"default\":0,\"kind\":null,\"name\":\"close_modal\"}]},{\"extends\":null,\"module\":null,\"name\":\"MaterialTemplateActions1\",\"overrides\":[],\"properties\":[{\"default\":0,\"kind\":null,\"name\":\"open_modal\"},{\"default\":0,\"kind\":null,\"name\":\"close_modal\"}]}],\"roots\":{\"references\":[{\"attributes\":{\"data\":{\"Patient died (%)\":{\"__ndarray__\":\"ZmZmZmZmJEAAAAAAAAAQQAAAAAAAAChAMzMzMzMzG0AAAAAAAAAwQGZmZmZmZitAmpmZmZmZAUAAAAAAAAAYQGZmZmZmZiBAAAAAAAAAJEAAAAAAAIA4QGZmZmZmZgJAAAAAAAAAJECamZmZmZkkQDMzMzMzMxlAZmZmZmZmIEAzMzMzMzMdQDMzMzMzMxlAAAAAAAAAIECamZmZmZkjQAAAAAAAAChAMzMzMzOzMEAAAAAAAAAjQJqZmZmZmRdAmpmZmZmZKkAAAAAAAAAwQAAAAAAAADJAmpmZmZmZJ0AzMzMzMzMvQAAAAAAAACtAAAAAAAAAAEAzMzMzMzMfQM3MzMzMzCFAZmZmZmZmIUBmZmZmZmYUQAAAAAAAADBAAAAAAAAAPEAAAAAAAAAAADMzMzMzszNAAAAAAAAAJEBmZmZmZmYgQAAAAAAAADhAAAAAAAAAJUCamZmZmZkqQJqZmZmZmQ1AAAAAAAAAMkCamZmZmZkBQDMzMzMzMxlAAAAAAAAALECamZmZmZkzQDMzMzMzMwdAAAAAAAAAOEDNzMzMzMwkQGZmZmZmZitAmpmZmZmZK0AAAAAAAAA2QGZmZmZmZi9AAAAAAAAAEEAAAAAAAAAcQAAAAAAAACRAZmZmZmZmK0DNzMzMzMwnQGZmZmZmZhBAAAAAAAAAKEAAAAAAAAAYQAAAAAAAACxAZmZmZmZmMkAAAAAAAAAUQAAAAAAAABhAAAAAAAAAKEAAAAAAAAAAADMzMzMzszBAMzMzMzMzJkAAAAAAAAAQQAAAAAAAACxAAAAAAAAAHEAAAAAAAAA2QAAAAAAAADBAAAAAAAAAIECamZmZmZkTQM3MzMzMzCZAAAAAAAAAAADNzMzMzEw0QJqZmZmZmfk/zczMzMzMK0AzMzMzMzMqQAAAAAAAAChAzczMzMzMBEAAAAAAAAAyQDMzMzMzMw9AAAAAAAAAAECamZmZmZkmQAAAAAAAABpAAAAAAAAAAABmZmZmZmYOQAAAAAAAACxAAAAAAAAAIEAAAAAAAAAsQGZmZmZmZi9AAAAAAAAAAEAAAAAAAAAAQAAAAAAAABBAMzMzMzMzLUAAAAAAAAAYQAAAAAAAADRAMzMzMzMzGUAzMzMzMzMZQDMzMzMzMyZAAAAAAAAAAAAAAAAAAAAoQDMzMzMzMy5AAAAAAAAAMkBmZmZmZmYiQDMzMzMzMyNAAAAAAAAAKEAzMzMzMzMtQAAAAAAAABRAMzMzMzMzHUDNzMzMzMwQQGZmZmZmZjBAAAAAAACAMkAAAAAAAAAQQAAAAAAAAChAAAAAAAAAAEBmZmZmZmYoQJqZmZmZmSxAAAAAAAAAKEAAAAAAAAAkQDMzMzMzszBAmpmZmZmZLUAAAAAAAAAoQAAAAAAAAC1AAAAAAAAAAEAAAAAAAABEQAAAAAAAACxAZmZmZmZmIEAAAAAAAAAYQM3MzMzMTDNAAAAAAAAAAEAzMzMzMzMmQJqZmZmZmSZAAAAAAAAALECamZmZmZkBQAAAAAAAACxAAAAAAAAAJ0AAAAAAAAAyQAAAAAAAABBAzczMzMzMJ0AzMzMzMzMVQAAAAAAAADJAmpmZmZmZLUAAAAAAAAAAAJqZmZmZmSdAAAAAAAAAAEBmZmZmZmYrQAAAAAAAADRAmpmZmZmZF0DNzMzMzMwuQAAAAAAAACBAAAAAAAAAGECamZmZmZkXQJqZmZmZmSdAAAAAAAAALEBmZmZmZmYoQAAAAAAAAABAAAAAAAAAIEAAAAAAAAAgQAAAAAAAADRAzczMzMzMJUA=\",\"dtype\":\"float64\",\"order\":\"little\",\"shape\":[169]},\"Patient_died_left_parenthesis_percent_right_parenthesis\":{\"__ndarray__\":\"ZmZmZmZmJEAAAAAAAAAQQAAAAAAAAChAMzMzMzMzG0AAAAAAAAAwQGZmZmZmZitAmpmZmZmZAUAAAAAAAAAYQGZmZmZmZiBAAAAAAAAAJEAAAAAAAIA4QGZmZmZmZgJAAAAAAAAAJECamZmZmZkkQDMzMzMzMxlAZmZmZmZmIEAzMzMzMzMdQDMzMzMzMxlAAAAAAAAAIECamZmZmZkjQAAAAAAAAChAMzMzMzOzMEAAAAAAAAAjQJqZmZmZmRdAmpmZmZmZKkAAAAAAAAAwQAAAAAAAADJAmpmZmZmZJ0AzMzMzMzMvQAAAAAAAACtAAAAAAAAAAEAzMzMzMzMfQM3MzMzMzCFAZmZmZmZmIUBmZmZmZmYUQAAAAAAAADBAAAAAAAAAPEAAAAAAAAAAADMzMzMzszNAAAAAAAAAJEBmZmZmZmYgQAAAAAAAADhAAAAAAAAAJUCamZmZmZkqQJqZmZmZmQ1AAAAAAAAAMkCamZmZmZkBQDMzMzMzMxlAAAAAAAAALECamZmZmZkzQDMzMzMzMwdAAAAAAAAAOEDNzMzMzMwkQGZmZmZmZitAmpmZmZmZK0AAAAAAAAA2QGZmZmZmZi9AAAAAAAAAEEAAAAAAAAAcQAAAAAAAACRAZmZmZmZmK0DNzMzMzMwnQGZmZmZmZhBAAAAAAAAAKEAAAAAAAAAYQAAAAAAAACxAZmZmZmZmMkAAAAAAAAAUQAAAAAAAABhAAAAAAAAAKEAAAAAAAAAAADMzMzMzszBAMzMzMzMzJkAAAAAAAAAQQAAAAAAAACxAAAAAAAAAHEAAAAAAAAA2QAAAAAAAADBAAAAAAAAAIECamZmZmZkTQM3MzMzMzCZAAAAAAAAAAADNzMzMzEw0QJqZmZmZmfk/zczMzMzMK0AzMzMzMzMqQAAAAAAAAChAzczMzMzMBEAAAAAAAAAyQDMzMzMzMw9AAAAAAAAAAECamZmZmZkmQAAAAAAAABpAAAAAAAAAAABmZmZmZmYOQAAAAAAAACxAAAAAAAAAIEAAAAAAAAAsQGZmZmZmZi9AAAAAAAAAAEAAAAAAAAAAQAAAAAAAABBAMzMzMzMzLUAAAAAAAAAYQAAAAAAAADRAMzMzMzMzGUAzMzMzMzMZQDMzMzMzMyZAAAAAAAAAAAAAAAAAAAAoQDMzMzMzMy5AAAAAAAAAMkBmZmZmZmYiQDMzMzMzMyNAAAAAAAAAKEAzMzMzMzMtQAAAAAAAABRAMzMzMzMzHUDNzMzMzMwQQGZmZmZmZjBAAAAAAACAMkAAAAAAAAAQQAAAAAAAAChAAAAAAAAAAEBmZmZmZmYoQJqZmZmZmSxAAAAAAAAAKEAAAAAAAAAkQDMzMzMzszBAmpmZmZmZLUAAAAAAAAAoQAAAAAAAAC1AAAAAAAAAAEAAAAAAAABEQAAAAAAAACxAZmZmZmZmIEAAAAAAAAAYQM3MzMzMTDNAAAAAAAAAAEAzMzMzMzMmQJqZmZmZmSZAAAAAAAAALECamZmZmZkBQAAAAAAAACxAAAAAAAAAJ0AAAAAAAAAyQAAAAAAAABBAzczMzMzMJ0AzMzMzMzMVQAAAAAAAADJAmpmZmZmZLUAAAAAAAAAAAJqZmZmZmSdAAAAAAAAAAEBmZmZmZmYrQAAAAAAAADRAmpmZmZmZF0DNzMzMzMwuQAAAAAAAACBAAAAAAAAAGECamZmZmZkXQJqZmZmZmSdAAAAAAAAALEBmZmZmZmYoQAAAAAAAAABAAAAAAAAAIEAAAAAAAAAgQAAAAAAAADRAzczMzMzMJUA=\",\"dtype\":\"float64\",\"order\":\"little\",\"shape\":[169]},\"Presence of any pain (%)\":{\"__ndarray__\":\"AAAAAACAWEAAAAAAAABVQAAAAAAAgFFAzczMzMwsU0AAAAAAAABXQM3MzMzMDFdAMzMzMzNzWEBmZmZmZuZTQAAAAAAAAFlAAAAAAAAAWUCamZmZmZlUQM3MzMzMbFhAMzMzMzNTUEAAAAAAAABZQAAAAAAAAFlAAAAAAACAWEDNzMzMzKxUQJqZmZmZeVhAmpmZmZmZGUAAAAAAAIBYQAAAAAAAgFdAZmZmZmaGWEDNzMzMzGxXQGZmZmZmhldAzczMzMysVUAAAAAAAABOQJqZmZmZOVJAZmZmZmamT0AAAAAAAKBUQAAAAAAAAFlAzczMzMyMVkBmZmZmZmZNQDMzMzMzc1hAZmZmZmbmV0CamZmZmVlYQM3MzMzM7FZAmpmZmZlZVUAAAAAAAABZQDMzMzMzM1dAmpmZmZnZUUBmZmZmZkZQQM3MzMzM7FRAMzMzMzPzVkAAAAAAAABZQJqZmZmZmVFAAAAAAACAWEBmZmZmZmZRQJqZmZmZeVhAAAAAAAAAWEBmZmZmZoZYQGZmZmZmRlhAmpmZmZl5WEAAAAAAAOBVQAAAAAAAAFlAZmZmZmbmTkAAAAAAAIBXQAAAAAAAAFlAAAAAAAAAWUDNzMzMzAxTQGZmZmZmZiRAzczMzMyMVkAAAAAAAABZQM3MzMzMbFVAzczMzMzsUUAAAAAAAABYQAAAAAAAAFlAmpmZmZl5WEAzMzMzM1NXQAAAAAAAwFRAAAAAAAAAWUAAAAAAAIBWQAAAAAAAAFlAAAAAAAAAWUAAAAAAAABZQM3MzMzM7FZAmpmZmZkZWEBmZmZmZkZWQAAAAAAAAFhAAAAAAAAAWUAAAAAAAIBDQM3MzMzMbFhAmpmZmZk5V0AzMzMzM5NYQGZmZmZmxldAZmZmZmamWEAzMzMzM7NWQDMzMzMzc1ZAmpmZmZlZWEBmZmZmZsZRQM3MzMzMjFZAAAAAAAAAWUCamZmZmZlYQGZmZmZmxldAMzMzMzNzVkBmZmZmZoZYQGZmZmZmZlZAmpmZmZn5V0CamZmZmXlYQAAAAAAAAFlAAAAAAACAV0AzMzMzM/NVQDMzMzMz01RAZmZmZmZGU0AAAAAAAABZQAAAAAAAAFhAAAAAAAAAWUAAAAAAAOBVQGZmZmZmplZAmpmZmZk5V0AAAAAAAABZQJqZmZmZmVNAAAAAAAAAS0CamZmZmZlYQAAAAAAAAFlAAAAAAAAAMEBmZmZmZiZNQDMzMzMz01NAzczMzMzMRUDNzMzMzIxUQDMzMzMz01VAZmZmZmaGWEBmZmZmZmZUQAAAAAAAgFhAZmZmZmZmTkAAAAAAAABZQAAAAAAAgFhAAAAAAAAAWEAAAAAAAAA0QGZmZmZmRlNAmpmZmZk5VkAAAAAAAABYQDMzMzMzk1ZAAAAAAACAVUAAAAAAAIBYQAAAAAAAAE9AmpmZmZk5UkAAAAAAAIBXQDMzMzMzc0lAAAAAAAAAWEAzMzMzM7M6QJqZmZmZ+VRAAAAAAAAAWUAAAAAAAABZQAAAAAAAgFZAZmZmZmaGWECamZmZmXlYQJqZmZmZ+VdAMzMzMzMzRkAzMzMzM1NXQAAAAAAAgFhAMzMzMzMTWEAAAAAAAIBVQDMzMzMz01RAAAAAAAAAV0CamZmZmTlSQAAAAAAAAFlAMzMzMzNzTEDNzMzMzKxUQAAAAAAAAFlAmpmZmZn5V0BmZmZmZqZRQGZmZmZmhldAAAAAAAAAVkAAAAAAAOBSQM3MzMzMbFVAAAAAAAAAJEAzMzMzM9NUQDMzMzMzU1RAAAAAAADAUkA=\",\"dtype\":\"float64\",\"order\":\"little\",\"shape\":[169]},\"Presence_of_any_pain_left_parenthesis_percent_right_parenthesis\":{\"__ndarray__\":\"AAAAAACAWEAAAAAAAABVQAAAAAAAgFFAzczMzMwsU0AAAAAAAABXQM3MzMzMDFdAMzMzMzNzWEBmZmZmZuZTQAAAAAAAAFlAAAAAAAAAWUCamZmZmZlUQM3MzMzMbFhAMzMzMzNTUEAAAAAAAABZQAAAAAAAAFlAAAAAAACAWEDNzMzMzKxUQJqZmZmZeVhAmpmZmZmZGUAAAAAAAIBYQAAAAAAAgFdAZmZmZmaGWEDNzMzMzGxXQGZmZmZmhldAzczMzMysVUAAAAAAAABOQJqZmZmZOVJAZmZmZmamT0AAAAAAAKBUQAAAAAAAAFlAzczMzMyMVkBmZmZmZmZNQDMzMzMzc1hAZmZmZmbmV0CamZmZmVlYQM3MzMzM7FZAmpmZmZlZVUAAAAAAAABZQDMzMzMzM1dAmpmZmZnZUUBmZmZmZkZQQM3MzMzM7FRAMzMzMzPzVkAAAAAAAABZQJqZmZmZmVFAAAAAAACAWEBmZmZmZmZRQJqZmZmZeVhAAAAAAAAAWEBmZmZmZoZYQGZmZmZmRlhAmpmZmZl5WEAAAAAAAOBVQAAAAAAAAFlAZmZmZmbmTkAAAAAAAIBXQAAAAAAAAFlAAAAAAAAAWUDNzMzMzAxTQGZmZmZmZiRAzczMzMyMVkAAAAAAAABZQM3MzMzMbFVAzczMzMzsUUAAAAAAAABYQAAAAAAAAFlAmpmZmZl5WEAzMzMzM1NXQAAAAAAAwFRAAAAAAAAAWUAAAAAAAIBWQAAAAAAAAFlAAAAAAAAAWUAAAAAAAABZQM3MzMzM7FZAmpmZmZkZWEBmZmZmZkZWQAAAAAAAAFhAAAAAAAAAWUAAAAAAAIBDQM3MzMzMbFhAmpmZmZk5V0AzMzMzM5NYQGZmZmZmxldAZmZmZmamWEAzMzMzM7NWQDMzMzMzc1ZAmpmZmZlZWEBmZmZmZsZRQM3MzMzMjFZAAAAAAAAAWUCamZmZmZlYQGZmZmZmxldAMzMzMzNzVkBmZmZmZoZYQGZmZmZmZlZAmpmZmZn5V0CamZmZmXlYQAAAAAAAAFlAAAAAAACAV0AzMzMzM/NVQDMzMzMz01RAZmZmZmZGU0AAAAAAAABZQAAAAAAAAFhAAAAAAAAAWUAAAAAAAOBVQGZmZmZmplZAmpmZmZk5V0AAAAAAAABZQJqZmZmZmVNAAAAAAAAAS0CamZmZmZlYQAAAAAAAAFlAAAAAAAAAMEBmZmZmZiZNQDMzMzMz01NAzczMzMzMRUDNzMzMzIxUQDMzMzMz01VAZmZmZmaGWEBmZmZmZmZUQAAAAAAAgFhAZmZmZmZmTkAAAAAAAABZQAAAAAAAgFhAAAAAAAAAWEAAAAAAAAA0QGZmZmZmRlNAmpmZmZk5VkAAAAAAAABYQDMzMzMzk1ZAAAAAAACAVUAAAAAAAIBYQAAAAAAAAE9AmpmZmZk5UkAAAAAAAIBXQDMzMzMzc0lAAAAAAAAAWEAzMzMzM7M6QJqZmZmZ+VRAAAAAAAAAWUAAAAAAAABZQAAAAAAAgFZAZmZmZmaGWECamZmZmXlYQJqZmZmZ+VdAMzMzMzMzRkAzMzMzM1NXQAAAAAAAgFhAMzMzMzMTWEAAAAAAAIBVQDMzMzMz01RAAAAAAAAAV0CamZmZmTlSQAAAAAAAAFlAMzMzMzNzTEDNzMzMzKxUQAAAAAAAAFlAmpmZmZn5V0BmZmZmZqZRQGZmZmZmhldAAAAAAAAAVkAAAAAAAOBSQM3MzMzMbFVAAAAAAAAAJEAzMzMzM9NUQDMzMzMzU1RAAAAAAADAUkA=\",\"dtype\":\"float64\",\"order\":\"little\",\"shape\":[169]}},\"selected\":{\"id\":\"33986\"},\"selection_policy\":{\"id\":\"34011\"}},\"id\":\"33985\",\"type\":\"ColumnDataSource\"},{\"attributes\":{\"axis\":{\"id\":\"33968\"},\"coordinates\":null,\"dimension\":1,\"grid_line_color\":null,\"group\":null,\"ticker\":null},\"id\":\"33971\",\"type\":\"Grid\"},{\"attributes\":{\"fill_alpha\":{\"value\":0.1},\"fill_color\":{\"value\":\"#30a2da\"},\"hatch_alpha\":{\"value\":0.1},\"hatch_color\":{\"value\":\"#30a2da\"},\"line_alpha\":{\"value\":0.1},\"line_color\":{\"value\":\"#30a2da\"},\"size\":{\"value\":5.477225575051661},\"x\":{\"field\":\"Presence of any pain (%)\"},\"y\":{\"field\":\"Patient died (%)\"}},\"id\":\"33989\",\"type\":\"Scatter\"},{\"attributes\":{},\"id\":\"33995\",\"type\":\"BasicTickFormatter\"},{\"attributes\":{\"source\":{\"id\":\"33985\"}},\"id\":\"33992\",\"type\":\"CDSView\"},{\"attributes\":{\"callback\":null,\"renderers\":[{\"id\":\"33991\"}],\"tags\":[\"hv_created\"],\"tooltips\":[[\"Presence of any pain (%)\",\"@{Presence_of_any_pain_left_parenthesis_percent_right_parenthesis}\"],[\"Patient died (%)\",\"@{Patient_died_left_parenthesis_percent_right_parenthesis}\"]]},\"id\":\"33954\",\"type\":\"HoverTool\"},{\"attributes\":{\"active_drag\":{\"id\":\"33973\"},\"active_scroll\":{\"id\":\"33974\"},\"tools\":[{\"id\":\"33954\"},{\"id\":\"33972\"},{\"id\":\"33973\"},{\"id\":\"33974\"},{\"id\":\"33975\"},{\"id\":\"33976\"}]},\"id\":\"33978\",\"type\":\"Toolbar\"},{\"attributes\":{},\"id\":\"33996\",\"type\":\"AllLabels\"},{\"attributes\":{\"bottom_units\":\"screen\",\"coordinates\":null,\"fill_alpha\":0.5,\"fill_color\":\"lightgrey\",\"group\":null,\"left_units\":\"screen\",\"level\":\"overlay\",\"line_alpha\":1.0,\"line_color\":\"black\",\"line_dash\":[4,4],\"line_width\":2,\"right_units\":\"screen\",\"syncable\":false,\"top_units\":\"screen\"},\"id\":\"33977\",\"type\":\"BoxAnnotation\"},{\"attributes\":{\"end\":104.68,\"reset_end\":104.68,\"reset_start\":1.7200000000000006,\"start\":1.7200000000000006,\"tags\":[[[\"Presence of any pain (%)\",\"Presence of any pain (%)\",null]]]},\"id\":\"33952\",\"type\":\"Range1d\"},{\"attributes\":{},\"id\":\"33972\",\"type\":\"SaveTool\"},{\"attributes\":{\"fill_alpha\":{\"value\":0.2},\"fill_color\":{\"value\":\"#30a2da\"},\"hatch_alpha\":{\"value\":0.2},\"hatch_color\":{\"value\":\"#30a2da\"},\"line_alpha\":{\"value\":0.2},\"line_color\":{\"value\":\"#30a2da\"},\"size\":{\"value\":5.477225575051661},\"x\":{\"field\":\"Presence of any pain (%)\"},\"y\":{\"field\":\"Patient died (%)\"}},\"id\":\"33990\",\"type\":\"Scatter\"},{\"attributes\":{},\"id\":\"33973\",\"type\":\"PanTool\"},{\"attributes\":{},\"id\":\"33976\",\"type\":\"ResetTool\"},{\"attributes\":{},\"id\":\"33986\",\"type\":\"Selection\"},{\"attributes\":{\"fill_color\":{\"value\":\"#30a2da\"},\"hatch_color\":{\"value\":\"#30a2da\"},\"line_color\":{\"value\":\"#30a2da\"},\"size\":{\"value\":5.477225575051661},\"x\":{\"field\":\"Presence of any pain (%)\"},\"y\":{\"field\":\"Patient died (%)\"}},\"id\":\"33988\",\"type\":\"Scatter\"},{\"attributes\":{},\"id\":\"33974\",\"type\":\"WheelZoomTool\"},{\"attributes\":{\"margin\":[5,5,5,5],\"name\":\"HSpacer07570\",\"sizing_mode\":\"stretch_width\"},\"id\":\"33951\",\"type\":\"Spacer\"},{\"attributes\":{\"overlay\":{\"id\":\"33977\"}},\"id\":\"33975\",\"type\":\"BoxZoomTool\"},{\"attributes\":{\"margin\":[5,5,5,5],\"name\":\"HSpacer07571\",\"sizing_mode\":\"stretch_width\"},\"id\":\"34014\",\"type\":\"Spacer\"},{\"attributes\":{\"angle\":{\"value\":0.0},\"fill_alpha\":{\"value\":1.0},\"fill_color\":{\"value\":\"#30a2da\"},\"hatch_alpha\":{\"value\":1.0},\"hatch_color\":{\"value\":\"#30a2da\"},\"hatch_scale\":{\"value\":12.0},\"hatch_weight\":{\"value\":1.0},\"line_alpha\":{\"value\":1.0},\"line_cap\":{\"value\":\"butt\"},\"line_color\":{\"value\":\"#30a2da\"},\"line_dash\":{\"value\":[]},\"line_dash_offset\":{\"value\":0},\"line_join\":{\"value\":\"bevel\"},\"line_width\":{\"value\":1},\"marker\":{\"value\":\"circle\"},\"size\":{\"value\":5.477225575051661},\"x\":{\"field\":\"Presence of any pain (%)\"},\"y\":{\"field\":\"Patient died (%)\"}},\"id\":\"33993\",\"type\":\"Scatter\"},{\"attributes\":{\"coordinates\":null,\"data_source\":{\"id\":\"33985\"},\"glyph\":{\"id\":\"33988\"},\"group\":null,\"hover_glyph\":null,\"muted_glyph\":{\"id\":\"33990\"},\"nonselection_glyph\":{\"id\":\"33989\"},\"selection_glyph\":{\"id\":\"33993\"},\"view\":{\"id\":\"33992\"}},\"id\":\"33991\",\"type\":\"GlyphRenderer\"},{\"attributes\":{},\"id\":\"33965\",\"type\":\"BasicTicker\"},{\"attributes\":{\"axis\":{\"id\":\"33964\"},\"coordinates\":null,\"grid_line_color\":null,\"group\":null,\"ticker\":null},\"id\":\"33967\",\"type\":\"Grid\"},{\"attributes\":{\"coordinates\":null,\"group\":null,\"text\":\"Death Rate for Patients with Dementia Admitted to Hospital\",\"text_color\":\"black\",\"text_font_size\":\"12pt\"},\"id\":\"33956\",\"type\":\"Title\"},{\"attributes\":{\"children\":[{\"id\":\"33951\"},{\"id\":\"33955\"},{\"id\":\"34014\"}],\"margin\":[0,0,0,0],\"name\":\"Row07566\",\"tags\":[\"embedded\"]},\"id\":\"33950\",\"type\":\"Row\"},{\"attributes\":{},\"id\":\"33998\",\"type\":\"BasicTickFormatter\"},{\"attributes\":{},\"id\":\"33999\",\"type\":\"AllLabels\"},{\"attributes\":{\"end\":44.0,\"reset_end\":44.0,\"reset_start\":-4.0,\"start\":-4.0,\"tags\":[[[\"Patient died (%)\",\"Patient died (%)\",null]]]},\"id\":\"33953\",\"type\":\"Range1d\"},{\"attributes\":{},\"id\":\"33962\",\"type\":\"LinearScale\"},{\"attributes\":{\"below\":[{\"id\":\"33964\"}],\"center\":[{\"id\":\"33967\"},{\"id\":\"33971\"}],\"height\":1000,\"left\":[{\"id\":\"33968\"}],\"margin\":[5,5,5,5],\"min_border_bottom\":10,\"min_border_left\":10,\"min_border_right\":10,\"min_border_top\":10,\"renderers\":[{\"id\":\"33991\"}],\"sizing_mode\":\"fixed\",\"title\":{\"id\":\"33956\"},\"toolbar\":{\"id\":\"33978\"},\"width\":2000,\"x_range\":{\"id\":\"33952\"},\"x_scale\":{\"id\":\"33960\"},\"y_range\":{\"id\":\"33953\"},\"y_scale\":{\"id\":\"33962\"}},\"id\":\"33955\",\"subtype\":\"Figure\",\"type\":\"Plot\"},{\"attributes\":{\"axis_label\":\"Patient died (%)\",\"coordinates\":null,\"formatter\":{\"id\":\"33998\"},\"group\":null,\"major_label_policy\":{\"id\":\"33999\"},\"ticker\":{\"id\":\"33969\"}},\"id\":\"33968\",\"type\":\"LinearAxis\"},{\"attributes\":{},\"id\":\"33960\",\"type\":\"LinearScale\"},{\"attributes\":{\"axis_label\":\"Presence of any pain (%)\",\"coordinates\":null,\"formatter\":{\"id\":\"33995\"},\"group\":null,\"major_label_policy\":{\"id\":\"33996\"},\"ticker\":{\"id\":\"33965\"}},\"id\":\"33964\",\"type\":\"LinearAxis\"},{\"attributes\":{},\"id\":\"34011\",\"type\":\"UnionRenderers\"},{\"attributes\":{},\"id\":\"33969\",\"type\":\"BasicTicker\"}],\"root_ids\":[\"33950\"]},\"title\":\"Bokeh Application\",\"version\":\"2.4.3\"}};\n",
       "    var render_items = [{\"docid\":\"c0736723-26a3-4bfd-975c-f5de3845f385\",\"root_ids\":[\"33950\"],\"roots\":{\"33950\":\"5a40b880-496d-48f7-8073-c3c8412974fd\"}}];\n",
       "    root.Bokeh.embed.embed_items_notebook(docs_json, render_items);\n",
       "    for (const render_item of render_items) {\n",
       "      for (const root_id of render_item.root_ids) {\n",
       "\tconst id_el = document.getElementById(root_id)\n",
       "\tif (id_el.children.length && (id_el.children[0].className === 'bk-root')) {\n",
       "\t  const root_el = id_el.children[0]\n",
       "\t  root_el.id = root_el.id + '-rendered'\n",
       "\t}\n",
       "      }\n",
       "    }\n",
       "  }\n",
       "  if (root.Bokeh !== undefined && root.Bokeh.Panel !== undefined) {\n",
       "    embed_document(root);\n",
       "  } else {\n",
       "    var attempts = 0;\n",
       "    var timer = setInterval(function(root) {\n",
       "      if (root.Bokeh !== undefined && root.Bokeh.Panel !== undefined) {\n",
       "        clearInterval(timer);\n",
       "        embed_document(root);\n",
       "      } else if (document.readyState == \"complete\") {\n",
       "        attempts++;\n",
       "        if (attempts > 200) {\n",
       "          clearInterval(timer);\n",
       "          console.log(\"Bokeh: ERROR: Unable to run BokehJS code because BokehJS library is missing\");\n",
       "        }\n",
       "      }\n",
       "    }, 25, root)\n",
       "  }\n",
       "})(window);</script>"
      ],
      "text/plain": [
       ":Points   [Presence of any pain (%),Patient died (%)]"
      ]
     },
     "execution_count": 38,
     "metadata": {
      "application/vnd.holoviews_exec.v0+json": {
       "id": "33950"
      }
     },
     "output_type": "execute_result"
    }
   ],
   "source": [
    "# create plot showing death rate for patients with dementia admitted to hospital\n",
    "cleaned_hospital_audit_df.hvplot.points(x='Presence of any pain (%)', y='Patient died (%)', width=2000, height=1000, title='Death Rate for Patients with Dementia Admitted to Hospital')"
   ]
  }
 ],
 "metadata": {
  "kernelspec": {
   "display_name": "PythonData",
   "language": "python",
   "name": "python3"
  },
  "language_info": {
   "codemirror_mode": {
    "name": "ipython",
    "version": 3
   },
   "file_extension": ".py",
   "mimetype": "text/x-python",
   "name": "python",
   "nbconvert_exporter": "python",
   "pygments_lexer": "ipython3",
   "version": "3.7.7"
  },
  "orig_nbformat": 4,
  "vscode": {
   "interpreter": {
    "hash": "6f45a96f67953c2300d7629f311eacc688eee390a4b158fbaedb2fe942a483b2"
   }
  }
 },
 "nbformat": 4,
 "nbformat_minor": 2
}
